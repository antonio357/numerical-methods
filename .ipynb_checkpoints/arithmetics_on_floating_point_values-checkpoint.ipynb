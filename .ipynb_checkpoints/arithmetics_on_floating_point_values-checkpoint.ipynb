{
 "cells": [
  {
   "cell_type": "markdown",
   "id": "alert-clearing",
   "metadata": {},
   "source": [
    "- studying by:\n",
    "    - apostila: https://presencial.ifpb.edu.br/pluginfile.php/204086/mod_resource/content/1/erros.pdf"
   ]
  },
  {
   "cell_type": "code",
   "execution_count": 3,
   "id": "nearby-demand",
   "metadata": {},
   "outputs": [],
   "source": [
    "import numpy as np"
   ]
  },
  {
   "cell_type": "code",
   "execution_count": 23,
   "id": "published-cincinnati",
   "metadata": {},
   "outputs": [
    {
     "name": "stdout",
     "output_type": "stream",
     "text": [
      "-5.00000e+04\n",
      "3.25000e-01\n",
      "5.e+04\n",
      "3.25e-01\n"
     ]
    }
   ],
   "source": [
    "# scientific format\n",
    "# the output is str type\n",
    "# x = (-1)**s * (M)b * b**E\n",
    "\n",
    "print(\"%1.5e\" % -50000) # b=10, s = 1, M = 50000, E = 4\n",
    "print(\"%1.5e\" % 0.325) # b=10, s = 0, M = 0.325, E = -1\n",
    "\n",
    "print(np.format_float_scientific(50000))\n",
    "print(np.format_float_scientific(0.325))"
   ]
  },
  {
   "cell_type": "code",
   "execution_count": 41,
   "id": "progressive-celebration",
   "metadata": {},
   "outputs": [
    {
     "name": "stdout",
     "output_type": "stream",
     "text": [
      "x = 10 == 10 / 1\n",
      "x = 3.14 == 7070651414971679 / 2251799813685248\n",
      "x = 3.141592 == 3537118140137533 / 1125899906842624\n",
      "x = 3.141592653589793 == 884279719003555 / 281474976710656\n"
     ]
    }
   ],
   "source": [
    "from math import pi\n",
    "lis = [10, 3.14, 3.141592, pi]\n",
    "\n",
    "def racionais(x):\n",
    "    num,den = x.as_integer_ratio()\n",
    "    return (str(num) + ' / ' + str(den))\n",
    "    \n",
    "for i in lis:\n",
    "    print(\"x = \" + str(i) + \" ==\", racionais(i))"
   ]
  },
  {
   "cell_type": "code",
   "execution_count": 47,
   "id": "immune-hardware",
   "metadata": {},
   "outputs": [
    {
     "name": "stdout",
     "output_type": "stream",
     "text": [
      "(0.5960464477539062, 24) <class 'tuple'> <class 'numpy.float64'> <class 'numpy.int32'>\n",
      "b = 2 ,  s = + ,  M = 0.5960464477539062 == 78125 / 131072 ,  E = 4\n",
      "True\n",
      "100000000.0\n"
     ]
    }
   ],
   "source": [
    "# floating point sistem\n",
    "print(np.frexp(10000000), type(np.frexp(10000000)), type(np.frexp(10000000)[0]), type(np.frexp(10000000)[1]))\n",
    "\n",
    "def variables_from_frexp(x):\n",
    "    # x = (-1)**s * (M)b * b**E\n",
    "    b = str(x[1])[0]\n",
    "    s = \"-\" if (str(np.frexp(10000000)[0])[0] == \"-\") else \"+\"\n",
    "    M = x[0]\n",
    "    E = str(x[1])[1]\n",
    "    print(\"b =\", b, \", \", \"s =\", s, \", \", \"M =\", M, \"==\", racionais(M), \", \", \"E =\", E)\n",
    "variables_from_frexp(np.frexp(10000000))\n",
    "\n",
    "print(10000000 == 0.5960464477539062*2**24)\n",
    "print(1. * 10**8)"
   ]
  },
  {
   "cell_type": "code",
   "execution_count": 52,
   "id": "friendly-april",
   "metadata": {},
   "outputs": [
    {
     "name": "stdout",
     "output_type": "stream",
     "text": [
      "1e+308\n",
      "True\n",
      "False\n",
      "inf , means that the number is over the current representation capacity\n"
     ]
    }
   ],
   "source": [
    "# overflow problem\n",
    "a = 1e+308\n",
    "print(a == a + (a - a))\n",
    "print(a == (a + a) - a)\n",
    "print(a + a, \", means that the number is over the current representation capacity\")"
   ]
  },
  {
   "cell_type": "code",
   "execution_count": 53,
   "id": "worldwide-palace",
   "metadata": {},
   "outputs": [
    {
     "name": "stdout",
     "output_type": "stream",
     "text": [
      "False\n",
      "0.0  the value is so small inside the underflow área, that it gets rounded to 0\n"
     ]
    }
   ],
   "source": [
    "# underflow and round problem\n",
    "b=2**(-1074)\n",
    "print(b == b/2 * 2)\n",
    "print(b/2, \" the value is so small inside the underflow área, that it gets rounded to 0\")"
   ]
  },
  {
   "cell_type": "code",
   "execution_count": 55,
   "id": "intensive-specification",
   "metadata": {},
   "outputs": [
    {
     "data": {
      "text/plain": [
       "2.220446049250313e-16"
      ]
     },
     "execution_count": 55,
     "metadata": {},
     "output_type": "execute_result"
    }
   ],
   "source": [
    "from os import sys\n",
    "sys.float_info.epsilon"
   ]
  },
  {
   "cell_type": "code",
   "execution_count": 56,
   "id": "floating-furniture",
   "metadata": {},
   "outputs": [
    {
     "data": {
      "text/plain": [
       "finfo(resolution=0.001, min=-6.55040e+04, max=6.55040e+04, dtype=float16)"
      ]
     },
     "execution_count": 56,
     "metadata": {},
     "output_type": "execute_result"
    }
   ],
   "source": [
    "np.finfo(dtype=np.float16)"
   ]
  },
  {
   "cell_type": "code",
   "execution_count": 60,
   "id": "native-merchant",
   "metadata": {},
   "outputs": [
    {
     "name": "stdout",
     "output_type": "stream",
     "text": [
      "for <class 'numpy.float16'>\n",
      "Nº de bits usados:  16\n",
      "Epsilon da máquina:  0.000977\n",
      "Máximo valor:  65500.0\n",
      "Mínimo valor:  -65500.0\n",
      "\n",
      "for <class 'numpy.float32'>\n",
      "Nº de bits usados:  32\n",
      "Epsilon da máquina:  1.1920929e-07\n",
      "Máximo valor:  3.4028235e+38\n",
      "Mínimo valor:  -3.4028235e+38\n",
      "\n",
      "for <class 'numpy.float64'>\n",
      "Nº de bits usados:  64\n",
      "Epsilon da máquina:  2.220446049250313e-16\n",
      "Máximo valor:  1.7976931348623157e+308\n",
      "Mínimo valor:  -1.7976931348623157e+308\n",
      "\n"
     ]
    }
   ],
   "source": [
    "lis1 = [np.float16, np.float32, np.float64]\n",
    "\n",
    "def Info_Mach(tipo):\n",
    "    print('Nº de bits usados: ', np.finfo(dtype=tipo).bits)\n",
    "    print('Epsilon da máquina: ', np.finfo(dtype=tipo).eps)\n",
    "    print('Máximo valor: ', np.finfo(dtype=tipo).max)\n",
    "    print('Mínimo valor: ', np.finfo(dtype=tipo).min)\n",
    "    \n",
    "for i in lis1:\n",
    "    print(\"for\", i)\n",
    "    Info_Mach(i)\n",
    "    print()"
   ]
  },
  {
   "cell_type": "code",
   "execution_count": 61,
   "id": "timely-summer",
   "metadata": {},
   "outputs": [
    {
     "name": "stdout",
     "output_type": "stream",
     "text": [
      "inf\n",
      "inf\n",
      "inf\n",
      "-inf\n",
      "0.0\n",
      "True\n"
     ]
    }
   ],
   "source": [
    "b = float('inf')\n",
    "print(b)\n",
    "print(b + 1)\n",
    "print(2 * b)\n",
    "print(-b)\n",
    "print(1/b)\n",
    "print(b ** b == float('inf'))"
   ]
  },
  {
   "cell_type": "code",
   "execution_count": 63,
   "id": "local-engineer",
   "metadata": {},
   "outputs": [
    {
     "name": "stdout",
     "output_type": "stream",
     "text": [
      "inf\n",
      "nan\n",
      "nan\n"
     ]
    }
   ],
   "source": [
    "# nan means not a number, be careful it may lead to catastrofic problems\n",
    "c = float('inf')\n",
    "print(c)\n",
    "print(c / c)\n",
    "print(c - c)"
   ]
  },
  {
   "cell_type": "code",
   "execution_count": 64,
   "id": "ordinary-mattress",
   "metadata": {},
   "outputs": [
    {
     "name": "stdout",
     "output_type": "stream",
     "text": [
      "nan\n",
      "nan\n",
      "nan\n",
      "nan\n",
      "nan\n"
     ]
    }
   ],
   "source": [
    "d = float('nan')\n",
    "print(d)\n",
    "print(d + 1)\n",
    "print(d - d)\n",
    "print(4 * d)\n",
    "print(d / d)"
   ]
  },
  {
   "cell_type": "code",
   "execution_count": 66,
   "id": "recreational-essence",
   "metadata": {},
   "outputs": [
    {
     "data": {
      "text/plain": [
       "False"
      ]
     },
     "execution_count": 66,
     "metadata": {},
     "output_type": "execute_result"
    }
   ],
   "source": [
    "# this nan is always different from nan\n",
    "d == d"
   ]
  },
  {
   "cell_type": "code",
   "execution_count": 67,
   "id": "unlimited-authentication",
   "metadata": {},
   "outputs": [
    {
     "data": {
      "text/plain": [
       "True"
      ]
     },
     "execution_count": 67,
     "metadata": {},
     "output_type": "execute_result"
    }
   ],
   "source": [
    "np.isnan(d)"
   ]
  },
  {
   "cell_type": "code",
   "execution_count": null,
   "id": "separate-shareware",
   "metadata": {},
   "outputs": [],
   "source": []
  },
  {
   "cell_type": "code",
   "execution_count": null,
   "id": "psychological-opinion",
   "metadata": {},
   "outputs": [],
   "source": []
  },
  {
   "cell_type": "code",
   "execution_count": null,
   "id": "boolean-stephen",
   "metadata": {},
   "outputs": [],
   "source": []
  }
 ],
 "metadata": {
  "kernelspec": {
   "display_name": "Python 3",
   "language": "python",
   "name": "python3"
  },
  "language_info": {
   "codemirror_mode": {
    "name": "ipython",
    "version": 3
   },
   "file_extension": ".py",
   "mimetype": "text/x-python",
   "name": "python",
   "nbconvert_exporter": "python",
   "pygments_lexer": "ipython3",
   "version": "3.8.5"
  }
 },
 "nbformat": 4,
 "nbformat_minor": 5
}
