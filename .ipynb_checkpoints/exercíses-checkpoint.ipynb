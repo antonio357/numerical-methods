{
 "cells": [
  {
   "cell_type": "code",
   "execution_count": 1,
   "id": "liberal-qatar",
   "metadata": {},
   "outputs": [],
   "source": [
    "import numpy as np\n",
    "from math import sqrt"
   ]
  },
  {
   "cell_type": "markdown",
   "id": "precious-slovakia",
   "metadata": {},
   "source": [
    "- Exercício 1.1"
   ]
  },
  {
   "cell_type": "code",
   "execution_count": 2,
   "id": "spanish-diana",
   "metadata": {},
   "outputs": [],
   "source": [
    "def raiz_div_e_med(a, ite=10): \n",
    "    # estimando um valor valor próxim para raiz quadrada de 'a'\n",
    "    raiz = np.float64(a)\n",
    "    \n",
    "    for i in range(ite):\n",
    "        raiz = (raiz + a/raiz) / 2.0\n",
    "        \n",
    "    return raiz\n",
    "\n",
    "def err_rel(num , apro_num):\n",
    "    erro = np.absolute(num - apro_num) / np.absolute(num)\n",
    "    erro_porcent = erro / 100\n",
    "    return (erro, erro_porcent)"
   ]
  },
  {
   "cell_type": "code",
   "execution_count": 3,
   "id": "express-specific",
   "metadata": {},
   "outputs": [
    {
     "data": {
      "text/plain": [
       "[10, 20, 30, 40, 50, 60, 70, 80, 90, 100]"
      ]
     },
     "execution_count": 3,
     "metadata": {},
     "output_type": "execute_result"
    }
   ],
   "source": [
    "lis = [x for x in range(10, 110, 10)]\n",
    "lis"
   ]
  },
  {
   "cell_type": "code",
   "execution_count": 4,
   "id": "protected-renaissance",
   "metadata": {},
   "outputs": [
    {
     "name": "stdout",
     "output_type": "stream",
     "text": [
      "raiz = 10 ; aproximação = 10.0 ; erro relativo = ( 0.0 , 0.0 % )\n",
      "raiz = 20 ; aproximação = 20.0 ; erro relativo = ( 0.0 , 0.0 % )\n",
      "raiz = 30 ; aproximação = 30.0 ; erro relativo = ( 0.0 , 0.0 % )\n",
      "raiz = 40 ; aproximação = 40.0 ; erro relativo = ( 0.0 , 0.0 % )\n",
      "raiz = 50 ; aproximação = 50.0 ; erro relativo = ( 0.0 , 0.0 % )\n",
      "raiz = 60 ; aproximação = 60.000000000000185 ; erro relativo = ( 3.079018521627101e-15 , 3.0790185216271007e-17 % )\n",
      "raiz = 70 ; aproximação = 70.00000000002748 ; erro relativo = ( 3.9262561456000966e-13 , 3.926256145600097e-15 % )\n",
      "raiz = 80 ; aproximação = 80.00000000121787 ; erro relativo = ( 1.5223378113660146e-11 , 1.5223378113660147e-13 % )\n",
      "raiz = 90 ; aproximação = 90.00000002356424 ; erro relativo = ( 2.6182489263091054e-10 , 2.6182489263091053e-12 % )\n",
      "raiz = 100 ; aproximação = 100.00000025490743 ; erro relativo = ( 2.549074338276114e-09 , 2.549074338276114e-11 % )\n"
     ]
    }
   ],
   "source": [
    "for i in lis:\n",
    "    apro_num = raiz_div_e_med(i**2)\n",
    "    erro_rel = err_rel(i, apro_num)\n",
    "    \n",
    "    print(\"raiz =\", i, \"; aproximação =\", apro_num, \"; erro relativo = (\", erro_rel[0], \",\", erro_rel[1], \"% )\")"
   ]
  },
  {
   "cell_type": "markdown",
   "id": "resistant-vehicle",
   "metadata": {},
   "source": [
    " - Exercício 1.2"
   ]
  },
  {
   "cell_type": "code",
   "execution_count": 5,
   "id": "corresponding-quebec",
   "metadata": {},
   "outputs": [],
   "source": [
    "def eps_mac():\n",
    "    e = np.float64(1) # Passo 1\n",
    "    while True: # Passo 4\n",
    "        if 1 + e <= 1: # Passo 2\n",
    "            break\n",
    "        e = e / 2 # Passo 3\n",
    "    e = 2 * e # Passo 5\n",
    "    return e"
   ]
  },
  {
   "cell_type": "code",
   "execution_count": 6,
   "id": "assisted-space",
   "metadata": {},
   "outputs": [
    {
     "name": "stdout",
     "output_type": "stream",
     "text": [
      "numpy eps = 2.220446049250313e-16\n",
      "implementação = 2.220446049250313e-16\n"
     ]
    },
    {
     "data": {
      "text/plain": [
       "True"
      ]
     },
     "execution_count": 6,
     "metadata": {},
     "output_type": "execute_result"
    }
   ],
   "source": [
    "print(\"numpy eps =\", np.finfo(np.float64).eps)\n",
    "print(\"implementação =\", eps_mac())\n",
    "np.finfo(np.float64).eps == eps_mac()"
   ]
  },
  {
   "cell_type": "markdown",
   "id": "activated-length",
   "metadata": {},
   "source": [
    "- Exercício 1.3"
   ]
  },
  {
   "cell_type": "code",
   "execution_count": 61,
   "id": "objective-zoning",
   "metadata": {},
   "outputs": [
    {
     "data": {
      "text/plain": [
       "array([0.33333333, 0.33333333, 0.33333333, 0.33333333, 0.33333333,\n",
       "       0.33333333, 0.33333333, 0.33333333, 0.33333333, 0.33333333],\n",
       "      dtype=float128)"
      ]
     },
     "execution_count": 61,
     "metadata": {},
     "output_type": "execute_result"
    }
   ],
   "source": [
    "se = np.array([4 for x in range(10)], dtype=np.float128)\n",
    "se = se * np.float128(1) / np.float128(3) - np.float128(1)\n",
    "se"
   ]
  },
  {
   "cell_type": "code",
   "execution_count": 54,
   "id": "opposite-founder",
   "metadata": {},
   "outputs": [
    {
     "name": "stdout",
     "output_type": "stream",
     "text": [
      "0.33333333333333333337\n",
      "0.33333333333333333334\n"
     ]
    },
    {
     "data": {
      "text/plain": [
       "False"
      ]
     },
     "execution_count": 54,
     "metadata": {},
     "output_type": "execute_result"
    }
   ],
   "source": [
    "fra = np.float128(1) / np.float128(3)\n",
    "print(se[-1])\n",
    "print(fra)\n",
    "se[-1] == fra"
   ]
  },
  {
   "cell_type": "code",
   "execution_count": 65,
   "id": "common-fossil",
   "metadata": {},
   "outputs": [
    {
     "data": {
      "text/plain": [
       "1.3333333333333333334"
      ]
     },
     "execution_count": 65,
     "metadata": {},
     "output_type": "execute_result"
    }
   ],
   "source": [
    "np.float128(4) * np.float128(1) / np.float128(3)"
   ]
  },
  {
   "cell_type": "raw",
   "id": "technical-queue",
   "metadata": {},
   "source": [
    "A convergência não ocorre, pois em \"fra\" ocorre apenas uma operação 1 / 3 == 0.33333333333333333334, já em \"se\" ocorre 4 * 1 == 4, depois 4 / 3  == 1.3333333333333333334, depois 1.3333333333333333334 - 1 == 0.33333333333333333337, o que leva a outro resultado muito próximo, porém devido ao fato de que o computador apenas aproximas os números irracionais, quanto mais operações diferentes com estes números mais aproximações são feitas e menos precisão é obtida."
   ]
  },
  {
   "cell_type": "markdown",
   "id": "speaking-bacteria",
   "metadata": {},
   "source": [
    "- Exercício 1.4"
   ]
  },
  {
   "cell_type": "code",
   "execution_count": 9,
   "id": "olympic-closer",
   "metadata": {},
   "outputs": [],
   "source": [
    "def expr1(u_arr):\n",
    "    ums_arr = np.array([1 for x in range(len(u_arr))])\n",
    "    #print(\"ums_arr =\", ums_arr)\n",
    "    return (np.exp(ums_arr/u_arr)) / (ums_arr + (np.exp(ums_arr/u_arr)))\n",
    "\n",
    "def expr2(u_arr):\n",
    "    ums_arr = np.array([1 for x in range(len(u_arr))])\n",
    "    menos_ums_arr = np.array([-1 for x in range(len(u_arr))])\n",
    "    #print(\"ums_arr =\", ums_arr)\n",
    "    #print(\"menos_ums_arr =\", menos_ums_arr)\n",
    "    return ums_arr / ((np.exp(menos_ums_arr/u_arr)) + ums_arr)"
   ]
  },
  {
   "cell_type": "code",
   "execution_count": 10,
   "id": "designed-english",
   "metadata": {},
   "outputs": [
    {
     "data": {
      "text/plain": [
       "array([1.e-01, 1.e-02, 1.e-03, 1.e-04, 1.e-05], dtype=float128)"
      ]
     },
     "execution_count": 10,
     "metadata": {},
     "output_type": "execute_result"
    }
   ],
   "source": [
    "lis2 = [1 * 10**-x for x in range(1, 6)]\n",
    "lis2 = np.array(lis2, dtype=np.float128)\n",
    "lis2"
   ]
  },
  {
   "cell_type": "code",
   "execution_count": 11,
   "id": "piano-ocean",
   "metadata": {},
   "outputs": [
    {
     "name": "stdout",
     "output_type": "stream",
     "text": [
      "[0.9999546 1.        1.        1.              nan]\n"
     ]
    },
    {
     "name": "stderr",
     "output_type": "stream",
     "text": [
      "<ipython-input-9-7b2c4709498e>:4: RuntimeWarning: overflow encountered in exp\n",
      "  return (np.exp(ums_arr/u_arr)) / (ums_arr + (np.exp(ums_arr/u_arr)))\n",
      "<ipython-input-9-7b2c4709498e>:4: RuntimeWarning: invalid value encountered in true_divide\n",
      "  return (np.exp(ums_arr/u_arr)) / (ums_arr + (np.exp(ums_arr/u_arr)))\n"
     ]
    }
   ],
   "source": [
    "expr1_arr = expr1(lis2)\n",
    "print(expr1_arr)"
   ]
  },
  {
   "cell_type": "code",
   "execution_count": 12,
   "id": "biblical-respondent",
   "metadata": {},
   "outputs": [
    {
     "name": "stdout",
     "output_type": "stream",
     "text": [
      "[0.9999546 1.        1.        1.        1.       ]\n"
     ]
    }
   ],
   "source": [
    "expr2_arr = expr2(lis2)\n",
    "print(expr2_arr)"
   ]
  },
  {
   "cell_type": "raw",
   "id": "biblical-little",
   "metadata": {},
   "source": [
    "Verifique que elas são idênticas como funções reais:\n",
    "\n",
    ">> exp(1/µ) é E^1/µ, onde E é a contante de Euler\n",
    "\n",
    "E^(1/µ) / (1 + E^(1/µ)) == 1 / (E^(-1/µ) + 1)\n",
    "E^(1/µ) * (E^(-1/µ) + 1) == (1 + E^(1/µ)) * 1\n",
    "E^(1/µ) * E^(-1/µ) + E^(1/µ) == 1 + E^(1/µ)\n",
    "E^(1/µ) * (1/E)^(1/µ)  + E^(1/µ) == 1 + E^(1/µ) \n",
    "1 + E^(1/µ) == 1 + E^(1/µ)\n",
    "\n",
    "Logo as duas expreções são idênticas como funções reais."
   ]
  },
  {
   "cell_type": "raw",
   "id": "abstract-tunnel",
   "metadata": {},
   "source": [
    "Qual dessas expressões é mais adequada quando µ é um número pequeno? Por quê?\n",
    "\n",
    "Na primeira expressão implementada por expr1(), a medida que µ diminui, exp(1/µ) == E^(1/µ) aumenta podendo atingir inf == infinito positivo, gerando \"RuntimeWarning: overflow encountered in exp\", levando a divisão inf / 1 + inf, que é computada com resultado nan gerando, \"RuntimeWarning: invalid value encountered in true_divide\".\n",
    "Na segunda expressão implementada por expr2(), a medida que µ diminui, exp(-1/µ) == E^(-1/µ) == (1/E)^(1/µ) diminui tendendo a 0 levando a divisão 1 / 0 + 1 que é computada com resultado 1.\n",
    "\n",
    "Logo as a segunda expressão é mais adequada para quando µ é um número pequeno."
   ]
  },
  {
   "cell_type": "markdown",
   "id": "leading-retreat",
   "metadata": {},
   "source": [
    "- Exercício 1.5"
   ]
  },
  {
   "cell_type": "code",
   "execution_count": 13,
   "id": "another-norway",
   "metadata": {},
   "outputs": [],
   "source": [
    "def f(x):\n",
    "    print(\"(1 + x) =\", (1 + x))\n",
    "    print(\"((1 + x) - 1) =\", ((1 + x) - 1))\n",
    "    return ((1 + x) - 1) / x"
   ]
  },
  {
   "cell_type": "code",
   "execution_count": 14,
   "id": "gentle-kidney",
   "metadata": {},
   "outputs": [
    {
     "name": "stdout",
     "output_type": "stream",
     "text": [
      "para precisão de float128\n",
      "(1 + x) = 1.000000000001\n",
      "((1 + x) - 1) = 9.9999999600419720025e-13\n",
      "para x = 9.999999999999999799e-13 ; computacionalment f(x) = 0.99999999600419722036\n",
      "(1 + x) = 1.000000000000001\n",
      "((1 + x) - 1) = 9.999596636833807395e-16\n",
      "para x = 1.0000000000000000777e-15 ; computacionalment f(x) = 0.9999596636833806618\n",
      "(1 + x) = 1.00000000000000001\n",
      "((1 + x) - 1) = 9.974659986866640793e-18\n",
      "para x = 1.00000000000000007154e-17 ; computacionalment f(x) = 0.99746599868666400795\n",
      "\n",
      "para precisão de float64\n",
      "(1 + x) = 1.000000000001\n",
      "((1 + x) - 1) = 1.000088900582341e-12\n",
      "para x = 1e-12 ; computacionalment f(x) = 1.000088900582341\n",
      "(1 + x) = 1.000000000000001\n",
      "((1 + x) - 1) = 1.1102230246251565e-15\n",
      "para x = 1e-15 ; computacionalment f(x) = 1.1102230246251565\n",
      "(1 + x) = 1.0\n",
      "((1 + x) - 1) = 0.0\n",
      "para x = 1e-17 ; computacionalment f(x) = 0.0\n"
     ]
    }
   ],
   "source": [
    "x_values = [10**-12, 10**-15, 10**-17]\n",
    "\n",
    "x_values = [np.float128(x) for x in x_values]\n",
    "print(\"para precisão de float128\")\n",
    "for x in x_values:\n",
    "    print(\"para x =\", x, \"; computacionalment f(x) =\",f(x))\n",
    "\n",
    "print()\n",
    "x_values = [np.float64(x) for x in x_values]\n",
    "print(\"para precisão de float64\")\n",
    "for x in x_values:\n",
    "    print(\"para x =\", x, \"; computacionalment f(x) =\",f(x))"
   ]
  },
  {
   "cell_type": "raw",
   "id": "hindu-forth",
   "metadata": {},
   "source": [
    "Analiticamente:\n",
    "O valor é sempre 1\n",
    "\n",
    "Forma computacional:\n",
    "Em \"(1 + x)\", devido o x ser muito pequeno, será preciso de muitos bits para representar o resultado, como o computador limita a quantidade de bits utilizados pode haver uma aproximação nesse resultado, gerando erro no valor final.\n",
    "Em \"(1 + x) - 1\", havendo erro de aproximação devido \"(1 + x)\", pode haver novamente erro de aproximação ao subtrair - 1.\n",
    "Em \"(1 + x) - 1\", na subtração pode ocorrer cancelamento catastrófico, devido ao fato que os valores \"(x + 1)\" e - 1 poderam ser muito próximos"
   ]
  },
  {
   "cell_type": "code",
   "execution_count": null,
   "id": "italic-future",
   "metadata": {},
   "outputs": [],
   "source": []
  },
  {
   "cell_type": "code",
   "execution_count": null,
   "id": "weighted-prospect",
   "metadata": {},
   "outputs": [],
   "source": []
  }
 ],
 "metadata": {
  "kernelspec": {
   "display_name": "Python 3",
   "language": "python",
   "name": "python3"
  },
  "language_info": {
   "codemirror_mode": {
    "name": "ipython",
    "version": 3
   },
   "file_extension": ".py",
   "mimetype": "text/x-python",
   "name": "python",
   "nbconvert_exporter": "python",
   "pygments_lexer": "ipython3",
   "version": "3.8.5"
  }
 },
 "nbformat": 4,
 "nbformat_minor": 5
}
