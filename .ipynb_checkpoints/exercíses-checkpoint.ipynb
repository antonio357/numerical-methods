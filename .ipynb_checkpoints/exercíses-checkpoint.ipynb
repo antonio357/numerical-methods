{
 "cells": [
  {
   "cell_type": "code",
   "execution_count": 1,
   "id": "assured-centre",
   "metadata": {},
   "outputs": [],
   "source": [
    "import numpy as np\n",
    "from math import sqrt"
   ]
  },
  {
   "cell_type": "markdown",
   "id": "heated-entity",
   "metadata": {},
   "source": [
    "- Exercício 1.1"
   ]
  },
  {
   "cell_type": "markdown",
   "id": "controversial-coach",
   "metadata": {},
   "source": [
    "- resolução\n",
    "raiz_div_e_med() é a implementação do método \"divisão e média\"\n",
    "    primeiramente, "
   ]
  },
  {
   "cell_type": "code",
   "execution_count": 2,
   "id": "complicated-honor",
   "metadata": {},
   "outputs": [],
   "source": [
    "def raiz_div_e_med(a, inte=10): \n",
    "    apro_inte = np.array([])\n",
    "    \n",
    "    # estimando um valor valor próxim para raiz quadrada de 'a'\n",
    "    raiz = np.float64(a)\n",
    "    \n",
    "    for i in range(inte):\n",
    "        raiz = (raiz + a/raiz) / 2.0\n",
    "        apro_inte = np.append(apro_inte, raiz)\n",
    "        \n",
    "    return (raiz, apro_inte)"
   ]
  },
  {
   "cell_type": "code",
   "execution_count": 4,
   "id": "radical-engine",
   "metadata": {},
   "outputs": [
    {
     "name": "stdout",
     "output_type": "stream",
     "text": [
      "[ 0.00000000e+00 -3.55341524e-08  3.10422273e-08 -1.32691391e-09\n",
      " -1.52250087e-08  1.06307750e-08 -2.14857958e-08 -2.44606088e-08\n",
      "  1.51626267e-11  0.00000000e+00]\n",
      "[ 0.00000000e+00 -3.55341524e-10  3.10422273e-10 -1.32691391e-11\n",
      " -1.52250087e-10  1.06307750e-10 -2.14857958e-10 -2.44606088e-10\n",
      "  1.51626267e-13  0.00000000e+00]\n"
     ]
    },
    {
     "data": {
      "text/plain": [
       "array([ True, False, False, False, False, False, False, False, False,\n",
       "        True])"
      ]
     },
     "execution_count": 4,
     "metadata": {},
     "output_type": "execute_result"
    }
   ],
   "source": [
    "a = 40**2\n",
    "x = raiz_div_e_med(a)\n",
    "\n",
    "float64_arr = x[1] # números x\n",
    "float32_arr = np.array(float64_arr, dtype=np.float32) # aproximações dos números x\n",
    "\n",
    "abs_err_arr = (float64_arr - float32_arr) / float64_arr # erros absolutos\n",
    "abs_err_prct_arr = abs_err_arr / 100 # erros absolutos\n",
    "\n",
    "print(abs_err_arr)\n",
    "print(abs_err_prct_arr)"
   ]
  },
  {
   "cell_type": "code",
   "execution_count": null,
   "id": "south-separate",
   "metadata": {},
   "outputs": [],
   "source": [
    " "
   ]
  },
  {
   "cell_type": "code",
   "execution_count": null,
   "id": "special-failing",
   "metadata": {},
   "outputs": [],
   "source": []
  },
  {
   "cell_type": "code",
   "execution_count": null,
   "id": "polished-champagne",
   "metadata": {},
   "outputs": [],
   "source": []
  },
  {
   "cell_type": "code",
   "execution_count": null,
   "id": "paperback-transmission",
   "metadata": {},
   "outputs": [],
   "source": []
  },
  {
   "cell_type": "code",
   "execution_count": null,
   "id": "polished-henry",
   "metadata": {},
   "outputs": [],
   "source": []
  }
 ],
 "metadata": {
  "kernelspec": {
   "display_name": "Python 3",
   "language": "python",
   "name": "python3"
  },
  "language_info": {
   "codemirror_mode": {
    "name": "ipython",
    "version": 3
   },
   "file_extension": ".py",
   "mimetype": "text/x-python",
   "name": "python",
   "nbconvert_exporter": "python",
   "pygments_lexer": "ipython3",
   "version": "3.8.5"
  }
 },
 "nbformat": 4,
 "nbformat_minor": 5
}
