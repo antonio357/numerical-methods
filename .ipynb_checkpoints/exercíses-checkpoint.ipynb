{
 "cells": [
  {
   "cell_type": "code",
   "execution_count": 1,
   "id": "gentle-renewal",
   "metadata": {},
   "outputs": [],
   "source": [
    "import numpy as np\n",
    "from math import sqrt"
   ]
  },
  {
   "cell_type": "markdown",
   "id": "extra-congo",
   "metadata": {},
   "source": [
    "- Exercício 1.1"
   ]
  },
  {
   "cell_type": "code",
   "execution_count": 2,
   "id": "critical-superintendent",
   "metadata": {},
   "outputs": [],
   "source": [
    "def raiz_div_e_med(a, inte=10): \n",
    "    # estimando um valor valor próxim para raiz quadrada de 'a'\n",
    "    raiz = np.float64(a)\n",
    "    \n",
    "    for i in range(inte):\n",
    "        raiz = (raiz + a/raiz) / 2.0\n",
    "        \n",
    "    return raiz"
   ]
  },
  {
   "cell_type": "code",
   "execution_count": 7,
   "id": "detected-forwarding",
   "metadata": {},
   "outputs": [
    {
     "name": "stdout",
     "output_type": "stream",
     "text": [
      "[10, 20, 30, 40, 50, 60, 70, 80, 90]\n",
      "10\n",
      "20\n",
      "30\n",
      "40\n",
      "50\n",
      "60\n",
      "70\n",
      "80\n",
      "90\n"
     ]
    }
   ],
   "source": [
    "\"\"\"a = 40**2\n",
    "x = raiz_div_e_med(a)\n",
    "\n",
    "float64_arr = x[1] # números x\n",
    "float32_arr = np.array(float64_arr, dtype=np.float32) # aproximações dos números x, de 64 para 32 bits\n",
    "\n",
    "abs_err_arr = (float64_arr - float32_arr) / float64_arr # erros absolutos\n",
    "abs_err_prct_arr = abs_err_arr / 100 # erros absolutos em porcentagem\n",
    "\n",
    "print(abs_err_arr)\n",
    "print(abs_err_prct_arr)\"\"\"\n",
    "\n",
    "lis = [x for x in range(10, 100, 10)]\n",
    "for i in lis:\n",
    "    print(\"raiz =\", i, \", aproximação =\", raiz_div_e_med(i**2), )"
   ]
  },
  {
   "cell_type": "markdown",
   "id": "celtic-eclipse",
   "metadata": {},
   "source": [
    " - Exercício 1.2"
   ]
  },
  {
   "cell_type": "code",
   "execution_count": 4,
   "id": "private-roman",
   "metadata": {},
   "outputs": [],
   "source": [
    "def eps_mac():\n",
    "    e = np.float64(1) # Passo 1\n",
    "    while True: # Passo 4\n",
    "        if 1 + e <= 1: # Passo 2\n",
    "            break\n",
    "        e = e / 2 # Passo 3\n",
    "    e = 2 * e # Passo 5\n",
    "    return e"
   ]
  },
  {
   "cell_type": "code",
   "execution_count": 5,
   "id": "photographic-electron",
   "metadata": {},
   "outputs": [
    {
     "name": "stdout",
     "output_type": "stream",
     "text": [
      "2.220446049250313e-16\n",
      "2.220446049250313e-16\n"
     ]
    },
    {
     "data": {
      "text/plain": [
       "True"
      ]
     },
     "execution_count": 5,
     "metadata": {},
     "output_type": "execute_result"
    }
   ],
   "source": [
    "print(np.finfo(np.float64).eps) # épsilon da máquina, numpy\n",
    "print(eps_mac()) # épsilon da máquina, implementação\n",
    "np.finfo(np.float64).eps == eps_mac()"
   ]
  },
  {
   "cell_type": "markdown",
   "id": "painted-istanbul",
   "metadata": {},
   "source": [
    "- Exercício 1.3"
   ]
  },
  {
   "cell_type": "markdown",
   "id": "naughty-giant",
   "metadata": {},
   "source": [
    "- Exercício 1.4"
   ]
  },
  {
   "cell_type": "code",
   "execution_count": 6,
   "id": "welsh-lecture",
   "metadata": {},
   "outputs": [],
   "source": [
    "def expr1(u):\n",
    "    if not u > 0: return -1 \n",
    "    return () / ()\n",
    "def expr2(u):\n",
    "    if not u > 0: return -1 "
   ]
  },
  {
   "cell_type": "code",
   "execution_count": null,
   "id": "upset-boost",
   "metadata": {},
   "outputs": [],
   "source": []
  },
  {
   "cell_type": "code",
   "execution_count": null,
   "id": "copyrighted-nudist",
   "metadata": {},
   "outputs": [],
   "source": []
  },
  {
   "cell_type": "code",
   "execution_count": null,
   "id": "extended-selection",
   "metadata": {},
   "outputs": [],
   "source": []
  }
 ],
 "metadata": {
  "kernelspec": {
   "display_name": "Python 3",
   "language": "python",
   "name": "python3"
  },
  "language_info": {
   "codemirror_mode": {
    "name": "ipython",
    "version": 3
   },
   "file_extension": ".py",
   "mimetype": "text/x-python",
   "name": "python",
   "nbconvert_exporter": "python",
   "pygments_lexer": "ipython3",
   "version": "3.8.5"
  }
 },
 "nbformat": 4,
 "nbformat_minor": 5
}
