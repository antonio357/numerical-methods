{
  "nbformat": 4,
  "nbformat_minor": 0,
  "metadata": {
    "colab": {
      "name": "Projeto 1.ipynb",
      "provenance": [],
      "collapsed_sections": []
    },
    "kernelspec": {
      "name": "python3",
      "display_name": "Python 3"
    }
  },
  "cells": [
    {
      "cell_type": "code",
      "metadata": {
        "id": "G-wZa9ve1zne"
      },
      "source": [
        "import numpy as np\r\n",
        "import scipy.optimize as opt\r\n",
        "import pandas as pd"
      ],
      "execution_count": 24,
      "outputs": []
    },
    {
      "cell_type": "code",
      "metadata": {
        "id": "J99ZCaJK2wZv"
      },
      "source": [
        "def root(f, fd, a, b, esp = 0.000001, n = 100):\r\n",
        "    if f(a) * f(b) > 0:\r\n",
        "        print(\"Error: No root\")\r\n",
        "        return\r\n",
        "\r\n",
        "    iter = 0\r\n",
        "    c = a\r\n",
        "    ea = 0\r\n",
        "    # fd = derivative(f)\r\n",
        "    \r\n",
        "    while True:\r\n",
        "\r\n",
        "        cold = c\r\n",
        "        if fd(a) == 0:\r\n",
        "            temp = a\r\n",
        "            a = b\r\n",
        "            b = temp\r\n",
        "\r\n",
        "        c = ((a*f(b)-b*f(a))/(2*(f(b)-f(a))))+((a-(f(a)/fd(a)))/2)\r\n",
        "        cnew = c\r\n",
        "        iter = iter + 1\r\n",
        "        \r\n",
        "        if c != 0:\r\n",
        "            ea = np.abs((c - cold)/c) * 100\r\n",
        "        \r\n",
        "        check = f(a) * f(c)\r\n",
        "        \r\n",
        "        if check < 0:\r\n",
        "            if np.abs(f(a)) < np.abs(f(c)):\r\n",
        "                continue\r\n",
        "            else:\r\n",
        "                b = a\r\n",
        "                a = c\r\n",
        "        elif check > 0:\r\n",
        "            if np.abs(f(c)) < np.abs(f(b)):\r\n",
        "                a = c\r\n",
        "            else:\r\n",
        "                a = b\r\n",
        "                b = c\r\n",
        "        else:\r\n",
        "            ea = 0\r\n",
        "\r\n",
        "\r\n",
        "        if ea <= esp or iter >= n:\r\n",
        "            break\r\n",
        "        \r\n",
        "    # print(\"Aproximate root is:\", c)\r\n",
        "    return { 'root': c, 'iterations': iter }\r\n",
        "\r\n",
        "def dict_adpter(original):\r\n",
        "    return { 'root': original.root, 'iteractions': original.iterations }"
      ],
      "execution_count": 25,
      "outputs": []
    },
    {
      "cell_type": "markdown",
      "metadata": {
        "id": "ZfZlAppLMS_I"
      },
      "source": [
        "# Exemplo 1"
      ]
    },
    {
      "cell_type": "markdown",
      "metadata": {
        "id": "iMl6VbaiMG_v"
      },
      "source": [
        "# $xe^x=cos(x)$"
      ]
    },
    {
      "cell_type": "code",
      "metadata": {
        "id": "-7laRgKkGC-R"
      },
      "source": [
        "def f1(x):\r\n",
        "    return x*np.exp(x) - np.cos(x)\r\n",
        "\r\n",
        "def f1d(x): \r\n",
        "    return np.sin(x) + x * np.exp(x) + np.exp(x)"
      ],
      "execution_count": 26,
      "outputs": []
    },
    {
      "cell_type": "code",
      "metadata": {
        "colab": {
          "base_uri": "https://localhost:8080/",
          "height": 266
        },
        "id": "GFBZUyIp5vFs",
        "outputId": "0bb1567d-7f01-4658-ac7c-93eb49e14f4a"
      },
      "source": [
        "results = { 'Iteration': [], 'BM': [], 'NEWTON': [], 'PROPOSED': [] }\r\n",
        "\r\n",
        "for i in range(1, 7):\r\n",
        "    bm = dict_adpter(opt.root_scalar(f1, method='bisect', bracket=[0, 1], maxiter=i))\r\n",
        "    newton = dict_adpter(opt.root_scalar(f1, fprime=f1d, x0=0, maxiter=i, method='newton'))\r\n",
        "    proposed_method = root(f1, f1d, 0, 1, n = i)\r\n",
        "\r\n",
        "    results['BM'].append(bm['root'])\r\n",
        "    results['NEWTON'].append(newton['root'])\r\n",
        "    results['PROPOSED'].append(proposed_method['root'])\r\n",
        "    results['Iteration'].append(i);\r\n",
        "\r\n",
        "pd.DataFrame(results).set_index('Iteration')\r\n",
        "\r\n",
        "\r\n"
      ],
      "execution_count": 27,
      "outputs": [
        {
          "output_type": "execute_result",
          "data": {
            "text/html": [
              "<div>\n",
              "<style scoped>\n",
              "    .dataframe tbody tr th:only-of-type {\n",
              "        vertical-align: middle;\n",
              "    }\n",
              "\n",
              "    .dataframe tbody tr th {\n",
              "        vertical-align: top;\n",
              "    }\n",
              "\n",
              "    .dataframe thead th {\n",
              "        text-align: right;\n",
              "    }\n",
              "</style>\n",
              "<table border=\"1\" class=\"dataframe\">\n",
              "  <thead>\n",
              "    <tr style=\"text-align: right;\">\n",
              "      <th></th>\n",
              "      <th>BM</th>\n",
              "      <th>NEWTON</th>\n",
              "      <th>PROPOSED</th>\n",
              "    </tr>\n",
              "    <tr>\n",
              "      <th>Iteration</th>\n",
              "      <th></th>\n",
              "      <th></th>\n",
              "      <th></th>\n",
              "    </tr>\n",
              "  </thead>\n",
              "  <tbody>\n",
              "    <tr>\n",
              "      <th>1</th>\n",
              "      <td>0.500000</td>\n",
              "      <td>1.000000</td>\n",
              "      <td>0.657333</td>\n",
              "    </tr>\n",
              "    <tr>\n",
              "      <th>2</th>\n",
              "      <td>0.500000</td>\n",
              "      <td>0.653079</td>\n",
              "      <td>0.488635</td>\n",
              "    </tr>\n",
              "    <tr>\n",
              "      <th>3</th>\n",
              "      <td>0.500000</td>\n",
              "      <td>0.531343</td>\n",
              "      <td>0.516509</td>\n",
              "    </tr>\n",
              "    <tr>\n",
              "      <th>4</th>\n",
              "      <td>0.500000</td>\n",
              "      <td>0.517910</td>\n",
              "      <td>0.517690</td>\n",
              "    </tr>\n",
              "    <tr>\n",
              "      <th>5</th>\n",
              "      <td>0.500000</td>\n",
              "      <td>0.517757</td>\n",
              "      <td>0.517754</td>\n",
              "    </tr>\n",
              "    <tr>\n",
              "      <th>6</th>\n",
              "      <td>0.515625</td>\n",
              "      <td>0.517757</td>\n",
              "      <td>0.517757</td>\n",
              "    </tr>\n",
              "  </tbody>\n",
              "</table>\n",
              "</div>"
            ],
            "text/plain": [
              "                 BM    NEWTON  PROPOSED\n",
              "Iteration                              \n",
              "1          0.500000  1.000000  0.657333\n",
              "2          0.500000  0.653079  0.488635\n",
              "3          0.500000  0.531343  0.516509\n",
              "4          0.500000  0.517910  0.517690\n",
              "5          0.500000  0.517757  0.517754\n",
              "6          0.515625  0.517757  0.517757"
            ]
          },
          "metadata": {
            "tags": []
          },
          "execution_count": 27
        }
      ]
    },
    {
      "cell_type": "markdown",
      "metadata": {
        "id": "llUWoGh-RRWd"
      },
      "source": [
        "# Exemplo 2"
      ]
    },
    {
      "cell_type": "markdown",
      "metadata": {
        "id": "uTShqc1lRTe6"
      },
      "source": [
        "# $\\begin{aligned} x\\log _{10}(x)-1.2 \\end{aligned}$"
      ]
    },
    {
      "cell_type": "code",
      "metadata": {
        "id": "RPOb6pewRi4F"
      },
      "source": [
        "def f1(x):\r\n",
        "    return x*np.log10(x) - 1.2\r\n",
        "\r\n",
        "def f1d(x): \r\n",
        "    return (np.log(x) + 1) / np.log(10)"
      ],
      "execution_count": 28,
      "outputs": []
    },
    {
      "cell_type": "code",
      "metadata": {
        "colab": {
          "base_uri": "https://localhost:8080/",
          "height": 266
        },
        "id": "M__PvKmoSWtx",
        "outputId": "18f694b0-ee22-481d-dbc6-44dfb0f74c25"
      },
      "source": [
        "results = { 'Iteration': [], 'BM': [], 'NEWTON': [], 'PROPOSED': [] }\r\n",
        "# results = { 'Iteration': [], 'BM': [], 'PROPOSED': [] }\r\n",
        "\r\n",
        "\r\n",
        "for i in range(1, 7):\r\n",
        "    bm = dict_adpter(opt.root_scalar(f1, method='bisect', bracket=[1, 3], maxiter=i))\r\n",
        "    newton = dict_adpter(opt.root_scalar(f1, fprime=f1d, x0=1, maxiter=i, method='newton'))\r\n",
        "    proposed_method = root(f1, f1d, 1, 3, n = i)\r\n",
        "\r\n",
        "    results['BM'].append(bm['root'])\r\n",
        "    results['NEWTON'].append(newton['root'])\r\n",
        "    results['PROPOSED'].append(proposed_method['root'])\r\n",
        "    results['Iteration'].append(i);\r\n",
        "\r\n",
        "pd.DataFrame(results).set_index('Iteration')\r\n"
      ],
      "execution_count": 29,
      "outputs": [
        {
          "output_type": "execute_result",
          "data": {
            "text/html": [
              "<div>\n",
              "<style scoped>\n",
              "    .dataframe tbody tr th:only-of-type {\n",
              "        vertical-align: middle;\n",
              "    }\n",
              "\n",
              "    .dataframe tbody tr th {\n",
              "        vertical-align: top;\n",
              "    }\n",
              "\n",
              "    .dataframe thead th {\n",
              "        text-align: right;\n",
              "    }\n",
              "</style>\n",
              "<table border=\"1\" class=\"dataframe\">\n",
              "  <thead>\n",
              "    <tr style=\"text-align: right;\">\n",
              "      <th></th>\n",
              "      <th>BM</th>\n",
              "      <th>NEWTON</th>\n",
              "      <th>PROPOSED</th>\n",
              "    </tr>\n",
              "    <tr>\n",
              "      <th>Iteration</th>\n",
              "      <th></th>\n",
              "      <th></th>\n",
              "      <th></th>\n",
              "    </tr>\n",
              "  </thead>\n",
              "  <tbody>\n",
              "    <tr>\n",
              "      <th>1</th>\n",
              "      <td>2.00000</td>\n",
              "      <td>3.763102</td>\n",
              "      <td>3.219912</td>\n",
              "    </tr>\n",
              "    <tr>\n",
              "      <th>2</th>\n",
              "      <td>2.50000</td>\n",
              "      <td>2.806675</td>\n",
              "      <td>2.693526</td>\n",
              "    </tr>\n",
              "    <tr>\n",
              "      <th>3</th>\n",
              "      <td>2.50000</td>\n",
              "      <td>2.741031</td>\n",
              "      <td>2.739808</td>\n",
              "    </tr>\n",
              "    <tr>\n",
              "      <th>4</th>\n",
              "      <td>2.62500</td>\n",
              "      <td>2.740646</td>\n",
              "      <td>2.740630</td>\n",
              "    </tr>\n",
              "    <tr>\n",
              "      <th>5</th>\n",
              "      <td>2.68750</td>\n",
              "      <td>2.740646</td>\n",
              "      <td>2.740646</td>\n",
              "    </tr>\n",
              "    <tr>\n",
              "      <th>6</th>\n",
              "      <td>2.71875</td>\n",
              "      <td>2.740646</td>\n",
              "      <td>2.740646</td>\n",
              "    </tr>\n",
              "  </tbody>\n",
              "</table>\n",
              "</div>"
            ],
            "text/plain": [
              "                BM    NEWTON  PROPOSED\n",
              "Iteration                             \n",
              "1          2.00000  3.763102  3.219912\n",
              "2          2.50000  2.806675  2.693526\n",
              "3          2.50000  2.741031  2.739808\n",
              "4          2.62500  2.740646  2.740630\n",
              "5          2.68750  2.740646  2.740646\n",
              "6          2.71875  2.740646  2.740646"
            ]
          },
          "metadata": {
            "tags": []
          },
          "execution_count": 29
        }
      ]
    },
    {
      "cell_type": "markdown",
      "metadata": {
        "id": "pPAB20VFURAc"
      },
      "source": [
        "# Exemplo 3"
      ]
    },
    {
      "cell_type": "markdown",
      "metadata": {
        "id": "dQXVIZ2gUWOi"
      },
      "source": [
        "# $f(x) = 1 - x^2$"
      ]
    },
    {
      "cell_type": "code",
      "metadata": {
        "id": "QZMBQZoLUZTq"
      },
      "source": [
        "def f1(x):\r\n",
        "    return 1 - x**2\r\n",
        "\r\n",
        "def f1d(x): \r\n",
        "    return -2*x"
      ],
      "execution_count": 30,
      "outputs": []
    },
    {
      "cell_type": "code",
      "metadata": {
        "colab": {
          "base_uri": "https://localhost:8080/",
          "height": 300
        },
        "id": "-1tMlGahUZTr",
        "outputId": "580f7b4f-f973-435a-f67d-01399c35eec8"
      },
      "source": [
        "results = { 'Iteration': [], 'BM': [], 'NEWTON': [], 'PROPOSED': [] }\r\n",
        "# results = { 'Iteration': [], 'BM': [], 'PROPOSED': [] }\r\n",
        "\r\n",
        "\r\n",
        "for i in range(1, 7):\r\n",
        "    bm = dict_adpter(opt.root_scalar(f1, method='bisect', bracket=[0, 2], maxiter=i))\r\n",
        "    newton = dict_adpter(opt.root_scalar(f1, fprime=f1d, x0=0, maxiter=i, method='newton'))\r\n",
        "    proposed_method = root(f1, f1d, 0, 2, n = i)\r\n",
        "\r\n",
        "    results['BM'].append(bm['root'])\r\n",
        "    results['NEWTON'].append(newton['root'])\r\n",
        "    results['PROPOSED'].append(proposed_method['root'])\r\n",
        "    results['Iteration'].append(i);\r\n",
        "\r\n",
        "pd.DataFrame(results).set_index('Iteration')\r\n"
      ],
      "execution_count": 31,
      "outputs": [
        {
          "output_type": "stream",
          "text": [
            "/usr/local/lib/python3.7/dist-packages/scipy/optimize/zeros.py:297: RuntimeWarning: Derivative was zero.\n",
            "  warnings.warn(msg, RuntimeWarning)\n"
          ],
          "name": "stderr"
        },
        {
          "output_type": "execute_result",
          "data": {
            "text/html": [
              "<div>\n",
              "<style scoped>\n",
              "    .dataframe tbody tr th:only-of-type {\n",
              "        vertical-align: middle;\n",
              "    }\n",
              "\n",
              "    .dataframe tbody tr th {\n",
              "        vertical-align: top;\n",
              "    }\n",
              "\n",
              "    .dataframe thead th {\n",
              "        text-align: right;\n",
              "    }\n",
              "</style>\n",
              "<table border=\"1\" class=\"dataframe\">\n",
              "  <thead>\n",
              "    <tr style=\"text-align: right;\">\n",
              "      <th></th>\n",
              "      <th>BM</th>\n",
              "      <th>NEWTON</th>\n",
              "      <th>PROPOSED</th>\n",
              "    </tr>\n",
              "    <tr>\n",
              "      <th>Iteration</th>\n",
              "      <th></th>\n",
              "      <th></th>\n",
              "      <th></th>\n",
              "    </tr>\n",
              "  </thead>\n",
              "  <tbody>\n",
              "    <tr>\n",
              "      <th>1</th>\n",
              "      <td>1.0</td>\n",
              "      <td>0.0</td>\n",
              "      <td>0.875000</td>\n",
              "    </tr>\n",
              "    <tr>\n",
              "      <th>2</th>\n",
              "      <td>1.0</td>\n",
              "      <td>0.0</td>\n",
              "      <td>0.982725</td>\n",
              "    </tr>\n",
              "    <tr>\n",
              "      <th>3</th>\n",
              "      <td>1.0</td>\n",
              "      <td>0.0</td>\n",
              "      <td>0.997180</td>\n",
              "    </tr>\n",
              "    <tr>\n",
              "      <th>4</th>\n",
              "      <td>1.0</td>\n",
              "      <td>0.0</td>\n",
              "      <td>0.999532</td>\n",
              "    </tr>\n",
              "    <tr>\n",
              "      <th>5</th>\n",
              "      <td>1.0</td>\n",
              "      <td>0.0</td>\n",
              "      <td>0.999922</td>\n",
              "    </tr>\n",
              "    <tr>\n",
              "      <th>6</th>\n",
              "      <td>1.0</td>\n",
              "      <td>0.0</td>\n",
              "      <td>0.999987</td>\n",
              "    </tr>\n",
              "  </tbody>\n",
              "</table>\n",
              "</div>"
            ],
            "text/plain": [
              "            BM  NEWTON  PROPOSED\n",
              "Iteration                       \n",
              "1          1.0     0.0  0.875000\n",
              "2          1.0     0.0  0.982725\n",
              "3          1.0     0.0  0.997180\n",
              "4          1.0     0.0  0.999532\n",
              "5          1.0     0.0  0.999922\n",
              "6          1.0     0.0  0.999987"
            ]
          },
          "metadata": {
            "tags": []
          },
          "execution_count": 31
        }
      ]
    }
  ]
}