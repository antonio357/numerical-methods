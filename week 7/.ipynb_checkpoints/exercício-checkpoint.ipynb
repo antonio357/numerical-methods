{
 "cells": [
  {
   "cell_type": "code",
   "execution_count": 1,
   "id": "turned-dream",
   "metadata": {},
   "outputs": [],
   "source": [
    "import numpy as np\n",
    "import scipy.linalg as sla"
   ]
  },
  {
   "cell_type": "code",
   "execution_count": 2,
   "id": "greatest-coral",
   "metadata": {},
   "outputs": [],
   "source": [
    "# método trivial para matriz triangular superior\n",
    "def uppTriLinSys(A, b):    \n",
    "    n = len(b)\n",
    "    x = np.empty(n)\n",
    "    \n",
    "    x[n - 1] = b[n - 1] / A[n - 1, n - 1]\n",
    "    for i in range(n - 2, -1, -1):\n",
    "        x[i] = ( b[i] - np.sum( A[i, i + 1:] * x[i + 1:] ) ) / A[i, i]\n",
    "            \n",
    "    return x\n",
    "\n",
    "# eliminação gaussiana com pivotamento parcial\n",
    "def gausEliParPiv(A, b):\n",
    "    n = len(A)\n",
    "    Ab = np.c_[A, b] # matriz extendida\n",
    "    \n",
    "    # escalonamento\n",
    "    for c in range(n-1):\n",
    "        # pivotamento parcial\n",
    "        row_i_for_permutation = np.abs(Ab[c:, c]).argmax() + c\n",
    "        Ab[[c, row_i_for_permutation]] = Ab[[row_i_for_permutation, c]] # swap(c, row_i_for_permutation)\n",
    "        # pivotamento parcial\n",
    "        for l in range(c+1, n):\n",
    "            Ab[l] = Ab[l] - (Ab[l, c] / Ab[c, c]) * Ab[c]\n",
    "            if Ab[c, c] == 0: \n",
    "                print(\"pivotamento parcial não resolveu o problema\")\n",
    "                return None\n",
    "    # escalonamento\n",
    "    \n",
    "    return uppTriLinSys(Ab[:, :-1], Ab[:, -1])"
   ]
  },
  {
   "cell_type": "markdown",
   "id": "apparent-bahamas",
   "metadata": {},
   "source": [
    "(a)  \n",
    "x1 + x 2 + x 3 = 1  \n",
    "4x 1 + 4x2 + 2x 3 = 2  \n",
    "2x1 + x 2 − x 3 = 0"
   ]
  },
  {
   "cell_type": "code",
   "execution_count": null,
   "id": "protective-function",
   "metadata": {},
   "outputs": [],
   "source": [
    "A = [[], [], []]\n",
    "b = []\n",
    "\n",
    "print(gausEliParPiv(A, b), '\\n', sla.solve(A, b), '\\n', gausEliParPiv(A, b) == sla.solve(A, b))"
   ]
  },
  {
   "cell_type": "markdown",
   "id": "figured-horizon",
   "metadata": {},
   "source": [
    "(b)  \n",
    "7x 1 − 7x 2 + x 3 = 1  \n",
    "−3x1 + 3x 2 + 2x 3 = 2  \n",
    "7x 1 + 7x 2 − 72x 3 = 7"
   ]
  },
  {
   "cell_type": "markdown",
   "id": "built-cooperative",
   "metadata": {},
   "source": [
    "(c)  \n",
    "x 1 + 2x2 + 3x 3 + 4x 4 = 20  \n",
    "2x 1 + 2x2 + 3x 3 + 4x 4 = 22  \n",
    "3x 1 + 3x2 + 3x 3 + 4x 4 = 22  \n",
    "4x 1 + 4x2 + 4x 3 + 4x 4 = 24"
   ]
  }
 ],
 "metadata": {
  "kernelspec": {
   "display_name": "Python 3",
   "language": "python",
   "name": "python3"
  },
  "language_info": {
   "codemirror_mode": {
    "name": "ipython",
    "version": 3
   },
   "file_extension": ".py",
   "mimetype": "text/x-python",
   "name": "python",
   "nbconvert_exporter": "python",
   "pygments_lexer": "ipython3",
   "version": "3.8.5"
  }
 },
 "nbformat": 4,
 "nbformat_minor": 5
}
