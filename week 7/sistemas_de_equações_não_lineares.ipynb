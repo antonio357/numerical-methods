{
 "cells": [
  {
   "cell_type": "code",
   "execution_count": 1,
   "id": "opposed-spouse",
   "metadata": {},
   "outputs": [],
   "source": [
    "import numpy as np\n",
    "import scipy.linalg as sla"
   ]
  },
  {
   "cell_type": "markdown",
   "id": "massive-moderator",
   "metadata": {},
   "source": [
    "\u0004 Exercício 1.1 Classifique os sistemas abaixo com relação a quantidade e existência de\n",
    "soluções."
   ]
  },
  {
   "cell_type": "code",
   "execution_count": 2,
   "id": "treated-semester",
   "metadata": {},
   "outputs": [],
   "source": [
    "def rank(A):\n",
    "    return np.linalg.matrix_rank(A)\n",
    "\n",
    "def classify(A, b):\n",
    "    n = A.shape[1]\n",
    "    Ã = np.c_[A, b]\n",
    "    same_rank = rank(A) == rank(Ã)\n",
    "    \n",
    "    if same_rank and rank(A) == n:\n",
    "        #print(\"Sistema Possível Determinado\")\n",
    "        return \"Possui penas 1 solução\"\n",
    "    elif same_rank and rank(A) < n:\n",
    "        #print(\"Sistema Possível Indeterminado\")\n",
    "        return \"Possui infinitas soluções\"\n",
    "    elif rank(A) < rank(Ã):\n",
    "        #print(\"Sistema Possível Indeterminado\")\n",
    "        return \"Existe solução apenas aproximada\"\n",
    "    else: return \"This was not supossed to happen !!!\""
   ]
  },
  {
   "cell_type": "markdown",
   "id": "elegant-isolation",
   "metadata": {},
   "source": [
    "a)\n",
    "\n",
    "x + 2y + 3z = 1\n",
    "\n",
    "4x + 5y + 6z = 1\n",
    "\n",
    "7x + 8y + 9z = 1"
   ]
  },
  {
   "cell_type": "code",
   "execution_count": 3,
   "id": "coupled-ending",
   "metadata": {},
   "outputs": [
    {
     "name": "stdout",
     "output_type": "stream",
     "text": [
      "Possui infinitas soluções\n"
     ]
    }
   ],
   "source": [
    "A = np.array([[1, 2, 3], [4, 5, 6], [7, 8, 9]])\n",
    "b = np.array([1, 1, 1])\n",
    "print(classify(A, b))"
   ]
  },
  {
   "cell_type": "markdown",
   "id": "marine-adams",
   "metadata": {},
   "source": [
    "b)\n",
    "\n",
    "2x + 3y = 10\n",
    "\n",
    "−4x − 6y = −10"
   ]
  },
  {
   "cell_type": "code",
   "execution_count": 4,
   "id": "ranking-deputy",
   "metadata": {},
   "outputs": [
    {
     "name": "stdout",
     "output_type": "stream",
     "text": [
      "Existe solução apenas aproximada\n"
     ]
    }
   ],
   "source": [
    "A = np.array([[2, 3], [-4, -6]])\n",
    "b = np.array([10, -10])\n",
    "print(classify(A, b))"
   ]
  },
  {
   "cell_type": "markdown",
   "id": "transparent-hydrogen",
   "metadata": {},
   "source": [
    "\u0004 Exercício 1.2 Repita o exemplo 3.2 acima, porém fazendo cada passo da execução de\n",
    "forma explícita, comparando como o algoritmo 1.2 e a função sist_lin_tri_sup funcionam.\n",
    "Sugestão: faça isso de forma manuscrita. Ajudará a entender melhor cada passo."
   ]
  },
  {
   "cell_type": "code",
   "execution_count": 5,
   "id": "apparent-principle",
   "metadata": {},
   "outputs": [],
   "source": [
    "def uppTriLinSys(A, b, prt=False):    \n",
    "    n = m = len(b)\n",
    "    x = np.empty(n)\n",
    "    x[n - 1] = b[n - 1] / A[n - 1, n - 1]\n",
    "    \n",
    "    if prt:\n",
    "        print(\"A =\\n\", A, \"\\nb =\", b, \"\\n\")\n",
    "        print(\"ALGORÍTMO\")\n",
    "        print(\"Passo 2: calcular a incógnita de maior índice\")\n",
    "        print(\"xn = bn / amn\")\n",
    "        print(\"x{} = b{} / a{}{}\".format(n, n, m, n))\n",
    "        print(\"x[{}] = b[{}] / a[{}, {}]\".format(n, n, m, n))\n",
    "        #print(\"bn == b[{}], amn == a[{}, {}], xn == x[{}]\".format(n - 1, m - 1, n - 1, n - 1))\n",
    "        print(\"CÓDIGO\")\n",
    "        print(\"x[{}] = b[{}] / A[{}, {}]\".format(n - 1, n - 1, m - 1, n - 1))\n",
    "        print(\"x[{}] = {} / {}\".format(n - 1, b[n - 1], A[n - 1, n - 1]))\n",
    "        print(\"x[{}] = {}\".format(n - 1, x[n - 1]))\n",
    "    \n",
    "    for i in range(n - 2, -1, -1):\n",
    "        if prt:\n",
    "            subA, subX, aii, bi = A[i, i + 1:], x[i + 1:], A[i, i], b[i]\n",
    "            prod = subA * subX\n",
    "            sm = np.sum(prod)\n",
    "            sub = bi - sm\n",
    "            div = sub / aii\n",
    "            #print(\"x[i] = ( b[i] - np.sum( A[i, i + 1:] * x[i + 1:] ) ) / str(A[i, i])\")\n",
    "            print(\"\\nALGORÍTMO\")\n",
    "            print(\"Passo 3: calcular os valores restantes do vetor solução\")\n",
    "            print(\"xi = ( bi - (somatorio aijxj de j=i+1 até n) ) / aii\")\n",
    "            print(\"x{} = ( b{} - (somatorio a{}{}x{} de {} até {}) ) / a{}{}\".format(i+1, i+1, i+1, i+2, i+2, i+2, n, i+1, i+1))\n",
    "            print(\"x[{}] = ( b[{}] - (somatorio a[{}, {}:]x[{}:] de {} até {}) ) / a[{}, {}]\".\n",
    "                  format(i+1, i+1, i+1, i+2, i+2, i+2, n, i+1, i+1))\n",
    "            print(\"CÓDIGO\")\n",
    "            print(\"x[{}] = ( b[{}] - np.sum( A[{}, {}:] * x[{}:] ) ) / A[{}, {}]\".format(i, i, i, i + 1, i + 1, i, i))\n",
    "            print(\"x[{}] = ( {} - np.sum( {} * {} ) ) / {}\".format(i, bi, np.array2string(subA), np.array2string(subX), aii))\n",
    "            print(\"x[{}] = ( {} - np.sum( {} ) ) / {}\".format(i, bi, np.array2string(prod), aii))\n",
    "            print(\"x[{}] = ( {} - {} ) / {}\".format(i, bi, sm, aii))\n",
    "            print(\"x[{}] = {} / {}\".format(i, sub, aii))\n",
    "            print(\"x[{}] = {}\".format(i, div))\n",
    "            \n",
    "        x[i] = ( b[i] - np.sum( A[i, i + 1:] * x[i + 1:] ) ) / A[i, i]\n",
    "    return x"
   ]
  },
  {
   "cell_type": "code",
   "execution_count": 6,
   "id": "detailed-brooks",
   "metadata": {},
   "outputs": [
    {
     "name": "stdout",
     "output_type": "stream",
     "text": [
      "A =\n",
      " [[ 3  4 -5  1]\n",
      " [ 0  1  1 -2]\n",
      " [ 0  0  4 -5]\n",
      " [ 0  0  0  2]] \n",
      "b = [-10  -1   3   2] \n",
      "\n",
      "ALGORÍTMO\n",
      "Passo 2: calcular a incógnita de maior índice\n",
      "xn = bn / amn\n",
      "x4 = b4 / a44\n",
      "x[4] = b[4] / a[4, 4]\n",
      "CÓDIGO\n",
      "x[3] = b[3] / A[3, 3]\n",
      "x[3] = 2 / 2\n",
      "x[3] = 1.0\n",
      "\n",
      "ALGORÍTMO\n",
      "Passo 3: calcular os valores restantes do vetor solução\n",
      "xi = ( bi - (somatorio aijxj de j=i+1 até n) ) / aii\n",
      "x3 = ( b3 - (somatorio a34x4 de 4 até 4) ) / a33\n",
      "x[3] = ( b[3] - (somatorio a[3, 4:]x[4:] de 4 até 4) ) / a[3, 3]\n",
      "CÓDIGO\n",
      "x[2] = ( b[2] - np.sum( A[2, 3:] * x[3:] ) ) / A[2, 2]\n",
      "x[2] = ( 3 - np.sum( [-5] * [1.] ) ) / 4\n",
      "x[2] = ( 3 - np.sum( [-5.] ) ) / 4\n",
      "x[2] = ( 3 - -5.0 ) / 4\n",
      "x[2] = 8.0 / 4\n",
      "x[2] = 2.0\n",
      "\n",
      "ALGORÍTMO\n",
      "Passo 3: calcular os valores restantes do vetor solução\n",
      "xi = ( bi - (somatorio aijxj de j=i+1 até n) ) / aii\n",
      "x2 = ( b2 - (somatorio a23x3 de 3 até 4) ) / a22\n",
      "x[2] = ( b[2] - (somatorio a[2, 3:]x[3:] de 3 até 4) ) / a[2, 2]\n",
      "CÓDIGO\n",
      "x[1] = ( b[1] - np.sum( A[1, 2:] * x[2:] ) ) / A[1, 1]\n",
      "x[1] = ( -1 - np.sum( [ 1 -2] * [2. 1.] ) ) / 1\n",
      "x[1] = ( -1 - np.sum( [ 2. -2.] ) ) / 1\n",
      "x[1] = ( -1 - 0.0 ) / 1\n",
      "x[1] = -1.0 / 1\n",
      "x[1] = -1.0\n",
      "\n",
      "ALGORÍTMO\n",
      "Passo 3: calcular os valores restantes do vetor solução\n",
      "xi = ( bi - (somatorio aijxj de j=i+1 até n) ) / aii\n",
      "x1 = ( b1 - (somatorio a12x2 de 2 até 4) ) / a11\n",
      "x[1] = ( b[1] - (somatorio a[1, 2:]x[2:] de 2 até 4) ) / a[1, 1]\n",
      "CÓDIGO\n",
      "x[0] = ( b[0] - np.sum( A[0, 1:] * x[1:] ) ) / A[0, 0]\n",
      "x[0] = ( -10 - np.sum( [ 4 -5  1] * [-1.  2.  1.] ) ) / 3\n",
      "x[0] = ( -10 - np.sum( [ -4. -10.   1.] ) ) / 3\n",
      "x[0] = ( -10 - -13.0 ) / 3\n",
      "x[0] = 3.0 / 3\n",
      "x[0] = 1.0\n",
      "\n",
      "RESULTADOS\n",
      "x = [ 1. -1.  2.  1.]\n",
      "b = [-10  -1   3   2]\n",
      "A.dot(x) == b,  [ True  True  True  True]\n"
     ]
    }
   ],
   "source": [
    "A = np.array([[3, 4, -5, 1], [0, 1, 1, -2], [0, 0, 4, -5], [0, 0, 0, 2]])\n",
    "b = np.array([-10, -1, 3, 2])\n",
    "x = uppTriLinSys(A, b, True)\n",
    "\n",
    "\n",
    "print(\"\\nRESULTADOS\")\n",
    "print(\"x =\", x)\n",
    "print(\"b =\", b)\n",
    "print(\"A.dot(x) == b, \", A.dot(x) == b)"
   ]
  },
  {
   "cell_type": "markdown",
   "id": "worth-dictionary",
   "metadata": {},
   "source": [
    "\u0004 Exercício 1.3 Repita o exemplo 3.3 acima, porém fazendo cada passo da execução de forma\n",
    "explícita, comparando como o algoritmo 1.3 e a função sist_lin_tri_inf funcionam. Use\n",
    "a mesma sugestão do exercício anterior."
   ]
  },
  {
   "cell_type": "code",
   "execution_count": 7,
   "id": "resident-holocaust",
   "metadata": {},
   "outputs": [],
   "source": [
    "def lowTriLinSys(A, b):\n",
    "    n = len(b)\n",
    "    x = np.empty(n)\n",
    "    x[0] = b[0] / A[0, 0]\n",
    "    for i in range(1, n):\n",
    "        x[i] = ( b[i] - np.sum( A[i, :i] * x[:i] ) ) / A[i, i]\n",
    "    return x"
   ]
  },
  {
   "cell_type": "markdown",
   "id": "young-confirmation",
   "metadata": {},
   "source": [
    "\u0004 Exercício 1.4 Implemente uma função, cujos parâmetros de entrada sejam somente a matriz\n",
    "de coeficientes e o vetor de termos independentes e que calcule o vetor solução para qualquer\n",
    "um dos casos triviais vistos aqui. Atente para o fato de que a própria função terá de verificar se\n",
    "a matriz de coeficientes é diagonal, triangular superior ou inferior e não o usuário."
   ]
  },
  {
   "cell_type": "code",
   "execution_count": 8,
   "id": "explicit-vegetable",
   "metadata": {},
   "outputs": [],
   "source": [
    "# retorna qual dos 3 casos triviais a matriz se encaixa\n",
    "def getMatTyp(A):\n",
    "    m, n = A.shape # m == quantidade de linhas, n == quantidade de colunas   \n",
    "    if (m != n): return \"not quadratic\"\n",
    "    \n",
    "    # {li indice linha, ci indice coluna} dos elementos que não são zero na matriz A\n",
    "    # ou seja, A[li[i]][ci[i]] == 0 sempre, for i in range(len(li)), com len(li) == len(ci)\n",
    "    li, ci = np.nonzero(A) \n",
    "    \n",
    "    if False not in (li <= ci) and False not in (li >= ci):\n",
    "        \"\"\"\n",
    "        https://www.preparaenem.com/matematica/matriz-triangular.htm\n",
    "        \"Seria possível uma mesma matriz ser simultaneamente triangular superior e triangular inferior? Sim! \n",
    "        Se forem nulos todos os elementos que não pertencem à diagonal principal, essa matriz será triangular superior e inferior. \n",
    "        Esse tipo de matriz recebe um nome especial, é chamada de matriz diagonal.\"\n",
    "        \"\"\"\n",
    "        return \"diagonal\"\n",
    "    \n",
    "    elif False not in (li <= ci):\n",
    "        \"\"\"\n",
    "        minha adaptação\n",
    "        sendo (li <= ci) indices dos elementos apartir da digonal principal pra cima, se li <= ci nunca for False, \n",
    "        dentre os elementos apartir da diagonal principal pra cima há ao menos um elemento diferente de zero \n",
    "        e todos os elementos abaixo da diagonal principal são zero.\n",
    "        \"\"\"\n",
    "        \"\"\"\n",
    "        https://www.preparaenem.com/matematica/matriz-triangular.htm\n",
    "        \"quando os elementos à esquerda e abaixo da diagonal principal forem nulos, teremos uma matriz triangular superior, \n",
    "        ou, simplesmente, se Aij = 0, para i > j\"\n",
    "        considerando sendo li[i] equivalente a i e ci[i] equivalente a j\n",
    "        \"\"\"\n",
    "        return \"upper triangular\"\n",
    "    elif False not in (li >= ci):\n",
    "        \"\"\"\n",
    "        minha adaptação\n",
    "        sendo (li >= ci) indices dos elementos apartir da digonal principal pra baixo, se li >= ci nunca for False, \n",
    "        dentre os elementos apartir da diagonal principal pra baixo há ao menos um elemento diferente de zero \n",
    "        e todos os elementos acima da diagonal principal são zero.\n",
    "        \"\"\"\n",
    "        \"\"\"\n",
    "        https://www.preparaenem.com/matematica/matriz-triangular.htm\n",
    "        \"Observe que, nos elementos à direita e acima da diagonal principal, o número da linha é inferior ao número da coluna. \n",
    "        Quando esses elementos forem todos nulos, teremos uma matriz triangular inferior. \n",
    "        Simplificando, podemos dizer que, se Aij = 0, para i < j, há uma matriz triangular inferior.\"\n",
    "        considerando sendo li[i] equivalente a i e ci[i] equivalente a j\n",
    "        \"\"\"\n",
    "        return \"lower triangular\"\n",
    "    else:\n",
    "        return \"not trivial case\""
   ]
  },
  {
   "cell_type": "code",
   "execution_count": 9,
   "id": "unexpected-vancouver",
   "metadata": {},
   "outputs": [],
   "source": [
    "def diaLinSys(A, b): return b / A.diagonal()\n",
    "\n",
    "def vecSolTriCas(A, b):\n",
    "    triCas = getMatTyp(A)\n",
    "    \n",
    "    if triCas == \"diagonal\":\n",
    "        return diaLinSys(A, b)\n",
    "    elif triCas == \"lower triangular\":\n",
    "        return lowTriLinSys(A, b)\n",
    "    elif triCas == \"upper triangular\":\n",
    "        return uppTriLinSys(A, b)\n",
    "    else:\n",
    "        print(triCas, \"can't be solved\")\n",
    "        return -1"
   ]
  },
  {
   "cell_type": "code",
   "execution_count": 10,
   "id": "white-guatemala",
   "metadata": {},
   "outputs": [
    {
     "data": {
      "text/plain": [
       "array([4. , 0.5, 1. ])"
      ]
     },
     "execution_count": 10,
     "metadata": {},
     "output_type": "execute_result"
    }
   ],
   "source": [
    "A = np.diag([1,4,2])\n",
    "b = np.array([4, 2, 2])\n",
    "vecSolTriCas(A, b)"
   ]
  },
  {
   "cell_type": "code",
   "execution_count": 11,
   "id": "moderate-refrigerator",
   "metadata": {},
   "outputs": [
    {
     "data": {
      "text/plain": [
       "array([ 1., -1.,  2.,  1.])"
      ]
     },
     "execution_count": 11,
     "metadata": {},
     "output_type": "execute_result"
    }
   ],
   "source": [
    "A = np.array([[3,4,-5,1],[0,1,1,-2],[0,0,4,-5],[0,0,0,2]])\n",
    "b = np.array([-10,-1,3,2])\n",
    "vecSolTriCas(A, b)"
   ]
  },
  {
   "cell_type": "code",
   "execution_count": 12,
   "id": "controlling-bowling",
   "metadata": {},
   "outputs": [
    {
     "data": {
      "text/plain": [
       "array([ 1.33333333, -0.66666667,  2.66666667, -1.33333333])"
      ]
     },
     "execution_count": 12,
     "metadata": {},
     "output_type": "execute_result"
    }
   ],
   "source": [
    "A = np.array([[3,0,0,0],[2,1,0,0],[1,0,1,0],[1,1,1,1]])\n",
    "b = np.array([4,2,4,2])\n",
    "vecSolTriCas(A, b)"
   ]
  }
 ],
 "metadata": {
  "kernelspec": {
   "display_name": "Python 3",
   "language": "python",
   "name": "python3"
  },
  "language_info": {
   "codemirror_mode": {
    "name": "ipython",
    "version": 3
   },
   "file_extension": ".py",
   "mimetype": "text/x-python",
   "name": "python",
   "nbconvert_exporter": "python",
   "pygments_lexer": "ipython3",
   "version": "3.8.5"
  }
 },
 "nbformat": 4,
 "nbformat_minor": 5
}
