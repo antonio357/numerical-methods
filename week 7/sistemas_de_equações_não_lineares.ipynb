{
 "cells": [
  {
   "cell_type": "code",
   "execution_count": 1,
   "id": "consecutive-rebate",
   "metadata": {},
   "outputs": [],
   "source": [
    "import numpy as np\n",
    "import scipy.linalg as sla"
   ]
  },
  {
   "cell_type": "markdown",
   "id": "perceived-cologne",
   "metadata": {},
   "source": [
    "\u0004 Exercício 1.1 Classifique os sistemas abaixo com relação a quantidade e existência de\n",
    "soluções."
   ]
  },
  {
   "cell_type": "code",
   "execution_count": 2,
   "id": "conservative-panic",
   "metadata": {},
   "outputs": [],
   "source": [
    "def rank(A):\n",
    "    return np.linalg.matrix_rank(A)\n",
    "\n",
    "def classify(A, b):\n",
    "    n = A.shape[1]\n",
    "    Ã = np.c_[A, b]\n",
    "    same_rank = rank(A) == rank(Ã)\n",
    "    \n",
    "    if same_rank and rank(A) == n:\n",
    "        #print(\"Sistema Possível Determinado\")\n",
    "        return \"Possui penas 1 solução\"\n",
    "    elif same_rank and rank(A) < n:\n",
    "        #print(\"Sistema Possível Indeterminado\")\n",
    "        return \"Possui infinitas soluções\"\n",
    "    elif rank(A) < rank(Ã):\n",
    "        #print(\"Sistema Possível Indeterminado\")\n",
    "        return \"Existe solução apenas aproximada\"\n",
    "    else: return \"This was not supossed to happen !!!\""
   ]
  },
  {
   "cell_type": "markdown",
   "id": "innocent-chester",
   "metadata": {},
   "source": [
    "a)\n",
    "\n",
    "x + 2y + 3z = 1\n",
    "\n",
    "4x + 5y + 6z = 1\n",
    "\n",
    "7x + 8y + 9z = 1"
   ]
  },
  {
   "cell_type": "code",
   "execution_count": 3,
   "id": "express-campaign",
   "metadata": {},
   "outputs": [
    {
     "name": "stdout",
     "output_type": "stream",
     "text": [
      "Possui infinitas soluções\n"
     ]
    }
   ],
   "source": [
    "A = np.array([[1, 2, 3], [4, 5, 6], [7, 8, 9]])\n",
    "b = np.array([1, 1, 1])\n",
    "print(classify(A, b))"
   ]
  },
  {
   "cell_type": "markdown",
   "id": "boxed-western",
   "metadata": {},
   "source": [
    "b)\n",
    "\n",
    "2x + 3y = 10\n",
    "\n",
    "−4x − 6y = −10"
   ]
  },
  {
   "cell_type": "code",
   "execution_count": 4,
   "id": "extended-danish",
   "metadata": {},
   "outputs": [
    {
     "name": "stdout",
     "output_type": "stream",
     "text": [
      "Existe solução apenas aproximada\n"
     ]
    }
   ],
   "source": [
    "A = np.array([[2, 3], [-4, -6]])\n",
    "b = np.array([10, -10])\n",
    "print(classify(A, b))"
   ]
  },
  {
   "cell_type": "markdown",
   "id": "bright-spice",
   "metadata": {},
   "source": [
    "\u0004 Exercício 1.2 Repita o exemplo 3.2 acima, porém fazendo cada passo da execução de\n",
    "forma explícita, comparando como o algoritmo 1.2 e a função sist_lin_tri_sup funcionam.\n",
    "Sugestão: faça isso de forma manuscrita. Ajudará a entender melhor cada passo."
   ]
  },
  {
   "cell_type": "code",
   "execution_count": 5,
   "id": "recognized-expression",
   "metadata": {},
   "outputs": [],
   "source": [
    "def sistLinTriSup(A, b):\n",
    "    n = len(b)\n",
    "    x = np.empty(n)\n",
    "    x[n - 1] = b[n - 1]/A[n - 1, n - 1]\n",
    "    \n",
    "    print(\"A =\\n\", A, \"\\nb =\", b)\n",
    "    \n",
    "    print(\"x[{}] = b[{}] / A[{}, {}]\".format(n - 1, n - 1, n - 1, n - 1))\n",
    "    print(\"x[{}] = {} / {}\".format(n - 1, b[n - 1], A[n - 1, n - 1]))\n",
    "    print(\"x[{}] = {}\".format(n - 1, x[n - 1]))\n",
    "    \n",
    "    for i in range(n - 2, -1, -1):\n",
    "        subA, subX, aii, bi = A[i, i + 1:], x[i + 1:], A[i, i], b[i]\n",
    "        prod = subA * subX\n",
    "        sm = np.sum(prod)\n",
    "        sub = bi - sm\n",
    "        div = sub / aii\n",
    "        #print(\"x[i] = ( b[i] - np.sum( A[i, i + 1:] * x[i + 1:] ) ) / str(A[i, i])\")\n",
    "        print(\"x[{}] = ( b[{}] - np.sum( A[{}, {}:] * x[{}:] ) ) / A[{}, {}]\".format(i, i, i, i + 1, i + 1, i, i))\n",
    "        print(\"x[{}] = ( {} - np.sum( {} * {} ) ) / {}\".format(i, bi, np.array2string(subA), np.array2string(subX), aii))\n",
    "        print(\"x[{}] = ( {} - np.sum( {} ) ) / {}\".format(i, bi, np.array2string(prod), aii))\n",
    "        print(\"x[{}] = ( {} - {} ) / {}\".format(i, bi, sm, aii))\n",
    "        print(\"x[{}] = {} / {}\".format(i, sub, aii))\n",
    "        print(\"x[{}] = {}\".format(i, div))\n",
    "        x[i] = ( b[i] - np.sum( A[i, i + 1:] * x[i + 1:] ) ) / A[i, i]\n",
    "        \n",
    "    return x"
   ]
  },
  {
   "cell_type": "code",
   "execution_count": 6,
   "id": "loving-textbook",
   "metadata": {},
   "outputs": [
    {
     "name": "stdout",
     "output_type": "stream",
     "text": [
      "A =\n",
      " [[ 3  4 -5  1]\n",
      " [ 0  1  1 -2]\n",
      " [ 0  0  4 -5]\n",
      " [ 0  0  0  2]] ,\n",
      "b = [-10  -1   3   2]\n",
      "x[3] = b[3] / A[3, 3]\n",
      "x[3] = 2 / 2\n",
      "x[3] = 1.0\n",
      "x[2] = ( b[2] - np.sum( A[2, 3:] * x[3:] ) ) / A[2, 2]\n",
      "x[2] = ( 3 - np.sum( [-5] * [1.] ) ) / 4\n",
      "x[2] = ( 3 - np.sum( [-5.] ) ) / 4\n",
      "x[2] = ( 3 - -5.0 ) / 4\n",
      "x[2] = 8.0 / 4\n",
      "x[2] = 2.0\n",
      "x[1] = ( b[1] - np.sum( A[1, 2:] * x[2:] ) ) / A[1, 1]\n",
      "x[1] = ( -1 - np.sum( [ 1 -2] * [2. 1.] ) ) / 1\n",
      "x[1] = ( -1 - np.sum( [ 2. -2.] ) ) / 1\n",
      "x[1] = ( -1 - 0.0 ) / 1\n",
      "x[1] = -1.0 / 1\n",
      "x[1] = -1.0\n",
      "x[0] = ( b[0] - np.sum( A[0, 1:] * x[1:] ) ) / A[0, 0]\n",
      "x[0] = ( -10 - np.sum( [ 4 -5  1] * [-1.  2.  1.] ) ) / 3\n",
      "x[0] = ( -10 - np.sum( [ -4. -10.   1.] ) ) / 3\n",
      "x[0] = ( -10 - -13.0 ) / 3\n",
      "x[0] = 3.0 / 3\n",
      "x[0] = 1.0\n",
      "x = [ 1. -1.  2.  1.]\n",
      "b = [-10  -1   3   2]\n",
      "A.dot(x) == b,  [ True  True  True  True]\n"
     ]
    }
   ],
   "source": [
    "A = np.array([[3, 4, -5, 1], [0, 1, 1, -2], [0, 0, 4, -5], [0, 0, 0, 2]])\n",
    "b = np.array([-10, -1, 3, 2])\n",
    "x = sistLinTriSup(A, b)\n",
    "\n",
    "print(\"x =\", x)\n",
    "print(\"b =\", b)\n",
    "print(\"A.dot(x) == b, \", A.dot(x) == b)"
   ]
  },
  {
   "cell_type": "markdown",
   "id": "worse-pocket",
   "metadata": {},
   "source": [
    "\u0004 Exercício 1.3 Repita o exemplo 3.3 acima, porém fazendo cada passo da execução de forma\n",
    "explícita, comparando como o algoritmo 1.3 e a função sist_lin_tri_inf funcionam. Use\n",
    "a mesma sugestão do exercício anterior."
   ]
  },
  {
   "cell_type": "code",
   "execution_count": null,
   "id": "fiscal-farming",
   "metadata": {},
   "outputs": [],
   "source": []
  },
  {
   "cell_type": "markdown",
   "id": "ruled-smith",
   "metadata": {},
   "source": [
    "\u0004 Exercício 1.4 Implemente uma função, cujos parâmetros de entrada sejam somente a matriz\n",
    "de coeficientes e o vetor de termos independentes e que calcule o vetor solução para qualquer\n",
    "um dos casos triviais vistos aqui. Atente para o fato de que a própria função terá de verificar se\n",
    "a matriz de coeficientes é diagonal, triangular superior ou inferior e não o usuário."
   ]
  },
  {
   "cell_type": "code",
   "execution_count": null,
   "id": "accurate-improvement",
   "metadata": {},
   "outputs": [],
   "source": []
  },
  {
   "cell_type": "code",
   "execution_count": null,
   "id": "satisfied-wireless",
   "metadata": {},
   "outputs": [],
   "source": []
  }
 ],
 "metadata": {
  "kernelspec": {
   "display_name": "Python 3",
   "language": "python",
   "name": "python3"
  },
  "language_info": {
   "codemirror_mode": {
    "name": "ipython",
    "version": 3
   },
   "file_extension": ".py",
   "mimetype": "text/x-python",
   "name": "python",
   "nbconvert_exporter": "python",
   "pygments_lexer": "ipython3",
   "version": "3.8.5"
  }
 },
 "nbformat": 4,
 "nbformat_minor": 5
}
