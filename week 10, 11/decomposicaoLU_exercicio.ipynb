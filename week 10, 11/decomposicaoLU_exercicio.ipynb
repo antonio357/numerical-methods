{
 "cells": [
  {
   "cell_type": "code",
   "execution_count": 1,
   "id": "rising-chain",
   "metadata": {},
   "outputs": [],
   "source": [
    "import numpy as np\n",
    "import scipy.linalg as sla"
   ]
  },
  {
   "cell_type": "code",
   "execution_count": 2,
   "id": "confirmed-disclosure",
   "metadata": {},
   "outputs": [],
   "source": [
    "def decomLU(A):\n",
    "    # com todos os números convertidos em double, se não converter pra double a divisão em (1) será truncada gerando bug\n",
    "    U = np.array(A, dtype=np.float64) \n",
    "    n = U.shape[0]\n",
    "    L = np.identity(n)\n",
    "    P = np.identity(n)\n",
    "    \n",
    "    # decomposição (escalonamento)\n",
    "    for c in range(n-1):\n",
    "        # pivotamento parcial \n",
    "        row_i_for_permutation = np.abs(U[c:, c]).argmax() + c\n",
    "        if np.abs(U[row_i_for_permutation, c]) > np.abs(U[c, c]):\n",
    "            U[[c, row_i_for_permutation]] = U[[row_i_for_permutation, c]] # swap(c, row_i_for_permutation)\n",
    "            #L[[c, row_i_for_permutation]] = L[[row_i_for_permutation, c]] # aqui a matriz de L altera\n",
    "            P[[c, row_i_for_permutation]] = P[[row_i_for_permutation, c]] # aqui a matriz de Pivotamento altera\n",
    "        # pivotamento parcial\n",
    "        for l in range(c+1, n):\n",
    "            \"\"\"print(P)\n",
    "            print(L)\n",
    "            print(U)\n",
    "            line,div,col = U[l],U[l,c]/U[c,c],U[c]\n",
    "            print(\"U[l] - (U[l, c] / U[c, c]) * U[c]\")\n",
    "            print(\"U[{}] - (U[{}, {}] / U[{}, {}]) * U[{}]\".format(l,l,c,c,c,c))\n",
    "            print(\"{} - ({} / {}) * {}\".format(line, U[l, c], U[c, c], col))\n",
    "            print(\"{} - {} * {}\".format(line, div, col))\n",
    "            print(\"{} - {}\".format(line, div * col))\n",
    "            print(\"{}\".format(line - div * col))\"\"\"\n",
    "            if not (l+1 > n-1):\n",
    "                ll=l+1\n",
    "            else:\n",
    "                ll = l % (n-1) + 1 + c\n",
    "            L[ll, c] = (U[l, c] / U[c, c]) # (1)\n",
    "            U[l] = U[l] - (U[l, c] * U[c]) / U[c, c]    \n",
    "    # decomposição (escalonamento)\n",
    "    return np.transpose(P),L,U"
   ]
  },
  {
   "cell_type": "markdown",
   "id": "functioning-council",
   "metadata": {},
   "source": [
    "a)  \n",
    "x1 + x2 + x3 = 1  \n",
    "4x1 + 4x2 + 2x3 = 2  \n",
    "2x1 + x2 − x3 = 0"
   ]
  },
  {
   "cell_type": "code",
   "execution_count": 3,
   "id": "specific-mouse",
   "metadata": {},
   "outputs": [],
   "source": [
    "A = np.array([[1,1,1], [4,4,2], [2,1,-1]])\n",
    "b = np.array([1,2,0])"
   ]
  },
  {
   "cell_type": "code",
   "execution_count": 4,
   "id": "closed-identification",
   "metadata": {},
   "outputs": [
    {
     "data": {
      "text/plain": [
       "('decomposição do scipy - P,L,U',\n",
       " (array([[0., 0., 1.],\n",
       "         [1., 0., 0.],\n",
       "         [0., 1., 0.]]),\n",
       "  array([[ 1.  ,  0.  ,  0.  ],\n",
       "         [ 0.5 ,  1.  ,  0.  ],\n",
       "         [ 0.25, -0.  ,  1.  ]]),\n",
       "  array([[ 4. ,  4. ,  2. ],\n",
       "         [ 0. , -1. , -2. ],\n",
       "         [ 0. ,  0. ,  0.5]])),\n",
       " 'decomposição decomLU(A) - P,L,U',\n",
       " (array([[0., 0., 1.],\n",
       "         [1., 0., 0.],\n",
       "         [0., 1., 0.]]),\n",
       "  array([[ 1.  ,  0.  ,  0.  ],\n",
       "         [ 0.5 ,  1.  ,  0.  ],\n",
       "         [ 0.25, -0.  ,  1.  ]]),\n",
       "  array([[ 4. ,  4. ,  2. ],\n",
       "         [ 0. , -1. , -2. ],\n",
       "         [ 0. ,  0. ,  0.5]])))"
      ]
     },
     "execution_count": 4,
     "metadata": {},
     "output_type": "execute_result"
    }
   ],
   "source": [
    "\"decomposição do scipy - P,L,U\", sla.lu(A), \"decomposição decomLU(A) - P,L,U\", decomLU(A) # P,L,U"
   ]
  },
  {
   "cell_type": "code",
   "execution_count": 5,
   "id": "addressed-compound",
   "metadata": {},
   "outputs": [
    {
     "data": {
      "text/plain": [
       "('A',\n",
       " array([[ 1,  1,  1],\n",
       "        [ 4,  4,  2],\n",
       "        [ 2,  1, -1]]),\n",
       " 'P@L@U',\n",
       " array([[ 1.,  1.,  1.],\n",
       "        [ 4.,  4.,  2.],\n",
       "        [ 2.,  1., -1.]]),\n",
       " 'A == P@L@U',\n",
       " array([[ True,  True,  True],\n",
       "        [ True,  True,  True],\n",
       "        [ True,  True,  True]]))"
      ]
     },
     "execution_count": 5,
     "metadata": {},
     "output_type": "execute_result"
    }
   ],
   "source": [
    "P,L,U = decomLU(A)\n",
    "plu = P@L@U\n",
    "\"A\", A, \"P@L@U\", plu, \"A == P@L@U\", A == plu"
   ]
  },
  {
   "cell_type": "code",
   "execution_count": 6,
   "id": "dietary-middle",
   "metadata": {},
   "outputs": [
    {
     "data": {
      "text/plain": [
       "array([ 1., -1.,  1.])"
      ]
     },
     "execution_count": 6,
     "metadata": {},
     "output_type": "execute_result"
    }
   ],
   "source": [
    "# resposta esperada\n",
    "LU, piv = sla.lu_factor(A)\n",
    "x = sla.lu_solve((LU,piv),b)\n",
    "x"
   ]
  },
  {
   "cell_type": "markdown",
   "id": "restricted-fountain",
   "metadata": {},
   "source": [
    "b)  \n",
    "7x1 − 7x2 + x3 = 1  \n",
    "−3x1 + 3x2 + 2x3 = 2  \n",
    "7x1 + 7x2 − 72x3 = 7"
   ]
  },
  {
   "cell_type": "code",
   "execution_count": 7,
   "id": "rapid-bulletin",
   "metadata": {},
   "outputs": [],
   "source": [
    "A = np.array([[7,-7,1], [-3,3,2], [7,7,-72]]).astype(np.float64)\n",
    "b = np.array([1,2,7])"
   ]
  },
  {
   "cell_type": "code",
   "execution_count": 8,
   "id": "compound-intensity",
   "metadata": {},
   "outputs": [
    {
     "data": {
      "text/plain": [
       "('decomposição do scipy - P,L,U',\n",
       " (array([[1., 0., 0.],\n",
       "         [0., 0., 1.],\n",
       "         [0., 1., 0.]]),\n",
       "  array([[ 1.        ,  0.        ,  0.        ],\n",
       "         [ 1.        ,  1.        ,  0.        ],\n",
       "         [-0.42857143,  0.        ,  1.        ]]),\n",
       "  array([[  7.        ,  -7.        ,   1.        ],\n",
       "         [  0.        ,  14.        , -73.        ],\n",
       "         [  0.        ,   0.        ,   2.42857143]])),\n",
       " 'decomposição decomLU(A) - P,L,U',\n",
       " (array([[1., 0., 0.],\n",
       "         [0., 0., 1.],\n",
       "         [0., 1., 0.]]),\n",
       "  array([[ 1.        ,  0.        ,  0.        ],\n",
       "         [ 1.        ,  1.        ,  0.        ],\n",
       "         [-0.42857143,  0.        ,  1.        ]]),\n",
       "  array([[  7.        ,  -7.        ,   1.        ],\n",
       "         [  0.        ,  14.        , -73.        ],\n",
       "         [  0.        ,   0.        ,   2.42857143]])))"
      ]
     },
     "execution_count": 8,
     "metadata": {},
     "output_type": "execute_result"
    }
   ],
   "source": [
    "\"decomposição do scipy - P,L,U\", sla.lu(A), \"decomposição decomLU(A) - P,L,U\", decomLU(A) # P,L,U"
   ]
  },
  {
   "cell_type": "code",
   "execution_count": 9,
   "id": "foreign-origin",
   "metadata": {},
   "outputs": [
    {
     "data": {
      "text/plain": [
       "('A',\n",
       " array([[  7.,  -7.,   1.],\n",
       "        [ -3.,   3.,   2.],\n",
       "        [  7.,   7., -72.]]),\n",
       " 'P@L@U',\n",
       " array([[  7.,  -7.,   1.],\n",
       "        [ -3.,   3.,   2.],\n",
       "        [  7.,   7., -72.]]),\n",
       " 'A == P@L@U',\n",
       " array([[ True,  True,  True],\n",
       "        [ True,  True, False],\n",
       "        [ True,  True,  True]]))"
      ]
     },
     "execution_count": 9,
     "metadata": {},
     "output_type": "execute_result"
    }
   ],
   "source": [
    "P,L,U = decomLU(A)\n",
    "plu = P@L@U\n",
    "\"A\", A, \"P@L@U\", plu, \"A == P@L@U\", A == plu"
   ]
  },
  {
   "cell_type": "markdown",
   "id": "dynamic-synthesis",
   "metadata": {},
   "source": [
    "c)  \n",
    "x1 + 2x2 + 3x3 + 4x4 = 20  \n",
    "2x1 + 2x2 + 3x3 + 4x4 = 22  \n",
    "3x1 + 3x2 + 3x3 + 4x4 = 22  \n",
    "4x1 + 4x2 + 4x3 + 4x4 = 24"
   ]
  },
  {
   "cell_type": "code",
   "execution_count": 10,
   "id": "prerequisite-fusion",
   "metadata": {},
   "outputs": [],
   "source": [
    "A = np.array([[1,2,3,4], [2,2,3,4], [3,3,3,4], [4,4,4,4]])\n",
    "b = np.array([20,22,22,24])"
   ]
  },
  {
   "cell_type": "code",
   "execution_count": 11,
   "id": "express-communications",
   "metadata": {},
   "outputs": [
    {
     "data": {
      "text/plain": [
       "('decomposição do scipy - P,L,U',\n",
       " (array([[0., 1., 0., 0.],\n",
       "         [0., 0., 1., 0.],\n",
       "         [0., 0., 0., 1.],\n",
       "         [1., 0., 0., 0.]]),\n",
       "  array([[1.  , 0.  , 0.  , 0.  ],\n",
       "         [0.25, 1.  , 0.  , 0.  ],\n",
       "         [0.5 , 0.  , 1.  , 0.  ],\n",
       "         [0.75, 0.  , 0.  , 1.  ]]),\n",
       "  array([[4., 4., 4., 4.],\n",
       "         [0., 1., 2., 3.],\n",
       "         [0., 0., 1., 2.],\n",
       "         [0., 0., 0., 1.]])),\n",
       " 'decomposição decomLU(A) - P,L,U',\n",
       " (array([[0., 1., 0., 0.],\n",
       "         [0., 0., 1., 0.],\n",
       "         [0., 0., 0., 1.],\n",
       "         [1., 0., 0., 0.]]),\n",
       "  array([[1.  , 0.  , 0.  , 0.  ],\n",
       "         [0.25, 1.  , 0.  , 0.  ],\n",
       "         [0.5 , 0.  , 1.  , 0.  ],\n",
       "         [0.75, 0.  , 0.  , 1.  ]]),\n",
       "  array([[4., 4., 4., 4.],\n",
       "         [0., 1., 2., 3.],\n",
       "         [0., 0., 1., 2.],\n",
       "         [0., 0., 0., 1.]])))"
      ]
     },
     "execution_count": 11,
     "metadata": {},
     "output_type": "execute_result"
    }
   ],
   "source": [
    "\"decomposição do scipy - P,L,U\", sla.lu(A), \"decomposição decomLU(A) - P,L,U\", decomLU(A) # P,L,U"
   ]
  },
  {
   "cell_type": "code",
   "execution_count": 12,
   "id": "common-integral",
   "metadata": {},
   "outputs": [
    {
     "data": {
      "text/plain": [
       "('A',\n",
       " array([[1, 2, 3, 4],\n",
       "        [2, 2, 3, 4],\n",
       "        [3, 3, 3, 4],\n",
       "        [4, 4, 4, 4]]),\n",
       " 'P@L@U',\n",
       " array([[1., 2., 3., 4.],\n",
       "        [2., 2., 3., 4.],\n",
       "        [3., 3., 3., 4.],\n",
       "        [4., 4., 4., 4.]]),\n",
       " 'A == P@L@U',\n",
       " array([[ True,  True,  True,  True],\n",
       "        [ True,  True,  True,  True],\n",
       "        [ True,  True,  True,  True],\n",
       "        [ True,  True,  True,  True]]))"
      ]
     },
     "execution_count": 12,
     "metadata": {},
     "output_type": "execute_result"
    }
   ],
   "source": [
    "P,L,U = decomLU(A)\n",
    "plu = P@L@U\n",
    "\"A\", A, \"P@L@U\", plu, \"A == P@L@U\", A == plu"
   ]
  }
 ],
 "metadata": {
  "kernelspec": {
   "display_name": "Python 3",
   "language": "python",
   "name": "python3"
  },
  "language_info": {
   "codemirror_mode": {
    "name": "ipython",
    "version": 3
   },
   "file_extension": ".py",
   "mimetype": "text/x-python",
   "name": "python",
   "nbconvert_exporter": "python",
   "pygments_lexer": "ipython3",
   "version": "3.8.5"
  }
 },
 "nbformat": 4,
 "nbformat_minor": 5
}
