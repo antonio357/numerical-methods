{
 "cells": [
  {
   "cell_type": "code",
   "execution_count": 1,
   "id": "broken-mount",
   "metadata": {},
   "outputs": [],
   "source": [
    "import numpy as np\n",
    "import scipy.linalg as sla"
   ]
  },
  {
   "cell_type": "markdown",
   "id": "whole-junction",
   "metadata": {},
   "source": [
    "a)  \n",
    "x1 + x 2 + x 3 = 1  \n",
    "4x 1 + 4x2 + 2x 3 = 2  \n",
    "2x1 + x 2 − x 3 = 0"
   ]
  },
  {
   "cell_type": "markdown",
   "id": "further-reader",
   "metadata": {},
   "source": [
    "b)  \n",
    "7x 1 − 7x 2 + x 3 = 1  \n",
    "−3x1 + 3x 2 + 2x 3 = 2  \n",
    "7x 1 + 7x 2 − 72x 3 = 7"
   ]
  },
  {
   "cell_type": "markdown",
   "id": "chinese-archive",
   "metadata": {},
   "source": [
    "c)  \n",
    "x 1 + 2x2 + 3x 3 + 4x 4 = 20  \n",
    "2x 1 + 2x2 + 3x 3 + 4x 4 = 22  \n",
    "3x 1 + 3x2 + 3x 3 + 4x 4 = 22  \n",
    "4x 1 + 4x2 + 4x 3 + 4x 4 = 24"
   ]
  }
 ],
 "metadata": {
  "kernelspec": {
   "display_name": "Python 3",
   "language": "python",
   "name": "python3"
  },
  "language_info": {
   "codemirror_mode": {
    "name": "ipython",
    "version": 3
   },
   "file_extension": ".py",
   "mimetype": "text/x-python",
   "name": "python",
   "nbconvert_exporter": "python",
   "pygments_lexer": "ipython3",
   "version": "3.8.5"
  }
 },
 "nbformat": 4,
 "nbformat_minor": 5
}
