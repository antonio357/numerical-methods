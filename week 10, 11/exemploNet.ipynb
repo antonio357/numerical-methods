{
 "cells": [
  {
   "cell_type": "code",
   "execution_count": 1,
   "id": "mathematical-organization",
   "metadata": {},
   "outputs": [],
   "source": [
    "import numpy as np\n",
    "import scipy.linalg as sla"
   ]
  },
  {
   "cell_type": "code",
   "execution_count": 2,
   "id": "electric-soccer",
   "metadata": {},
   "outputs": [],
   "source": [
    "def decomLU(A):\n",
    "    # com todos os números convertidos em double, se não converter pra double a divisão em (1) será truncada gerando bug\n",
    "    U = np.array(A, dtype=np.float64) \n",
    "    n = U.shape[0]\n",
    "    L = np.identity(n)\n",
    "    P = np.identity(n)\n",
    "    \n",
    "    # decomposição (escalonamento)\n",
    "    for c in range(n-1):\n",
    "        # pivotamento parcial \n",
    "        row_i_for_permutation = np.abs(U[c:, c]).argmax() + c\n",
    "        if np.abs(U[row_i_for_permutation, c]) > np.abs(U[c, c]):\n",
    "            U[[c, row_i_for_permutation]] = U[[row_i_for_permutation, c]] # swap(c, row_i_for_permutation)\n",
    "            #L[[c, row_i_for_permutation]] = L[[row_i_for_permutation, c]] # aqui a matriz de L altera\n",
    "            P[[c, row_i_for_permutation]] = P[[row_i_for_permutation, c]] # aqui a matriz de Pivotamento altera\n",
    "        # pivotamento parcial\n",
    "        for l in range(c+1, n):\n",
    "            \"\"\"print(P)\n",
    "            print(L)\n",
    "            print(U)\n",
    "            line,div,col = U[l],U[l,c]/U[c,c],U[c]\n",
    "            print(\"U[l] - (U[l, c] / U[c, c]) * U[c]\")\n",
    "            print(\"U[{}] - (U[{}, {}] / U[{}, {}]) * U[{}]\".format(l,l,c,c,c,c))\n",
    "            print(\"{} - ({} / {}) * {}\".format(line, U[l, c], U[c, c], col))\n",
    "            print(\"{} - {} * {}\".format(line, div, col))\n",
    "            print(\"{} - {}\".format(line, div * col))\n",
    "            print(\"{}\".format(line - div * col))\"\"\"\n",
    "            if not (l+1 > n-1):\n",
    "                ll=l+1\n",
    "            else:\n",
    "                ll = l % (n-1) + 1 + c\n",
    "            L[ll, c] = (U[l, c] / U[c, c]) # (1)\n",
    "            U[l] = U[l] - (U[l, c] * U[c]) / U[c, c]    \n",
    "    # decomposição (escalonamento)\n",
    "    return np.transpose(P),L,U\n",
    "\n",
    "# método trivial para matriz triangular superior\n",
    "def uppTriLinSys(A, b):    \n",
    "    n = len(b)\n",
    "    x = np.empty(n)\n",
    "    \n",
    "    x[n - 1] = b[n - 1] / A[n - 1, n - 1]\n",
    "    for i in range(n - 2, -1, -1):\n",
    "        x[i] = ( b[i] - np.sum( A[i, i + 1:] * x[i + 1:] ) ) / A[i, i]\n",
    "            \n",
    "    return x\n",
    "\n",
    "def lowTriLinSys(A, b):\n",
    "    n = m = len(b)\n",
    "    x = np.empty(n)\n",
    "    x[0] = b[0] / A[0, 0]\n",
    "    \n",
    "    for i in range(1, n):\n",
    "        x[i] = ( b[i] - np.sum( A[i, :i] * x[:i] ) ) / A[i, i]\n",
    "        \n",
    "    return x\n",
    "\n",
    "def solveViaLUdecomp(A, b):\n",
    "    P,L,U = decomLU(A)\n",
    "    y = lowTriLinSys(L, P@b)\n",
    "    x = uppTriLinSys(U, y)\n",
    "    return x"
   ]
  },
  {
   "cell_type": "code",
   "execution_count": 3,
   "id": "english-period",
   "metadata": {},
   "outputs": [
    {
     "data": {
      "text/plain": [
       "(array([[ 3.,  2.,  4.],\n",
       "        [ 1.,  1.,  2.],\n",
       "        [ 4.,  3., -2.]]),\n",
       " array([1., 2., 3.]))"
      ]
     },
     "execution_count": 3,
     "metadata": {},
     "output_type": "execute_result"
    }
   ],
   "source": [
    "A = np.array([[3,2,4], [1,1,2], [4,3,-2]]).astype(np.float64)\n",
    "b = np.array([1,2,3]).astype(np.float64)\n",
    "A, b"
   ]
  },
  {
   "cell_type": "code",
   "execution_count": 4,
   "id": "threaded-mattress",
   "metadata": {},
   "outputs": [
    {
     "data": {
      "text/plain": [
       "(array([[0., 0., 1.],\n",
       "        [0., 1., 0.],\n",
       "        [1., 0., 0.]]),\n",
       " array([[ 1.  ,  0.  ,  0.  ],\n",
       "        [ 0.75,  1.  ,  0.  ],\n",
       "        [ 0.25, -1.  ,  1.  ]]),\n",
       " array([[ 4.  ,  3.  , -2.  ],\n",
       "        [ 0.  ,  0.25,  2.5 ],\n",
       "        [ 0.  ,  0.  ,  8.  ]]))"
      ]
     },
     "execution_count": 4,
     "metadata": {},
     "output_type": "execute_result"
    }
   ],
   "source": [
    "P,L,U = decomLU(A)\n",
    "P,L,U"
   ]
  },
  {
   "cell_type": "code",
   "execution_count": null,
   "id": "ordered-oriental",
   "metadata": {},
   "outputs": [],
   "source": []
  },
  {
   "cell_type": "code",
   "execution_count": null,
   "id": "legendary-lafayette",
   "metadata": {},
   "outputs": [],
   "source": []
  }
 ],
 "metadata": {
  "kernelspec": {
   "display_name": "Python 3",
   "language": "python",
   "name": "python3"
  },
  "language_info": {
   "codemirror_mode": {
    "name": "ipython",
    "version": 3
   },
   "file_extension": ".py",
   "mimetype": "text/x-python",
   "name": "python",
   "nbconvert_exporter": "python",
   "pygments_lexer": "ipython3",
   "version": "3.8.5"
  }
 },
 "nbformat": 4,
 "nbformat_minor": 5
}
