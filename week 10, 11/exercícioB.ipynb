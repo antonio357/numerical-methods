{
 "cells": [
  {
   "cell_type": "code",
   "execution_count": 1,
   "id": "injured-following",
   "metadata": {},
   "outputs": [],
   "source": [
    "import numpy as np\n",
    "import scipy.linalg as sla"
   ]
  },
  {
   "cell_type": "code",
   "execution_count": 2,
   "id": "scientific-cholesterol",
   "metadata": {},
   "outputs": [
    {
     "data": {
      "text/plain": [
       "array([[  7,  -7,   1],\n",
       "       [ -3,   3,   2],\n",
       "       [  7,   7, -72]])"
      ]
     },
     "execution_count": 2,
     "metadata": {},
     "output_type": "execute_result"
    }
   ],
   "source": [
    "A = np.array([[7,-7,1], [-3,3,2], [7,7,-72]])\n",
    "A"
   ]
  },
  {
   "cell_type": "code",
   "execution_count": 3,
   "id": "fuzzy-proof",
   "metadata": {},
   "outputs": [
    {
     "data": {
      "text/plain": [
       "(array([[1., 0., 0.],\n",
       "        [0., 0., 1.],\n",
       "        [0., 1., 0.]]),\n",
       " array([[ 1.        ,  0.        ,  0.        ],\n",
       "        [ 1.        ,  1.        ,  0.        ],\n",
       "        [-0.42857143,  0.        ,  1.        ]]),\n",
       " array([[  7.        ,  -7.        ,   1.        ],\n",
       "        [  0.        ,  14.        , -73.        ],\n",
       "        [  0.        ,   0.        ,   2.42857143]]))"
      ]
     },
     "execution_count": 3,
     "metadata": {},
     "output_type": "execute_result"
    }
   ],
   "source": [
    "sla.lu(A)"
   ]
  },
  {
   "cell_type": "code",
   "execution_count": 4,
   "id": "floral-portsmouth",
   "metadata": {},
   "outputs": [
    {
     "data": {
      "text/plain": [
       "(array([[1., 0., 0.],\n",
       "        [0., 1., 0.],\n",
       "        [0., 0., 1.]]),\n",
       " array([[1., 0., 0.],\n",
       "        [0., 1., 0.],\n",
       "        [0., 0., 1.]]),\n",
       " array([[  7.,  -7.,   1.],\n",
       "        [ -3.,   3.,   2.],\n",
       "        [  7.,   7., -72.]], dtype=float128))"
      ]
     },
     "execution_count": 4,
     "metadata": {},
     "output_type": "execute_result"
    }
   ],
   "source": [
    "U = np.array(A, dtype=np.float128) \n",
    "n = U.shape[0]\n",
    "L = np.identity(n)\n",
    "P = np.identity(n)\n",
    "P,L,U"
   ]
  },
  {
   "cell_type": "code",
   "execution_count": 5,
   "id": "beautiful-product",
   "metadata": {},
   "outputs": [
    {
     "data": {
      "text/plain": [
       "(array([[1., 0., 0.],\n",
       "        [0., 1., 0.],\n",
       "        [0., 0., 1.]]),\n",
       " array([[1., 0., 0.],\n",
       "        [0., 1., 0.],\n",
       "        [0., 0., 1.]]),\n",
       " array([[  7.,  -7.,   1.],\n",
       "        [ -3.,   3.,   2.],\n",
       "        [  7.,   7., -72.]], dtype=float128))"
      ]
     },
     "execution_count": 5,
     "metadata": {},
     "output_type": "execute_result"
    }
   ],
   "source": [
    "c = 0\n",
    "row_i_for_permutation = np.abs(U[c:, c]).argmax() + c\n",
    "if np.abs(U[row_i_for_permutation, c]) > np.abs(U[c, c]):\n",
    "    U[[c, row_i_for_permutation]] = U[[row_i_for_permutation, c]] # swap(c, row_i_for_permutation)\n",
    "    P[[c, row_i_for_permutation]] = P[[row_i_for_permutation, c]] # aqui a matriz de Pivotamento altera\n",
    "\n",
    "P,L,U"
   ]
  },
  {
   "cell_type": "code",
   "execution_count": 6,
   "id": "vulnerable-situation",
   "metadata": {},
   "outputs": [
    {
     "name": "stdout",
     "output_type": "stream",
     "text": [
      "U[l] - (U[l, c] / U[c, c]) * U[c]\n",
      "U[1] - (U[1, 0] / U[0, 0]) * U[0]\n",
      "[-3.  3.  2.] - (-3.0 / 7.0) * [ 7. -7.  1.]\n",
      "[-3.  3.  2.] - -0.42857142857142855 * [ 7. -7.  1.]\n",
      "[-3.  3.  2.] - [-3.          3.         -0.42857143]\n",
      "[0.         0.         2.42857143]\n"
     ]
    },
    {
     "data": {
      "text/plain": [
       "(array([[1., 0., 0.],\n",
       "        [0., 1., 0.],\n",
       "        [0., 0., 1.]]),\n",
       " array([[ 1.        ,  0.        ,  0.        ],\n",
       "        [-0.42857143,  1.        ,  0.        ],\n",
       "        [ 0.        ,  0.        ,  1.        ]]),\n",
       " array([[  7.        ,  -7.        ,   1.        ],\n",
       "        [  0.        ,   0.        ,   2.42857143],\n",
       "        [  7.        ,   7.        , -72.        ]], dtype=float128))"
      ]
     },
     "execution_count": 6,
     "metadata": {},
     "output_type": "execute_result"
    }
   ],
   "source": [
    "l = 1\n",
    "line,div,col = U[l],U[l,c]/U[c,c],U[c]\n",
    "print(\"U[l] - (U[l, c] / U[c, c]) * U[c]\")\n",
    "print(\"U[{}] - (U[{}, {}] / U[{}, {}]) * U[{}]\".format(l,l,c,c,c,c))\n",
    "print(\"{} - ({} / {}) * {}\".format(line, U[l, c], U[c, c], col))\n",
    "print(\"{} - {} * {}\".format(line, div, col))\n",
    "print(\"{} - {}\".format(line, div * col))\n",
    "print(\"{}\".format(line - div * col))\n",
    "L[l, c] = (U[l, c] / U[c, c]) # (1)\n",
    "U[l] = U[l] - U[l, c] * U[c] / U[c, c]\n",
    "\n",
    "P,L,U"
   ]
  },
  {
   "cell_type": "code",
   "execution_count": 7,
   "id": "historic-circumstances",
   "metadata": {},
   "outputs": [
    {
     "name": "stdout",
     "output_type": "stream",
     "text": [
      "U[l] - (U[l, c] / U[c, c]) * U[c]\n",
      "U[2] - (U[2, 0] / U[0, 0]) * U[0]\n",
      "[  7.   7. -72.] - (7.0 / 7.0) * [ 7. -7.  1.]\n",
      "[  7.   7. -72.] - 1.0 * [ 7. -7.  1.]\n",
      "[  7.   7. -72.] - [ 7. -7.  1.]\n",
      "[  0.  14. -73.]\n"
     ]
    },
    {
     "data": {
      "text/plain": [
       "(array([[1., 0., 0.],\n",
       "        [0., 1., 0.],\n",
       "        [0., 0., 1.]]),\n",
       " array([[ 1.        ,  0.        ,  0.        ],\n",
       "        [-0.42857143,  1.        ,  0.        ],\n",
       "        [ 1.        ,  0.        ,  1.        ]]),\n",
       " array([[  7.        ,  -7.        ,   1.        ],\n",
       "        [  0.        ,   0.        ,   2.42857143],\n",
       "        [  0.        ,  14.        , -73.        ]], dtype=float128))"
      ]
     },
     "execution_count": 7,
     "metadata": {},
     "output_type": "execute_result"
    }
   ],
   "source": [
    "l = 2\n",
    "line,div,col = U[l],U[l,c]/U[c,c],U[c]\n",
    "print(\"U[l] - (U[l, c] / U[c, c]) * U[c]\")\n",
    "print(\"U[{}] - (U[{}, {}] / U[{}, {}]) * U[{}]\".format(l,l,c,c,c,c))\n",
    "print(\"{} - ({} / {}) * {}\".format(line, U[l, c], U[c, c], col))\n",
    "print(\"{} - {} * {}\".format(line, div, col))\n",
    "print(\"{} - {}\".format(line, div * col))\n",
    "print(\"{}\".format(line - div * col))\n",
    "L[l, c] = (U[l, c] / U[c, c]) # (1)\n",
    "U[l] = U[l] - U[l, c] * U[c] / U[c, c]\n",
    "\n",
    "P,L,U"
   ]
  },
  {
   "cell_type": "code",
   "execution_count": 8,
   "id": "unnecessary-commander",
   "metadata": {},
   "outputs": [
    {
     "data": {
      "text/plain": [
       "(array([[1., 0., 0.],\n",
       "        [0., 0., 1.],\n",
       "        [0., 1., 0.]]),\n",
       " array([[ 1.        ,  0.        ,  0.        ],\n",
       "        [-0.42857143,  1.        ,  0.        ],\n",
       "        [ 1.        ,  0.        ,  1.        ]]),\n",
       " array([[  7.        ,  -7.        ,   1.        ],\n",
       "        [  0.        ,  14.        , -73.        ],\n",
       "        [  0.        ,   0.        ,   2.42857143]], dtype=float128))"
      ]
     },
     "execution_count": 8,
     "metadata": {},
     "output_type": "execute_result"
    }
   ],
   "source": [
    "c = 1\n",
    "row_i_for_permutation = np.abs(U[c:, c]).argmax() + c\n",
    "if np.abs(U[row_i_for_permutation, c]) > np.abs(U[c, c]):\n",
    "    U[[c, row_i_for_permutation]] = U[[row_i_for_permutation, c]] # swap(c, row_i_for_permutation)\n",
    "    P[[c, row_i_for_permutation]] = P[[row_i_for_permutation, c]] # aqui a matriz de Pivotamento altera\n",
    "\n",
    "P,L,U"
   ]
  },
  {
   "cell_type": "code",
   "execution_count": 9,
   "id": "brazilian-symbol",
   "metadata": {},
   "outputs": [
    {
     "name": "stdout",
     "output_type": "stream",
     "text": [
      "U[l] - (U[l, c] / U[c, c]) * U[c]\n",
      "U[2] - (U[2, 1] / U[1, 1]) * U[1]\n",
      "[0.         0.         2.42857143] - (0.0 / 14.0) * [  0.  14. -73.]\n",
      "[0.         0.         2.42857143] - 0.0 * [  0.  14. -73.]\n",
      "[0.         0.         2.42857143] - [ 0.  0. -0.]\n",
      "[0.         0.         2.42857143]\n"
     ]
    },
    {
     "data": {
      "text/plain": [
       "(array([[1., 0., 0.],\n",
       "        [0., 0., 1.],\n",
       "        [0., 1., 0.]]),\n",
       " array([[ 1.        ,  0.        ,  0.        ],\n",
       "        [-0.42857143,  1.        ,  0.        ],\n",
       "        [ 1.        ,  0.        ,  1.        ]]),\n",
       " array([[  7.        ,  -7.        ,   1.        ],\n",
       "        [  0.        ,  14.        , -73.        ],\n",
       "        [  0.        ,   0.        ,   2.42857143]], dtype=float128))"
      ]
     },
     "execution_count": 9,
     "metadata": {},
     "output_type": "execute_result"
    }
   ],
   "source": [
    "l = 2\n",
    "line,div,col = U[l],U[l,c]/U[c,c],U[c]\n",
    "print(\"U[l] - (U[l, c] / U[c, c]) * U[c]\")\n",
    "print(\"U[{}] - (U[{}, {}] / U[{}, {}]) * U[{}]\".format(l,l,c,c,c,c))\n",
    "print(\"{} - ({} / {}) * {}\".format(line, U[l, c], U[c, c], col))\n",
    "print(\"{} - {} * {}\".format(line, div, col))\n",
    "print(\"{} - {}\".format(line, div * col))\n",
    "print(\"{}\".format(line - div * col))\n",
    "L[l, c] = (U[l, c] / U[c, c]) # (1)\n",
    "U[l] = U[l] - U[l, c] * U[c] / U[c, c]\n",
    "\n",
    "P,L,U"
   ]
  },
  {
   "cell_type": "code",
   "execution_count": 10,
   "id": "working-passion",
   "metadata": {},
   "outputs": [
    {
     "data": {
      "text/plain": [
       "(array([[1., 0., 0.],\n",
       "        [0., 0., 1.],\n",
       "        [0., 1., 0.]]),\n",
       " array([[ 1.        ,  0.        ,  0.        ],\n",
       "        [ 1.        ,  1.        ,  0.        ],\n",
       "        [-0.42857143,  0.        ,  1.        ]]),\n",
       " array([[  7.        ,  -7.        ,   1.        ],\n",
       "        [  0.        ,  14.        , -73.        ],\n",
       "        [  0.        ,   0.        ,   2.42857143]]))"
      ]
     },
     "execution_count": 10,
     "metadata": {},
     "output_type": "execute_result"
    }
   ],
   "source": [
    "sla.lu(A)"
   ]
  }
 ],
 "metadata": {
  "kernelspec": {
   "display_name": "Python 3",
   "language": "python",
   "name": "python3"
  },
  "language_info": {
   "codemirror_mode": {
    "name": "ipython",
    "version": 3
   },
   "file_extension": ".py",
   "mimetype": "text/x-python",
   "name": "python",
   "nbconvert_exporter": "python",
   "pygments_lexer": "ipython3",
   "version": "3.8.5"
  }
 },
 "nbformat": 4,
 "nbformat_minor": 5
}
