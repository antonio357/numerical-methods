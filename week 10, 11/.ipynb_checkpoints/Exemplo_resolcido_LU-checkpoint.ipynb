{
 "cells": [
  {
   "cell_type": "code",
   "execution_count": 1,
   "id": "attached-actor",
   "metadata": {},
   "outputs": [],
   "source": [
    "import numpy as np\n",
    "import scipy.linalg as sla"
   ]
  },
  {
   "cell_type": "code",
   "execution_count": 2,
   "id": "excess-vancouver",
   "metadata": {},
   "outputs": [
    {
     "data": {
      "text/plain": [
       "array([[ 1,  1,  0],\n",
       "       [ 2,  1, -1],\n",
       "       [ 3, -1, -1]])"
      ]
     },
     "execution_count": 2,
     "metadata": {},
     "output_type": "execute_result"
    }
   ],
   "source": [
    "A = np.array([[1,1,0], [2,1,-1], [3,-1,-1]])\n",
    "A"
   ]
  },
  {
   "cell_type": "code",
   "execution_count": 3,
   "id": "actual-blake",
   "metadata": {},
   "outputs": [
    {
     "data": {
      "text/plain": [
       "(array([[0., 0., 1.],\n",
       "        [0., 1., 0.],\n",
       "        [1., 0., 0.]]),\n",
       " array([[1.        , 0.        , 0.        ],\n",
       "        [0.66666667, 1.        , 0.        ],\n",
       "        [0.33333333, 0.8       , 1.        ]]),\n",
       " array([[ 3.        , -1.        , -1.        ],\n",
       "        [ 0.        ,  1.66666667, -0.33333333],\n",
       "        [ 0.        ,  0.        ,  0.6       ]]))"
      ]
     },
     "execution_count": 3,
     "metadata": {},
     "output_type": "execute_result"
    }
   ],
   "source": [
    "sla.lu(A)"
   ]
  },
  {
   "cell_type": "code",
   "execution_count": 4,
   "id": "permanent-house",
   "metadata": {},
   "outputs": [
    {
     "data": {
      "text/plain": [
       "(array([[1., 0., 0.],\n",
       "        [0., 1., 0.],\n",
       "        [0., 0., 1.]]),\n",
       " array([[1., 0., 0.],\n",
       "        [0., 1., 0.],\n",
       "        [0., 0., 1.]]),\n",
       " array([[ 1.,  1.,  0.],\n",
       "        [ 2.,  1., -1.],\n",
       "        [ 3., -1., -1.]], dtype=float128))"
      ]
     },
     "execution_count": 4,
     "metadata": {},
     "output_type": "execute_result"
    }
   ],
   "source": [
    "U = np.array(A, dtype=np.float128) \n",
    "n = U.shape[0]\n",
    "L = np.identity(n)\n",
    "P = np.identity(n)\n",
    "P,L,U"
   ]
  },
  {
   "cell_type": "code",
   "execution_count": 5,
   "id": "excessive-vehicle",
   "metadata": {},
   "outputs": [
    {
     "data": {
      "text/plain": [
       "(array([[0., 0., 1.],\n",
       "        [0., 1., 0.],\n",
       "        [1., 0., 0.]]),\n",
       " array([[1., 0., 0.],\n",
       "        [0., 1., 0.],\n",
       "        [0., 0., 1.]]),\n",
       " array([[ 3., -1., -1.],\n",
       "        [ 2.,  1., -1.],\n",
       "        [ 1.,  1.,  0.]], dtype=float128))"
      ]
     },
     "execution_count": 5,
     "metadata": {},
     "output_type": "execute_result"
    }
   ],
   "source": [
    "c = 0\n",
    "row_i_for_permutation = np.abs(U[c:, c]).argmax() + c\n",
    "if np.abs(U[row_i_for_permutation, c]) > np.abs(U[c, c]):\n",
    "    U[[c, row_i_for_permutation]] = U[[row_i_for_permutation, c]] # swap(c, row_i_for_permutation)\n",
    "    P[[c, row_i_for_permutation]] = P[[row_i_for_permutation, c]] # aqui a matriz de Pivotamento altera\n",
    "\n",
    "P,L,U"
   ]
  },
  {
   "cell_type": "code",
   "execution_count": 6,
   "id": "aware-zoning",
   "metadata": {},
   "outputs": [
    {
     "name": "stdout",
     "output_type": "stream",
     "text": [
      "U[l] - (U[l, c] / U[c, c]) * U[c]\n",
      "U[1] - (U[1, 0] / U[0, 0]) * U[0]\n",
      "[ 2.  1. -1.] - (2.0 / 3.0) * [ 3. -1. -1.]\n",
      "[ 2.  1. -1.] - 0.6666666666666666 * [ 3. -1. -1.]\n",
      "[ 2.  1. -1.] - [ 2.         -0.66666667 -0.66666667]\n",
      "[ 0.          1.66666667 -0.33333333]\n"
     ]
    },
    {
     "data": {
      "text/plain": [
       "(array([[0., 0., 1.],\n",
       "        [0., 1., 0.],\n",
       "        [1., 0., 0.]]),\n",
       " array([[1.        , 0.        , 0.        ],\n",
       "        [0.66666667, 1.        , 0.        ],\n",
       "        [0.        , 0.        , 1.        ]]),\n",
       " array([[ 3.        , -1.        , -1.        ],\n",
       "        [ 0.        ,  1.66666667, -0.33333333],\n",
       "        [ 1.        ,  1.        ,  0.        ]], dtype=float128))"
      ]
     },
     "execution_count": 6,
     "metadata": {},
     "output_type": "execute_result"
    }
   ],
   "source": [
    "l = 1\n",
    "line,div,col = U[l],U[l,c]/U[c,c],U[c]\n",
    "print(\"U[l] - (U[l, c] / U[c, c]) * U[c]\")\n",
    "print(\"U[{}] - (U[{}, {}] / U[{}, {}]) * U[{}]\".format(l,l,c,c,c,c))\n",
    "print(\"{} - ({} / {}) * {}\".format(line, U[l, c], U[c, c], col))\n",
    "print(\"{} - {} * {}\".format(line, div, col))\n",
    "print(\"{} - {}\".format(line, div * col))\n",
    "print(\"{}\".format(line - div * col))\n",
    "L[l, c] = (U[l, c] / U[c, c]) # (1)\n",
    "U[l] = U[l] - U[l, c] * U[c] / U[c, c]\n",
    "\n",
    "P,L,U"
   ]
  },
  {
   "cell_type": "code",
   "execution_count": 7,
   "id": "scientific-speech",
   "metadata": {},
   "outputs": [
    {
     "name": "stdout",
     "output_type": "stream",
     "text": [
      "U[l] - (U[l, c] / U[c, c]) * U[c]\n",
      "U[2] - (U[2, 0] / U[0, 0]) * U[0]\n",
      "[1. 1. 0.] - (1.0 / 3.0) * [ 3. -1. -1.]\n",
      "[1. 1. 0.] - 0.3333333333333333 * [ 3. -1. -1.]\n",
      "[1. 1. 0.] - [ 1.         -0.33333333 -0.33333333]\n",
      "[0.         1.33333333 0.33333333]\n"
     ]
    },
    {
     "data": {
      "text/plain": [
       "(array([[0., 0., 1.],\n",
       "        [0., 1., 0.],\n",
       "        [1., 0., 0.]]),\n",
       " array([[1.        , 0.        , 0.        ],\n",
       "        [0.66666667, 1.        , 0.        ],\n",
       "        [0.33333333, 0.        , 1.        ]]),\n",
       " array([[ 3.        , -1.        , -1.        ],\n",
       "        [ 0.        ,  1.66666667, -0.33333333],\n",
       "        [ 0.        ,  1.33333333,  0.33333333]], dtype=float128))"
      ]
     },
     "execution_count": 7,
     "metadata": {},
     "output_type": "execute_result"
    }
   ],
   "source": [
    "l = 2\n",
    "line,div,col = U[l],U[l,c]/U[c,c],U[c]\n",
    "print(\"U[l] - (U[l, c] / U[c, c]) * U[c]\")\n",
    "print(\"U[{}] - (U[{}, {}] / U[{}, {}]) * U[{}]\".format(l,l,c,c,c,c))\n",
    "print(\"{} - ({} / {}) * {}\".format(line, U[l, c], U[c, c], col))\n",
    "print(\"{} - {} * {}\".format(line, div, col))\n",
    "print(\"{} - {}\".format(line, div * col))\n",
    "print(\"{}\".format(line - div * col))\n",
    "L[l, c] = (U[l, c] / U[c, c]) # (1)\n",
    "U[l] = U[l] - U[l, c] * U[c] / U[c, c]\n",
    "\n",
    "P,L,U"
   ]
  },
  {
   "cell_type": "code",
   "execution_count": 8,
   "id": "developing-algebra",
   "metadata": {},
   "outputs": [
    {
     "data": {
      "text/plain": [
       "(array([[0., 0., 1.],\n",
       "        [0., 1., 0.],\n",
       "        [1., 0., 0.]]),\n",
       " array([[1.        , 0.        , 0.        ],\n",
       "        [0.66666667, 1.        , 0.        ],\n",
       "        [0.33333333, 0.        , 1.        ]]),\n",
       " array([[ 3.        , -1.        , -1.        ],\n",
       "        [ 0.        ,  1.66666667, -0.33333333],\n",
       "        [ 0.        ,  1.33333333,  0.33333333]], dtype=float128))"
      ]
     },
     "execution_count": 8,
     "metadata": {},
     "output_type": "execute_result"
    }
   ],
   "source": [
    "c = 1\n",
    "row_i_for_permutation = np.abs(U[c:, c]).argmax() + c\n",
    "if np.abs(U[row_i_for_permutation, c]) > np.abs(U[c, c]):\n",
    "    U[[c, row_i_for_permutation]] = U[[row_i_for_permutation, c]] # swap(c, row_i_for_permutation)\n",
    "    P[[c, row_i_for_permutation]] = P[[row_i_for_permutation, c]] # aqui a matriz de Pivotamento altera\n",
    "\n",
    "P,L,U"
   ]
  },
  {
   "cell_type": "code",
   "execution_count": 9,
   "id": "distinct-heath",
   "metadata": {},
   "outputs": [
    {
     "name": "stdout",
     "output_type": "stream",
     "text": [
      "U[l] - (U[l, c] / U[c, c]) * U[c]\n",
      "U[2] - (U[2, 1] / U[1, 1]) * U[1]\n",
      "[0.         1.33333333 0.33333333] - (1.3333333333333333 / 1.6666666666666667) * [ 0.          1.66666667 -0.33333333]\n",
      "[0.         1.33333333 0.33333333] - 0.8 * [ 0.          1.66666667 -0.33333333]\n",
      "[0.         1.33333333 0.33333333] - [ 0.          1.33333333 -0.26666667]\n",
      "[0.  0.  0.6]\n"
     ]
    },
    {
     "data": {
      "text/plain": [
       "(array([[0., 0., 1.],\n",
       "        [0., 1., 0.],\n",
       "        [1., 0., 0.]]),\n",
       " array([[1.        , 0.        , 0.        ],\n",
       "        [0.66666667, 1.        , 0.        ],\n",
       "        [0.33333333, 0.8       , 1.        ]]),\n",
       " array([[ 3.        , -1.        , -1.        ],\n",
       "        [ 0.        ,  1.66666667, -0.33333333],\n",
       "        [ 0.        ,  0.        ,  0.6       ]], dtype=float128))"
      ]
     },
     "execution_count": 9,
     "metadata": {},
     "output_type": "execute_result"
    }
   ],
   "source": [
    "l = 2\n",
    "line,div,col = U[l],U[l,c]/U[c,c],U[c]\n",
    "print(\"U[l] - (U[l, c] / U[c, c]) * U[c]\")\n",
    "print(\"U[{}] - (U[{}, {}] / U[{}, {}]) * U[{}]\".format(l,l,c,c,c,c))\n",
    "print(\"{} - ({} / {}) * {}\".format(line, U[l, c], U[c, c], col))\n",
    "print(\"{} - {} * {}\".format(line, div, col))\n",
    "print(\"{} - {}\".format(line, div * col))\n",
    "print(\"{}\".format(line - div * col))\n",
    "L[l, c] = (U[l, c] / U[c, c]) # (1)\n",
    "U[l] = U[l] - U[l, c] * U[c] / U[c, c]\n",
    "\n",
    "P,L,U"
   ]
  }
 ],
 "metadata": {
  "kernelspec": {
   "display_name": "Python 3",
   "language": "python",
   "name": "python3"
  },
  "language_info": {
   "codemirror_mode": {
    "name": "ipython",
    "version": 3
   },
   "file_extension": ".py",
   "mimetype": "text/x-python",
   "name": "python",
   "nbconvert_exporter": "python",
   "pygments_lexer": "ipython3",
   "version": "3.8.5"
  }
 },
 "nbformat": 4,
 "nbformat_minor": 5
}
