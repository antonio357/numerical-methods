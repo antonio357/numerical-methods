{
 "cells": [
  {
   "cell_type": "code",
   "execution_count": 1,
   "id": "african-dietary",
   "metadata": {},
   "outputs": [],
   "source": [
    "import numpy as np\n",
    "import scipy.linalg as sla"
   ]
  },
  {
   "cell_type": "code",
   "execution_count": 2,
   "id": "favorite-reproduction",
   "metadata": {},
   "outputs": [],
   "source": [
    "def decomLU(A):\n",
    "    # com todos os números convertidos em double, se não converter pra double a divisão em (1) será truncada gerando bug\n",
    "    U = np.array(A, dtype=np.float128) \n",
    "    n = U.shape[0]\n",
    "    L = np.identity(n)\n",
    "    P = np.identity(n)\n",
    "    \n",
    "    # decomposição (escalonamento)\n",
    "    for c in range(n-1):\n",
    "        # pivotamento parcial \n",
    "        row_i_for_permutation = np.abs(U[c:, c]).argmax() + c\n",
    "        if np.abs(U[row_i_for_permutation, c]) > np.abs(U[c, c]):\n",
    "            U[[c, row_i_for_permutation]] = U[[row_i_for_permutation, c]] # swap(c, row_i_for_permutation)\n",
    "            P[[c, row_i_for_permutation]] = P[[row_i_for_permutation, c]] # aqui a matriz de Pivotamento altera\n",
    "        # pivotamento parcial\n",
    "        for l in range(c+1, n):\n",
    "            \"\"\"print(P)\n",
    "            print(L)\n",
    "            print(U)\n",
    "            line,div,col = U[l],U[l,c]/U[c,c],U[c]\n",
    "            print(\"U[l] - (U[l, c] / U[c, c]) * U[c]\")\n",
    "            print(\"U[{}] - (U[{}, {}] / U[{}, {}]) * U[{}]\".format(l,l,c,c,c,c))\n",
    "            print(\"{} - ({} / {}) * {}\".format(line, U[l, c], U[c, c], col))\n",
    "            print(\"{} - {} * {}\".format(line, div, col))\n",
    "            print(\"{} - {}\".format(line, div * col))\n",
    "            print(\"{}\".format(line - div * col))\"\"\"\n",
    "            if not ((U[l, c] / U[c, c]) == np.nan):\n",
    "                L[l, c] = (U[l, c] / U[c, c]) # (1)\n",
    "                U[l] = U[l] - L[l, c] * U[c] \n",
    "    # decomposição (escalonamento)\n",
    "    return P,L,U"
   ]
  },
  {
   "cell_type": "markdown",
   "id": "joined-mortality",
   "metadata": {},
   "source": [
    "a)  \n",
    "x1 + x2 + x3 = 1  \n",
    "4x1 + 4x2 + 2x3 = 2  \n",
    "2x1 + x2 − x3 = 0"
   ]
  },
  {
   "cell_type": "code",
   "execution_count": 3,
   "id": "antique-encyclopedia",
   "metadata": {},
   "outputs": [],
   "source": [
    "A = np.array([[1,1,1], [4,4,2], [2,2,-1]])\n",
    "b = np.array([1,2,0])"
   ]
  },
  {
   "cell_type": "code",
   "execution_count": 4,
   "id": "inappropriate-tampa",
   "metadata": {},
   "outputs": [
    {
     "name": "stderr",
     "output_type": "stream",
     "text": [
      "<ipython-input-4-7cb830414efb>:2: LinAlgWarning: Diagonal number 2 is exactly zero. Singular matrix.\n",
      "  LU, piv = sla.lu_factor(A)\n"
     ]
    },
    {
     "data": {
      "text/plain": [
       "array([-inf,  inf,  0.5])"
      ]
     },
     "execution_count": 4,
     "metadata": {},
     "output_type": "execute_result"
    }
   ],
   "source": [
    "# resposta esperada\n",
    "LU, piv = sla.lu_factor(A)\n",
    "x = sla.lu_solve((LU,piv),b)\n",
    "x"
   ]
  },
  {
   "cell_type": "code",
   "execution_count": 5,
   "id": "outstanding-helena",
   "metadata": {},
   "outputs": [
    {
     "data": {
      "text/plain": [
       "(array([[0., 1., 0.],\n",
       "        [1., 0., 0.],\n",
       "        [0., 0., 1.]]),\n",
       " array([[1.  , 0.  , 0.  ],\n",
       "        [0.25, 1.  , 0.  ],\n",
       "        [0.5 , 0.  , 1.  ]]),\n",
       " array([[ 4. ,  4. ,  2. ],\n",
       "        [ 0. ,  0. ,  0.5],\n",
       "        [ 0. ,  0. , -2. ]]))"
      ]
     },
     "execution_count": 5,
     "metadata": {},
     "output_type": "execute_result"
    }
   ],
   "source": [
    "sla.lu(A) # P,L,U"
   ]
  },
  {
   "cell_type": "code",
   "execution_count": 6,
   "id": "banner-appliance",
   "metadata": {},
   "outputs": [
    {
     "name": "stderr",
     "output_type": "stream",
     "text": [
      "<ipython-input-2-93580eaa39a8>:27: RuntimeWarning: invalid value encountered in longdouble_scalars\n",
      "  if (not (U[l, c] / U[c, c]) == np.nan):\n",
      "<ipython-input-2-93580eaa39a8>:28: RuntimeWarning: invalid value encountered in longdouble_scalars\n",
      "  L[l, c] = (U[l, c] / U[c, c]) # (1)\n"
     ]
    },
    {
     "data": {
      "text/plain": [
       "(array([[0., 1., 0.],\n",
       "        [1., 0., 0.],\n",
       "        [0., 0., 1.]]),\n",
       " array([[1.  , 0.  , 0.  ],\n",
       "        [0.25, 1.  , 0.  ],\n",
       "        [0.5 ,  nan, 1.  ]]),\n",
       " array([[4. , 4. , 2. ],\n",
       "        [0. , 0. , 0.5],\n",
       "        [nan, nan, nan]], dtype=float128))"
      ]
     },
     "execution_count": 6,
     "metadata": {},
     "output_type": "execute_result"
    }
   ],
   "source": [
    "decomLU(A) # P,L,U"
   ]
  },
  {
   "cell_type": "markdown",
   "id": "descending-bishop",
   "metadata": {},
   "source": [
    "b)  \n",
    "7x1 − 7x2 + x3 = 1  \n",
    "−3x1 + 3x2 + 2x3 = 2  \n",
    "7x1 + 7x2 − 72x3 = 7"
   ]
  },
  {
   "cell_type": "code",
   "execution_count": 7,
   "id": "federal-shift",
   "metadata": {},
   "outputs": [],
   "source": [
    "A = np.array([[7,-7,1], [-3,3,2], [7,7,-72]])\n",
    "b = np.array([1,2,7])"
   ]
  },
  {
   "cell_type": "code",
   "execution_count": 8,
   "id": "modified-carroll",
   "metadata": {},
   "outputs": [
    {
     "data": {
      "text/plain": [
       "(array([[1., 0., 0.],\n",
       "        [0., 0., 1.],\n",
       "        [0., 1., 0.]]),\n",
       " array([[ 1.        ,  0.        ,  0.        ],\n",
       "        [ 1.        ,  1.        ,  0.        ],\n",
       "        [-0.42857143,  0.        ,  1.        ]]),\n",
       " array([[  7.        ,  -7.        ,   1.        ],\n",
       "        [  0.        ,  14.        , -73.        ],\n",
       "        [  0.        ,   0.        ,   2.42857143]]))"
      ]
     },
     "execution_count": 8,
     "metadata": {},
     "output_type": "execute_result"
    }
   ],
   "source": [
    "sla.lu(A) # P,L,U"
   ]
  },
  {
   "cell_type": "code",
   "execution_count": 9,
   "id": "informed-carbon",
   "metadata": {},
   "outputs": [
    {
     "data": {
      "text/plain": [
       "(array([[1., 0., 0.],\n",
       "        [0., 0., 1.],\n",
       "        [0., 1., 0.]]),\n",
       " array([[ 1.00000000e+00,  0.00000000e+00,  0.00000000e+00],\n",
       "        [-4.28571429e-01,  1.00000000e+00,  0.00000000e+00],\n",
       "        [ 1.00000000e+00,  1.18952467e-17,  1.00000000e+00]]),\n",
       " array([[ 7.00000000e+00, -7.00000000e+00,  1.00000000e+00],\n",
       "        [ 0.00000000e+00,  1.40000000e+01, -7.30000000e+01],\n",
       "        [-1.66533454e-16,  9.24446373e-33,  2.42857143e+00]],\n",
       "       dtype=float128))"
      ]
     },
     "execution_count": 9,
     "metadata": {},
     "output_type": "execute_result"
    }
   ],
   "source": [
    "decomLU(A) # P,L,U"
   ]
  },
  {
   "cell_type": "markdown",
   "id": "alert-sense",
   "metadata": {},
   "source": [
    "c)  \n",
    "x 1 + 2x2 + 3x 3 + 4x 4 = 20  \n",
    "2x 1 + 2x2 + 3x 3 + 4x 4 = 22  \n",
    "3x 1 + 3x2 + 3x 3 + 4x 4 = 22  \n",
    "4x 1 + 4x2 + 4x 3 + 4x 4 = 24"
   ]
  }
 ],
 "metadata": {
  "kernelspec": {
   "display_name": "Python 3",
   "language": "python",
   "name": "python3"
  },
  "language_info": {
   "codemirror_mode": {
    "name": "ipython",
    "version": 3
   },
   "file_extension": ".py",
   "mimetype": "text/x-python",
   "name": "python",
   "nbconvert_exporter": "python",
   "pygments_lexer": "ipython3",
   "version": "3.8.5"
  }
 },
 "nbformat": 4,
 "nbformat_minor": 5
}
