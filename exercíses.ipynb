{
 "cells": [
  {
   "cell_type": "code",
   "execution_count": 1,
   "id": "public-scholarship",
   "metadata": {},
   "outputs": [],
   "source": [
    "import numpy as np\n",
    "from math import sqrt"
   ]
  },
  {
   "cell_type": "markdown",
   "id": "ideal-wells",
   "metadata": {},
   "source": [
    "- Exercício 1.1"
   ]
  },
  {
   "cell_type": "code",
   "execution_count": 2,
   "id": "super-tunisia",
   "metadata": {},
   "outputs": [],
   "source": [
    "def raiz_div_e_med(a, inte=10): \n",
    "    # estimando um valor valor próxim para raiz quadrada de 'a'\n",
    "    raiz = np.float64(a)\n",
    "    \n",
    "    for i in range(inte):\n",
    "        raiz = (raiz + a/raiz) / 2.0\n",
    "        \n",
    "    return raiz\n",
    "\n",
    "def err_rel(num , apro_num):\n",
    "    erro = np.absolute(num - apro_num) / np.absolute(num)\n",
    "    erro_porcent = erro / 100\n",
    "    return (erro, erro_porcent)"
   ]
  },
  {
   "cell_type": "code",
   "execution_count": 3,
   "id": "adult-roller",
   "metadata": {},
   "outputs": [
    {
     "data": {
      "text/plain": [
       "[10, 20, 30, 40, 50, 60, 70, 80, 90, 100]"
      ]
     },
     "execution_count": 3,
     "metadata": {},
     "output_type": "execute_result"
    }
   ],
   "source": [
    "lis = [x for x in range(10, 110, 10)]\n",
    "lis"
   ]
  },
  {
   "cell_type": "code",
   "execution_count": 4,
   "id": "compatible-mission",
   "metadata": {},
   "outputs": [
    {
     "name": "stdout",
     "output_type": "stream",
     "text": [
      "raiz = 10 ; aproximação = 10.0 ; erro relativo = ( 0.0 , 0.0 % )\n",
      "raiz = 20 ; aproximação = 20.0 ; erro relativo = ( 0.0 , 0.0 % )\n",
      "raiz = 30 ; aproximação = 30.0 ; erro relativo = ( 0.0 , 0.0 % )\n",
      "raiz = 40 ; aproximação = 40.0 ; erro relativo = ( 0.0 , 0.0 % )\n",
      "raiz = 50 ; aproximação = 50.0 ; erro relativo = ( 0.0 , 0.0 % )\n",
      "raiz = 60 ; aproximação = 60.000000000000185 ; erro relativo = ( 3.079018521627101e-15 , 3.0790185216271007e-17 % )\n",
      "raiz = 70 ; aproximação = 70.00000000002748 ; erro relativo = ( 3.9262561456000966e-13 , 3.926256145600097e-15 % )\n",
      "raiz = 80 ; aproximação = 80.00000000121787 ; erro relativo = ( 1.5223378113660146e-11 , 1.5223378113660147e-13 % )\n",
      "raiz = 90 ; aproximação = 90.00000002356424 ; erro relativo = ( 2.6182489263091054e-10 , 2.6182489263091053e-12 % )\n",
      "raiz = 100 ; aproximação = 100.00000025490743 ; erro relativo = ( 2.549074338276114e-09 , 2.549074338276114e-11 % )\n"
     ]
    }
   ],
   "source": [
    "for i in lis:\n",
    "    apro_num = raiz_div_e_med(i**2)\n",
    "    erro_rel = err_rel(i, apro_num)\n",
    "    \n",
    "    print(\"raiz =\", i, \"; aproximação =\", apro_num, \"; erro relativo = (\", erro_rel[0], \",\", erro_rel[1], \"% )\")"
   ]
  },
  {
   "cell_type": "markdown",
   "id": "smoking-penny",
   "metadata": {},
   "source": [
    " - Exercício 1.2"
   ]
  },
  {
   "cell_type": "code",
   "execution_count": 5,
   "id": "royal-python",
   "metadata": {},
   "outputs": [],
   "source": [
    "def eps_mac():\n",
    "    e = np.float64(1) # Passo 1\n",
    "    while True: # Passo 4\n",
    "        if 1 + e <= 1: # Passo 2\n",
    "            break\n",
    "        e = e / 2 # Passo 3\n",
    "    e = 2 * e # Passo 5\n",
    "    return e"
   ]
  },
  {
   "cell_type": "code",
   "execution_count": 6,
   "id": "inner-earth",
   "metadata": {},
   "outputs": [
    {
     "name": "stdout",
     "output_type": "stream",
     "text": [
      "numpy eps = 2.220446049250313e-16\n",
      "implementação = 2.220446049250313e-16\n"
     ]
    },
    {
     "data": {
      "text/plain": [
       "True"
      ]
     },
     "execution_count": 6,
     "metadata": {},
     "output_type": "execute_result"
    }
   ],
   "source": [
    "print(\"numpy eps =\", np.finfo(np.float64).eps)\n",
    "print(\"implementação =\", eps_mac())\n",
    "np.finfo(np.float64).eps == eps_mac()"
   ]
  },
  {
   "cell_type": "markdown",
   "id": "motivated-carter",
   "metadata": {},
   "source": [
    "- Exercício 1.3"
   ]
  },
  {
   "cell_type": "code",
   "execution_count": null,
   "id": "clear-invention",
   "metadata": {},
   "outputs": [],
   "source": []
  },
  {
   "cell_type": "markdown",
   "id": "republican-problem",
   "metadata": {},
   "source": [
    "- Exercício 1.4"
   ]
  },
  {
   "cell_type": "code",
   "execution_count": 7,
   "id": "requested-mustang",
   "metadata": {},
   "outputs": [],
   "source": [
    "def expr1(u_arr):\n",
    "    ums = np.array([1 for x in range(len(u_arr))])\n",
    "    return (np.exp(ums/u_arr)) / (ums + (np.exp(ums/u_arr)))\n",
    "\n",
    "def expr2(u_arr):\n",
    "    ums = np.array([1 for x in range(len(u_arr))])\n",
    "    menos_ums = np.array([-1 for x in range(len(u_arr))])\n",
    "    return ums / ((np.exp(menos_ums/u_arr)) + ums)"
   ]
  },
  {
   "cell_type": "code",
   "execution_count": 8,
   "id": "detailed-collar",
   "metadata": {},
   "outputs": [
    {
     "data": {
      "text/plain": [
       "array([1.e-01, 1.e-02, 1.e-03, 1.e-04], dtype=float128)"
      ]
     },
     "execution_count": 8,
     "metadata": {},
     "output_type": "execute_result"
    }
   ],
   "source": [
    "lis2 = [1 * 10**-x for x in range(1, 5)]\n",
    "lis2 = np.array(lis2, dtype=np.float128)\n",
    "lis2"
   ]
  },
  {
   "cell_type": "code",
   "execution_count": 9,
   "id": "above-auditor",
   "metadata": {},
   "outputs": [
    {
     "name": "stdout",
     "output_type": "stream",
     "text": [
      "[0.9999546 1.        1.        1.       ]\n",
      "[0.9999546 1.        1.        1.       ]\n"
     ]
    }
   ],
   "source": [
    "expr1_arr = expr1(lis2)\n",
    "expr2_arr = expr2(lis2)\n",
    "print(expr1_arr)\n",
    "print(expr2_arr)"
   ]
  },
  {
   "cell_type": "code",
   "execution_count": 10,
   "id": "stopped-killing",
   "metadata": {},
   "outputs": [
    {
     "name": "stdout",
     "output_type": "stream",
     "text": [
      "u = 0.10000000000000000555 ; expr1 = 0.9999546021312975656 ; expr2 = 0.99995460213129756555\n",
      "u = 0.010000000000000000208 ; expr1 = 1.0 ; expr2 = 1.0\n",
      "u = 0.0010000000000000000208 ; expr1 = 1.0 ; expr2 = 1.0\n",
      "u = 0.00010000000000000000479 ; expr1 = 1.0 ; expr2 = 1.0\n"
     ]
    },
    {
     "data": {
      "text/plain": [
       "array([1.e-01, 1.e-02, 1.e-03, 1.e-04], dtype=float128)"
      ]
     },
     "execution_count": 10,
     "metadata": {},
     "output_type": "execute_result"
    }
   ],
   "source": [
    "for i in range(len(lis2)):\n",
    "    print(\"u =\", lis2[i], \"; expr1 =\", expr1_arr[i], \"; expr2 =\", expr2_arr[i])\n",
    "lis2"
   ]
  },
  {
   "cell_type": "markdown",
   "id": "square-transformation",
   "metadata": {},
   "source": [
    "- Exercício 1.5"
   ]
  },
  {
   "cell_type": "code",
   "execution_count": 11,
   "id": "useful-spirit",
   "metadata": {},
   "outputs": [],
   "source": [
    "def f(x):\n",
    "    print(\"(1 + x) =\", (1 + x))\n",
    "    print(\"((1 + x) - 1) =\", ((1 + x) - 1))\n",
    "    return ((1 + x) - 1) / x"
   ]
  },
  {
   "cell_type": "code",
   "execution_count": 12,
   "id": "sharp-margin",
   "metadata": {},
   "outputs": [
    {
     "name": "stdout",
     "output_type": "stream",
     "text": [
      "para precisão de float128\n",
      "(1 + x) = 1.000000000001\n",
      "((1 + x) - 1) = 9.9999999600419720025e-13\n",
      "para x = 9.999999999999999799e-13 ; computacionalment f(x) = 0.99999999600419722036\n",
      "(1 + x) = 1.000000000000001\n",
      "((1 + x) - 1) = 9.999596636833807395e-16\n",
      "para x = 1.0000000000000000777e-15 ; computacionalment f(x) = 0.9999596636833806618\n",
      "(1 + x) = 1.00000000000000001\n",
      "((1 + x) - 1) = 9.974659986866640793e-18\n",
      "para x = 1.00000000000000007154e-17 ; computacionalment f(x) = 0.99746599868666400795\n",
      "\n",
      "para precisão de float64\n",
      "(1 + x) = 1.000000000001\n",
      "((1 + x) - 1) = 1.000088900582341e-12\n",
      "para x = 1e-12 ; computacionalment f(x) = 1.000088900582341\n",
      "(1 + x) = 1.000000000000001\n",
      "((1 + x) - 1) = 1.1102230246251565e-15\n",
      "para x = 1e-15 ; computacionalment f(x) = 1.1102230246251565\n",
      "(1 + x) = 1.0\n",
      "((1 + x) - 1) = 0.0\n",
      "para x = 1e-17 ; computacionalment f(x) = 0.0\n"
     ]
    }
   ],
   "source": [
    "x_values = [10**-12, 10**-15, 10**-17]\n",
    "\n",
    "x_values = [np.float128(x) for x in x_values]\n",
    "print(\"para precisão de float128\")\n",
    "for x in x_values:\n",
    "    print(\"para x =\", x, \"; computacionalment f(x) =\",f(x))\n",
    "\n",
    "print()\n",
    "x_values = [np.float64(x) for x in x_values]\n",
    "print(\"para precisão de float64\")\n",
    "for x in x_values:\n",
    "    print(\"para x =\", x, \"; computacionalment f(x) =\",f(x))"
   ]
  },
  {
   "cell_type": "raw",
   "id": "surgical-activation",
   "metadata": {},
   "source": [
    "EXPLICAÇÃO:\n",
    "\n",
    "Analiticamente:\n",
    "O valor é sempre 1\n",
    "\n",
    "Forma computacional:\n",
    "Em \"(1 + x)\", devido o x ser muito pequeno, será preciso de muitos bits para representar o resultado, como o computador limita a quantidade de bits utilizados pode haver uma aproximação nesse resultado, gerando erro no valor final.\n",
    "Em \"(1 + x) - 1\", havendo erro de aproximação devido \"(1 + x)\", pode haver novamente erro de aproximação ao subtrair - 1.\n",
    "Em \"(1 + x) - 1\", na subtração pode ocorrer cancelamento catastrófico, devido ao fato que os valores \"(x + 1)\" e - 1 poderam ser muito próximos"
   ]
  },
  {
   "cell_type": "code",
   "execution_count": null,
   "id": "frank-potter",
   "metadata": {},
   "outputs": [],
   "source": []
  },
  {
   "cell_type": "code",
   "execution_count": null,
   "id": "arabic-bible",
   "metadata": {},
   "outputs": [],
   "source": []
  }
 ],
 "metadata": {
  "kernelspec": {
   "display_name": "Python 3",
   "language": "python",
   "name": "python3"
  },
  "language_info": {
   "codemirror_mode": {
    "name": "ipython",
    "version": 3
   },
   "file_extension": ".py",
   "mimetype": "text/x-python",
   "name": "python",
   "nbconvert_exporter": "python",
   "pygments_lexer": "ipython3",
   "version": "3.8.5"
  }
 },
 "nbformat": 4,
 "nbformat_minor": 5
}
