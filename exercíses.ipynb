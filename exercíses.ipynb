{
 "cells": [
  {
   "cell_type": "code",
   "execution_count": 1,
   "id": "humanitarian-shannon",
   "metadata": {},
   "outputs": [],
   "source": [
    "import numpy as np\n",
    "from math import sqrt"
   ]
  },
  {
   "cell_type": "markdown",
   "id": "smaller-circus",
   "metadata": {},
   "source": [
    "- Exercício 1.1"
   ]
  },
  {
   "cell_type": "code",
   "execution_count": 2,
   "id": "aquatic-daily",
   "metadata": {},
   "outputs": [],
   "source": [
    "def raiz_div_e_med(a, inte=10): \n",
    "    # estimando um valor valor próxim para raiz quadrada de 'a'\n",
    "    raiz = np.float64(a)\n",
    "    \n",
    "    for i in range(inte):\n",
    "        raiz = (raiz + a/raiz) / 2.0\n",
    "        \n",
    "    return raiz\n",
    "\n",
    "def err_rel(num , apro_num):\n",
    "    erro = np.absolute(num - apro_num) / np.absolute(num)\n",
    "    erro_porcent = erro / 100\n",
    "    return (erro, erro_porcent)"
   ]
  },
  {
   "cell_type": "code",
   "execution_count": 3,
   "id": "interior-westminster",
   "metadata": {},
   "outputs": [
    {
     "name": "stdout",
     "output_type": "stream",
     "text": [
      "raiz = 10 ; aproximação = 10.0 ; erro relativo = ( 0.0 , 0.0 % )\n",
      "raiz = 20 ; aproximação = 20.0 ; erro relativo = ( 0.0 , 0.0 % )\n",
      "raiz = 30 ; aproximação = 30.0 ; erro relativo = ( 0.0 , 0.0 % )\n",
      "raiz = 40 ; aproximação = 40.0 ; erro relativo = ( 0.0 , 0.0 % )\n",
      "raiz = 50 ; aproximação = 50.0 ; erro relativo = ( 0.0 , 0.0 % )\n",
      "raiz = 60 ; aproximação = 60.000000000000185 ; erro relativo = ( 3.079018521627101e-15 , 3.0790185216271007e-17 % )\n",
      "raiz = 70 ; aproximação = 70.00000000002748 ; erro relativo = ( 3.9262561456000966e-13 , 3.926256145600097e-15 % )\n",
      "raiz = 80 ; aproximação = 80.00000000121787 ; erro relativo = ( 1.5223378113660146e-11 , 1.5223378113660147e-13 % )\n",
      "raiz = 90 ; aproximação = 90.00000002356424 ; erro relativo = ( 2.6182489263091054e-10 , 2.6182489263091053e-12 % )\n",
      "raiz = 100 ; aproximação = 100.00000025490743 ; erro relativo = ( 2.549074338276114e-09 , 2.549074338276114e-11 % )\n"
     ]
    }
   ],
   "source": [
    "lis = [x for x in range(10, 110, 10)]\n",
    "for i in lis:\n",
    "    apro_num = raiz_div_e_med(i**2)\n",
    "    erro_rel = err_rel(i, raiz_div_e_med(i**2))\n",
    "    print(\"raiz =\", i, \"; aproximação =\", apro_num, \"; erro relativo = (\", erro_rel[0], \",\", erro_rel[1], \"% )\")"
   ]
  },
  {
   "cell_type": "markdown",
   "id": "medical-suggestion",
   "metadata": {},
   "source": [
    " - Exercício 1.2"
   ]
  },
  {
   "cell_type": "code",
   "execution_count": 4,
   "id": "dried-retrieval",
   "metadata": {},
   "outputs": [],
   "source": [
    "def eps_mac():\n",
    "    e = np.float64(1) # Passo 1\n",
    "    while True: # Passo 4\n",
    "        if 1 + e <= 1: # Passo 2\n",
    "            break\n",
    "        e = e / 2 # Passo 3\n",
    "    e = 2 * e # Passo 5\n",
    "    return e"
   ]
  },
  {
   "cell_type": "code",
   "execution_count": 5,
   "id": "authorized-testimony",
   "metadata": {},
   "outputs": [
    {
     "name": "stdout",
     "output_type": "stream",
     "text": [
      "2.220446049250313e-16\n",
      "2.220446049250313e-16\n"
     ]
    },
    {
     "data": {
      "text/plain": [
       "True"
      ]
     },
     "execution_count": 5,
     "metadata": {},
     "output_type": "execute_result"
    }
   ],
   "source": [
    "print(np.finfo(np.float64).eps) # épsilon da máquina, numpy\n",
    "print(eps_mac()) # épsilon da máquina, implementação\n",
    "np.finfo(np.float64).eps == eps_mac()"
   ]
  },
  {
   "cell_type": "markdown",
   "id": "daily-guest",
   "metadata": {},
   "source": [
    "- Exercício 1.3"
   ]
  },
  {
   "cell_type": "markdown",
   "id": "august-invalid",
   "metadata": {},
   "source": [
    "- Exercício 1.4"
   ]
  },
  {
   "cell_type": "code",
   "execution_count": 6,
   "id": "unlimited-province",
   "metadata": {},
   "outputs": [],
   "source": [
    "def expr1(u):\n",
    "    if not u > 0: return -1 \n",
    "    return () / ()\n",
    "def expr2(u):\n",
    "    if not u > 0: return -1 "
   ]
  },
  {
   "cell_type": "code",
   "execution_count": null,
   "id": "every-offer",
   "metadata": {},
   "outputs": [],
   "source": []
  },
  {
   "cell_type": "code",
   "execution_count": null,
   "id": "surgical-damage",
   "metadata": {},
   "outputs": [],
   "source": []
  },
  {
   "cell_type": "code",
   "execution_count": null,
   "id": "liquid-thanksgiving",
   "metadata": {},
   "outputs": [],
   "source": []
  }
 ],
 "metadata": {
  "kernelspec": {
   "display_name": "Python 3",
   "language": "python",
   "name": "python3"
  },
  "language_info": {
   "codemirror_mode": {
    "name": "ipython",
    "version": 3
   },
   "file_extension": ".py",
   "mimetype": "text/x-python",
   "name": "python",
   "nbconvert_exporter": "python",
   "pygments_lexer": "ipython3",
   "version": "3.8.5"
  }
 },
 "nbformat": 4,
 "nbformat_minor": 5
}
