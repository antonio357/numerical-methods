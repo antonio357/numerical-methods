{
 "cells": [
  {
   "cell_type": "markdown",
   "metadata": {
    "id": "VmW567pSRkE0"
   },
   "source": [
    "# <center>__MÉTODOS NUMÉRICOS__</center>\n",
    "## <center>__PROJETO DA UNIDADE 2__</center>\n",
    "\n",
    "#### <center>__ALUNO: Antonio Carlos Albuquerque Alves__</center>"
   ]
  },
  {
   "cell_type": "markdown",
   "metadata": {
    "id": "TFtI0N-iRkE6"
   },
   "source": [
    "<div class=\"alert alert-block alert-info\">\n",
    "1. INTRODUÇÃO\n",
    "</div>"
   ]
  },
  {
   "cell_type": "markdown",
   "metadata": {
    "id": "4c_s3ibMSBAY"
   },
   "source": [
    "## Nessa seção você deverá fazer uma introdução sobre o tema de seu projeto, apresentando as características das técnicas trabalhadas durante o trabalho."
   ]
  },
  {
   "cell_type": "markdown",
   "metadata": {
    "id": "WwjA2dIRYwmj"
   },
   "source": [
    "Neste notebook será trabalhado como se utilizar regressão linear para prever dados da saúde, começando pelo o que é regressão linear, em seguida sua aplicabilidade na previsão de dados, como resolvela pelo método dos mínimos quadrados, e 4 possíveis abordagens para mínimos quadrados sendo estas:  \n",
    "a solução ingênua, fatoração cholesky, fatoração QR e decomposição SVD. "
   ]
  },
  {
   "cell_type": "markdown",
   "metadata": {
    "id": "DBxX1v3RRkE_"
   },
   "source": [
    "<div class=\"alert alert-block alert-info\">\n",
    "2. DESCRIÇÃO DO PROBLEMA\n",
    "</div>"
   ]
  },
  {
   "cell_type": "markdown",
   "metadata": {
    "id": "VGqcyuyuRkFB"
   },
   "source": [
    "## Nessa seção você descreverá o problema que será atacado, com o máximo de precisão possível. Tente apresentar as características do problema, bem como as aplicações associadas a ele."
   ]
  },
  {
   "cell_type": "markdown",
   "metadata": {
    "id": "XoLEaskKD3QH"
   },
   "source": [
    "Seja um conjunto dados de relação x, y, que apresentem linearidade:"
   ]
  },
  {
   "cell_type": "markdown",
   "metadata": {
    "id": "PhhVcXZVE8Fk"
   },
   "source": [
    "<img src=\"https://github.com/antonio357/numerical-methods/blob/main/project%202/imgs/dados_dispersos.png?raw=true\" alt=\"dados_dispersos.png\" width=\"1000\" height=\"400\"/>"
   ]
  },
  {
   "cell_type": "markdown",
   "metadata": {
    "id": "7SVTwspLFAmO"
   },
   "source": [
    "Deseja-se encontrar uma equação, reta ou modelo linear que represente o comportamento desses dados disperssos, a fim de que se possa fazer predições sobre dados diferentes e semelhantes aos que estão no conjunto de dados original."
   ]
  },
  {
   "cell_type": "markdown",
   "metadata": {
    "id": "w3e3qVzO12cu"
   },
   "source": [
    "<img src=\"https://github.com/antonio357/numerical-methods/blob/main/project%202/imgs/reta.png?raw=true\" alt=\"reta.png\" width=\"1000\" height=\"400\"/>"
   ]
  },
  {
   "cell_type": "markdown",
   "metadata": {
    "id": "-KhWFNwPdxjo"
   },
   "source": [
    "Regressão Linear é uma técnica matemática que visa encontrar a equação que fornece uma relação linear, ou seja, a equação da linha da reta entre duas variáveis, como uma função de primeiro grau do seguinte formato.  \n",
    "$$ y_i = \\beta_0 + \\beta_1x_i + \\epsilon_i $$  \n",
    "$y_i$ é a variável dependente, a qual se deseja realizar as predições  \n",
    "$x_i$ é a variável independente, que é a caracteristica observada que influencia na predição  \n",
    "$\\beta_0$ é o valor que intercepta $y$  \n",
    "$\\beta_i$ é o coeficiente de $x_i$ que determina o quanto $x_i$ vai influenciar na predição."
   ]
  },
  {
   "cell_type": "markdown",
   "metadata": {
    "id": "fwHriT41eJi5"
   },
   "source": [
    "$\\epsilon_i$ é o erro (diferença) entre cada valor de $y_i$ no Diagrama de Dispersão e o valor $\\hat{y}$ estimado pela reta de regressão linear, como demostrado abaixo."
   ]
  },
  {
   "cell_type": "markdown",
   "metadata": {
    "id": "pd90wXQfIetv"
   },
   "source": [
    "<img src=\"https://github.com/antonio357/numerical-methods/blob/main/project%202/imgs/reta_com_erro.png?raw=true\" alt=\"reta.png\" width=\"1000\" height=\"400\"/>"
   ]
  },
  {
   "cell_type": "markdown",
   "metadata": {
    "id": "HjsfRWzoI-lB"
   },
   "source": [
    "$\\epsilon_i$ chamado erro aleatório, captura os efeitos decorrentes de todas as variáveis que não foram incluídas no modelo."
   ]
  },
  {
   "cell_type": "markdown",
   "metadata": {
    "id": "9KS21ZjDHYSR"
   },
   "source": [
    "o modelo se torna probabilistico devido o erro aleatório da equação, por isso o que se faz na prática é encontrar apenas um estimação desse modelo linear:  \n",
    "$$ \\hat{y_i} = \\hat{\\beta_0} + \\hat{\\beta_1}x_i + \\epsilon_i $$  "
   ]
  },
  {
   "cell_type": "markdown",
   "metadata": {
    "id": "PeL39dWEMJAl"
   },
   "source": [
    "Na regressão linear símples representada pela equação acima em que só há uma variável independente, iremos encontrar uma estimação para os valores dos coeficientes $\\beta_0$ e $\\beta_1$. Dessa forma ao nos depararmos com novos valores $x_i$ semelhantes ao originais, poderemos utilizar nossas estimaçãos $\\hat{\\beta_0}$ e $\\hat{\\beta_1}$ para prever os valores estimados $\\hat{y_i}$"
   ]
  },
  {
   "cell_type": "markdown",
   "metadata": {
    "id": "FxEygq6lcXf1"
   },
   "source": [
    "Na equação acima pode se ter mais de uma variável independente $x_i$ cada uma com seu respectivo coeficiente $\\beta_i$.  \n",
    "gerando uma regressão linear multipla do seguinte formato:"
   ]
  },
  {
   "cell_type": "markdown",
   "metadata": {
    "id": "MJblg1vJa1dr"
   },
   "source": [
    "$$ y_i = \\hat{\\beta}_0 + \\hat{\\beta}_1x_{1i} + ... + \\hat{\\beta}_kx_{ki} + \\epsilon_i $$ em que há k > 1 variáveis independentes, onde iremos encontrar uma estimação para os valores dos k coeficientes $\\beta$. Dessa forma ao nos depararmos com novos k valores $x_i$ semelhantes aos originais, poderemos utilizar nossas k estimaçãos $\\hat{\\beta}$ para prever os valores estimados $\\hat{y_i}$"
   ]
  },
  {
   "cell_type": "markdown",
   "metadata": {
    "id": "yGrXbXCsTNzf"
   },
   "source": [
    "Podemos transforma a equação de regressão linear multipla para forma matricial:\n",
    "$$ y_i = \\beta_0 + \\beta_1x_{1i} + ... + \\beta_kx_{ki} + \\epsilon_i $$  "
   ]
  },
  {
   "cell_type": "markdown",
   "metadata": {
    "id": "M7bAru4Nm2mP"
   },
   "source": [
    "$$ y_1 = \\beta_0 + \\beta_1x_{11} + ... + \\beta_kx_{k} + \\epsilon_1 $$\n",
    "$$ y_2 = \\beta_0 + \\beta_1x_{12} + ... + \\beta_kx_{k2} + \\epsilon_2 $$\n",
    "$$\\vdots$$\n",
    "$$ y_n = \\beta_0 + \\beta_1x_{1n} + ... + \\beta_kx_{kn} + \\epsilon_n $$"
   ]
  },
  {
   "cell_type": "markdown",
   "metadata": {
    "id": "NYIqxw1Ke0ci"
   },
   "source": [
    "$$\n",
    "\\begin{bmatrix}\n",
    "y_1 \\\\ \n",
    "y_2 \\\\ \n",
    "\\vdots \\\\ \n",
    "y_n\n",
    "\\end{bmatrix}\n",
    " = \n",
    "\\begin{bmatrix} \n",
    "\\beta_0 + \\beta_1x_{11} + \\ldots + \\beta_kx_{k1} + \\epsilon_1\\\\ \n",
    "\\beta_0 + \\beta_1x_{12} + \\cdots + \\beta_kx_{k2} + \\epsilon_2\\\\ \n",
    "\\vdots \\\\\n",
    "\\beta_0 + \\beta_1x_{1n} + \\ldots + \\beta_kx_{kn} + \\epsilon_n\\\\ \n",
    "\\end{bmatrix}\n",
    "$$\n"
   ]
  },
  {
   "cell_type": "markdown",
   "metadata": {
    "id": "yrxz3x3RjZjl"
   },
   "source": [
    "$$\n",
    "\\begin{bmatrix}\n",
    "y_1 \\\\ \n",
    "y_2 \\\\ \n",
    "\\vdots \\\\ \n",
    "y_n\n",
    "\\end{bmatrix}\n",
    " = \n",
    "\\begin{bmatrix} \n",
    "\\beta_0 + \\beta_1x_{11} + \\ldots + \\beta_kx_{k1} \\\\ \n",
    "\\beta_0 + \\beta_1x_{12} + \\cdots + \\beta_kx_{k2} \\\\ \n",
    "\\vdots \\\\\n",
    "\\beta_0 + \\beta_1x_{1n} + \\ldots + \\beta_kx_{kn} \\\\ \n",
    "\\end{bmatrix}\n",
    " + \n",
    "\\begin{bmatrix}\n",
    "\\epsilon_1 \\\\ \n",
    "\\epsilon_2 \\\\ \n",
    "\\vdots \\\\ \n",
    "\\epsilon_n\n",
    "\\end{bmatrix}\n",
    "$$"
   ]
  },
  {
   "cell_type": "markdown",
   "metadata": {
    "id": "WaMvqigxjpbi"
   },
   "source": [
    "$$\n",
    "\\begin{bmatrix}\n",
    "y_1 \\\\ \n",
    "y_2 \\\\ \n",
    "\\vdots \\\\ \n",
    "y_n\n",
    "\\end{bmatrix}\n",
    " = \n",
    "\\begin{bmatrix} \n",
    "1 & x_{11} & \\ldots & x_{k1} \\\\ \n",
    "1 & x_{12} & \\cdots & x_{k2} \\\\ \n",
    "\\vdots & \\vdots & \\vdots & \\vdots\\\\\n",
    "1 & x_{1n} & \\ldots & x_{kn} \\\\ \n",
    "\\end{bmatrix}\n",
    " .\n",
    "\\begin{bmatrix}\n",
    "\\beta_0 \\\\ \n",
    "\\beta_1 \\\\ \n",
    "\\vdots \\\\ \n",
    "\\beta_k\n",
    "\\end{bmatrix}\n",
    " + \n",
    "\\begin{bmatrix}\n",
    "\\epsilon_1 \\\\ \n",
    "\\epsilon_2 \\\\ \n",
    "\\vdots \\\\ \n",
    "\\epsilon_n\n",
    "\\end{bmatrix}\n",
    "$$"
   ]
  },
  {
   "cell_type": "markdown",
   "metadata": {
    "id": "qsRivN_6lIc6"
   },
   "source": [
    "$$\n",
    "\\begin{bmatrix} Y \\end{bmatrix}_{(n,1)} = \\begin{matrix} [1|X] \\end{matrix}_{(n,k+1)} . \\begin{bmatrix} \\beta \\end{bmatrix}_{(n,1)} + \\begin{bmatrix} \\epsilon \\end{bmatrix}_{(n,1)}\n",
    "$$\n",
    "$$==$$\n",
    "$$\n",
    "\\begin{bmatrix} Y \\end{bmatrix}_{(n,1)} = \\begin{matrix} [X] \\end{matrix}_{(n,k+1)} . \\begin{bmatrix} \\beta \\end{bmatrix}_{(n,1)} + \\begin{bmatrix} \\epsilon \\end{bmatrix}_{(n,1)}\n",
    "$$\n",
    "$$==$$\n",
    "$$\n",
    "Y = X . \\beta + \\epsilon\n",
    "$$"
   ]
  },
  {
   "cell_type": "markdown",
   "metadata": {
    "id": "jkQRz0gI73nB"
   },
   "source": [
    "de tal forma que quando obtermos as estimativas $\\hat{\\beta}$, $Y = X . \\hat{\\beta}$ seram nossas predições."
   ]
  },
  {
   "cell_type": "markdown",
   "metadata": {
    "id": "sC_w-XvdRkFC"
   },
   "source": [
    "<div class=\"alert alert-block alert-info\">\n",
    "3. MÉTODOS APLICADOS À SOLUÇÃO\n",
    "</div>"
   ]
  },
  {
   "cell_type": "markdown",
   "metadata": {
    "id": "k3U6DgtDRkFD"
   },
   "source": [
    "## Nessa seção, você descreverá que métodos numéricos usará para solucionar o problema acima, explicando como esses métodos funcionam, para que tipos de problemas eles são úteis e, principalmente, porque são úteis para o problema descrito na seção anterior"
   ]
  },
  {
   "cell_type": "markdown",
   "metadata": {
    "id": "2fXAvji0rgqi"
   },
   "source": [
    "Para estimar os valores da matriz de coeficientes $\\begin{bmatrix} \\beta \\end{bmatrix}_{(n,1)}$ da equação matricial da regressão linear multipla matricial $Y = X . \\beta + \\epsilon$, utilizaremos o método dos mínimos quadrados.  \n"
   ]
  },
  {
   "cell_type": "markdown",
   "metadata": {
    "id": "NkNndKhXvq6p"
   },
   "source": [
    "Mínimos quadrados procura estimar os melhores valores $\\hat{\\beta}$ a fim de minimizar \n",
    "$$ \\sum_{i=1}^{n} (\\epsilon_i)^2 = \\epsilon_1^2 + ... + \\epsilon_n^2 $$"
   ]
  },
  {
   "cell_type": "markdown",
   "metadata": {
    "id": "5ZzepEaCF-Pb"
   },
   "source": [
    "### Solução Ingênua"
   ]
  },
  {
   "cell_type": "markdown",
   "metadata": {
    "id": "CCAGsrLY3EjF"
   },
   "source": [
    "Sendo $Y = X \\beta$ um sistema matricial super determinado  \n",
    "multiplicamos os dois lados da equação por $X^t$ obtemos o seguinte sistema de equações normais\n",
    "$$X^t Y = X^t X \\beta$$ \n",
    "isolando o $\\beta$ na equação temos\n",
    "$$ \\beta = (X^TX)^{-1}X^T Y $$\n",
    "onde $(X^TX)^{-1}X^T$ é a matriz chamada de pseudo inverssa de $X$"
   ]
  },
  {
   "cell_type": "markdown",
   "metadata": {
    "id": "hW8VGunY0QNP"
   },
   "source": [
    "Para minimizar isso $ \\sum_{i=1}^{n} (\\epsilon_i)^2 = \\epsilon_1^2 + ... + \\epsilon_n^2 $ existe a Solução Ingênua que estima os coeficientes $\\hat{\\beta}$ que minimizam:\n",
    "$$ \\big\\vert\\big\\vert X\\beta - Y \\big\\vert\\big\\vert_2$$"
   ]
  },
  {
   "cell_type": "markdown",
   "metadata": {
    "id": "Ekk87TNq0_hE"
   },
   "source": [
    "ou seja estamos interessados em onde o vetor $Y$ é mais aproximado do subespaço de todas as combinações lineares dos vetores coluna de $X$. Isto é a projeção de $Y$ em $X$. Já que $Y - X\\hat{\\beta}$ deve ser perpendicular ao subespaço de todas as combinações lineares dos vetores coluna de $X$."
   ]
  },
  {
   "cell_type": "markdown",
   "metadata": {
    "id": "FEU-SUsC26eU"
   },
   "source": [
    "Assim $$X^T (Y - X\\hat{\\beta}) = 0 $$ usa-se $X^T$ para multiplicar cada coluna de $X$ por $Y - X\\hat{\\beta}$)  \n",
    "que referência a *equação normal*:"
   ]
  },
  {
   "cell_type": "markdown",
   "metadata": {
    "id": "5l9UjT3v3pLV"
   },
   "source": [
    "$$ \\beta = (X^TX)^{-1}X^T Y $$  \n",
    "que é a equção de aproximação (otimização) dos mínimos quadrados, que serve para encontrar os melhores coeficientes $\\hat{\\beta}$ da reta de regressão linear."
   ]
  },
  {
   "cell_type": "markdown",
   "metadata": {
    "id": "lwjUWsnfBwal"
   },
   "source": [
    "### Cholesky"
   ]
  },
  {
   "cell_type": "markdown",
   "metadata": {
    "id": "H53YqraqB0CL"
   },
   "source": [
    "Dada as equações normais:\n",
    "$$X^t X \\beta = X^t Y$$\n",
    "Se $X$ tem todas a linhas e colunas linearmente independentes, a matriz pseudo inversa $(X^TX)^{-1}X^T$ é quadrada, hermidiana, simétrica e positiva-definida. A maneira padrão de se trabalhar com essa matrix é fatoração de Cholesky em $X^TX$, que encontra um matriz triangular superior $R$ de forma que.\n",
    "$$X^TX = R^TR$$\n"
   ]
  },
  {
   "cell_type": "markdown",
   "metadata": {
    "id": "jwhNkDUB61-G"
   },
   "source": [
    "Aplicando nas equações normais:\n",
    "$$R^t R \\beta = X^t Y$$\n",
    "que se resolve da seguinte maneira\n",
    "$$R^t W = X^t Y$$\n",
    "$$R \\beta = W$$"
   ]
  },
  {
   "cell_type": "markdown",
   "metadata": {
    "id": "GkiZh40ACNdV"
   },
   "source": [
    "### Decomposição QR"
   ]
  },
  {
   "cell_type": "markdown",
   "metadata": {
    "id": "YKyi4gSJL7RQ"
   },
   "source": [
    "Dada uma $X$ de colunas linearmente independentes, essa matriz pode ser decomposta da seguinte maneira:\n",
    "$$X = QR$$\n",
    "onde $R$ é uma matriz triangular superior e $Q$ é uma matriz ortogonal"
   ]
  },
  {
   "cell_type": "markdown",
   "metadata": {
    "id": "QSnLA3jMNw3i"
   },
   "source": [
    "dada a equação \n",
    "$$Y = X \\hat{\\beta}$$\n",
    "usando $X = QR$ \n",
    "$$Y = QR \\hat{\\beta}$$\n",
    "$$R \\hat{\\beta} = Q^T Y$$\n",
    "resolvendo o sistema obtemos as estimações dos $\\hat{\\beta}$"
   ]
  },
  {
   "cell_type": "markdown",
   "metadata": {
    "id": "Bihz4_PNLo7a"
   },
   "source": [
    "### Decomposição SVD"
   ]
  },
  {
   "cell_type": "markdown",
   "metadata": {
    "id": "jCeIqPhlLudU"
   },
   "source": [
    "dada a equação\n",
    "$$ X \\beta = Y $$\n",
    "a decomposição SVD\n",
    "$$ X = U \\Sigma V $$\n",
    "substituíndo na equação\n",
    "$$ \\Sigma V \\beta = U^T Y $$\n",
    "\n",
    "$$ \\Sigma W = U^T Y $$\n",
    "\n",
    "$$ \\hat{\\beta} = V^T W $$\n",
    "resolvendo o sistema obtemos as estimações dos $\\hat{\\beta}$"
   ]
  },
  {
   "cell_type": "markdown",
   "metadata": {
    "id": "vYz43GTgRkFE"
   },
   "source": [
    "<div class=\"alert alert-block alert-info\">\n",
    "4. IMPLEMENTAÇÃO\n",
    "</div>"
   ]
  },
  {
   "cell_type": "markdown",
   "metadata": {
    "id": "L_jrm5-KRkFF"
   },
   "source": [
    "## Aqui você irá  mostrar sua implementação para o problema considerado, explicando o que foi feito em cada passo e cada saída de cada trecho de código, sempre relacionando com a descrição do método mostrada acima."
   ]
  },
  {
   "cell_type": "code",
   "execution_count": 1,
   "metadata": {
    "executionInfo": {
     "elapsed": 910,
     "status": "ok",
     "timestamp": 1620588734187,
     "user": {
      "displayName": "Antonio Carlos Albuquerque Alves",
      "photoUrl": "https://lh3.googleusercontent.com/a-/AOh14GhLt99UWkin5jKyLcdgwXDcXFuhqk1um-zpjxo=s64",
      "userId": "03471409576794532986"
     },
     "user_tz": 180
    },
    "id": "qM8wRNb7f9lU"
   },
   "outputs": [],
   "source": [
    "from sklearn import datasets, linear_model, metrics\n",
    "from sklearn.model_selection import train_test_split\n",
    "import scipy as sp, numpy as np, math"
   ]
  },
  {
   "cell_type": "markdown",
   "metadata": {
    "id": "FflWCtYIJBp6"
   },
   "source": [
    "### medidas de erro"
   ]
  },
  {
   "cell_type": "code",
   "execution_count": 2,
   "metadata": {
    "executionInfo": {
     "elapsed": 1420,
     "status": "ok",
     "timestamp": 1620588734722,
     "user": {
      "displayName": "Antonio Carlos Albuquerque Alves",
      "photoUrl": "https://lh3.googleusercontent.com/a-/AOh14GhLt99UWkin5jKyLcdgwXDcXFuhqk1um-zpjxo=s64",
      "userId": "03471409576794532986"
     },
     "user_tz": 180
    },
    "id": "0LdC4GpI-24u"
   },
   "outputs": [],
   "source": [
    "def regr_metrics(act, pred):\n",
    "    return (math.sqrt(metrics.mean_squared_error(act, pred)), metrics.mean_absolute_error(act, pred))"
   ]
  },
  {
   "cell_type": "markdown",
   "metadata": {
    "id": "gfdGFwiWXSPY"
   },
   "source": [
    "medidas para avaliar o quão bom um certo modelo de regressão linear preve os valores. \n",
    "regr_metrics(act, pred)  \n",
    "act são os dados corretos esperados com a melhor aproximação  \n",
    "pred são os dados obtidos do nosso modelo linear  \n",
    "return (L2, L1) == (média dos quadrados dos erros, média dos módulos dos erros)  \n",
    "sendo n a quantidade de elementos em act e pred  \n",
    "$$L2 = \\frac{\\sum_{i=0}^{n - 1} (act_i - pred_i)^2}{n}$$\n",
    "$$L1 = \\frac{\\sum_{i=0}^{n - 1} abs(act_i - pred_i)}{n}$$  \n",
    "quanto melhor as predições do modelo de regressão linear, menor serão os erros (L2, L1)."
   ]
  },
  {
   "cell_type": "markdown",
   "metadata": {
    "id": "PrdEVpjgJXrT"
   },
   "source": [
    "### dados"
   ]
  },
  {
   "cell_type": "code",
   "execution_count": 3,
   "metadata": {
    "executionInfo": {
     "elapsed": 1405,
     "status": "ok",
     "timestamp": 1620588734723,
     "user": {
      "displayName": "Antonio Carlos Albuquerque Alves",
      "photoUrl": "https://lh3.googleusercontent.com/a-/AOh14GhLt99UWkin5jKyLcdgwXDcXFuhqk1um-zpjxo=s64",
      "userId": "03471409576794532986"
     },
     "user_tz": 180
    },
    "id": "0od63aoAh5p6"
   },
   "outputs": [],
   "source": [
    "data = datasets.load_diabetes()"
   ]
  },
  {
   "cell_type": "markdown",
   "metadata": {
    "id": "YRS09nOUkj4k"
   },
   "source": [
    "data é um dicionário de dados de pacientes com diabetes, são 442 amostras com 10 caracteríticas fisíológicas dos pacientes (features, são as variáveis independentes), as características fisiológicas são:  \n",
    "age, sex, bmi, bp, s1, s2, s3, s4, s5, s6  \n",
    "idade, sexo, IMC, pressão sanguínea, seis medições de soro sanguíneo  \n",
    "target é uma medida quantitativa da progressão da diabetes após um ano, que é o alvo das predições dos modelos de regressão linear, ou seja é a variável dependente."
   ]
  },
  {
   "cell_type": "code",
   "execution_count": 4,
   "metadata": {
    "executionInfo": {
     "elapsed": 1397,
     "status": "ok",
     "timestamp": 1620588734724,
     "user": {
      "displayName": "Antonio Carlos Albuquerque Alves",
      "photoUrl": "https://lh3.googleusercontent.com/a-/AOh14GhLt99UWkin5jKyLcdgwXDcXFuhqk1um-zpjxo=s64",
      "userId": "03471409576794532986"
     },
     "user_tz": 180
    },
    "id": "nSLgBbTnu1pp"
   },
   "outputs": [],
   "source": [
    "trn,test,y_trn,y_test = train_test_split(data.data, data.target, test_size=0.2)"
   ]
  },
  {
   "cell_type": "markdown",
   "metadata": {
    "id": "tb-MLL1VOgcx"
   },
   "source": [
    "data.data é a matrix em que as linhas comrrespondem as 442 amostragens com as 10 colunas correspondete as features, variáveis independentes.  \n",
    "data.target é uma medida quantitativa da progressão da diabetes após um ano, que é o alvo da regressão linear, é a variável dependente.    \n",
    "train_test_split, apartir de data.data e data.target, vai gerar um conjunto de dados para treino (trn, y_trn) que seram utilizados encontrar o modelo de regressão linear, e outro conjunto de dados para teste (test, y_test) que seram utilizados para testar o modelo de regressão linear encontrado.  \n",
    "os valores dos conjuntos de teste e de treino seram gerados de forma aleatória de acordo com test_size=0.2 que representa a proporção do conjunto de dados que sera incluída no conjunto de dados para teste."
   ]
  },
  {
   "cell_type": "markdown",
   "metadata": {
    "id": "ddfVkAKE6wpk"
   },
   "source": [
    "as matrizes X de variáveis dependentes devem ser concatenadas a uma coluna de ums com como visto em\n",
    "$$\n",
    "\\begin{bmatrix} Y \\end{bmatrix}_{(n,1)} = \\begin{matrix} [1|X] \\end{matrix}_{(n,k+1)} . \\begin{bmatrix} \\beta \\end{bmatrix}_{(n,1)} + \\begin{bmatrix} \\epsilon \\end{bmatrix}_{(n,1)}\n",
    "$$"
   ]
  },
  {
   "cell_type": "code",
   "execution_count": 5,
   "metadata": {
    "executionInfo": {
     "elapsed": 1389,
     "status": "ok",
     "timestamp": 1620588734726,
     "user": {
      "displayName": "Antonio Carlos Albuquerque Alves",
      "photoUrl": "https://lh3.googleusercontent.com/a-/AOh14GhLt99UWkin5jKyLcdgwXDcXFuhqk1um-zpjxo=s64",
      "userId": "03471409576794532986"
     },
     "user_tz": 180
    },
    "id": "2fl2lfii6v_K"
   },
   "outputs": [],
   "source": [
    "trn_int = np.c_[np.ones(trn.shape[0]), trn]\n",
    "test_int = np.c_[np.ones(test.shape[0]), test]"
   ]
  },
  {
   "cell_type": "markdown",
   "metadata": {
    "id": "Et3Y67vqrS3Y"
   },
   "source": [
    "$$[1|X]$$\n",
    "trn_int é concatenação de uma coluna de ums a matriz trn.  \n",
    "tst_int é concatenação de uma coluna de ums a matriz test.  "
   ]
  },
  {
   "cell_type": "markdown",
   "metadata": {
    "id": "V7q8j7wYG7fq"
   },
   "source": [
    "### sklearn solution"
   ]
  },
  {
   "cell_type": "code",
   "execution_count": 6,
   "metadata": {
    "executionInfo": {
     "elapsed": 1383,
     "status": "ok",
     "timestamp": 1620588734726,
     "user": {
      "displayName": "Antonio Carlos Albuquerque Alves",
      "photoUrl": "https://lh3.googleusercontent.com/a-/AOh14GhLt99UWkin5jKyLcdgwXDcXFuhqk1um-zpjxo=s64",
      "userId": "03471409576794532986"
     },
     "user_tz": 180
    },
    "id": "9fpSBQyFwR7I"
   },
   "outputs": [],
   "source": [
    "regr = linear_model.LinearRegression()"
   ]
  },
  {
   "cell_type": "markdown",
   "metadata": {
    "id": "ulQZexjKD3Gk"
   },
   "source": [
    "cria uma objeto para regressão linear baseada no método dos mínimos quadrados\n"
   ]
  },
  {
   "cell_type": "code",
   "execution_count": 7,
   "metadata": {
    "colab": {
     "base_uri": "https://localhost:8080/"
    },
    "executionInfo": {
     "elapsed": 1375,
     "status": "ok",
     "timestamp": 1620588734728,
     "user": {
      "displayName": "Antonio Carlos Albuquerque Alves",
      "photoUrl": "https://lh3.googleusercontent.com/a-/AOh14GhLt99UWkin5jKyLcdgwXDcXFuhqk1um-zpjxo=s64",
      "userId": "03471409576794532986"
     },
     "user_tz": 180
    },
    "id": "fehbPqvq-oia",
    "outputId": "8424556c-740d-4ee5-b857-69e199915ff3"
   },
   "outputs": [
    {
     "data": {
      "text/plain": [
       "LinearRegression()"
      ]
     },
     "execution_count": 7,
     "metadata": {},
     "output_type": "execute_result"
    }
   ],
   "source": [
    "regr.fit(trn, y_trn)"
   ]
  },
  {
   "cell_type": "markdown",
   "metadata": {
    "id": "qU4IdQ6tU0_m"
   },
   "source": [
    "encontra o modelo de regressão linear apartir dos dados de treino"
   ]
  },
  {
   "cell_type": "code",
   "execution_count": 8,
   "metadata": {
    "executionInfo": {
     "elapsed": 1368,
     "status": "ok",
     "timestamp": 1620588734729,
     "user": {
      "displayName": "Antonio Carlos Albuquerque Alves",
      "photoUrl": "https://lh3.googleusercontent.com/a-/AOh14GhLt99UWkin5jKyLcdgwXDcXFuhqk1um-zpjxo=s64",
      "userId": "03471409576794532986"
     },
     "user_tz": 180
    },
    "id": "LAU7IzRf-1Mj"
   },
   "outputs": [],
   "source": [
    "pred = regr.predict(test)"
   ]
  },
  {
   "cell_type": "markdown",
   "metadata": {
    "id": "yykQnGBFVZWY"
   },
   "source": [
    "previsões do modelo de regressão linear da biblioteca sklearn quando alimentado por test"
   ]
  },
  {
   "cell_type": "code",
   "execution_count": 9,
   "metadata": {
    "colab": {
     "base_uri": "https://localhost:8080/"
    },
    "executionInfo": {
     "elapsed": 1360,
     "status": "ok",
     "timestamp": 1620588734730,
     "user": {
      "displayName": "Antonio Carlos Albuquerque Alves",
      "photoUrl": "https://lh3.googleusercontent.com/a-/AOh14GhLt99UWkin5jKyLcdgwXDcXFuhqk1um-zpjxo=s64",
      "userId": "03471409576794532986"
     },
     "user_tz": 180
    },
    "id": "VDlBuzb5-58H",
    "outputId": "175bd34c-0e2c-4f78-86b6-98526b9b19aa"
   },
   "outputs": [
    {
     "data": {
      "text/plain": [
       "(56.44426945379541, 45.53481452251333)"
      ]
     },
     "execution_count": 9,
     "metadata": {},
     "output_type": "execute_result"
    }
   ],
   "source": [
    "sklearn_errors = regr_metrics(y_test, pred)\n",
    "sklearn_errors"
   ]
  },
  {
   "cell_type": "markdown",
   "metadata": {
    "id": "0ANMb9rVr3Le"
   },
   "source": [
    "o quão bom foram as previsões do modelo da bliblioteca sklearn, que serviram de referência para nossa implementação."
   ]
  },
  {
   "cell_type": "markdown",
   "metadata": {
    "id": "OODGD_2YRfBj"
   },
   "source": [
    "### Solução Ingênua"
   ]
  },
  {
   "cell_type": "code",
   "execution_count": 10,
   "metadata": {
    "executionInfo": {
     "elapsed": 1350,
     "status": "ok",
     "timestamp": 1620588734730,
     "user": {
      "displayName": "Antonio Carlos Albuquerque Alves",
      "photoUrl": "https://lh3.googleusercontent.com/a-/AOh14GhLt99UWkin5jKyLcdgwXDcXFuhqk1um-zpjxo=s64",
      "userId": "03471409576794532986"
     },
     "user_tz": 180
    },
    "id": "NW7DHBu3RfBl"
   },
   "outputs": [],
   "source": [
    "def lr_naive(X, Y):\n",
    "    return np.linalg.inv(X.T @ X) @ X.T @ Y"
   ]
  },
  {
   "cell_type": "markdown",
   "metadata": {
    "id": "L1AR9ZK-9S0F"
   },
   "source": [
    "X.T é a matriz transposta de X  \n",
    "@ é o produto de matrizes  \n",
    "np.linalg.inv(Xn) é a matriz inversa (Xn)^-1 da matrix Xn, onde Xn @ np.linalg.inv(Xn) = In que é a matrix identidade  \n",
    "rl_naive(X, Y) corresponde a:  \n",
    "$$ \\beta = (X^TX)^{-1}X^T Y $$\n",
    "que corresponde aos coeficientes $\\hat{\\beta}$ dos termos independentes da equação da reta da regressão linear"
   ]
  },
  {
   "cell_type": "code",
   "execution_count": 11,
   "metadata": {
    "executionInfo": {
     "elapsed": 1342,
     "status": "ok",
     "timestamp": 1620588734731,
     "user": {
      "displayName": "Antonio Carlos Albuquerque Alves",
      "photoUrl": "https://lh3.googleusercontent.com/a-/AOh14GhLt99UWkin5jKyLcdgwXDcXFuhqk1um-zpjxo=s64",
      "userId": "03471409576794532986"
     },
     "user_tz": 180
    },
    "id": "RYOS1zbNRfBl"
   },
   "outputs": [],
   "source": [
    "coeffs_naive = lr_naive(trn_int, y_trn)"
   ]
  },
  {
   "cell_type": "markdown",
   "metadata": {
    "id": "Wh1Y5JiGFMaG"
   },
   "source": [
    "são os coeficientes $\\hat{\\beta}$ dos termos independentes da equação da reta da regressão linear"
   ]
  },
  {
   "cell_type": "code",
   "execution_count": 12,
   "metadata": {
    "executionInfo": {
     "elapsed": 1332,
     "status": "ok",
     "timestamp": 1620588734732,
     "user": {
      "displayName": "Antonio Carlos Albuquerque Alves",
      "photoUrl": "https://lh3.googleusercontent.com/a-/AOh14GhLt99UWkin5jKyLcdgwXDcXFuhqk1um-zpjxo=s64",
      "userId": "03471409576794532986"
     },
     "user_tz": 180
    },
    "id": "kFJL0rDeE0Uy"
   },
   "outputs": [],
   "source": [
    "pred = test_int @ coeffs_naive"
   ]
  },
  {
   "cell_type": "markdown",
   "metadata": {
    "id": "q3uC1-DqKBup"
   },
   "source": [
    "previsões do modelo de regressão linear $$Y = X . \\hat{\\beta}$$"
   ]
  },
  {
   "cell_type": "code",
   "execution_count": 13,
   "metadata": {
    "executionInfo": {
     "elapsed": 1325,
     "status": "ok",
     "timestamp": 1620588734732,
     "user": {
      "displayName": "Antonio Carlos Albuquerque Alves",
      "photoUrl": "https://lh3.googleusercontent.com/a-/AOh14GhLt99UWkin5jKyLcdgwXDcXFuhqk1um-zpjxo=s64",
      "userId": "03471409576794532986"
     },
     "user_tz": 180
    },
    "id": "MJCKICf78WX1"
   },
   "outputs": [],
   "source": [
    "lr_naive_errors = regr_metrics(y_test, pred)"
   ]
  },
  {
   "cell_type": "code",
   "execution_count": 14,
   "metadata": {
    "colab": {
     "base_uri": "https://localhost:8080/"
    },
    "executionInfo": {
     "elapsed": 1890,
     "status": "ok",
     "timestamp": 1620588735307,
     "user": {
      "displayName": "Antonio Carlos Albuquerque Alves",
      "photoUrl": "https://lh3.googleusercontent.com/a-/AOh14GhLt99UWkin5jKyLcdgwXDcXFuhqk1um-zpjxo=s64",
      "userId": "03471409576794532986"
     },
     "user_tz": 180
    },
    "id": "hsyxVJqJ6kKT",
    "outputId": "4bfedfde-7e49-4d56-a9fd-1ae973e0d1ad"
   },
   "outputs": [
    {
     "name": "stdout",
     "output_type": "stream",
     "text": [
      "(56.44426945379541, 45.53481452251336) -> lr_naive\n",
      "(56.44426945379541, 45.53481452251333) -> sklearn\n"
     ]
    }
   ],
   "source": [
    "print(lr_naive_errors, \"-> lr_naive\")\n",
    "print(sklearn_errors, \"-> sklearn\")"
   ]
  },
  {
   "cell_type": "markdown",
   "metadata": {
    "id": "M_6sQgO47d3M"
   },
   "source": [
    "a medida de erro nesta implementação é semelhante ao erro do método utilizado na biblioteca do sklearn, o que indica implementação correta"
   ]
  },
  {
   "cell_type": "markdown",
   "metadata": {
    "id": "rDh4MMaiFt35"
   },
   "source": [
    "### Cholesky"
   ]
  },
  {
   "cell_type": "code",
   "execution_count": 15,
   "metadata": {
    "executionInfo": {
     "elapsed": 1883,
     "status": "ok",
     "timestamp": 1620588735308,
     "user": {
      "displayName": "Antonio Carlos Albuquerque Alves",
      "photoUrl": "https://lh3.googleusercontent.com/a-/AOh14GhLt99UWkin5jKyLcdgwXDcXFuhqk1um-zpjxo=s64",
      "userId": "03471409576794532986"
     },
     "user_tz": 180
    },
    "id": "WBW_nVHm-gcd"
   },
   "outputs": [],
   "source": [
    "def lr_chol(X, Y):\n",
    "    R = sp.linalg.cholesky(X.T @ X)\n",
    "    W = sp.linalg.solve_triangular(R, X.T @ Y, trans='T')\n",
    "    return sp.linalg.solve_triangular(R, W)"
   ]
  },
  {
   "cell_type": "markdown",
   "metadata": {
    "id": "q5RYNzGWAEEX"
   },
   "source": [
    "R = sp.linalg.cholesky(X.T @ X)  \n",
    "aplicando a decomposição cholesky em $X^TX$ que resulta na matriz superior $R$"
   ]
  },
  {
   "cell_type": "markdown",
   "metadata": {
    "id": "RkX9J_cOAdYv"
   },
   "source": [
    "W = sp.linalg.solve_triangular(R, X.T @ Y, trans='T')  \n",
    "resolvendo o sistema $R^t W = X^t Y$ que retorna o valores de $W$\n"
   ]
  },
  {
   "cell_type": "markdown",
   "metadata": {
    "id": "7H8ed7-oAfe5"
   },
   "source": [
    "return sp.linalg.solve_triangular(R, W)  \n",
    "resolvendo o sistema $R \\beta = W$ que que retorna os valores estima dos de $\\hat{\\beta}$"
   ]
  },
  {
   "cell_type": "code",
   "execution_count": 16,
   "metadata": {
    "executionInfo": {
     "elapsed": 1876,
     "status": "ok",
     "timestamp": 1620588735309,
     "user": {
      "displayName": "Antonio Carlos Albuquerque Alves",
      "photoUrl": "https://lh3.googleusercontent.com/a-/AOh14GhLt99UWkin5jKyLcdgwXDcXFuhqk1um-zpjxo=s64",
      "userId": "03471409576794532986"
     },
     "user_tz": 180
    },
    "id": "CQhzQ1Hf-7Ne"
   },
   "outputs": [],
   "source": [
    "coeffs_chol = lr_chol(trn_int, y_trn)"
   ]
  },
  {
   "cell_type": "markdown",
   "metadata": {
    "id": "9Zud-0igByC7"
   },
   "source": [
    "são os coeficientes $\\hat{\\beta}$ dos termos independentes da equação da reta da regressão linear"
   ]
  },
  {
   "cell_type": "code",
   "execution_count": 17,
   "metadata": {
    "executionInfo": {
     "elapsed": 1869,
     "status": "ok",
     "timestamp": 1620588735310,
     "user": {
      "displayName": "Antonio Carlos Albuquerque Alves",
      "photoUrl": "https://lh3.googleusercontent.com/a-/AOh14GhLt99UWkin5jKyLcdgwXDcXFuhqk1um-zpjxo=s64",
      "userId": "03471409576794532986"
     },
     "user_tz": 180
    },
    "id": "wE7H6QLI_y0S"
   },
   "outputs": [],
   "source": [
    "pred = test_int @ coeffs_chol"
   ]
  },
  {
   "cell_type": "markdown",
   "metadata": {
    "id": "GXoB_khbBzLV"
   },
   "source": [
    "previsões do modelo de regressão linear $$Y = X . \\hat{\\beta}$$"
   ]
  },
  {
   "cell_type": "code",
   "execution_count": 18,
   "metadata": {
    "executionInfo": {
     "elapsed": 1859,
     "status": "ok",
     "timestamp": 1620588735310,
     "user": {
      "displayName": "Antonio Carlos Albuquerque Alves",
      "photoUrl": "https://lh3.googleusercontent.com/a-/AOh14GhLt99UWkin5jKyLcdgwXDcXFuhqk1um-zpjxo=s64",
      "userId": "03471409576794532986"
     },
     "user_tz": 180
    },
    "id": "caRgUcLTuGZT"
   },
   "outputs": [],
   "source": [
    "lr_chol_errors = regr_metrics(y_test, pred)"
   ]
  },
  {
   "cell_type": "code",
   "execution_count": 19,
   "metadata": {
    "colab": {
     "base_uri": "https://localhost:8080/"
    },
    "executionInfo": {
     "elapsed": 1852,
     "status": "ok",
     "timestamp": 1620588735311,
     "user": {
      "displayName": "Antonio Carlos Albuquerque Alves",
      "photoUrl": "https://lh3.googleusercontent.com/a-/AOh14GhLt99UWkin5jKyLcdgwXDcXFuhqk1um-zpjxo=s64",
      "userId": "03471409576794532986"
     },
     "user_tz": 180
    },
    "id": "5ioKf-7pveT_",
    "outputId": "0d347532-87a5-4e05-9c70-480bd62f188d"
   },
   "outputs": [
    {
     "name": "stdout",
     "output_type": "stream",
     "text": [
      "(56.44426945379541, 45.534814522513344) -> lr_chol\n",
      "(56.44426945379541, 45.53481452251333) -> sklearn\n"
     ]
    }
   ],
   "source": [
    "print(lr_chol_errors, \"-> lr_chol\")\n",
    "print(sklearn_errors, \"-> sklearn\")"
   ]
  },
  {
   "cell_type": "markdown",
   "metadata": {
    "id": "FSYvFb7DB8IB"
   },
   "source": [
    "a medida de erro nesta implementação é semelhante ao erro do método utilizado na biblioteca do sklearn, o que indica implementação correta"
   ]
  },
  {
   "cell_type": "markdown",
   "metadata": {
    "id": "L7_EBbZ0RZRH"
   },
   "source": [
    "### Decomposição QR"
   ]
  },
  {
   "cell_type": "code",
   "execution_count": 20,
   "metadata": {
    "executionInfo": {
     "elapsed": 1844,
     "status": "ok",
     "timestamp": 1620588735311,
     "user": {
      "displayName": "Antonio Carlos Albuquerque Alves",
      "photoUrl": "https://lh3.googleusercontent.com/a-/AOh14GhLt99UWkin5jKyLcdgwXDcXFuhqk1um-zpjxo=s64",
      "userId": "03471409576794532986"
     },
     "user_tz": 180
    },
    "id": "D9F26K1aRczA"
   },
   "outputs": [],
   "source": [
    "def lr_qr(X, Y):\n",
    "    Q, R = sp.linalg.qr(X, mode='economic')\n",
    "    return sp.linalg.solve_triangular(R, Q.T @ Y)"
   ]
  },
  {
   "cell_type": "markdown",
   "metadata": {
    "id": "jdJPrP4IRuFx"
   },
   "source": [
    "Q, R = sp.linalg.qr(X, mode='economic')\n",
    "$$X = QR$$\n",
    "decomposição QR"
   ]
  },
  {
   "cell_type": "markdown",
   "metadata": {
    "id": "3CIz2MzdSMUv"
   },
   "source": [
    "return sp.linalg.solve_triangular(R, Q.T @ Y)\n",
    "$$R \\hat{\\beta} = Q^T Y$$\n",
    "resolvendo esse istemas encontramos as estimações dos $\\hat{\\beta}$\n"
   ]
  },
  {
   "cell_type": "code",
   "execution_count": 21,
   "metadata": {
    "executionInfo": {
     "elapsed": 1838,
     "status": "ok",
     "timestamp": 1620588735312,
     "user": {
      "displayName": "Antonio Carlos Albuquerque Alves",
      "photoUrl": "https://lh3.googleusercontent.com/a-/AOh14GhLt99UWkin5jKyLcdgwXDcXFuhqk1um-zpjxo=s64",
      "userId": "03471409576794532986"
     },
     "user_tz": 180
    },
    "id": "dqG3_jSmVDYI"
   },
   "outputs": [],
   "source": [
    "coeffs_qr = lr_qr(trn_int, y_trn)"
   ]
  },
  {
   "cell_type": "markdown",
   "metadata": {
    "id": "aIpSGtQ_VDYK"
   },
   "source": [
    "são os coeficientes $\\hat{\\beta}$ dos termos independentes da equação da reta da regressão linear"
   ]
  },
  {
   "cell_type": "code",
   "execution_count": 22,
   "metadata": {
    "executionInfo": {
     "elapsed": 1831,
     "status": "ok",
     "timestamp": 1620588735312,
     "user": {
      "displayName": "Antonio Carlos Albuquerque Alves",
      "photoUrl": "https://lh3.googleusercontent.com/a-/AOh14GhLt99UWkin5jKyLcdgwXDcXFuhqk1um-zpjxo=s64",
      "userId": "03471409576794532986"
     },
     "user_tz": 180
    },
    "id": "PQ_5t4Q1VDYL"
   },
   "outputs": [],
   "source": [
    "pred = test_int @ coeffs_qr"
   ]
  },
  {
   "cell_type": "markdown",
   "metadata": {
    "id": "j-TqjaA_VDYM"
   },
   "source": [
    "previsões do modelo de regressão linear $$Y = X . \\hat{\\beta}$$"
   ]
  },
  {
   "cell_type": "code",
   "execution_count": 23,
   "metadata": {
    "executionInfo": {
     "elapsed": 1824,
     "status": "ok",
     "timestamp": 1620588735313,
     "user": {
      "displayName": "Antonio Carlos Albuquerque Alves",
      "photoUrl": "https://lh3.googleusercontent.com/a-/AOh14GhLt99UWkin5jKyLcdgwXDcXFuhqk1um-zpjxo=s64",
      "userId": "03471409576794532986"
     },
     "user_tz": 180
    },
    "id": "-GHPh1hSVDYM"
   },
   "outputs": [],
   "source": [
    "lr_qr_errors = regr_metrics(y_test, pred)"
   ]
  },
  {
   "cell_type": "code",
   "execution_count": 24,
   "metadata": {
    "colab": {
     "base_uri": "https://localhost:8080/"
    },
    "executionInfo": {
     "elapsed": 1816,
     "status": "ok",
     "timestamp": 1620588735314,
     "user": {
      "displayName": "Antonio Carlos Albuquerque Alves",
      "photoUrl": "https://lh3.googleusercontent.com/a-/AOh14GhLt99UWkin5jKyLcdgwXDcXFuhqk1um-zpjxo=s64",
      "userId": "03471409576794532986"
     },
     "user_tz": 180
    },
    "id": "evl6DzmkVDYM",
    "outputId": "d5212d8e-0fcc-4190-f7cd-5c9f534b9dc5"
   },
   "outputs": [
    {
     "name": "stdout",
     "output_type": "stream",
     "text": [
      "(56.44426945379541, 45.53481452251334) -> lr_qr\n",
      "(56.44426945379541, 45.53481452251333) -> sklearn\n"
     ]
    }
   ],
   "source": [
    "print(lr_qr_errors, \"-> lr_qr\")\n",
    "print(sklearn_errors, \"-> sklearn\")"
   ]
  },
  {
   "cell_type": "markdown",
   "metadata": {
    "id": "Vc20v0sxThWy"
   },
   "source": [
    "### Decomposição SVD"
   ]
  },
  {
   "cell_type": "code",
   "execution_count": 25,
   "metadata": {
    "executionInfo": {
     "elapsed": 1805,
     "status": "ok",
     "timestamp": 1620588735315,
     "user": {
      "displayName": "Antonio Carlos Albuquerque Alves",
      "photoUrl": "https://lh3.googleusercontent.com/a-/AOh14GhLt99UWkin5jKyLcdgwXDcXFuhqk1um-zpjxo=s64",
      "userId": "03471409576794532986"
     },
     "user_tz": 180
    },
    "id": "Y1dtZVk5TkVT"
   },
   "outputs": [],
   "source": [
    "def lr_svd(X, Y):\n",
    "    U, sigma, Vh = sp.linalg.svd(X, full_matrices=False)\n",
    "    W = (U.T @ Y)/ sigma\n",
    "    return Vh.T @ W"
   ]
  },
  {
   "cell_type": "markdown",
   "metadata": {
    "id": "LjEolvVaVIl-"
   },
   "source": [
    "U, sigma, Vh = sp.linalg.svd(X, full_matrices=False)  \n",
    "decomposição svd\n",
    "$$ X = U \\Sigma V $$"
   ]
  },
  {
   "cell_type": "markdown",
   "metadata": {
    "id": "Q4FHT5GQV27I"
   },
   "source": [
    "W = (U.T @ Y)/ sigma\n",
    "$$ \\Sigma W = U^T Y $$\n",
    "encontra os valores de $W$"
   ]
  },
  {
   "cell_type": "markdown",
   "metadata": {
    "id": "kL8VVfZeV4id"
   },
   "source": [
    "return Vh.T @ W\n",
    "$$ \\hat{\\beta} = V^T W $$\n",
    "encontra as estimações de $\\hat{\\beta}$"
   ]
  },
  {
   "cell_type": "code",
   "execution_count": 26,
   "metadata": {
    "executionInfo": {
     "elapsed": 1797,
     "status": "ok",
     "timestamp": 1620588735316,
     "user": {
      "displayName": "Antonio Carlos Albuquerque Alves",
      "photoUrl": "https://lh3.googleusercontent.com/a-/AOh14GhLt99UWkin5jKyLcdgwXDcXFuhqk1um-zpjxo=s64",
      "userId": "03471409576794532986"
     },
     "user_tz": 180
    },
    "id": "cZQxq-oUT3It"
   },
   "outputs": [],
   "source": [
    "coeffs_svd = lr_svd(trn_int, y_trn)"
   ]
  },
  {
   "cell_type": "code",
   "execution_count": 27,
   "metadata": {
    "executionInfo": {
     "elapsed": 1793,
     "status": "ok",
     "timestamp": 1620588735318,
     "user": {
      "displayName": "Antonio Carlos Albuquerque Alves",
      "photoUrl": "https://lh3.googleusercontent.com/a-/AOh14GhLt99UWkin5jKyLcdgwXDcXFuhqk1um-zpjxo=s64",
      "userId": "03471409576794532986"
     },
     "user_tz": 180
    },
    "id": "ck4WgimuT5m6"
   },
   "outputs": [],
   "source": [
    "pred = test_int @ coeffs_svd"
   ]
  },
  {
   "cell_type": "code",
   "execution_count": 28,
   "metadata": {
    "executionInfo": {
     "elapsed": 1786,
     "status": "ok",
     "timestamp": 1620588735319,
     "user": {
      "displayName": "Antonio Carlos Albuquerque Alves",
      "photoUrl": "https://lh3.googleusercontent.com/a-/AOh14GhLt99UWkin5jKyLcdgwXDcXFuhqk1um-zpjxo=s64",
      "userId": "03471409576794532986"
     },
     "user_tz": 180
    },
    "id": "OoqDNYnAUAsS"
   },
   "outputs": [],
   "source": [
    "lr_svd_errors = regr_metrics(y_test, pred)"
   ]
  },
  {
   "cell_type": "code",
   "execution_count": 29,
   "metadata": {
    "colab": {
     "base_uri": "https://localhost:8080/"
    },
    "executionInfo": {
     "elapsed": 1780,
     "status": "ok",
     "timestamp": 1620588735320,
     "user": {
      "displayName": "Antonio Carlos Albuquerque Alves",
      "photoUrl": "https://lh3.googleusercontent.com/a-/AOh14GhLt99UWkin5jKyLcdgwXDcXFuhqk1um-zpjxo=s64",
      "userId": "03471409576794532986"
     },
     "user_tz": 180
    },
    "id": "6Da0ry9YUo_T",
    "outputId": "048ba3bf-a8d4-4ec5-bd5c-9318adadc03a"
   },
   "outputs": [
    {
     "name": "stdout",
     "output_type": "stream",
     "text": [
      "(56.44426945379541, 45.53481452251332) -> lr_svd\n",
      "(56.44426945379541, 45.53481452251333) -> sklearn\n"
     ]
    }
   ],
   "source": [
    "print(lr_svd_errors, \"-> lr_svd\")\n",
    "print(sklearn_errors, \"-> sklearn\")"
   ]
  },
  {
   "cell_type": "markdown",
   "metadata": {
    "id": "3ISOpTnMRkFG"
   },
   "source": [
    "<div class=\"alert alert-block alert-info\">\n",
    "5. CASOS DE USO\n",
    "</div>"
   ]
  },
  {
   "cell_type": "markdown",
   "metadata": {
    "id": "3HO-PcIlRkFH"
   },
   "source": [
    "## Nessa seção, você aplicará sua implementação em pelo menos dois casos: um é o caso descrito nas referências, e outro, um caso similar que você encontrará e testará sua implementação. __Cuidado para evitar casos iguais aos demais colegas!__"
   ]
  },
  {
   "cell_type": "code",
   "execution_count": 30,
   "metadata": {
    "executionInfo": {
     "elapsed": 1774,
     "status": "ok",
     "timestamp": 1620588735320,
     "user": {
      "displayName": "Antonio Carlos Albuquerque Alves",
      "photoUrl": "https://lh3.googleusercontent.com/a-/AOh14GhLt99UWkin5jKyLcdgwXDcXFuhqk1um-zpjxo=s64",
      "userId": "03471409576794532986"
     },
     "user_tz": 180
    },
    "id": "swHjewfYcN1L"
   },
   "outputs": [],
   "source": [
    "data = datasets.load_boston()\n",
    "trn,test,y_trn,y_test = train_test_split(data.data, data.target, test_size=0.2)"
   ]
  },
  {
   "cell_type": "markdown",
   "metadata": {
    "id": "z07OxrLkcOjQ"
   },
   "source": [
    "data é um dicionário de dados com preços de casas de boston e 13 caracteríticas dessas casas, data tem 506 amostras, onde data.target são as amostras de preço das casas que é o nosso alvo das previsões do modelo de regressão linear, data.data são as 13 caracteríticas das casas também com 506 amostras.  \n",
    "As caracteríticas (features) são:  \n",
    "CRIM per capita crime rate by town  \n",
    "ZN proportion of residential land zoned for lots over 25,000 sq.ft.  \n",
    "INDUS proportion of non-retail business acres per town  \n",
    "CHAS Charles River dummy variable (= 1 if tract bounds river; 0 otherwise)  \n",
    "NOX nitric oxides concentration (parts per 10 million)  \n",
    "RM average number of rooms per dwelling  \n",
    "AGE proportion of owner-occupied units built prior to 1940  \n",
    "DIS weighted distances to five Boston employment centres  \n",
    "RAD index of accessibility to radial highways  \n",
    "TAX full-value property-tax rate per \\$10,000  \n",
    "PTRATIO pupil-teacher ratio by town  \n",
    "B 1000(Bk - 0.63)^2 where Bk is the proportion of black people by town  \n",
    "LSTAT % lower status of the population  \n",
    "MEDV Median value of owner-occupied homes in \\$1000’s \n"
   ]
  },
  {
   "cell_type": "code",
   "execution_count": 31,
   "metadata": {
    "executionInfo": {
     "elapsed": 1768,
     "status": "ok",
     "timestamp": 1620588735321,
     "user": {
      "displayName": "Antonio Carlos Albuquerque Alves",
      "photoUrl": "https://lh3.googleusercontent.com/a-/AOh14GhLt99UWkin5jKyLcdgwXDcXFuhqk1um-zpjxo=s64",
      "userId": "03471409576794532986"
     },
     "user_tz": 180
    },
    "id": "dK3KJaPFWkqE"
   },
   "outputs": [],
   "source": [
    "trn_int = np.c_[np.ones(trn.shape[0]), trn]\n",
    "test_int = np.c_[np.ones(test.shape[0]), test]"
   ]
  },
  {
   "cell_type": "code",
   "execution_count": 32,
   "metadata": {
    "colab": {
     "base_uri": "https://localhost:8080/"
    },
    "executionInfo": {
     "elapsed": 1761,
     "status": "ok",
     "timestamp": 1620588735321,
     "user": {
      "displayName": "Antonio Carlos Albuquerque Alves",
      "photoUrl": "https://lh3.googleusercontent.com/a-/AOh14GhLt99UWkin5jKyLcdgwXDcXFuhqk1um-zpjxo=s64",
      "userId": "03471409576794532986"
     },
     "user_tz": 180
    },
    "id": "IOIqQidva-BM",
    "outputId": "fc7e0d69-9321-470c-f43c-b67dc0efd0b6"
   },
   "outputs": [
    {
     "data": {
      "text/plain": [
       "(4.320060389354633, 3.1232066813177415)"
      ]
     },
     "execution_count": 32,
     "metadata": {},
     "output_type": "execute_result"
    }
   ],
   "source": [
    "regr.fit(trn, y_trn)\n",
    "regr_metrics(y_test, regr.predict(test))"
   ]
  },
  {
   "cell_type": "code",
   "execution_count": 33,
   "metadata": {
    "colab": {
     "base_uri": "https://localhost:8080/"
    },
    "executionInfo": {
     "elapsed": 1753,
     "status": "ok",
     "timestamp": 1620588735322,
     "user": {
      "displayName": "Antonio Carlos Albuquerque Alves",
      "photoUrl": "https://lh3.googleusercontent.com/a-/AOh14GhLt99UWkin5jKyLcdgwXDcXFuhqk1um-zpjxo=s64",
      "userId": "03471409576794532986"
     },
     "user_tz": 180
    },
    "id": "9XQXlfshaie_",
    "outputId": "ca0e9ee6-222c-41a6-852a-135e30b15a2d"
   },
   "outputs": [
    {
     "data": {
      "text/plain": [
       "(4.320060389354502, 3.1232066813174058)"
      ]
     },
     "execution_count": 33,
     "metadata": {},
     "output_type": "execute_result"
    }
   ],
   "source": [
    "regr_metrics(y_test, test_int @ lr_naive(trn_int, y_trn))"
   ]
  },
  {
   "cell_type": "code",
   "execution_count": 34,
   "metadata": {
    "colab": {
     "base_uri": "https://localhost:8080/"
    },
    "executionInfo": {
     "elapsed": 1749,
     "status": "ok",
     "timestamp": 1620588735327,
     "user": {
      "displayName": "Antonio Carlos Albuquerque Alves",
      "photoUrl": "https://lh3.googleusercontent.com/a-/AOh14GhLt99UWkin5jKyLcdgwXDcXFuhqk1um-zpjxo=s64",
      "userId": "03471409576794532986"
     },
     "user_tz": 180
    },
    "id": "-ZVSyuacbVey",
    "outputId": "a3807ca8-7d56-45e1-a830-9155862aa130"
   },
   "outputs": [
    {
     "data": {
      "text/plain": [
       "(4.320060389354522, 3.1232066813174764)"
      ]
     },
     "execution_count": 34,
     "metadata": {},
     "output_type": "execute_result"
    }
   ],
   "source": [
    "regr_metrics(y_test, test_int @ lr_chol(trn_int, y_trn))"
   ]
  },
  {
   "cell_type": "code",
   "execution_count": 35,
   "metadata": {
    "colab": {
     "base_uri": "https://localhost:8080/"
    },
    "executionInfo": {
     "elapsed": 1737,
     "status": "ok",
     "timestamp": 1620588735328,
     "user": {
      "displayName": "Antonio Carlos Albuquerque Alves",
      "photoUrl": "https://lh3.googleusercontent.com/a-/AOh14GhLt99UWkin5jKyLcdgwXDcXFuhqk1um-zpjxo=s64",
      "userId": "03471409576794532986"
     },
     "user_tz": 180
    },
    "id": "WTuMI1olbZ1D",
    "outputId": "82dac985-6eec-4ebb-d73d-14c5a749fff8"
   },
   "outputs": [
    {
     "data": {
      "text/plain": [
       "(4.320060389354646, 3.1232066813177752)"
      ]
     },
     "execution_count": 35,
     "metadata": {},
     "output_type": "execute_result"
    }
   ],
   "source": [
    "regr_metrics(y_test, test_int @ lr_qr(trn_int, y_trn))"
   ]
  },
  {
   "cell_type": "code",
   "execution_count": 36,
   "metadata": {
    "colab": {
     "base_uri": "https://localhost:8080/"
    },
    "executionInfo": {
     "elapsed": 2075,
     "status": "ok",
     "timestamp": 1620588735677,
     "user": {
      "displayName": "Antonio Carlos Albuquerque Alves",
      "photoUrl": "https://lh3.googleusercontent.com/a-/AOh14GhLt99UWkin5jKyLcdgwXDcXFuhqk1um-zpjxo=s64",
      "userId": "03471409576794532986"
     },
     "user_tz": 180
    },
    "id": "oatGVlSybcT9",
    "outputId": "8a5a1807-55ed-4b7d-db2d-7d2ef8a9bdc6"
   },
   "outputs": [
    {
     "data": {
      "text/plain": [
       "(4.320060389354646, 3.123206681317773)"
      ]
     },
     "execution_count": 36,
     "metadata": {},
     "output_type": "execute_result"
    }
   ],
   "source": [
    "regr_metrics(y_test, test_int @ lr_svd(trn_int, y_trn))"
   ]
  }
 ],
 "metadata": {
  "colab": {
   "collapsed_sections": [],
   "name": "Modelo_relatorio.ipynb",
   "provenance": []
  },
  "kernelspec": {
   "display_name": "jupyter-pythonEnvForProj2MN-linearRegressionEnv",
   "language": "python",
   "name": "jupyter-pythonenvforproj2mn-linearregressionenv"
  },
  "language_info": {
   "codemirror_mode": {
    "name": "ipython",
    "version": 3
   },
   "file_extension": ".py",
   "mimetype": "text/x-python",
   "name": "python",
   "nbconvert_exporter": "python",
   "pygments_lexer": "ipython3",
   "version": "3.8.5"
  }
 },
 "nbformat": 4,
 "nbformat_minor": 4
}
