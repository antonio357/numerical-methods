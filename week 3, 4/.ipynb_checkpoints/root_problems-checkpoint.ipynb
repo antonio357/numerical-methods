{
 "cells": [
  {
   "cell_type": "code",
   "execution_count": 1,
   "id": "catholic-testimony",
   "metadata": {},
   "outputs": [],
   "source": [
    "import numpy as np\n",
    "import scipy.optimize as opt\n",
    "import matplotlib.pyplot as plt\n",
    "from math import sqrt"
   ]
  },
  {
   "cell_type": "code",
   "execution_count": 2,
   "id": "expected-mechanics",
   "metadata": {},
   "outputs": [],
   "source": [
    "#%matplotlib inline"
   ]
  },
  {
   "cell_type": "markdown",
   "id": "known-hearing",
   "metadata": {},
   "source": [
    "1. Determine as raízes reais de f (x) = −0.5x\n",
    "2 + 2.5x + 4.5:"
   ]
  },
  {
   "cell_type": "markdown",
   "id": "instructional-world",
   "metadata": {},
   "source": [
    "(a) Graficamente;"
   ]
  },
  {
   "cell_type": "code",
   "execution_count": 3,
   "id": "public-combine",
   "metadata": {},
   "outputs": [
    {
     "data": {
      "image/png": "[encoded data removed]",
      "text/plain": [
       "<Figure size 432x288 with 1 Axes>"
      ]
     },
     "metadata": {
      "needs_background": "light"
     },
     "output_type": "display_data"
    }
   ],
   "source": [
    "def f(x): return -0.5*x**2 + 2.5*x + 4.5\n",
    "x = np.linspace(-3., 8., 200)\n",
    "plt.plot(x, f(x))\n",
    "plt.grid(True)"
   ]
  },
  {
   "cell_type": "markdown",
   "id": "canadian-institution",
   "metadata": {},
   "source": [
    "segundo o gráfico acima, a primeira raiz é um pouco maior que -2 e a segunda raiz é um pouco maior que 6"
   ]
  },
  {
   "cell_type": "markdown",
   "id": "dependent-azerbaijan",
   "metadata": {},
   "source": [
    "(b) Usando a fórmula quadrática;"
   ]
  },
  {
   "cell_type": "code",
   "execution_count": 4,
   "id": "second-toilet",
   "metadata": {},
   "outputs": [
    {
     "name": "stdout",
     "output_type": "stream",
     "text": [
      "x1, x2 =  -1.4051248379533269883 6.4051248379533269883\n"
     ]
    }
   ],
   "source": [
    "a, b, c = np.float128(-0.5), np.float128(2.5), np.float128(4.5)\n",
    "delta = b**2 -4*a*c\n",
    "x1 = (-b + sqrt(delta)) / (2*a)\n",
    "x2 = (-b - sqrt(delta)) / (2*a)\n",
    "print(\"x1, x2 = \", x1, x2)"
   ]
  },
  {
   "cell_type": "markdown",
   "id": "hundred-train",
   "metadata": {},
   "source": [
    "(c) Usando três iterações do método da bisseção para determinar a maior raiz. Use as aproximações iniciais xl = 5 e xu = 10. Calcule o erro relativo obtido entre cada iteração, e o erro\n",
    "entre os valores verdadeiros encontrados no item b e o valor de cada iteração."
   ]
  },
  {
   "cell_type": "code",
   "execution_count": 5,
   "id": "valuable-monkey",
   "metadata": {},
   "outputs": [
    {
     "data": {
      "text/plain": [
       "6.25"
      ]
     },
     "execution_count": 5,
     "metadata": {},
     "output_type": "execute_result"
    }
   ],
   "source": [
    "# Usando três iterações do método da bisseção para determinar a maior raiz. Use as aproximações iniciais xl = 5 e xu = 10.\n",
    "opt.root_scalar(f,method='bisect',bracket=[5,10], maxiter=3).root"
   ]
  },
  {
   "cell_type": "code",
   "execution_count": 6,
   "id": "wound-consensus",
   "metadata": {},
   "outputs": [
    {
     "data": {
      "text/plain": [
       "array([5.  , 6.25, 6.25], dtype=float128)"
      ]
     },
     "execution_count": 6,
     "metadata": {},
     "output_type": "execute_result"
    }
   ],
   "source": [
    "def err_rel(num , apro_num):\n",
    "    erro = np.absolute(num - apro_num) / np.absolute(num)\n",
    "    erro_porcent = erro / 100\n",
    "    return (erro, erro_porcent)\n",
    "\n",
    "iters = []\n",
    "for i in range(1, 3 + 1):\n",
    "    val_ite = opt.root_scalar(f, method='bisect', bracket=[5,10], maxiter=i).root\n",
    "    iters.append(val_ite)\n",
    "iters = np.array(iters, dtype=np.float128)\n",
    "iters"
   ]
  },
  {
   "cell_type": "code",
   "execution_count": 7,
   "id": "foreign-thanksgiving",
   "metadata": {},
   "outputs": [
    {
     "name": "stdout",
     "output_type": "stream",
     "text": [
      "(erro, erro %)\n",
      "(0.2, 0.002)\n",
      "(0.0, 0.0)\n",
      "(0.0, 0.0)\n"
     ]
    }
   ],
   "source": [
    "# Calcule o erro relativo obtido entre cada iteração ...\n",
    "print(\"(erro, erro %)\")\n",
    "for i in range(1, 3 + 1):\n",
    "    Xi = opt.root_scalar(f, method='bisect', bracket=[5,10], maxiter=i).root\n",
    "    Xi_mais_1 = opt.root_scalar(f, method='bisect', bracket=[5,10], maxiter= i + 1).root\n",
    "    print(err_rel(Xi_mais_1, Xi))"
   ]
  },
  {
   "cell_type": "code",
   "execution_count": 8,
   "id": "faced-threat",
   "metadata": {},
   "outputs": [
    {
     "data": {
      "text/plain": [
       "(array([4.55840269, 5.44800336, 5.44800336], dtype=float128),\n",
       " array([0.04558403, 0.05448003, 0.05448003], dtype=float128))"
      ]
     },
     "execution_count": 8,
     "metadata": {},
     "output_type": "execute_result"
    }
   ],
   "source": [
    "# ... , e o erro entre os valores verdadeiros encontrados no item b e o valor de cada iteração.\n",
    "err_rel(np.array(x1), np.array(iters)) # para raiz x1 =  -1.4051248379533269883"
   ]
  },
  {
   "cell_type": "code",
   "execution_count": 9,
   "id": "experienced-tracker",
   "metadata": {},
   "outputs": [
    {
     "data": {
      "text/plain": [
       "(array([0.21937509, 0.02421886, 0.02421886], dtype=float128),\n",
       " array([0.00219375, 0.00024219, 0.00024219], dtype=float128))"
      ]
     },
     "execution_count": 9,
     "metadata": {},
     "output_type": "execute_result"
    }
   ],
   "source": [
    "# ... , e o erro entre os valores verdadeiros encontrados no item b e o valor de cada iteração.\n",
    "err_rel(np.array([x2]), np.array(iters)) # para raiz x2 =  6.4051248379533269883"
   ]
  },
  {
   "cell_type": "markdown",
   "id": "lesbian-notification",
   "metadata": {},
   "source": [
    "2. Dada f (x) = −2x\n",
    "6 − 1.5x\n",
    "4 + 10x + 20, encontre o máximo dessa função ( f\n",
    "0\n",
    "(x) = 0) usando o\n",
    "método da bisseção, considerando o intervalo [0, 1] e um erro limite de 5%."
   ]
  },
  {
   "cell_type": "code",
   "execution_count": 10,
   "id": "unknown-stewart",
   "metadata": {},
   "outputs": [
    {
     "data": {
      "text/plain": [
       "      converged: True\n",
       "           flag: 'converged'\n",
       " function_calls: 7\n",
       "     iterations: 5\n",
       "           root: 0.84375"
      ]
     },
     "execution_count": 10,
     "metadata": {},
     "output_type": "execute_result"
    }
   ],
   "source": [
    "def f(x): return -2*x**6 - 1.5*x**4 + 10*x + 20\n",
    "def df(x): return -12*x**5 - 6*x**3 + 10\n",
    "opt.root_scalar(df, method='bisect', bracket=[0,1], rtol=5e-2)"
   ]
  },
  {
   "cell_type": "markdown",
   "id": "vital-cookbook",
   "metadata": {},
   "source": [
    "3. Embora a bisseção seja uma técnica perfeitamente válida para determinar raízes, sua abordagem\n",
    "do tipo “força bruta” é relativamente ineficiente. A falsa posição é uma alternativa baseada na\n",
    "percepção gráfica.\n",
    "As bibliotecas numérica do python não trazem uma implementação desse método. Implementeo, teste-o com os exemplos da texto, comparando com o método da bisseção. Mostre que esse\n",
    "método, para vários casos, é mais eficiente que o da bisseção."
   ]
  },
  {
   "cell_type": "code",
   "execution_count": null,
   "id": "alone-reception",
   "metadata": {},
   "outputs": [],
   "source": [
    "def bisect(f, bracket, rtol, xtol, x, maxiter=-1, ite_c=-1)\n",
    "    x = \n",
    "    ite_c += 1\n",
    "    if x <= rtol or x <= xtol or ite_c == maxiter: return (x, ite_c)\n",
    "    if np.sign(f(bracket[a]))*np.sign(f(x)): bisect(f, bracket=)\n",
    "    else np.sign(f(bracket[a]))*np.sign(f(bracket[1])):"
   ]
  },
  {
   "cell_type": "code",
   "execution_count": null,
   "id": "arbitrary-commissioner",
   "metadata": {},
   "outputs": [],
   "source": []
  },
  {
   "cell_type": "code",
   "execution_count": null,
   "id": "willing-nowhere",
   "metadata": {},
   "outputs": [],
   "source": []
  }
 ],
 "metadata": {
  "kernelspec": {
   "display_name": "Python 3",
   "language": "python",
   "name": "python3"
  },
  "language_info": {
   "codemirror_mode": {
    "name": "ipython",
    "version": 3
   },
   "file_extension": ".py",
   "mimetype": "text/x-python",
   "name": "python",
   "nbconvert_exporter": "python",
   "pygments_lexer": "ipython3",
   "version": "3.8.5"
  }
 },
 "nbformat": 4,
 "nbformat_minor": 5
}
