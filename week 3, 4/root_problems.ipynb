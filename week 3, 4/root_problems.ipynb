{
 "cells": [
  {
   "cell_type": "code",
   "execution_count": 1,
   "id": "realistic-inspiration",
   "metadata": {},
   "outputs": [],
   "source": [
    "import numpy as np\n",
    "import scipy.optimize as opt\n",
    "import matplotlib.pyplot as plt\n",
    "import pandas as pd"
   ]
  },
  {
   "cell_type": "markdown",
   "id": "assured-sullivan",
   "metadata": {},
   "source": [
    "1. Determine as raízes reais de f (x) = −0.5x\n",
    "2 + 2.5x + 4.5:"
   ]
  },
  {
   "cell_type": "markdown",
   "id": "bright-parking",
   "metadata": {},
   "source": [
    "(a) Graficamente;"
   ]
  },
  {
   "cell_type": "code",
   "execution_count": 2,
   "id": "bacterial-north",
   "metadata": {},
   "outputs": [
    {
     "data": {
      "image/png": "[encoded data removed]",
      "text/plain": [
       "<Figure size 432x288 with 1 Axes>"
      ]
     },
     "metadata": {
      "needs_background": "light"
     },
     "output_type": "display_data"
    }
   ],
   "source": [
    "def f(x): return -0.5*x**2 + 2.5*x + 4.5\n",
    "x = np.linspace(-3., 8., 200)\n",
    "plt.plot(x, f(x))\n",
    "plt.grid(True)"
   ]
  },
  {
   "cell_type": "raw",
   "id": "organic-click",
   "metadata": {},
   "source": [
    "segundo o gráfico acima, a primeira raiz é um pouco maior que -2 e a segunda raiz é um pouco maior que 6"
   ]
  },
  {
   "cell_type": "markdown",
   "id": "nominated-milan",
   "metadata": {},
   "source": [
    "(b) Usando a fórmula quadrática;"
   ]
  },
  {
   "cell_type": "code",
   "execution_count": 3,
   "id": "banner-instrument",
   "metadata": {},
   "outputs": [
    {
     "name": "stdout",
     "output_type": "stream",
     "text": [
      "x1, x2 =  -1.4051248379533271971 6.4051248379533271974\n"
     ]
    }
   ],
   "source": [
    "a, b, c = np.float128(-0.5), np.float128(2.5), np.float128(4.5)\n",
    "delta = b**2 -4*a*c\n",
    "x1 = (-b + np.sqrt(delta)) / (2*a)\n",
    "x2 = (-b - np.sqrt(delta)) / (2*a)\n",
    "print(\"x1, x2 = \", x1, x2)"
   ]
  },
  {
   "cell_type": "markdown",
   "id": "sufficient-duncan",
   "metadata": {},
   "source": [
    "(c) Usando três iterações do método da bisseção para determinar a maior raiz. Use as aproximações iniciais xl = 5 e xu = 10. Calcule o erro relativo obtido entre cada iteração, e o erro\n",
    "entre os valores verdadeiros encontrados no item b e o valor de cada iteração."
   ]
  },
  {
   "cell_type": "code",
   "execution_count": 4,
   "id": "unsigned-malaysia",
   "metadata": {},
   "outputs": [
    {
     "data": {
      "text/plain": [
       "      converged: False\n",
       "           flag: 'convergence error'\n",
       " function_calls: 5\n",
       "     iterations: 3\n",
       "           root: 6.25"
      ]
     },
     "execution_count": 4,
     "metadata": {},
     "output_type": "execute_result"
    }
   ],
   "source": [
    "# Usando três iterações do método da bisseção para determinar a maior raiz. Use as aproximações iniciais xl = 5 e xu = 10.\n",
    "opt.root_scalar(f,method='bisect',bracket=[5,10], maxiter=3).root"
   ]
  },
  {
   "cell_type": "code",
   "execution_count": 5,
   "id": "applied-payroll",
   "metadata": {},
   "outputs": [
    {
     "data": {
      "text/plain": [
       "array([5.  , 6.25, 6.25], dtype=float128)"
      ]
     },
     "execution_count": 5,
     "metadata": {},
     "output_type": "execute_result"
    }
   ],
   "source": [
    "def err_rel(num , apro_num):\n",
    "    erro = np.absolute(num - apro_num) / np.absolute(num)\n",
    "    erro_porcent = erro / 100\n",
    "    return (erro, erro_porcent)\n",
    "\n",
    "iters = []\n",
    "for i in range(1, 3 + 1):\n",
    "    val_ite = opt.root_scalar(f, method='bisect', bracket=[5,10], maxiter=i).root\n",
    "    iters.append(val_ite)\n",
    "iters = np.array(iters, dtype=np.float128)\n",
    "iters"
   ]
  },
  {
   "cell_type": "code",
   "execution_count": 6,
   "id": "arabic-workstation",
   "metadata": {},
   "outputs": [
    {
     "name": "stdout",
     "output_type": "stream",
     "text": [
      "(erro, erro %)\n",
      "(0.2, 0.002)\n",
      "(0.0, 0.0)\n",
      "(0.0, 0.0)\n"
     ]
    }
   ],
   "source": [
    "# Calcule o erro relativo obtido entre cada iteração ...\n",
    "print(\"(erro, erro %)\")\n",
    "for i in range(1, 3 + 1):\n",
    "    Xi = opt.root_scalar(f, method='bisect', bracket=[5,10], maxiter=i).root\n",
    "    Xi_mais_1 = opt.root_scalar(f, method='bisect', bracket=[5,10], maxiter= i + 1).root\n",
    "    print(err_rel(Xi_mais_1, Xi))"
   ]
  },
  {
   "cell_type": "code",
   "execution_count": 7,
   "id": "ranging-production",
   "metadata": {},
   "outputs": [
    {
     "data": {
      "text/plain": [
       "(array([4.55840269, 5.44800336, 5.44800336], dtype=float128),\n",
       " array([0.04558403, 0.05448003, 0.05448003], dtype=float128))"
      ]
     },
     "execution_count": 7,
     "metadata": {},
     "output_type": "execute_result"
    }
   ],
   "source": [
    "# ... , e o erro entre os valores verdadeiros encontrados no item b e o valor de cada iteração.\n",
    "err_rel(np.array(x1), np.array(iters)) # para raiz x1 =  -1.4051248379533269883"
   ]
  },
  {
   "cell_type": "code",
   "execution_count": 8,
   "id": "urban-softball",
   "metadata": {},
   "outputs": [
    {
     "data": {
      "text/plain": [
       "(array([0.21937509, 0.02421886, 0.02421886], dtype=float128),\n",
       " array([0.00219375, 0.00024219, 0.00024219], dtype=float128))"
      ]
     },
     "execution_count": 8,
     "metadata": {},
     "output_type": "execute_result"
    }
   ],
   "source": [
    "# ... , e o erro entre os valores verdadeiros encontrados no item b e o valor de cada iteração.\n",
    "err_rel(np.array([x2]), np.array(iters)) # para raiz x2 =  6.4051248379533269883"
   ]
  },
  {
   "cell_type": "markdown",
   "id": "deluxe-little",
   "metadata": {},
   "source": [
    "2. Dada f (x) = −2x\n",
    "6 − 1.5x\n",
    "4 + 10x + 20, encontre o máximo dessa função ( f\n",
    "0\n",
    "(x) = 0) usando o\n",
    "método da bisseção, considerando o intervalo [0, 1] e um erro limite de 5%."
   ]
  },
  {
   "cell_type": "code",
   "execution_count": 9,
   "id": "arctic-heater",
   "metadata": {},
   "outputs": [
    {
     "data": {
      "text/plain": [
       "      converged: True\n",
       "           flag: 'converged'\n",
       " function_calls: 7\n",
       "     iterations: 5\n",
       "           root: 0.84375"
      ]
     },
     "execution_count": 9,
     "metadata": {},
     "output_type": "execute_result"
    }
   ],
   "source": [
    "def f(x): return -2*x**6 - 1.5*x**4 + 10*x + 20\n",
    "def df(x): return -12*x**5 - 6*x**3 + 10\n",
    "opt.root_scalar(df, method='bisect', bracket=[0,1], rtol=5e-2)"
   ]
  },
  {
   "cell_type": "markdown",
   "id": "solved-outline",
   "metadata": {},
   "source": [
    "3. Embora a bisseção seja uma técnica perfeitamente válida para determinar raízes, sua abordagem\n",
    "do tipo “força bruta” é relativamente ineficiente. A falsa posição é uma alternativa baseada na\n",
    "percepção gráfica.\n",
    "As bibliotecas numérica do python não trazem uma implementação desse método. Implementeo, teste-o com os exemplos da texto, comparando com o método da bisseção. Mostre que esse\n",
    "método, para vários casos, é mais eficiente que o da bisseção."
   ]
  },
  {
   "cell_type": "code",
   "execution_count": 10,
   "id": "explicit-forth",
   "metadata": {},
   "outputs": [],
   "source": [
    "# verifica se em um dado intervalo [a, b] de uma função f existe raiz para tal \n",
    "def has_root(f, bottom_limit, upper_limit):\n",
    "    if np.sign(f(bottom_limit)) * np.sign(f(upper_limit)) < 0: return True"
   ]
  },
  {
   "cell_type": "code",
   "execution_count": 11,
   "id": "danish-magnet",
   "metadata": {},
   "outputs": [],
   "source": [
    "# equação para encontrar a próxima aproximação de x, no método da bisseção ou falsa posição  \n",
    "def false_position_rule(f, bracket):\n",
    "    # return (bracket[0] + bracket[1]) / 2\n",
    "    return bracket[1] - ( ( f(bracket[1]) * (bracket[0] - bracket[1]) ) / ( f(bracket[0]) - f(bracket[1]) ) )"
   ]
  },
  {
   "cell_type": "code",
   "execution_count": 12,
   "id": "fundamental-lesbian",
   "metadata": {},
   "outputs": [],
   "source": [
    "# calcula o erro absoluto\n",
    "def xtol_rule(bracket):\n",
    "    #print(\"xtol_rule(bracket=\", bracket,\") =\", np.absolute(bracket[1] - bracket[0]) / 2)\n",
    "    return np.absolute(bracket[1] - bracket[0]) / 2"
   ]
  },
  {
   "cell_type": "code",
   "execution_count": 13,
   "id": "subtle-danish",
   "metadata": {},
   "outputs": [],
   "source": [
    "# calcula o erro relativo\n",
    "def rtol_rule(actual_iteration, next_iteration):\n",
    "    #print(\"rtol_rule =\", np.absolute(f(next_iteration) - actual_iteration) / f(next_iteration))\n",
    "    return np.absolute(next_iteration - actual_iteration) / np.absolute(next_iteration)"
   ]
  },
  {
   "cell_type": "code",
   "execution_count": 14,
   "id": "spectacular-andrews",
   "metadata": {},
   "outputs": [],
   "source": [
    "# recursão para método da falsa posição para os intervalos após o primeiro intervalo ter sido avaliado\n",
    "def false_position_recursion(f, bracket, maxiter=-1, ite_c=-1, xtol=-np.inf, rtol=-np.inf, side=0):\n",
    "    #print(\"false_position_recursion(f=\", f, \", bracket =\", bracket, \"maxiter =\", maxiter, \", ite_c=\", ite_c, \")\", \", xtol =\", xtol, \", rtol =\", rtol)\n",
    "    if ite_c == maxiter: # stop iterating by maximize\n",
    "        if bracket[0] <= xtol or bracket[0] <= rtol:\n",
    "            return (bracket[0], ite_c, \"converged\")\n",
    "        elif bracket[1] <= xtol or bracket[1] <= rtol:\n",
    "            return (bracket[1], ite_c, \"converged\")\n",
    "        else: \n",
    "            return (bracket[side], ite_c, \"convergence error, stoped iterating by maximiter\")\n",
    "    \n",
    "    # go left half\n",
    "    if has_root(f, bracket[0], false_position_rule(f, bracket)):\n",
    "        # stop iterating by xtol\n",
    "        if xtol_rule(bracket) <= xtol: \n",
    "            #print(\"stop iterating by xtol\")\n",
    "            return ([bracket[0], false_position_rule(f, bracket)][1], ite_c + 1, \"converged\")\n",
    "        # stop iterating by rtol\n",
    "        if rtol_rule(bracket[0], false_position_rule(f, bracket)) <= rtol:\n",
    "            #print(\"stop iterating by rtol\")\n",
    "            return ([bracket[0], false_position_rule(f, bracket)][1], ite_c + 1, \"converged\")\n",
    "        # iterate\n",
    "        return false_position_recursion(f, [bracket[0], false_position_rule(f, bracket)], maxiter=maxiter, ite_c= ite_c + 1, xtol=xtol, rtol=rtol, side=1)\n",
    "    \n",
    "    # go right half\n",
    "    elif has_root(f, false_position_rule(f, bracket), bracket[1]): \n",
    "        # stop iterating by xtol\n",
    "        if xtol_rule(bracket) <= xtol:\n",
    "            #print(\"stop iterating by xtol\")\n",
    "            return ([false_position_rule(f, bracket), bracket[1]][0], ite_c + 1, \"converged\")\n",
    "        # stop iterating by rtol\n",
    "        if rtol_rule(bracket[1], false_position_rule(f, bracket)) <= rtol:\n",
    "            #print(\"stop iterating by rtol\")\n",
    "            return ([false_position_rule(f, bracket), bracket[1]][0], ite_c + 1, \"converged\")\n",
    "        # iterate\n",
    "        return false_position_recursion(f, [false_position_rule(f, bracket), bracket[1]], maxiter=maxiter, ite_c= ite_c + 1, xtol=xtol, rtol=rtol)\n",
    "    \n",
    "    if bracket[0] <= xtol or bracket[0] <= rtol:\n",
    "        return (bracket[0], ite_c, \"converged, auto stop\")\n",
    "    elif bracket[1] <= xtol or bracket[1] <= rtol:\n",
    "        return (bracket[1], ite_c, \"converged, auto stop\")\n",
    "    else: \n",
    "        return (bracket[side], ite_c, \"convergence error, auto stop\")\n",
    "\n",
    "# método da falsa posição, testa o primeiro intervalo dado\n",
    "def false_position(f, bracket, maxiter=-1, ite_c=-1, xtol=-np.inf, rtol=-np.inf):\n",
    "    if has_root(f, bracket[0], bracket[1]): \n",
    "        return false_position_recursion(f, bracket, maxiter, ite_c=ite_c + 1, xtol=xtol, rtol=rtol)\n",
    "    else: return \"convergence error, \" + str(bracket) + \" gap does not has a root for f\""
   ]
  },
  {
   "cell_type": "code",
   "execution_count": 15,
   "id": "american-karma",
   "metadata": {},
   "outputs": [],
   "source": [
    "class TestCase:\n",
    "    def __init__(self, function, gap, function_string):\n",
    "        self.function = function\n",
    "        self.gap = gap\n",
    "        self.function_string = function_string\n",
    "    def __str__(self):\n",
    "        return \"f(x) = \" + self.function_string + \", no intervalo \" + str(self.gap)\n",
    "\n",
    "functions = [\n",
    "    lambda x: -0.5*x**2 + 2.5*x + 4.5,\n",
    "    lambda x: np.exp(x) - x - 2,\n",
    "    lambda x: np.cos(x) - np.sqrt(x)\n",
    "]\n",
    "functions_string = [\n",
    "    \"-0.5*x**2 + 2.5*x + 4.5\", \n",
    "    \"np.exp(x) - x - 2\",\n",
    "    \"np.cos(x) - np.sqrt(x)\"\n",
    "]\n",
    "gaps = [[5, 10], [-2, 0], [0, 1]]\n",
    "testCases = [TestCase(functions[i], gaps[i], functions_string[i]) for i in range(len(functions))]"
   ]
  },
  {
   "cell_type": "code",
   "execution_count": 16,
   "id": "technological-table",
   "metadata": {},
   "outputs": [
    {
     "name": "stdout",
     "output_type": "stream",
     "text": [
      "f(x) = -0.5*x**2 + 2.5*x + 4.5, no intervalo [5, 10]\n",
      "false posição = 6.405124837953325 , em 30  iterações\n",
      "bisseção = 6.405124837953053 , em 42  iterações\n",
      "True\n",
      "f(x) = np.exp(x) - x - 2, no intervalo [-2, 0]\n",
      "false posição = -1.841405660436952 , em 8  iterações\n",
      "bisseção = -1.8414056604360667 , em 40  iterações\n",
      "True\n",
      "f(x) = np.cos(x) - np.sqrt(x), no intervalo [0, 1]\n",
      "false posição = 0.641714370872883 , em 22  iterações\n",
      "bisseção = 0.6417143708731601 , em 39  iterações\n",
      "True\n"
     ]
    }
   ],
   "source": [
    "for test_case in testCases:\n",
    "    print(test_case)\n",
    "    falsa_posicao = false_position(test_case.function, bracket=test_case.gap)\n",
    "    f_falsa_posicao = test_case.function(falsa_posicao[0])\n",
    "    bissecao = opt.root_scalar(test_case.function, method='bisect', bracket=test_case.gap)\n",
    "    f_bissecao = test_case.function(bissecao.root)\n",
    "    print(\"false posição =\", falsa_posicao[0], \", em\", falsa_posicao[1], \" iterações\")\n",
    "    print(\"bisseção =\", bissecao.root, \", em\", bissecao.iterations, \" iterações\")\n",
    "    print(np.absolute(f_falsa_posicao)  - 0 < np.absolute(f_bissecao) - 0)"
   ]
  },
  {
   "cell_type": "raw",
   "id": "missing-auditor",
   "metadata": {},
   "source": [
    "print(np.absolute(f_falsa_posicao) - 0 < np.absolute(f_bissecao) - 0), sempre retorna True,\n",
    "ou seja, distância entre a aproximação pela falsa posição e o 0 < distância entre a aproximação pela bisseção e o 0),\n",
    "o que implica que a aproximação pela falsa posição está mais próxima da raiz de f(x) do que que a aproximação pela bisseção.\n",
    "Além disso, o método da bisseção sempre utiliza menos iterações do ue o método da falsa posição."
   ]
  },
  {
   "cell_type": "code",
   "execution_count": 17,
   "id": "biblical-salvation",
   "metadata": {},
   "outputs": [
    {
     "data": {
      "text/plain": [
       "      converged: True\n",
       "           flag: 'converged'\n",
       " function_calls: 44\n",
       "     iterations: 42\n",
       "           root: 6.405124837953053"
      ]
     },
     "execution_count": 17,
     "metadata": {},
     "output_type": "execute_result"
    }
   ],
   "source": [
    "def f(x): return -0.5*x**2 + 2.5*x + 4.5\n",
    "opt.root_scalar(f, method='bisect',bracket=[5, 10])"
   ]
  },
  {
   "cell_type": "markdown",
   "id": "regulation-chuck",
   "metadata": {},
   "source": [
    "4. Use a iteração de ponto fixo simples para localizar a raiz de f (x) = 2 sin(\n",
    "p\n",
    "x)− x, tendo x0 = 0, 5\n",
    "e adotando como critério de parada o erro ea ≤ 0, 001%."
   ]
  },
  {
   "cell_type": "code",
   "execution_count": 18,
   "id": "earlier-glasgow",
   "metadata": {},
   "outputs": [
    {
     "data": {
      "text/plain": [
       "array(0.76864886)"
      ]
     },
     "execution_count": 18,
     "metadata": {},
     "output_type": "execute_result"
    }
   ],
   "source": [
    "def f(x): return 2*np.sin(np.sqrt(x))-x\n",
    "opt.fixed_point(f, 0.5, xtol=1e-3/100)"
   ]
  },
  {
   "cell_type": "markdown",
   "id": "baking-species",
   "metadata": {},
   "source": [
    "5. Determine a maior raiz real de f (x) = 2x\n",
    "3 − 11.7x\n",
    "2 + 17.7x − 5"
   ]
  },
  {
   "cell_type": "markdown",
   "id": "printable-wales",
   "metadata": {},
   "source": [
    "(a) Graficamente;"
   ]
  },
  {
   "cell_type": "code",
   "execution_count": 19,
   "id": "funded-finish",
   "metadata": {},
   "outputs": [
    {
     "data": {
      "image/png": "[encoded data removed]",
      "text/plain": [
       "<Figure size 432x288 with 1 Axes>"
      ]
     },
     "metadata": {
      "needs_background": "light"
     },
     "output_type": "display_data"
    }
   ],
   "source": [
    "def f(x): return 2*x**3 - 11.7*x**2 + 17.7*x - 5\n",
    "x = np.linspace(0., 4., 200)\n",
    "plt.plot(x, f(x))\n",
    "plt.grid(True)"
   ]
  },
  {
   "cell_type": "raw",
   "id": "executed-champion",
   "metadata": {},
   "source": [
    "a maior raiz real é um pouco maior que 3.5"
   ]
  },
  {
   "cell_type": "markdown",
   "id": "coastal-captain",
   "metadata": {},
   "source": [
    "(b) Pelo método da iteração de ponto fixo (três iterações, x0 = 3)( certifique-se de desenvolver\n",
    "uma solução que convirja para a raiz);"
   ]
  },
  {
   "cell_type": "raw",
   "id": "accurate-norman",
   "metadata": {},
   "source": [
    "Isolando o x, para encontrar g(x)\n",
    "f(x) = 2*x**3 - 11.7*x**2 + 17.7*x - 5 = 0\n",
    "x * (2*x**2 - 11.7*x + 17.7) - 5 = 0\n",
    "x * (2*x**2 - 11.7*x + 17.7) = 5\n",
    "x = 5 / (2*x**2 - 11.7*x + 17.7)\n",
    "g(x) = 5 / (2*x**2 - 11.7*x + 17.7)\n",
    "poderia haver erro de divisão por zero se (2*x**2 - 11.7*x + 17.7) = 0,\n",
    "porém de acordo com os gráficos abaixo z(x) = (2*x**2 - 11.7*x + 17.7) abaixo, z(x) não tem raiz nos Reais, \n",
    "logo (2*x**2 - 11.7*x + 17.7) = 0 não irá acontecer, \n",
    "portanto em g(x) = 5 / (2*x**2 - 11.7*x + 17.7) não haverá divisão por 0"
   ]
  },
  {
   "cell_type": "code",
   "execution_count": 20,
   "id": "available-russian",
   "metadata": {},
   "outputs": [
    {
     "name": "stdout",
     "output_type": "stream",
     "text": [
      "visualização próxima de z(x) = 0\n"
     ]
    },
    {
     "data": {
      "image/png": "[encoded data removed]",
      "text/plain": [
       "<Figure size 432x288 with 1 Axes>"
      ]
     },
     "metadata": {
      "needs_background": "light"
     },
     "output_type": "display_data"
    }
   ],
   "source": [
    "# gráfico para explicação acima\n",
    "def z(x): return 2*x**2 - 11.7*x + 17.7\n",
    "x = np.linspace(0., 6., 200)\n",
    "print(\"visualização próxima de z(x) = 0\")\n",
    "plt.plot(x, z(x))\n",
    "plt.grid(True)"
   ]
  },
  {
   "cell_type": "code",
   "execution_count": 21,
   "id": "cooperative-crest",
   "metadata": {},
   "outputs": [
    {
     "name": "stdout",
     "output_type": "stream",
     "text": [
      "error = Failed to converge after 3 iterations, value is 0.36501304033751336\n",
      "root = 0.36501304033751336\n"
     ]
    }
   ],
   "source": [
    "def g(x): return 5 / (2*x**2 - 11.7*x + 17.7)\n",
    "try:\n",
    "    root = opt.fixed_point(func=g, x0=3, maxiter=3)\n",
    "except RuntimeError as convergence_error:\n",
    "    print(\"error =\", convergence_error)\n",
    "    root = convergence_error.args[0].split()[-1]\n",
    "finally:\n",
    "    print(\"root =\", root)"
   ]
  },
  {
   "cell_type": "markdown",
   "id": "working-calvin",
   "metadata": {},
   "source": [
    "(c) Pelo método de Newton-Raphson (três iterações, x0 = 3);"
   ]
  },
  {
   "cell_type": "code",
   "execution_count": 22,
   "id": "cleared-teens",
   "metadata": {},
   "outputs": [
    {
     "data": {
      "text/plain": [
       "      converged: False\n",
       "           flag: 'convergence error'\n",
       " function_calls: 6\n",
       "     iterations: 3\n",
       "           root: 3.7929344806432264"
      ]
     },
     "execution_count": 22,
     "metadata": {},
     "output_type": "execute_result"
    }
   ],
   "source": [
    "def df(x): return 6*x**2 - 23.4*x + 17.7\n",
    "opt.root_scalar(f=f, fprime=df, method='newton', maxiter=3, x0=3)"
   ]
  },
  {
   "cell_type": "markdown",
   "id": "funded-encyclopedia",
   "metadata": {},
   "source": [
    "(d) Pelo método da secante (três iterações, x−1 = 3, x0 = 4)."
   ]
  },
  {
   "cell_type": "code",
   "execution_count": 23,
   "id": "classified-litigation",
   "metadata": {},
   "outputs": [
    {
     "data": {
      "text/plain": [
       "      converged: False\n",
       "           flag: 'convergence error'\n",
       " function_calls: 5\n",
       "     iterations: 3\n",
       "           root: 3.5862753847117346"
      ]
     },
     "execution_count": 23,
     "metadata": {},
     "output_type": "execute_result"
    }
   ],
   "source": [
    "opt.root_scalar(f=f, method='secant', maxiter=3, x0=3, x1=4)"
   ]
  },
  {
   "cell_type": "markdown",
   "id": "broke-listing",
   "metadata": {},
   "source": [
    "6. Compare os métodos da bisseção, falsa posição, do ponto fixo, de Newton-Raphson e da secante,\n",
    "localizando a raiz das seguintes equações:"
   ]
  },
  {
   "cell_type": "code",
   "execution_count": 24,
   "id": "precious-barcelona",
   "metadata": {},
   "outputs": [],
   "source": [
    "ite = 200\n",
    "tol = 10**-10"
   ]
  },
  {
   "cell_type": "raw",
   "id": "south-recipe",
   "metadata": {},
   "source": [
    "EXPLICAÇÃO DOS MÉTODOS DE MEDIÇÃO DE TEMPO UTILIZADOS\n",
    "\n",
    "- Wall Time: é o tempo pela pespectiva de fora do computador, \n",
    "ou seja inclui computação não útil para está célula\n",
    "- user CPU time: é o tempo real total em que a CPU estava executando está célula, \n",
    "ou seja apenas computação útil para esta célula\n",
    "- sys CPU time: é o tempo de execução da célula no kernel\n",
    "\n",
    "%%time\n",
    "tras a médida de tempo de execução da célula\n",
    "\n",
    "%%timeit\n",
    "tras uma média de tempo basiada em repetição da instrução\n",
    "-o retorna um objeto com os dados do teste\n",
    "-n quantidade de loops para o teste\n",
    "-r quantidade de repetições do teste\n",
    "-c em Unix based System, especifica User CPU Time\n",
    "-c em Windows, especifica o Wall Time\n",
    "\n",
    "%%capture local_cell_data\n",
    "guarda todos os dados da célula executada em local_cell_time"
   ]
  },
  {
   "cell_type": "markdown",
   "id": "pursuant-termination",
   "metadata": {},
   "source": [
    "(a) f1\n",
    "(x) = 2x\n",
    "4 + 4x\n",
    "3 + 3x\n",
    "2 − 10x − 15, com x\n",
    "∗ ∈ [0, 3]"
   ]
  },
  {
   "cell_type": "code",
   "execution_count": 25,
   "id": "moved-consensus",
   "metadata": {},
   "outputs": [],
   "source": [
    "data = []"
   ]
  },
  {
   "cell_type": "markdown",
   "id": "fewer-appraisal",
   "metadata": {},
   "source": [
    "bisseção"
   ]
  },
  {
   "cell_type": "code",
   "execution_count": 26,
   "id": "downtown-opinion",
   "metadata": {},
   "outputs": [],
   "source": [
    "def f(x): return 2*x**4 + 4*x**3 + 3*x**2 - 10*x - 15\n",
    "bracket = [0, 3]"
   ]
  },
  {
   "cell_type": "code",
   "execution_count": 27,
   "id": "attempted-plenty",
   "metadata": {},
   "outputs": [
    {
     "name": "stdout",
     "output_type": "stream",
     "text": [
      "The slowest run took 4.87 times longer than the fastest. This could mean that an intermediate result is being cached.\n",
      "61.7 µs ± 44.6 µs per loop (mean ± std. dev. of 5 runs, 100 loops each)\n"
     ]
    }
   ],
   "source": [
    "t = %timeit -r 5 -n 100 -c -o opt.root_scalar(f=f, method='bisect', bracket=bracket, rtol=tol, maxiter=ite)"
   ]
  },
  {
   "cell_type": "code",
   "execution_count": 28,
   "id": "received-flexibility",
   "metadata": {},
   "outputs": [],
   "source": [
    "%%capture local_cell_data\n",
    "%%time \n",
    "bissecao_6 = opt.root_scalar(f=f, method='bisect', bracket=bracket, rtol=tol, maxiter=ite)"
   ]
  },
  {
   "cell_type": "code",
   "execution_count": 29,
   "id": "nasty-lancaster",
   "metadata": {},
   "outputs": [],
   "source": [
    "data.append([np.array([bissecao_6.root], dtype=np.float64), bissecao_6.iterations, bissecao_6.flag, \n",
    "             local_cell_data.stdout.replace('\\n', \" | \"), str(t)])"
   ]
  },
  {
   "cell_type": "markdown",
   "id": "premier-monroe",
   "metadata": {},
   "source": [
    "falsa posição"
   ]
  },
  {
   "cell_type": "code",
   "execution_count": 30,
   "id": "every-accounting",
   "metadata": {},
   "outputs": [
    {
     "name": "stdout",
     "output_type": "stream",
     "text": [
      "2.13 ms ± 114 µs per loop (mean ± std. dev. of 5 runs, 100 loops each)\n"
     ]
    }
   ],
   "source": [
    "t = %timeit -r 5 -n 100 -c -o false_position(f=f, bracket=bracket, rtol=tol, maxiter=ite)"
   ]
  },
  {
   "cell_type": "code",
   "execution_count": 31,
   "id": "exterior-plymouth",
   "metadata": {},
   "outputs": [],
   "source": [
    "%%capture local_cell_data\n",
    "%%time \n",
    "falsa_posicao_6 = false_position(f=f, bracket=bracket, rtol=tol, maxiter=ite)"
   ]
  },
  {
   "cell_type": "code",
   "execution_count": 32,
   "id": "interested-north",
   "metadata": {},
   "outputs": [],
   "source": [
    "data.append([np.array([falsa_posicao_6[0]], dtype=np.float64), falsa_posicao_6[1], falsa_posicao_6[2], \n",
    "             local_cell_data.stdout.replace('\\n', \" | \"), str(t)])"
   ]
  },
  {
   "cell_type": "markdown",
   "id": "stone-senegal",
   "metadata": {},
   "source": [
    "ponto fixo"
   ]
  },
  {
   "cell_type": "code",
   "execution_count": 33,
   "id": "hidden-retirement",
   "metadata": {},
   "outputs": [],
   "source": [
    "%%capture raiz_no_grafico\n",
    "def reta_y_x(x): return x\n",
    "x = np.linspace(-2, 2, 200)\n",
    "plt.plot(x, f(x))\n",
    "plt.plot(x, reta_y_x(x))\n",
    "plt.grid(True)"
   ]
  },
  {
   "cell_type": "code",
   "execution_count": 34,
   "id": "floppy-romance",
   "metadata": {},
   "outputs": [
    {
     "data": {
      "image/png": "[encoded data removed]",
      "text/plain": [
       "<Figure size 432x288 with 1 Axes>"
      ]
     },
     "metadata": {
      "needs_background": "light"
     },
     "output_type": "display_data"
    }
   ],
   "source": [
    "raiz_no_grafico.show()"
   ]
  },
  {
   "cell_type": "raw",
   "id": "coral-district",
   "metadata": {},
   "source": [
    "de acordo com o gráfico acima, a maior raiz de f(x) é proxima de 1.5, logo"
   ]
  },
  {
   "cell_type": "code",
   "execution_count": 35,
   "id": "choice-williams",
   "metadata": {},
   "outputs": [],
   "source": [
    "x0 = 1.5"
   ]
  },
  {
   "cell_type": "raw",
   "id": "crazy-battle",
   "metadata": {},
   "source": [
    "Isolando o x, para encontrar g(x)\n",
    "somando x a equação f(x) = 0\n",
    "x = f(x) + x\n",
    "g(x) = f(x) + x"
   ]
  },
  {
   "cell_type": "code",
   "execution_count": 36,
   "id": "aging-cyprus",
   "metadata": {},
   "outputs": [],
   "source": [
    "def g(x): return f(x) + x"
   ]
  },
  {
   "cell_type": "code",
   "execution_count": 37,
   "id": "answering-comment",
   "metadata": {},
   "outputs": [
    {
     "name": "stdout",
     "output_type": "stream",
     "text": [
      "1.07 ms ± 128 µs per loop (mean ± std. dev. of 5 runs, 100 loops each)\n"
     ]
    }
   ],
   "source": [
    "t = %timeit -r 5 -n 100 -c -o opt.fixed_point(g, x0=x0, xtol=tol, maxiter=ite)"
   ]
  },
  {
   "cell_type": "code",
   "execution_count": 38,
   "id": "generic-communication",
   "metadata": {},
   "outputs": [],
   "source": [
    "%%capture local_cell_data\n",
    "%%time\n",
    "ponto_fixo_6 = opt.fixed_point(g, x0=x0, xtol=tol, maxiter=ite)"
   ]
  },
  {
   "cell_type": "code",
   "execution_count": 39,
   "id": "marine-vintage",
   "metadata": {},
   "outputs": [],
   "source": [
    "iteracoes = \"not able to check how many iterations were made\"\n",
    "if local_cell_data.stdout and not local_cell_data.stderr:\n",
    "    for i in range(ite + 1):\n",
    "        try:\n",
    "            if opt.fixed_point(g, x0=x0, xtol=tol, maxiter=i) == ponto_fixo_6:\n",
    "                iteracoes = i\n",
    "                break\n",
    "        except:\n",
    "            #print(\"needs more than\", i, \"iterations\")\n",
    "            pass"
   ]
  },
  {
   "cell_type": "code",
   "execution_count": 40,
   "id": "failing-family",
   "metadata": {},
   "outputs": [],
   "source": [
    "if local_cell_data.stdout and not local_cell_data.stderr:\n",
    "    data.append([np.array([ponto_fixo_6], dtype=np.float64), iteracoes, \"converged\", local_cell_data.stdout.replace('\\n', \" | \"), str(t)])\n",
    "else:\n",
    "    data.append([np.nan, iteracoes, local_cell_data.stderr, np.nan, np.nan])"
   ]
  },
  {
   "cell_type": "markdown",
   "id": "immune-boards",
   "metadata": {},
   "source": [
    "newton"
   ]
  },
  {
   "cell_type": "code",
   "execution_count": 41,
   "id": "secondary-welding",
   "metadata": {},
   "outputs": [],
   "source": [
    "def df(x): return 8*x**3 + 12*x**2 + 6*x - 10"
   ]
  },
  {
   "cell_type": "code",
   "execution_count": 42,
   "id": "bright-causing",
   "metadata": {},
   "outputs": [
    {
     "name": "stdout",
     "output_type": "stream",
     "text": [
      "172 µs ± 30.8 µs per loop (mean ± std. dev. of 5 runs, 100 loops each)\n"
     ]
    }
   ],
   "source": [
    "t = %timeit -r 5 -n 100 -c -o opt.root_scalar(f=f, fprime=df, x0=x0, method='newton', rtol=tol, maxiter=ite)"
   ]
  },
  {
   "cell_type": "code",
   "execution_count": 43,
   "id": "engaging-detroit",
   "metadata": {},
   "outputs": [],
   "source": [
    "%%capture local_cell_data\n",
    "%%time\n",
    "newton_6 = opt.root_scalar(f=f, fprime=df, x0=x0, method='newton', rtol=tol, maxiter=ite)"
   ]
  },
  {
   "cell_type": "code",
   "execution_count": 44,
   "id": "classified-clothing",
   "metadata": {},
   "outputs": [],
   "source": [
    "data.append([[np.array(newton_6.root, dtype=np.float64)], newton_6.iterations, newton_6.flag, local_cell_data.stdout.replace('\\n', \" | \"), str(t)])"
   ]
  },
  {
   "cell_type": "markdown",
   "id": "academic-tulsa",
   "metadata": {},
   "source": [
    "secante"
   ]
  },
  {
   "cell_type": "code",
   "execution_count": 45,
   "id": "portable-sender",
   "metadata": {},
   "outputs": [
    {
     "data": {
      "image/png": "[encoded data removed]",
      "text/plain": [
       "<Figure size 432x288 with 1 Axes>"
      ]
     },
     "metadata": {
      "needs_background": "light"
     },
     "output_type": "display_data"
    }
   ],
   "source": [
    "raiz_no_grafico.show()"
   ]
  },
  {
   "cell_type": "raw",
   "id": "lined-empire",
   "metadata": {},
   "source": [
    "de acordo com o gráfico acima, a maior raiz de f(x) é proxima de 1.5, logo"
   ]
  },
  {
   "cell_type": "code",
   "execution_count": 46,
   "id": "adverse-stick",
   "metadata": {},
   "outputs": [],
   "source": [
    "x1 = 1.5\n",
    "x0 = 1"
   ]
  },
  {
   "cell_type": "code",
   "execution_count": 47,
   "id": "bacterial-success",
   "metadata": {},
   "outputs": [
    {
     "name": "stdout",
     "output_type": "stream",
     "text": [
      "424 µs ± 51.5 µs per loop (mean ± std. dev. of 5 runs, 100 loops each)\n"
     ]
    }
   ],
   "source": [
    "t = %timeit -r 5 -n 100 -c -o opt.root_scalar(f, x0=x0, x1=x1, method='secant', rtol=tol, maxiter=ite)"
   ]
  },
  {
   "cell_type": "code",
   "execution_count": 48,
   "id": "serial-cotton",
   "metadata": {},
   "outputs": [],
   "source": [
    "%%capture local_cell_data\n",
    "%%time\n",
    "secante_6 = opt.root_scalar(f, x0=x0, x1=x1, method='secant', rtol=tol, maxiter=ite)"
   ]
  },
  {
   "cell_type": "code",
   "execution_count": 49,
   "id": "mineral-passion",
   "metadata": {},
   "outputs": [],
   "source": [
    "data.append([np.array([secante_6.root], dtype=np.float64), secante_6.iterations, secante_6.flag, local_cell_data.stdout.replace('\\n', \" | \"), str(t)])"
   ]
  },
  {
   "cell_type": "code",
   "execution_count": 50,
   "id": "statistical-hybrid",
   "metadata": {},
   "outputs": [
    {
     "data": {
      "text/html": [
       "<div>\n",
       "<style scoped>\n",
       "    .dataframe tbody tr th:only-of-type {\n",
       "        vertical-align: middle;\n",
       "    }\n",
       "\n",
       "    .dataframe tbody tr th {\n",
       "        vertical-align: top;\n",
       "    }\n",
       "\n",
       "    .dataframe thead th {\n",
       "        text-align: right;\n",
       "    }\n",
       "</style>\n",
       "<table border=\"1\" class=\"dataframe\">\n",
       "  <thead>\n",
       "    <tr style=\"text-align: right;\">\n",
       "      <th></th>\n",
       "      <th>raiz</th>\n",
       "      <th>iterações</th>\n",
       "      <th>convergence flag</th>\n",
       "      <th>1 execution time</th>\n",
       "      <th>test execution time</th>\n",
       "    </tr>\n",
       "  </thead>\n",
       "  <tbody>\n",
       "    <tr>\n",
       "      <th>bisseção</th>\n",
       "      <td>[1.4928787086100783]</td>\n",
       "      <td>35</td>\n",
       "      <td>converged</td>\n",
       "      <td>CPU times: user 159 us, sys: 23 us, total: 182 us | Wall time: 192 us |</td>\n",
       "      <td>61.7 µs ± 44.6 µs per loop (mean ± std. dev. of 5 runs, 100 loops each)</td>\n",
       "    </tr>\n",
       "    <tr>\n",
       "      <th>falsa poisção</th>\n",
       "      <td>[1.4928787086636037]</td>\n",
       "      <td>100</td>\n",
       "      <td>converged</td>\n",
       "      <td>CPU times: user 2.49 ms, sys: 0 ns, total: 2.49 ms | Wall time: 2.5 ms |</td>\n",
       "      <td>2.13 ms ± 114 µs per loop (mean ± std. dev. of 5 runs, 100 loops each)</td>\n",
       "    </tr>\n",
       "    <tr>\n",
       "      <th>ponto fixo</th>\n",
       "      <td>[1.4928787086636037]</td>\n",
       "      <td>5</td>\n",
       "      <td>converged</td>\n",
       "      <td>CPU times: user 3.9 ms, sys: 0 ns, total: 3.9 ms | Wall time: 3.14 ms |</td>\n",
       "      <td>1.07 ms ± 128 µs per loop (mean ± std. dev. of 5 runs, 100 loops each)</td>\n",
       "    </tr>\n",
       "    <tr>\n",
       "      <th>newton</th>\n",
       "      <td>[1.4928787086636037]</td>\n",
       "      <td>3</td>\n",
       "      <td>converged</td>\n",
       "      <td>CPU times: user 470 us, sys: 47 us, total: 517 us | Wall time: 528 us |</td>\n",
       "      <td>172 µs ± 30.8 µs per loop (mean ± std. dev. of 5 runs, 100 loops each)</td>\n",
       "    </tr>\n",
       "    <tr>\n",
       "      <th>secant</th>\n",
       "      <td>[1.4928787086636035]</td>\n",
       "      <td>6</td>\n",
       "      <td>converged</td>\n",
       "      <td>CPU times: user 527 us, sys: 0 ns, total: 527 us | Wall time: 664 us |</td>\n",
       "      <td>424 µs ± 51.5 µs per loop (mean ± std. dev. of 5 runs, 100 loops each)</td>\n",
       "    </tr>\n",
       "  </tbody>\n",
       "</table>\n",
       "</div>"
      ],
      "text/plain": [
       "                               raiz  iterações convergence flag  \\\n",
       "bisseção       [1.4928787086100783]         35        converged   \n",
       "falsa poisção  [1.4928787086636037]        100        converged   \n",
       "ponto fixo     [1.4928787086636037]          5        converged   \n",
       "newton         [1.4928787086636037]          3        converged   \n",
       "secant         [1.4928787086636035]          6        converged   \n",
       "\n",
       "                                                                        1 execution time  \\\n",
       "bisseção        CPU times: user 159 us, sys: 23 us, total: 182 us | Wall time: 192 us |    \n",
       "falsa poisção  CPU times: user 2.49 ms, sys: 0 ns, total: 2.49 ms | Wall time: 2.5 ms |    \n",
       "ponto fixo      CPU times: user 3.9 ms, sys: 0 ns, total: 3.9 ms | Wall time: 3.14 ms |    \n",
       "newton          CPU times: user 470 us, sys: 47 us, total: 517 us | Wall time: 528 us |    \n",
       "secant           CPU times: user 527 us, sys: 0 ns, total: 527 us | Wall time: 664 us |    \n",
       "\n",
       "                                                                   test execution time  \n",
       "bisseção       61.7 µs ± 44.6 µs per loop (mean ± std. dev. of 5 runs, 100 loops each)  \n",
       "falsa poisção   2.13 ms ± 114 µs per loop (mean ± std. dev. of 5 runs, 100 loops each)  \n",
       "ponto fixo      1.07 ms ± 128 µs per loop (mean ± std. dev. of 5 runs, 100 loops each)  \n",
       "newton          172 µs ± 30.8 µs per loop (mean ± std. dev. of 5 runs, 100 loops each)  \n",
       "secant          424 µs ± 51.5 µs per loop (mean ± std. dev. of 5 runs, 100 loops each)  "
      ]
     },
     "execution_count": 50,
     "metadata": {},
     "output_type": "execute_result"
    }
   ],
   "source": [
    "dataFrame = pd.DataFrame(data, [\"bisseção\", \"falsa poisção\", \"ponto fixo\", \"newton\", \"secant\"], \n",
    "                         [\"raiz\", \"iterações\", \"convergence flag\", \"1 execution time\", \"test execution time\"])\n",
    "pd.set_option(\"display.max_colwidth\", 200)\n",
    "dataFrame"
   ]
  },
  {
   "cell_type": "markdown",
   "id": "expanded-circus",
   "metadata": {},
   "source": [
    "(b) f2\n",
    "(x) = (x + 3)(x + 1)(x − 2)\n",
    "3\n",
    ", com x\n",
    "∗ ∈ [0, 5]"
   ]
  },
  {
   "cell_type": "code",
   "execution_count": 51,
   "id": "controlling-convenience",
   "metadata": {},
   "outputs": [],
   "source": [
    "data = []"
   ]
  },
  {
   "cell_type": "markdown",
   "id": "loving-grove",
   "metadata": {},
   "source": [
    "bisseção"
   ]
  },
  {
   "cell_type": "code",
   "execution_count": 52,
   "id": "earned-provincial",
   "metadata": {},
   "outputs": [],
   "source": [
    "def f(x): return (x + 3) * (x + 1) * (x - 2) * 3\n",
    "bracket = [0, 5]"
   ]
  },
  {
   "cell_type": "code",
   "execution_count": 53,
   "id": "functional-publicity",
   "metadata": {},
   "outputs": [
    {
     "name": "stdout",
     "output_type": "stream",
     "text": [
      "42.2 µs ± 8.42 µs per loop (mean ± std. dev. of 5 runs, 100 loops each)\n"
     ]
    }
   ],
   "source": [
    "t = %timeit -r 5 -n 100 -c -o opt.root_scalar(f=f, method='bisect', bracket=bracket, rtol=tol, maxiter=ite)"
   ]
  },
  {
   "cell_type": "code",
   "execution_count": 54,
   "id": "coastal-february",
   "metadata": {},
   "outputs": [],
   "source": [
    "%%capture local_cell_data\n",
    "%%time \n",
    "bissecao_6 = opt.root_scalar(f=f, method='bisect', bracket=bracket, rtol=tol, maxiter=ite)"
   ]
  },
  {
   "cell_type": "code",
   "execution_count": 55,
   "id": "utility-ethnic",
   "metadata": {},
   "outputs": [],
   "source": [
    "data.append([np.array([bissecao_6.root], dtype=np.float64), bissecao_6.iterations, bissecao_6.flag, \n",
    "             local_cell_data.stdout.replace('\\n', \" | \"), str(t)])"
   ]
  },
  {
   "cell_type": "markdown",
   "id": "mathematical-skirt",
   "metadata": {},
   "source": [
    "falsa posição"
   ]
  },
  {
   "cell_type": "code",
   "execution_count": 56,
   "id": "regular-score",
   "metadata": {},
   "outputs": [
    {
     "name": "stdout",
     "output_type": "stream",
     "text": [
      "3.39 ms ± 1.07 ms per loop (mean ± std. dev. of 5 runs, 100 loops each)\n"
     ]
    }
   ],
   "source": [
    "t = %timeit -r 5 -n 100 -c -o false_position(f=f, bracket=bracket, rtol=tol, maxiter=ite)"
   ]
  },
  {
   "cell_type": "code",
   "execution_count": 57,
   "id": "banned-observer",
   "metadata": {},
   "outputs": [],
   "source": [
    "%%capture local_cell_data\n",
    "%%time \n",
    "falsa_posicao_6 = false_position(f=f, bracket=bracket, rtol=tol, maxiter=ite)"
   ]
  },
  {
   "cell_type": "code",
   "execution_count": 58,
   "id": "fallen-banner",
   "metadata": {},
   "outputs": [],
   "source": [
    "data.append([np.array([falsa_posicao_6[0]], dtype=np.float64), falsa_posicao_6[1], falsa_posicao_6[2], \n",
    "             local_cell_data.stdout.replace('\\n', \" | \"), str(t)])"
   ]
  },
  {
   "cell_type": "markdown",
   "id": "adjustable-correlation",
   "metadata": {},
   "source": [
    "ponto fixo"
   ]
  },
  {
   "cell_type": "code",
   "execution_count": 59,
   "id": "raising-india",
   "metadata": {},
   "outputs": [],
   "source": [
    "%%capture raiz_no_grafico\n",
    "def reta_y_x(x): return x\n",
    "x = np.linspace(-4, 3, 200)\n",
    "plt.plot(x, f(x))\n",
    "plt.plot(x, reta_y_x(x))\n",
    "plt.grid(True)"
   ]
  },
  {
   "cell_type": "code",
   "execution_count": 60,
   "id": "exempt-fairy",
   "metadata": {},
   "outputs": [
    {
     "data": {
      "image/png": "[encoded data removed]",
      "text/plain": [
       "<Figure size 432x288 with 1 Axes>"
      ]
     },
     "metadata": {
      "needs_background": "light"
     },
     "output_type": "display_data"
    }
   ],
   "source": [
    "raiz_no_grafico.show()"
   ]
  },
  {
   "cell_type": "raw",
   "id": "female-placement",
   "metadata": {},
   "source": [
    "de acordo com o gráfico acima, a maior raiz de f(x) é proxima de 2, logo"
   ]
  },
  {
   "cell_type": "code",
   "execution_count": 61,
   "id": "deadly-representation",
   "metadata": {},
   "outputs": [],
   "source": [
    "x0 = 1.5"
   ]
  },
  {
   "cell_type": "raw",
   "id": "interesting-programming",
   "metadata": {},
   "source": [
    "Isolando o x, para encontrar g(x)\n",
    "somando x a equação f(x) = 0\n",
    "x = f(x) + x\n",
    "g(x) = f(x) + x"
   ]
  },
  {
   "cell_type": "code",
   "execution_count": 62,
   "id": "shared-single",
   "metadata": {},
   "outputs": [],
   "source": [
    "def g(x): return f(x) + x"
   ]
  },
  {
   "cell_type": "code",
   "execution_count": 63,
   "id": "specific-painting",
   "metadata": {},
   "outputs": [
    {
     "name": "stdout",
     "output_type": "stream",
     "text": [
      "3.45 ms ± 591 µs per loop (mean ± std. dev. of 5 runs, 100 loops each)\n"
     ]
    }
   ],
   "source": [
    "t = %timeit -r 5 -n 100 -c -o opt.fixed_point(g, x0=x0, xtol=tol, maxiter=ite)"
   ]
  },
  {
   "cell_type": "code",
   "execution_count": 64,
   "id": "optional-national",
   "metadata": {},
   "outputs": [],
   "source": [
    "%%capture local_cell_data\n",
    "%%time\n",
    "ponto_fixo_6 = opt.fixed_point(g, x0=x0, xtol=tol, maxiter=ite)"
   ]
  },
  {
   "cell_type": "code",
   "execution_count": 65,
   "id": "neutral-accessory",
   "metadata": {},
   "outputs": [],
   "source": [
    "iteracoes = \"not able to check how many iterations were made\"\n",
    "if local_cell_data.stdout and not local_cell_data.stderr:\n",
    "    for i in range(ite + 1):\n",
    "        try:\n",
    "            if opt.fixed_point(g, x0=x0, xtol=tol, maxiter=i) == ponto_fixo_6:\n",
    "                iteracoes = i\n",
    "                break\n",
    "        except:\n",
    "            #print(\"needs more than\", i, \"iterations\")\n",
    "            pass"
   ]
  },
  {
   "cell_type": "code",
   "execution_count": 66,
   "id": "supposed-globe",
   "metadata": {},
   "outputs": [],
   "source": [
    "if local_cell_data.stdout and not local_cell_data.stderr:\n",
    "    data.append([np.array([ponto_fixo_6], dtype=np.float64), iteracoes, \"converged\", local_cell_data.stdout.replace('\\n', \" | \"), str(t)])\n",
    "else:\n",
    "    data.append([np.nan, iteracoes, local_cell_data.stderr, np.nan, np.nan])"
   ]
  },
  {
   "cell_type": "markdown",
   "id": "athletic-poultry",
   "metadata": {},
   "source": [
    "newton"
   ]
  },
  {
   "cell_type": "code",
   "execution_count": 67,
   "id": "traditional-divide",
   "metadata": {},
   "outputs": [],
   "source": [
    "def df(x): return 3 * (3*x**2 + 4*x - 5)"
   ]
  },
  {
   "cell_type": "code",
   "execution_count": 68,
   "id": "comparable-community",
   "metadata": {},
   "outputs": [
    {
     "name": "stdout",
     "output_type": "stream",
     "text": [
      "292 µs ± 90.5 µs per loop (mean ± std. dev. of 5 runs, 100 loops each)\n"
     ]
    }
   ],
   "source": [
    "t = %timeit -r 5 -n 100 -c -o opt.root_scalar(f=f, fprime=df, x0=x0, method='newton', rtol=tol, maxiter=ite)"
   ]
  },
  {
   "cell_type": "code",
   "execution_count": 69,
   "id": "hungarian-remark",
   "metadata": {},
   "outputs": [],
   "source": [
    "%%capture local_cell_data\n",
    "%%time\n",
    "newton_6 = opt.root_scalar(f=f, fprime=df, x0=x0, method='newton', rtol=tol, maxiter=ite)"
   ]
  },
  {
   "cell_type": "code",
   "execution_count": 70,
   "id": "ignored-concentrate",
   "metadata": {},
   "outputs": [],
   "source": [
    "data.append([[np.array(newton_6.root, dtype=np.float64)], newton_6.iterations, newton_6.flag, local_cell_data.stdout.replace('\\n', \" | \"), str(t)])"
   ]
  },
  {
   "cell_type": "markdown",
   "id": "refined-allowance",
   "metadata": {},
   "source": [
    "secante"
   ]
  },
  {
   "cell_type": "code",
   "execution_count": 71,
   "id": "psychological-groove",
   "metadata": {},
   "outputs": [
    {
     "data": {
      "image/png": "[encoded data removed]",
      "text/plain": [
       "<Figure size 432x288 with 1 Axes>"
      ]
     },
     "metadata": {
      "needs_background": "light"
     },
     "output_type": "display_data"
    }
   ],
   "source": [
    "raiz_no_grafico.show()"
   ]
  },
  {
   "cell_type": "raw",
   "id": "posted-terry",
   "metadata": {},
   "source": [
    "de acordo com o gráfico acima, a maior raiz de f(x) é proxima de 2.5, logo"
   ]
  },
  {
   "cell_type": "code",
   "execution_count": 72,
   "id": "vietnamese-audience",
   "metadata": {},
   "outputs": [],
   "source": [
    "x1 = 2.5\n",
    "x0 = 1.5"
   ]
  },
  {
   "cell_type": "code",
   "execution_count": 73,
   "id": "paperback-blame",
   "metadata": {},
   "outputs": [
    {
     "name": "stdout",
     "output_type": "stream",
     "text": [
      "334 µs ± 111 µs per loop (mean ± std. dev. of 5 runs, 100 loops each)\n"
     ]
    }
   ],
   "source": [
    "t = %timeit -r 5 -n 100 -c -o opt.root_scalar(f, x0=x0, x1=x1, method='secant', rtol=tol, maxiter=ite)"
   ]
  },
  {
   "cell_type": "code",
   "execution_count": 74,
   "id": "organic-cedar",
   "metadata": {},
   "outputs": [],
   "source": [
    "%%capture local_cell_data\n",
    "%%time\n",
    "secante_6 = opt.root_scalar(f, x0=x0, x1=x1, method='secant', rtol=tol, maxiter=ite)"
   ]
  },
  {
   "cell_type": "code",
   "execution_count": 75,
   "id": "played-mayor",
   "metadata": {},
   "outputs": [],
   "source": [
    "data.append([np.array([secante_6.root], dtype=np.float64), secante_6.iterations, secante_6.flag, local_cell_data.stdout.replace('\\n', \" | \"), str(t)])"
   ]
  },
  {
   "cell_type": "code",
   "execution_count": 76,
   "id": "bigger-armor",
   "metadata": {},
   "outputs": [
    {
     "data": {
      "text/html": [
       "<div>\n",
       "<style scoped>\n",
       "    .dataframe tbody tr th:only-of-type {\n",
       "        vertical-align: middle;\n",
       "    }\n",
       "\n",
       "    .dataframe tbody tr th {\n",
       "        vertical-align: top;\n",
       "    }\n",
       "\n",
       "    .dataframe thead th {\n",
       "        text-align: right;\n",
       "    }\n",
       "</style>\n",
       "<table border=\"1\" class=\"dataframe\">\n",
       "  <thead>\n",
       "    <tr style=\"text-align: right;\">\n",
       "      <th></th>\n",
       "      <th>raiz</th>\n",
       "      <th>iterações</th>\n",
       "      <th>convergence flag</th>\n",
       "      <th>1 execution time</th>\n",
       "      <th>test execution time</th>\n",
       "    </tr>\n",
       "  </thead>\n",
       "  <tbody>\n",
       "    <tr>\n",
       "      <th>bisseção</th>\n",
       "      <td>[1.9999999999708962]</td>\n",
       "      <td>35</td>\n",
       "      <td>converged</td>\n",
       "      <td>CPU times: user 81 us, sys: 0 ns, total: 81 us | Wall time: 87.3 us |</td>\n",
       "      <td>42.2 µs ± 8.42 µs per loop (mean ± std. dev. of 5 runs, 100 loops each)</td>\n",
       "    </tr>\n",
       "    <tr>\n",
       "      <th>falsa poisção</th>\n",
       "      <td>[1.9999999999999987]</td>\n",
       "      <td>200</td>\n",
       "      <td>convergence error, stoped iterating by maximiter</td>\n",
       "      <td>CPU times: user 2.94 ms, sys: 0 ns, total: 2.94 ms | Wall time: 2.82 ms |</td>\n",
       "      <td>3.39 ms ± 1.07 ms per loop (mean ± std. dev. of 5 runs, 100 loops each)</td>\n",
       "    </tr>\n",
       "    <tr>\n",
       "      <th>ponto fixo</th>\n",
       "      <td>[2.0]</td>\n",
       "      <td>21</td>\n",
       "      <td>converged</td>\n",
       "      <td>CPU times: user 5.34 ms, sys: 0 ns, total: 5.34 ms | Wall time: 4.81 ms |</td>\n",
       "      <td>3.45 ms ± 591 µs per loop (mean ± std. dev. of 5 runs, 100 loops each)</td>\n",
       "    </tr>\n",
       "    <tr>\n",
       "      <th>newton</th>\n",
       "      <td>[2.0]</td>\n",
       "      <td>6</td>\n",
       "      <td>converged</td>\n",
       "      <td>CPU times: user 340 us, sys: 23 us, total: 363 us | Wall time: 368 us |</td>\n",
       "      <td>292 µs ± 90.5 µs per loop (mean ± std. dev. of 5 runs, 100 loops each)</td>\n",
       "    </tr>\n",
       "    <tr>\n",
       "      <th>secant</th>\n",
       "      <td>[2.0]</td>\n",
       "      <td>7</td>\n",
       "      <td>converged</td>\n",
       "      <td>CPU times: user 418 us, sys: 29 us, total: 447 us | Wall time: 453 us |</td>\n",
       "      <td>334 µs ± 111 µs per loop (mean ± std. dev. of 5 runs, 100 loops each)</td>\n",
       "    </tr>\n",
       "  </tbody>\n",
       "</table>\n",
       "</div>"
      ],
      "text/plain": [
       "                               raiz  iterações  \\\n",
       "bisseção       [1.9999999999708962]         35   \n",
       "falsa poisção  [1.9999999999999987]        200   \n",
       "ponto fixo                    [2.0]         21   \n",
       "newton                        [2.0]          6   \n",
       "secant                        [2.0]          7   \n",
       "\n",
       "                                               convergence flag  \\\n",
       "bisseção                                              converged   \n",
       "falsa poisção  convergence error, stoped iterating by maximiter   \n",
       "ponto fixo                                            converged   \n",
       "newton                                                converged   \n",
       "secant                                                converged   \n",
       "\n",
       "                                                                         1 execution time  \\\n",
       "bisseção           CPU times: user 81 us, sys: 0 ns, total: 81 us | Wall time: 87.3 us |    \n",
       "falsa poisção  CPU times: user 2.94 ms, sys: 0 ns, total: 2.94 ms | Wall time: 2.82 ms |    \n",
       "ponto fixo     CPU times: user 5.34 ms, sys: 0 ns, total: 5.34 ms | Wall time: 4.81 ms |    \n",
       "newton           CPU times: user 340 us, sys: 23 us, total: 363 us | Wall time: 368 us |    \n",
       "secant           CPU times: user 418 us, sys: 29 us, total: 447 us | Wall time: 453 us |    \n",
       "\n",
       "                                                                   test execution time  \n",
       "bisseção       42.2 µs ± 8.42 µs per loop (mean ± std. dev. of 5 runs, 100 loops each)  \n",
       "falsa poisção  3.39 ms ± 1.07 ms per loop (mean ± std. dev. of 5 runs, 100 loops each)  \n",
       "ponto fixo      3.45 ms ± 591 µs per loop (mean ± std. dev. of 5 runs, 100 loops each)  \n",
       "newton          292 µs ± 90.5 µs per loop (mean ± std. dev. of 5 runs, 100 loops each)  \n",
       "secant           334 µs ± 111 µs per loop (mean ± std. dev. of 5 runs, 100 loops each)  "
      ]
     },
     "execution_count": 76,
     "metadata": {},
     "output_type": "execute_result"
    }
   ],
   "source": [
    "dataFrame = pd.DataFrame(data, [\"bisseção\", \"falsa poisção\", \"ponto fixo\", \"newton\", \"secant\"], \n",
    "                         [\"raiz\", \"iterações\", \"convergence flag\", \"1 execution time\", \"test execution time\"])\n",
    "pd.set_option(\"display.max_colwidth\", 200)\n",
    "dataFrame"
   ]
  },
  {
   "cell_type": "markdown",
   "id": "prospective-briefing",
   "metadata": {},
   "source": [
    "(c) f3\n",
    "(x) = 5x\n",
    "3 + x\n",
    "2 − e\n",
    "1−2x + cos(x) + 20, com x\n",
    "∗ ∈ [−5, 5]"
   ]
  },
  {
   "cell_type": "code",
   "execution_count": 77,
   "id": "engaged-great",
   "metadata": {},
   "outputs": [],
   "source": [
    "data = []"
   ]
  },
  {
   "cell_type": "markdown",
   "id": "complicated-reservation",
   "metadata": {},
   "source": [
    "bisseção"
   ]
  },
  {
   "cell_type": "code",
   "execution_count": 78,
   "id": "imposed-hunter",
   "metadata": {},
   "outputs": [],
   "source": [
    "def f(x): return 5*x**3 + x**2 - np.exp(1 - 2*x) + np.cos(x) + 20\n",
    "bracket = [-5, 5]"
   ]
  },
  {
   "cell_type": "code",
   "execution_count": 79,
   "id": "controversial-hospital",
   "metadata": {},
   "outputs": [
    {
     "name": "stdout",
     "output_type": "stream",
     "text": [
      "164 µs ± 89.3 µs per loop (mean ± std. dev. of 5 runs, 100 loops each)\n"
     ]
    }
   ],
   "source": [
    "t = %timeit -r 5 -n 100 -c -o opt.root_scalar(f=f, method='bisect', bracket=bracket, rtol=tol, maxiter=ite)"
   ]
  },
  {
   "cell_type": "code",
   "execution_count": 80,
   "id": "disturbed-actress",
   "metadata": {},
   "outputs": [],
   "source": [
    "%%capture local_cell_data\n",
    "%%time \n",
    "bissecao_6 = opt.root_scalar(f=f, method='bisect', bracket=bracket, rtol=tol, maxiter=ite)"
   ]
  },
  {
   "cell_type": "code",
   "execution_count": 81,
   "id": "naval-bailey",
   "metadata": {},
   "outputs": [],
   "source": [
    "data.append([np.array([bissecao_6.root], dtype=np.float64), bissecao_6.iterations, bissecao_6.flag, \n",
    "             local_cell_data.stdout.replace('\\n', \" | \"), str(t)])"
   ]
  },
  {
   "cell_type": "markdown",
   "id": "reliable-examination",
   "metadata": {},
   "source": [
    "falsa posição"
   ]
  },
  {
   "cell_type": "code",
   "execution_count": 82,
   "id": "premium-scanning",
   "metadata": {},
   "outputs": [
    {
     "name": "stdout",
     "output_type": "stream",
     "text": [
      "10.9 ms ± 115 µs per loop (mean ± std. dev. of 5 runs, 100 loops each)\n"
     ]
    }
   ],
   "source": [
    "t = %timeit -r 5 -n 100 -c -o false_position(f=f, bracket=bracket, rtol=tol, maxiter=ite)"
   ]
  },
  {
   "cell_type": "code",
   "execution_count": 83,
   "id": "fifth-static",
   "metadata": {},
   "outputs": [],
   "source": [
    "%%capture local_cell_data\n",
    "%%time \n",
    "falsa_posicao_6 = false_position(f=f, bracket=bracket, rtol=tol, maxiter=ite)"
   ]
  },
  {
   "cell_type": "code",
   "execution_count": 84,
   "id": "optimum-influence",
   "metadata": {},
   "outputs": [],
   "source": [
    "data.append([np.array([falsa_posicao_6[0]], dtype=np.float64), falsa_posicao_6[1], falsa_posicao_6[2], \n",
    "             local_cell_data.stdout.replace('\\n', \" | \"), str(t)])"
   ]
  },
  {
   "cell_type": "markdown",
   "id": "outdoor-beverage",
   "metadata": {},
   "source": [
    "ponto fixo"
   ]
  },
  {
   "cell_type": "code",
   "execution_count": 85,
   "id": "institutional-superintendent",
   "metadata": {},
   "outputs": [],
   "source": [
    "%%capture raiz_no_grafico\n",
    "def reta_y_x(x): return x\n",
    "x = np.linspace(-1, 0, 200)\n",
    "plt.plot(x, f(x))\n",
    "plt.plot(x, reta_y_x(x))\n",
    "plt.grid(True)"
   ]
  },
  {
   "cell_type": "code",
   "execution_count": 86,
   "id": "pointed-server",
   "metadata": {},
   "outputs": [
    {
     "data": {
      "image/png": "[encoded data removed]",
      "text/plain": [
       "<Figure size 432x288 with 1 Axes>"
      ]
     },
     "metadata": {
      "needs_background": "light"
     },
     "output_type": "display_data"
    }
   ],
   "source": [
    "raiz_no_grafico.show()"
   ]
  },
  {
   "cell_type": "raw",
   "id": "separate-picking",
   "metadata": {},
   "source": [
    "de acordo com o gráfico acima, a maior raiz de f(x) é proxima de -1, logo"
   ]
  },
  {
   "cell_type": "code",
   "execution_count": 87,
   "id": "published-sister",
   "metadata": {},
   "outputs": [],
   "source": [
    "x0 = -1"
   ]
  },
  {
   "cell_type": "raw",
   "id": "tribal-apollo",
   "metadata": {},
   "source": [
    "Isolando o x, para encontrar g(x)\n",
    "somando x a equação f(x) = 0\n",
    "x = f(x) + x\n",
    "g(x) = f(x) + x"
   ]
  },
  {
   "cell_type": "code",
   "execution_count": 88,
   "id": "transparent-hygiene",
   "metadata": {},
   "outputs": [],
   "source": [
    "def g(x): return f(x) + x"
   ]
  },
  {
   "cell_type": "code",
   "execution_count": 89,
   "id": "indian-government",
   "metadata": {},
   "outputs": [
    {
     "name": "stdout",
     "output_type": "stream",
     "text": [
      "6.19 ms ± 875 µs per loop (mean ± std. dev. of 5 runs, 100 loops each)\n"
     ]
    }
   ],
   "source": [
    "t = %timeit -r 5 -n 100 -c -o opt.fixed_point(g, x0=x0, xtol=tol, maxiter=ite)"
   ]
  },
  {
   "cell_type": "code",
   "execution_count": 90,
   "id": "endangered-immunology",
   "metadata": {},
   "outputs": [],
   "source": [
    "%%capture local_cell_data\n",
    "%%time\n",
    "ponto_fixo_6 = opt.fixed_point(g, x0=x0, xtol=tol, maxiter=ite)"
   ]
  },
  {
   "cell_type": "code",
   "execution_count": 91,
   "id": "coral-calgary",
   "metadata": {},
   "outputs": [],
   "source": [
    "iteracoes = \"not able to check how many iterations were made\"\n",
    "if local_cell_data.stdout and not local_cell_data.stderr:\n",
    "    for i in range(ite + 1):\n",
    "        try:\n",
    "            if opt.fixed_point(g, x0=x0, xtol=tol, maxiter=i) == ponto_fixo_6:\n",
    "                iteracoes = i\n",
    "                break\n",
    "        except:\n",
    "            #print(\"needs more than\", i, \"iterations\")\n",
    "            pass"
   ]
  },
  {
   "cell_type": "code",
   "execution_count": 92,
   "id": "limiting-residence",
   "metadata": {},
   "outputs": [],
   "source": [
    "if local_cell_data.stdout and not local_cell_data.stderr:\n",
    "    data.append([np.array([ponto_fixo_6], dtype=np.float64), iteracoes, \"converged\", local_cell_data.stdout.replace('\\n', \" | \"), str(t)])\n",
    "else:\n",
    "    data.append([np.nan, iteracoes, local_cell_data.stderr, np.nan, np.nan])"
   ]
  },
  {
   "cell_type": "markdown",
   "id": "south-mouth",
   "metadata": {},
   "source": [
    "newton"
   ]
  },
  {
   "cell_type": "code",
   "execution_count": 93,
   "id": "original-fields",
   "metadata": {},
   "outputs": [],
   "source": [
    "def df(x): return 15*x**2 + 2*x + 2 * np.exp(-2*x + 1) - np.sin(x)"
   ]
  },
  {
   "cell_type": "code",
   "execution_count": 94,
   "id": "disabled-unemployment",
   "metadata": {},
   "outputs": [
    {
     "name": "stdout",
     "output_type": "stream",
     "text": [
      "264 µs ± 89 µs per loop (mean ± std. dev. of 5 runs, 100 loops each)\n"
     ]
    }
   ],
   "source": [
    "t = %timeit -r 5 -n 100 -c -o opt.root_scalar(f=f, fprime=df, x0=x0, method='newton', rtol=tol, maxiter=ite)"
   ]
  },
  {
   "cell_type": "code",
   "execution_count": 95,
   "id": "loved-department",
   "metadata": {},
   "outputs": [],
   "source": [
    "%%capture local_cell_data\n",
    "%%time\n",
    "newton_6 = opt.root_scalar(f=f, fprime=df, x0=x0, method='newton', rtol=tol, maxiter=ite)"
   ]
  },
  {
   "cell_type": "code",
   "execution_count": 96,
   "id": "impossible-rolling",
   "metadata": {},
   "outputs": [],
   "source": [
    "data.append([[np.array(newton_6.root, dtype=np.float64)], newton_6.iterations, newton_6.flag, local_cell_data.stdout.replace('\\n', \" | \"), str(t)])"
   ]
  },
  {
   "cell_type": "markdown",
   "id": "forced-serve",
   "metadata": {},
   "source": [
    "secante"
   ]
  },
  {
   "cell_type": "code",
   "execution_count": 97,
   "id": "cross-occasions",
   "metadata": {},
   "outputs": [
    {
     "data": {
      "image/png": "[encoded data removed]",
      "text/plain": [
       "<Figure size 432x288 with 1 Axes>"
      ]
     },
     "metadata": {
      "needs_background": "light"
     },
     "output_type": "display_data"
    }
   ],
   "source": [
    "raiz_no_grafico.show()"
   ]
  },
  {
   "cell_type": "raw",
   "id": "stupid-jefferson",
   "metadata": {},
   "source": [
    "de acordo com o gráfico acima, a maior raiz de f(x) é proxima de -1, logo"
   ]
  },
  {
   "cell_type": "code",
   "execution_count": 98,
   "id": "played-marathon",
   "metadata": {},
   "outputs": [],
   "source": [
    "x1 = 0\n",
    "x0 = -1"
   ]
  },
  {
   "cell_type": "code",
   "execution_count": 99,
   "id": "crude-compact",
   "metadata": {},
   "outputs": [
    {
     "name": "stdout",
     "output_type": "stream",
     "text": [
      "465 µs ± 127 µs per loop (mean ± std. dev. of 5 runs, 100 loops each)\n"
     ]
    }
   ],
   "source": [
    "t = %timeit -r 5 -n 100 -c -o opt.root_scalar(f, x0=x0, x1=x1, method='secant', rtol=tol, maxiter=ite)"
   ]
  },
  {
   "cell_type": "code",
   "execution_count": 100,
   "id": "wrong-dominican",
   "metadata": {},
   "outputs": [],
   "source": [
    "%%capture local_cell_data\n",
    "%%time\n",
    "secante_6 = opt.root_scalar(f, x0=x0, x1=x1, method='secant', rtol=tol, maxiter=ite)"
   ]
  },
  {
   "cell_type": "code",
   "execution_count": 101,
   "id": "sophisticated-complexity",
   "metadata": {},
   "outputs": [],
   "source": [
    "data.append([np.array([secante_6.root], dtype=np.float64), secante_6.iterations, secante_6.flag, local_cell_data.stdout.replace('\\n', \" | \"), str(t)])"
   ]
  },
  {
   "cell_type": "code",
   "execution_count": 102,
   "id": "arabic-excerpt",
   "metadata": {},
   "outputs": [
    {
     "data": {
      "text/html": [
       "<div>\n",
       "<style scoped>\n",
       "    .dataframe tbody tr th:only-of-type {\n",
       "        vertical-align: middle;\n",
       "    }\n",
       "\n",
       "    .dataframe tbody tr th {\n",
       "        vertical-align: top;\n",
       "    }\n",
       "\n",
       "    .dataframe thead th {\n",
       "        text-align: right;\n",
       "    }\n",
       "</style>\n",
       "<table border=\"1\" class=\"dataframe\">\n",
       "  <thead>\n",
       "    <tr style=\"text-align: right;\">\n",
       "      <th></th>\n",
       "      <th>raiz</th>\n",
       "      <th>iterações</th>\n",
       "      <th>convergence flag</th>\n",
       "      <th>1 execution time</th>\n",
       "      <th>test execution time</th>\n",
       "    </tr>\n",
       "  </thead>\n",
       "  <tbody>\n",
       "    <tr>\n",
       "      <th>bisseção</th>\n",
       "      <td>[-0.9295604598446516]</td>\n",
       "      <td>37</td>\n",
       "      <td>converged</td>\n",
       "      <td>CPU times: user 162 us, sys: 0 ns, total: 162 us | Wall time: 165 us |</td>\n",
       "      <td>164 µs ± 89.3 µs per loop (mean ± std. dev. of 5 runs, 100 loops each)</td>\n",
       "    </tr>\n",
       "    <tr>\n",
       "      <th>falsa poisção</th>\n",
       "      <td>[-5.0]</td>\n",
       "      <td>200</td>\n",
       "      <td>converged</td>\n",
       "      <td>CPU times: user 13 ms, sys: 0 ns, total: 13 ms | Wall time: 12.8 ms |</td>\n",
       "      <td>10.9 ms ± 115 µs per loop (mean ± std. dev. of 5 runs, 100 loops each)</td>\n",
       "    </tr>\n",
       "    <tr>\n",
       "      <th>ponto fixo</th>\n",
       "      <td>[-0.9295604598378411]</td>\n",
       "      <td>37</td>\n",
       "      <td>converged</td>\n",
       "      <td>CPU times: user 6.94 ms, sys: 127 us, total: 7.07 ms | Wall time: 5.84 ms |</td>\n",
       "      <td>6.19 ms ± 875 µs per loop (mean ± std. dev. of 5 runs, 100 loops each)</td>\n",
       "    </tr>\n",
       "    <tr>\n",
       "      <th>newton</th>\n",
       "      <td>[-0.9295604598378413]</td>\n",
       "      <td>4</td>\n",
       "      <td>converged</td>\n",
       "      <td>CPU times: user 769 us, sys: 35 us, total: 804 us | Wall time: 823 us |</td>\n",
       "      <td>264 µs ± 89 µs per loop (mean ± std. dev. of 5 runs, 100 loops each)</td>\n",
       "    </tr>\n",
       "    <tr>\n",
       "      <th>secant</th>\n",
       "      <td>[-0.9295604598378411]</td>\n",
       "      <td>8</td>\n",
       "      <td>converged</td>\n",
       "      <td>CPU times: user 520 us, sys: 0 ns, total: 520 us | Wall time: 526 us |</td>\n",
       "      <td>465 µs ± 127 µs per loop (mean ± std. dev. of 5 runs, 100 loops each)</td>\n",
       "    </tr>\n",
       "  </tbody>\n",
       "</table>\n",
       "</div>"
      ],
      "text/plain": [
       "                                raiz  iterações convergence flag  \\\n",
       "bisseção       [-0.9295604598446516]         37        converged   \n",
       "falsa poisção                 [-5.0]        200        converged   \n",
       "ponto fixo     [-0.9295604598378411]         37        converged   \n",
       "newton         [-0.9295604598378413]          4        converged   \n",
       "secant         [-0.9295604598378411]          8        converged   \n",
       "\n",
       "                                                                           1 execution time  \\\n",
       "bisseção            CPU times: user 162 us, sys: 0 ns, total: 162 us | Wall time: 165 us |    \n",
       "falsa poisção        CPU times: user 13 ms, sys: 0 ns, total: 13 ms | Wall time: 12.8 ms |    \n",
       "ponto fixo     CPU times: user 6.94 ms, sys: 127 us, total: 7.07 ms | Wall time: 5.84 ms |    \n",
       "newton             CPU times: user 769 us, sys: 35 us, total: 804 us | Wall time: 823 us |    \n",
       "secant              CPU times: user 520 us, sys: 0 ns, total: 520 us | Wall time: 526 us |    \n",
       "\n",
       "                                                                  test execution time  \n",
       "bisseção       164 µs ± 89.3 µs per loop (mean ± std. dev. of 5 runs, 100 loops each)  \n",
       "falsa poisção  10.9 ms ± 115 µs per loop (mean ± std. dev. of 5 runs, 100 loops each)  \n",
       "ponto fixo     6.19 ms ± 875 µs per loop (mean ± std. dev. of 5 runs, 100 loops each)  \n",
       "newton           264 µs ± 89 µs per loop (mean ± std. dev. of 5 runs, 100 loops each)  \n",
       "secant          465 µs ± 127 µs per loop (mean ± std. dev. of 5 runs, 100 loops each)  "
      ]
     },
     "execution_count": 102,
     "metadata": {},
     "output_type": "execute_result"
    }
   ],
   "source": [
    "dataFrame = pd.DataFrame(data, [\"bisseção\", \"falsa poisção\", \"ponto fixo\", \"newton\", \"secant\"], \n",
    "                         [\"raiz\", \"iterações\", \"convergence flag\", \"1 execution time\", \"test execution time\"])\n",
    "pd.set_option(\"display.max_colwidth\", 200)\n",
    "dataFrame"
   ]
  },
  {
   "cell_type": "markdown",
   "id": "challenging-number",
   "metadata": {},
   "source": [
    "(d) f4\n",
    "(x) = sin(x)x + 4, com x\n",
    "∗ ∈ [1, 5]"
   ]
  },
  {
   "cell_type": "code",
   "execution_count": 103,
   "id": "announced-kelly",
   "metadata": {},
   "outputs": [],
   "source": [
    "data = []"
   ]
  },
  {
   "cell_type": "markdown",
   "id": "blind-somewhere",
   "metadata": {},
   "source": [
    "bisseção"
   ]
  },
  {
   "cell_type": "code",
   "execution_count": 104,
   "id": "exceptional-projection",
   "metadata": {},
   "outputs": [],
   "source": [
    "def f(x): return np.sin(x) * x + 4\n",
    "bracket = [1, 5]"
   ]
  },
  {
   "cell_type": "code",
   "execution_count": 105,
   "id": "critical-cannon",
   "metadata": {},
   "outputs": [
    {
     "name": "stdout",
     "output_type": "stream",
     "text": [
      "116 µs ± 66 µs per loop (mean ± std. dev. of 5 runs, 100 loops each)\n"
     ]
    }
   ],
   "source": [
    "t = %timeit -r 5 -n 100 -c -o opt.root_scalar(f=f, method='bisect', bracket=bracket, rtol=tol, maxiter=ite)"
   ]
  },
  {
   "cell_type": "code",
   "execution_count": 106,
   "id": "handmade-sugar",
   "metadata": {},
   "outputs": [],
   "source": [
    "%%capture local_cell_data\n",
    "%%time \n",
    "bissecao_6 = opt.root_scalar(f=f, method='bisect', bracket=bracket, rtol=tol, maxiter=ite)"
   ]
  },
  {
   "cell_type": "code",
   "execution_count": 107,
   "id": "celtic-tyler",
   "metadata": {},
   "outputs": [],
   "source": [
    "data.append([np.array([bissecao_6.root], dtype=np.float64), bissecao_6.iterations, bissecao_6.flag, \n",
    "             local_cell_data.stdout.replace('\\n', \" | \"), str(t)])"
   ]
  },
  {
   "cell_type": "markdown",
   "id": "ongoing-welcome",
   "metadata": {},
   "source": [
    "falsa posição"
   ]
  },
  {
   "cell_type": "code",
   "execution_count": 108,
   "id": "civilian-currency",
   "metadata": {},
   "outputs": [
    {
     "name": "stdout",
     "output_type": "stream",
     "text": [
      "5.74 ms ± 590 µs per loop (mean ± std. dev. of 5 runs, 100 loops each)\n"
     ]
    }
   ],
   "source": [
    "t = %timeit -r 5 -n 100 -c -o false_position(f=f, bracket=bracket, rtol=tol, maxiter=ite)"
   ]
  },
  {
   "cell_type": "code",
   "execution_count": 109,
   "id": "balanced-maine",
   "metadata": {},
   "outputs": [],
   "source": [
    "%%capture local_cell_data\n",
    "%%time \n",
    "falsa_posicao_6 = false_position(f=f, bracket=bracket, rtol=tol, maxiter=ite)"
   ]
  },
  {
   "cell_type": "code",
   "execution_count": 110,
   "id": "scheduled-resort",
   "metadata": {},
   "outputs": [],
   "source": [
    "data.append([np.array([falsa_posicao_6[0]], dtype=np.float64), falsa_posicao_6[1], falsa_posicao_6[2], \n",
    "             local_cell_data.stdout.replace('\\n', \" | \"), str(t)])"
   ]
  },
  {
   "cell_type": "markdown",
   "id": "designing-playlist",
   "metadata": {},
   "source": [
    "ponto fixo"
   ]
  },
  {
   "cell_type": "code",
   "execution_count": 111,
   "id": "equivalent-hammer",
   "metadata": {},
   "outputs": [],
   "source": [
    "%%capture raiz_no_grafico\n",
    "def reta_y_x(x): return x\n",
    "x = np.linspace(1, 5, 200)\n",
    "plt.plot(x, f(x))\n",
    "plt.plot(x, reta_y_x(x))\n",
    "plt.grid(True)"
   ]
  },
  {
   "cell_type": "code",
   "execution_count": 112,
   "id": "accessible-mechanism",
   "metadata": {},
   "outputs": [
    {
     "data": {
      "image/png": "[encoded data removed]",
      "text/plain": [
       "<Figure size 432x288 with 1 Axes>"
      ]
     },
     "metadata": {
      "needs_background": "light"
     },
     "output_type": "display_data"
    }
   ],
   "source": [
    "raiz_no_grafico.show()"
   ]
  },
  {
   "cell_type": "raw",
   "id": "postal-fitness",
   "metadata": {},
   "source": [
    "de acordo com o gráfico acima, a maior raiz de f(x) é proxima de 4.5, logo"
   ]
  },
  {
   "cell_type": "code",
   "execution_count": 113,
   "id": "extended-committee",
   "metadata": {},
   "outputs": [],
   "source": [
    "x0 = 4.5"
   ]
  },
  {
   "cell_type": "raw",
   "id": "christian-leisure",
   "metadata": {},
   "source": [
    "Isolando o x, para encontrar g(x)\n",
    "somando x a equação f(x) = 0\n",
    "x = f(x) + x\n",
    "g(x) = f(x) + x"
   ]
  },
  {
   "cell_type": "code",
   "execution_count": 114,
   "id": "aggregate-cookbook",
   "metadata": {},
   "outputs": [],
   "source": [
    "def g(x): return f(x) + x"
   ]
  },
  {
   "cell_type": "code",
   "execution_count": 115,
   "id": "willing-hotel",
   "metadata": {},
   "outputs": [
    {
     "name": "stdout",
     "output_type": "stream",
     "text": [
      "817 µs ± 192 µs per loop (mean ± std. dev. of 5 runs, 100 loops each)\n"
     ]
    }
   ],
   "source": [
    "t = %timeit -r 5 -n 100 -c -o opt.fixed_point(g, x0=x0, xtol=tol, maxiter=ite)"
   ]
  },
  {
   "cell_type": "code",
   "execution_count": 116,
   "id": "dated-conducting",
   "metadata": {},
   "outputs": [],
   "source": [
    "%%capture local_cell_data\n",
    "%%time\n",
    "ponto_fixo_6 = opt.fixed_point(g, x0=x0, xtol=tol, maxiter=ite)"
   ]
  },
  {
   "cell_type": "code",
   "execution_count": 117,
   "id": "surgical-radio",
   "metadata": {},
   "outputs": [],
   "source": [
    "iteracoes = \"not able to check how many iterations were made\"\n",
    "if local_cell_data.stdout and not local_cell_data.stderr:\n",
    "    for i in range(ite + 1):\n",
    "        try:\n",
    "            if opt.fixed_point(g, x0=x0, xtol=tol, maxiter=i) == ponto_fixo_6:\n",
    "                iteracoes = i\n",
    "                break\n",
    "        except:\n",
    "            #print(\"needs more than\", i, \"iterations\")\n",
    "            pass"
   ]
  },
  {
   "cell_type": "code",
   "execution_count": 118,
   "id": "combined-semiconductor",
   "metadata": {},
   "outputs": [],
   "source": [
    "if local_cell_data.stdout and not local_cell_data.stderr:\n",
    "    data.append([np.array([ponto_fixo_6], dtype=np.float64), iteracoes, \"converged\", local_cell_data.stdout.replace('\\n', \" | \"), str(t)])\n",
    "else:\n",
    "    data.append([np.nan, iteracoes, local_cell_data.stderr, np.nan, np.nan])"
   ]
  },
  {
   "cell_type": "markdown",
   "id": "gentle-rugby",
   "metadata": {},
   "source": [
    "newton"
   ]
  },
  {
   "cell_type": "code",
   "execution_count": 119,
   "id": "architectural-county",
   "metadata": {},
   "outputs": [],
   "source": [
    "def df(x): return x*np.cos(x) + np.sin(x)"
   ]
  },
  {
   "cell_type": "code",
   "execution_count": 120,
   "id": "quick-spirit",
   "metadata": {},
   "outputs": [
    {
     "name": "stdout",
     "output_type": "stream",
     "text": [
      "291 µs ± 101 µs per loop (mean ± std. dev. of 5 runs, 100 loops each)\n"
     ]
    }
   ],
   "source": [
    "t = %timeit -r 5 -n 100 -c -o opt.root_scalar(f=f, fprime=df, x0=x0, method='newton', rtol=tol, maxiter=ite)"
   ]
  },
  {
   "cell_type": "code",
   "execution_count": 121,
   "id": "touched-enough",
   "metadata": {},
   "outputs": [],
   "source": [
    "%%capture local_cell_data\n",
    "%%time\n",
    "newton_6 = opt.root_scalar(f=f, fprime=df, x0=x0, method='newton', rtol=tol, maxiter=ite)"
   ]
  },
  {
   "cell_type": "code",
   "execution_count": 122,
   "id": "incomplete-qualification",
   "metadata": {},
   "outputs": [],
   "source": [
    "data.append([[np.array(newton_6.root, dtype=np.float64)], newton_6.iterations, newton_6.flag, local_cell_data.stdout.replace('\\n', \" | \"), str(t)])"
   ]
  },
  {
   "cell_type": "markdown",
   "id": "sunset-forest",
   "metadata": {},
   "source": [
    "secante"
   ]
  },
  {
   "cell_type": "code",
   "execution_count": 123,
   "id": "judicial-quebec",
   "metadata": {},
   "outputs": [
    {
     "data": {
      "image/png": "[encoded data removed]",
      "text/plain": [
       "<Figure size 432x288 with 1 Axes>"
      ]
     },
     "metadata": {
      "needs_background": "light"
     },
     "output_type": "display_data"
    }
   ],
   "source": [
    "raiz_no_grafico.show()"
   ]
  },
  {
   "cell_type": "raw",
   "id": "meaningful-brooks",
   "metadata": {},
   "source": [
    "de acordo com o gráfico acima, a maior raiz de f(x) é proxima de -1, logo"
   ]
  },
  {
   "cell_type": "code",
   "execution_count": 124,
   "id": "racial-option",
   "metadata": {},
   "outputs": [],
   "source": [
    "x1 = 4.5\n",
    "x0 = 4"
   ]
  },
  {
   "cell_type": "code",
   "execution_count": 125,
   "id": "legislative-decrease",
   "metadata": {},
   "outputs": [
    {
     "name": "stdout",
     "output_type": "stream",
     "text": [
      "321 µs ± 117 µs per loop (mean ± std. dev. of 5 runs, 100 loops each)\n"
     ]
    }
   ],
   "source": [
    "t = %timeit -r 5 -n 100 -c -o opt.root_scalar(f, x0=x0, x1=x1, method='secant', rtol=tol, maxiter=ite)"
   ]
  },
  {
   "cell_type": "code",
   "execution_count": 126,
   "id": "restricted-disco",
   "metadata": {},
   "outputs": [],
   "source": [
    "%%capture local_cell_data\n",
    "%%time\n",
    "secante_6 = opt.root_scalar(f, x0=x0, x1=x1, method='secant', rtol=tol, maxiter=ite)"
   ]
  },
  {
   "cell_type": "code",
   "execution_count": 127,
   "id": "speaking-accounting",
   "metadata": {},
   "outputs": [],
   "source": [
    "data.append([np.array([secante_6.root], dtype=np.float64), secante_6.iterations, secante_6.flag, local_cell_data.stdout.replace('\\n', \" | \"), str(t)])"
   ]
  },
  {
   "cell_type": "code",
   "execution_count": 128,
   "id": "amateur-charm",
   "metadata": {},
   "outputs": [
    {
     "data": {
      "text/html": [
       "<div>\n",
       "<style scoped>\n",
       "    .dataframe tbody tr th:only-of-type {\n",
       "        vertical-align: middle;\n",
       "    }\n",
       "\n",
       "    .dataframe tbody tr th {\n",
       "        vertical-align: top;\n",
       "    }\n",
       "\n",
       "    .dataframe thead th {\n",
       "        text-align: right;\n",
       "    }\n",
       "</style>\n",
       "<table border=\"1\" class=\"dataframe\">\n",
       "  <thead>\n",
       "    <tr style=\"text-align: right;\">\n",
       "      <th></th>\n",
       "      <th>raiz</th>\n",
       "      <th>iterações</th>\n",
       "      <th>convergence flag</th>\n",
       "      <th>1 execution time</th>\n",
       "      <th>test execution time</th>\n",
       "    </tr>\n",
       "  </thead>\n",
       "  <tbody>\n",
       "    <tr>\n",
       "      <th>bisseção</th>\n",
       "      <td>[4.323239543708041]</td>\n",
       "      <td>34</td>\n",
       "      <td>converged</td>\n",
       "      <td>CPU times: user 516 us, sys: 0 ns, total: 516 us | Wall time: 805 us |</td>\n",
       "      <td>116 µs ± 66 µs per loop (mean ± std. dev. of 5 runs, 100 loops each)</td>\n",
       "    </tr>\n",
       "    <tr>\n",
       "      <th>falsa poisção</th>\n",
       "      <td>[4.323239543713715]</td>\n",
       "      <td>200</td>\n",
       "      <td>convergence error, stoped iterating by maximiter</td>\n",
       "      <td>CPU times: user 5.84 ms, sys: 0 ns, total: 5.84 ms | Wall time: 5.77 ms |</td>\n",
       "      <td>5.74 ms ± 590 µs per loop (mean ± std. dev. of 5 runs, 100 loops each)</td>\n",
       "    </tr>\n",
       "    <tr>\n",
       "      <th>ponto fixo</th>\n",
       "      <td>[4.323239543713715]</td>\n",
       "      <td>5</td>\n",
       "      <td>converged</td>\n",
       "      <td>CPU times: user 1.18 ms, sys: 0 ns, total: 1.18 ms | Wall time: 1.03 ms |</td>\n",
       "      <td>817 µs ± 192 µs per loop (mean ± std. dev. of 5 runs, 100 loops each)</td>\n",
       "    </tr>\n",
       "    <tr>\n",
       "      <th>newton</th>\n",
       "      <td>[4.323239543713715]</td>\n",
       "      <td>5</td>\n",
       "      <td>converged</td>\n",
       "      <td>CPU times: user 641 us, sys: 0 ns, total: 641 us | Wall time: 652 us |</td>\n",
       "      <td>291 µs ± 101 µs per loop (mean ± std. dev. of 5 runs, 100 loops each)</td>\n",
       "    </tr>\n",
       "    <tr>\n",
       "      <th>secant</th>\n",
       "      <td>[4.323239543713714]</td>\n",
       "      <td>6</td>\n",
       "      <td>converged</td>\n",
       "      <td>CPU times: user 419 us, sys: 0 ns, total: 419 us | Wall time: 425 us |</td>\n",
       "      <td>321 µs ± 117 µs per loop (mean ± std. dev. of 5 runs, 100 loops each)</td>\n",
       "    </tr>\n",
       "  </tbody>\n",
       "</table>\n",
       "</div>"
      ],
      "text/plain": [
       "                              raiz  iterações  \\\n",
       "bisseção       [4.323239543708041]         34   \n",
       "falsa poisção  [4.323239543713715]        200   \n",
       "ponto fixo     [4.323239543713715]          5   \n",
       "newton         [4.323239543713715]          5   \n",
       "secant         [4.323239543713714]          6   \n",
       "\n",
       "                                               convergence flag  \\\n",
       "bisseção                                              converged   \n",
       "falsa poisção  convergence error, stoped iterating by maximiter   \n",
       "ponto fixo                                            converged   \n",
       "newton                                                converged   \n",
       "secant                                                converged   \n",
       "\n",
       "                                                                         1 execution time  \\\n",
       "bisseção          CPU times: user 516 us, sys: 0 ns, total: 516 us | Wall time: 805 us |    \n",
       "falsa poisção  CPU times: user 5.84 ms, sys: 0 ns, total: 5.84 ms | Wall time: 5.77 ms |    \n",
       "ponto fixo     CPU times: user 1.18 ms, sys: 0 ns, total: 1.18 ms | Wall time: 1.03 ms |    \n",
       "newton            CPU times: user 641 us, sys: 0 ns, total: 641 us | Wall time: 652 us |    \n",
       "secant            CPU times: user 419 us, sys: 0 ns, total: 419 us | Wall time: 425 us |    \n",
       "\n",
       "                                                                  test execution time  \n",
       "bisseção         116 µs ± 66 µs per loop (mean ± std. dev. of 5 runs, 100 loops each)  \n",
       "falsa poisção  5.74 ms ± 590 µs per loop (mean ± std. dev. of 5 runs, 100 loops each)  \n",
       "ponto fixo      817 µs ± 192 µs per loop (mean ± std. dev. of 5 runs, 100 loops each)  \n",
       "newton          291 µs ± 101 µs per loop (mean ± std. dev. of 5 runs, 100 loops each)  \n",
       "secant          321 µs ± 117 µs per loop (mean ± std. dev. of 5 runs, 100 loops each)  "
      ]
     },
     "execution_count": 128,
     "metadata": {},
     "output_type": "execute_result"
    }
   ],
   "source": [
    "dataFrame = pd.DataFrame(data, [\"bisseção\", \"falsa poisção\", \"ponto fixo\", \"newton\", \"secant\"], \n",
    "                         [\"raiz\", \"iterações\", \"convergence flag\", \"1 execution time\", \"test execution time\"])\n",
    "pd.set_option(\"display.max_colwidth\", 200)\n",
    "dataFrame"
   ]
  },
  {
   "cell_type": "markdown",
   "id": "formal-magnet",
   "metadata": {},
   "source": [
    "(e) f5\n",
    "(x) = (x − 3)\n",
    "5\n",
    "ln(x), com x\n",
    "∗ ∈ [2, 5]"
   ]
  },
  {
   "cell_type": "code",
   "execution_count": 129,
   "id": "imposed-chosen",
   "metadata": {},
   "outputs": [],
   "source": [
    "data = []"
   ]
  },
  {
   "cell_type": "markdown",
   "id": "patent-pricing",
   "metadata": {},
   "source": [
    "bisseção"
   ]
  },
  {
   "cell_type": "code",
   "execution_count": 130,
   "id": "classified-breath",
   "metadata": {},
   "outputs": [],
   "source": [
    "def ln(x): return np.log(x) / np.log(np.e) # log de x na base e\n",
    "def f(x): return (x - 3) * 5 * ln(x)\n",
    "bracket = [2, 5]"
   ]
  },
  {
   "cell_type": "code",
   "execution_count": 131,
   "id": "comparative-folks",
   "metadata": {},
   "outputs": [
    {
     "name": "stdout",
     "output_type": "stream",
     "text": [
      "144 µs ± 73.3 µs per loop (mean ± std. dev. of 5 runs, 100 loops each)\n"
     ]
    }
   ],
   "source": [
    "t = %timeit -r 5 -n 100 -c -o opt.root_scalar(f=f, method='bisect', bracket=bracket, rtol=tol, maxiter=ite)"
   ]
  },
  {
   "cell_type": "code",
   "execution_count": 132,
   "id": "adjusted-retail",
   "metadata": {},
   "outputs": [],
   "source": [
    "%%capture local_cell_data\n",
    "%%time \n",
    "bissecao_6 = opt.root_scalar(f=f, method='bisect', bracket=bracket, rtol=tol, maxiter=ite)"
   ]
  },
  {
   "cell_type": "code",
   "execution_count": 133,
   "id": "alpha-general",
   "metadata": {},
   "outputs": [],
   "source": [
    "data.append([np.array([bissecao_6.root], dtype=np.float64), bissecao_6.iterations, bissecao_6.flag, \n",
    "             local_cell_data.stdout.replace('\\n', \" | \"), str(t)])"
   ]
  },
  {
   "cell_type": "markdown",
   "id": "educational-season",
   "metadata": {},
   "source": [
    "falsa posição"
   ]
  },
  {
   "cell_type": "code",
   "execution_count": 134,
   "id": "independent-rolling",
   "metadata": {},
   "outputs": [
    {
     "name": "stdout",
     "output_type": "stream",
     "text": [
      "1.98 ms ± 128 µs per loop (mean ± std. dev. of 5 runs, 100 loops each)\n"
     ]
    }
   ],
   "source": [
    "t = %timeit -r 5 -n 100 -c -o false_position(f=f, bracket=bracket, rtol=tol, maxiter=ite)"
   ]
  },
  {
   "cell_type": "code",
   "execution_count": 135,
   "id": "occasional-dispatch",
   "metadata": {},
   "outputs": [],
   "source": [
    "%%capture local_cell_data\n",
    "%%time \n",
    "falsa_posicao_6 = false_position(f=f, bracket=bracket, rtol=tol, maxiter=ite)"
   ]
  },
  {
   "cell_type": "code",
   "execution_count": 136,
   "id": "angry-belfast",
   "metadata": {},
   "outputs": [],
   "source": [
    "data.append([np.array([falsa_posicao_6[0]], dtype=np.float64), falsa_posicao_6[1], falsa_posicao_6[2], \n",
    "             local_cell_data.stdout.replace('\\n', \" | \"), str(t)])"
   ]
  },
  {
   "cell_type": "markdown",
   "id": "included-exception",
   "metadata": {},
   "source": [
    "ponto fixo"
   ]
  },
  {
   "cell_type": "code",
   "execution_count": 137,
   "id": "fuzzy-review",
   "metadata": {},
   "outputs": [],
   "source": [
    "%%capture raiz_no_grafico\n",
    "def reta_y_x(x): return x\n",
    "x = np.linspace(0.5, 3.5, 200)\n",
    "plt.plot(x, f(x))\n",
    "plt.plot(x, reta_y_x(x))\n",
    "plt.grid(True)"
   ]
  },
  {
   "cell_type": "code",
   "execution_count": 138,
   "id": "combined-heater",
   "metadata": {},
   "outputs": [
    {
     "data": {
      "image/png": "[encoded data removed]",
      "text/plain": [
       "<Figure size 432x288 with 1 Axes>"
      ]
     },
     "metadata": {
      "needs_background": "light"
     },
     "output_type": "display_data"
    }
   ],
   "source": [
    "raiz_no_grafico.show()"
   ]
  },
  {
   "cell_type": "raw",
   "id": "hispanic-dutch",
   "metadata": {},
   "source": [
    "de acordo com o gráfico acima, a maior raiz de f(x) é proxima de 3, logo"
   ]
  },
  {
   "cell_type": "code",
   "execution_count": 139,
   "id": "novel-royal",
   "metadata": {},
   "outputs": [],
   "source": [
    "x0 = 3.5"
   ]
  },
  {
   "cell_type": "raw",
   "id": "confirmed-mileage",
   "metadata": {},
   "source": [
    "Isolando o x, para encontrar g(x)\n",
    "somando x a equação f(x) = 0\n",
    "x = f(x) + x\n",
    "g(x) = f(x) + x"
   ]
  },
  {
   "cell_type": "code",
   "execution_count": 140,
   "id": "recognized-japanese",
   "metadata": {},
   "outputs": [],
   "source": [
    "def g(x): return f(x) + x"
   ]
  },
  {
   "cell_type": "code",
   "execution_count": 141,
   "id": "religious-flower",
   "metadata": {},
   "outputs": [
    {
     "name": "stdout",
     "output_type": "stream",
     "text": [
      "1.29 ms ± 243 µs per loop (mean ± std. dev. of 5 runs, 100 loops each)\n"
     ]
    }
   ],
   "source": [
    "t = %timeit -r 5 -n 100 -c -o opt.fixed_point(g, x0=x0, xtol=tol, maxiter=ite)"
   ]
  },
  {
   "cell_type": "code",
   "execution_count": 142,
   "id": "experimental-ownership",
   "metadata": {},
   "outputs": [],
   "source": [
    "%%capture local_cell_data\n",
    "%%time\n",
    "ponto_fixo_6 = opt.fixed_point(g, x0=x0, xtol=tol, maxiter=ite)"
   ]
  },
  {
   "cell_type": "code",
   "execution_count": 143,
   "id": "changing-grant",
   "metadata": {},
   "outputs": [],
   "source": [
    "iteracoes = \"not able to check how many iterations were made\"\n",
    "if local_cell_data.stdout and not local_cell_data.stderr:\n",
    "    for i in range(ite + 1):\n",
    "        try:\n",
    "            if opt.fixed_point(g, x0=x0, xtol=tol, maxiter=i) == ponto_fixo_6:\n",
    "                iteracoes = i\n",
    "                break\n",
    "        except:\n",
    "            #print(\"needs more than\", i, \"iterations\")\n",
    "            pass"
   ]
  },
  {
   "cell_type": "code",
   "execution_count": 144,
   "id": "based-ethernet",
   "metadata": {},
   "outputs": [],
   "source": [
    "if local_cell_data.stdout and not local_cell_data.stderr:\n",
    "    data.append([np.array([ponto_fixo_6], dtype=np.float64), iteracoes, \"converged\", local_cell_data.stdout.replace('\\n', \" | \"), str(t)])\n",
    "else:\n",
    "    data.append([np.nan, iteracoes, local_cell_data.stderr, np.nan, np.nan])"
   ]
  },
  {
   "cell_type": "markdown",
   "id": "fiscal-finance",
   "metadata": {},
   "source": [
    "newton"
   ]
  },
  {
   "cell_type": "code",
   "execution_count": 145,
   "id": "fiscal-northern",
   "metadata": {},
   "outputs": [],
   "source": [
    "def df(x): return 5 * (ln(x) + (x - 3)/x)"
   ]
  },
  {
   "cell_type": "code",
   "execution_count": 146,
   "id": "baking-graduate",
   "metadata": {},
   "outputs": [
    {
     "name": "stdout",
     "output_type": "stream",
     "text": [
      "362 µs ± 145 µs per loop (mean ± std. dev. of 5 runs, 100 loops each)\n"
     ]
    }
   ],
   "source": [
    "t = %timeit -r 5 -n 100 -c -o opt.root_scalar(f=f, fprime=df, x0=x0, method='newton', rtol=tol, maxiter=ite)"
   ]
  },
  {
   "cell_type": "code",
   "execution_count": 147,
   "id": "plain-making",
   "metadata": {},
   "outputs": [],
   "source": [
    "%%capture local_cell_data\n",
    "%%time\n",
    "newton_6 = opt.root_scalar(f=f, fprime=df, x0=x0, method='newton', rtol=tol, maxiter=ite)"
   ]
  },
  {
   "cell_type": "code",
   "execution_count": 148,
   "id": "guided-variety",
   "metadata": {},
   "outputs": [],
   "source": [
    "data.append([[np.array(newton_6.root, dtype=np.float64)], newton_6.iterations, newton_6.flag, local_cell_data.stdout.replace('\\n', \" | \"), str(t)])"
   ]
  },
  {
   "cell_type": "markdown",
   "id": "periodic-junction",
   "metadata": {},
   "source": [
    "secante"
   ]
  },
  {
   "cell_type": "code",
   "execution_count": 149,
   "id": "general-broadcast",
   "metadata": {},
   "outputs": [
    {
     "data": {
      "image/png": "[encoded data removed]",
      "text/plain": [
       "<Figure size 432x288 with 1 Axes>"
      ]
     },
     "metadata": {
      "needs_background": "light"
     },
     "output_type": "display_data"
    }
   ],
   "source": [
    "raiz_no_grafico.show()"
   ]
  },
  {
   "cell_type": "raw",
   "id": "behind-temple",
   "metadata": {},
   "source": [
    "de acordo com o gráfico acima, a maior raiz de f(x) é proxima de 3, logo"
   ]
  },
  {
   "cell_type": "code",
   "execution_count": 150,
   "id": "paperback-cyprus",
   "metadata": {},
   "outputs": [],
   "source": [
    "x1 = 3.5\n",
    "x0 = 2.5"
   ]
  },
  {
   "cell_type": "code",
   "execution_count": 151,
   "id": "heavy-proposition",
   "metadata": {},
   "outputs": [
    {
     "name": "stdout",
     "output_type": "stream",
     "text": [
      "407 µs ± 250 µs per loop (mean ± std. dev. of 5 runs, 100 loops each)\n"
     ]
    }
   ],
   "source": [
    "t = %timeit -r 5 -n 100 -c -o opt.root_scalar(f, x0=x0, x1=x1, method='secant', rtol=tol, maxiter=ite)"
   ]
  },
  {
   "cell_type": "code",
   "execution_count": 152,
   "id": "frozen-negative",
   "metadata": {},
   "outputs": [],
   "source": [
    "%%capture local_cell_data\n",
    "%%time\n",
    "secante_6 = opt.root_scalar(f, x0=x0, x1=x1, method='secant', rtol=tol, maxiter=ite)"
   ]
  },
  {
   "cell_type": "code",
   "execution_count": 153,
   "id": "living-hardware",
   "metadata": {},
   "outputs": [],
   "source": [
    "data.append([np.array([secante_6.root], dtype=np.float64), secante_6.iterations, secante_6.flag, local_cell_data.stdout.replace('\\n', \" | \"), str(t)])"
   ]
  },
  {
   "cell_type": "code",
   "execution_count": 154,
   "id": "collective-bulgaria",
   "metadata": {},
   "outputs": [
    {
     "data": {
      "text/html": [
       "<div>\n",
       "<style scoped>\n",
       "    .dataframe tbody tr th:only-of-type {\n",
       "        vertical-align: middle;\n",
       "    }\n",
       "\n",
       "    .dataframe tbody tr th {\n",
       "        vertical-align: top;\n",
       "    }\n",
       "\n",
       "    .dataframe thead th {\n",
       "        text-align: right;\n",
       "    }\n",
       "</style>\n",
       "<table border=\"1\" class=\"dataframe\">\n",
       "  <thead>\n",
       "    <tr style=\"text-align: right;\">\n",
       "      <th></th>\n",
       "      <th>raiz</th>\n",
       "      <th>iterações</th>\n",
       "      <th>convergence flag</th>\n",
       "      <th>1 execution time</th>\n",
       "      <th>test execution time</th>\n",
       "    </tr>\n",
       "  </thead>\n",
       "  <tbody>\n",
       "    <tr>\n",
       "      <th>bisseção</th>\n",
       "      <td>[2.9999999999417923]</td>\n",
       "      <td>34</td>\n",
       "      <td>converged</td>\n",
       "      <td>CPU times: user 425 us, sys: 17 us, total: 442 us | Wall time: 456 us |</td>\n",
       "      <td>144 µs ± 73.3 µs per loop (mean ± std. dev. of 5 runs, 100 loops each)</td>\n",
       "    </tr>\n",
       "    <tr>\n",
       "      <th>falsa poisção</th>\n",
       "      <td>[2.9999999999999996]</td>\n",
       "      <td>32</td>\n",
       "      <td>convergence error, auto stop</td>\n",
       "      <td>CPU times: user 2.77 ms, sys: 108 us, total: 2.88 ms | Wall time: 2.8 ms |</td>\n",
       "      <td>1.98 ms ± 128 µs per loop (mean ± std. dev. of 5 runs, 100 loops each)</td>\n",
       "    </tr>\n",
       "    <tr>\n",
       "      <th>ponto fixo</th>\n",
       "      <td>[3.0]</td>\n",
       "      <td>7</td>\n",
       "      <td>converged</td>\n",
       "      <td>CPU times: user 2.13 ms, sys: 0 ns, total: 2.13 ms | Wall time: 1.94 ms |</td>\n",
       "      <td>1.29 ms ± 243 µs per loop (mean ± std. dev. of 5 runs, 100 loops each)</td>\n",
       "    </tr>\n",
       "    <tr>\n",
       "      <th>newton</th>\n",
       "      <td>[3.0]</td>\n",
       "      <td>5</td>\n",
       "      <td>converged</td>\n",
       "      <td>CPU times: user 556 us, sys: 0 ns, total: 556 us | Wall time: 564 us |</td>\n",
       "      <td>362 µs ± 145 µs per loop (mean ± std. dev. of 5 runs, 100 loops each)</td>\n",
       "    </tr>\n",
       "    <tr>\n",
       "      <th>secant</th>\n",
       "      <td>[3.0000000000000004]</td>\n",
       "      <td>6</td>\n",
       "      <td>converged</td>\n",
       "      <td>CPU times: user 427 us, sys: 18 us, total: 445 us | Wall time: 451 us |</td>\n",
       "      <td>407 µs ± 250 µs per loop (mean ± std. dev. of 5 runs, 100 loops each)</td>\n",
       "    </tr>\n",
       "  </tbody>\n",
       "</table>\n",
       "</div>"
      ],
      "text/plain": [
       "                               raiz  iterações              convergence flag  \\\n",
       "bisseção       [2.9999999999417923]         34                     converged   \n",
       "falsa poisção  [2.9999999999999996]         32  convergence error, auto stop   \n",
       "ponto fixo                    [3.0]          7                     converged   \n",
       "newton                        [3.0]          5                     converged   \n",
       "secant         [3.0000000000000004]          6                     converged   \n",
       "\n",
       "                                                                          1 execution time  \\\n",
       "bisseção          CPU times: user 425 us, sys: 17 us, total: 442 us | Wall time: 456 us |    \n",
       "falsa poisção  CPU times: user 2.77 ms, sys: 108 us, total: 2.88 ms | Wall time: 2.8 ms |    \n",
       "ponto fixo      CPU times: user 2.13 ms, sys: 0 ns, total: 2.13 ms | Wall time: 1.94 ms |    \n",
       "newton             CPU times: user 556 us, sys: 0 ns, total: 556 us | Wall time: 564 us |    \n",
       "secant            CPU times: user 427 us, sys: 18 us, total: 445 us | Wall time: 451 us |    \n",
       "\n",
       "                                                                  test execution time  \n",
       "bisseção       144 µs ± 73.3 µs per loop (mean ± std. dev. of 5 runs, 100 loops each)  \n",
       "falsa poisção  1.98 ms ± 128 µs per loop (mean ± std. dev. of 5 runs, 100 loops each)  \n",
       "ponto fixo     1.29 ms ± 243 µs per loop (mean ± std. dev. of 5 runs, 100 loops each)  \n",
       "newton          362 µs ± 145 µs per loop (mean ± std. dev. of 5 runs, 100 loops each)  \n",
       "secant          407 µs ± 250 µs per loop (mean ± std. dev. of 5 runs, 100 loops each)  "
      ]
     },
     "execution_count": 154,
     "metadata": {},
     "output_type": "execute_result"
    }
   ],
   "source": [
    "dataFrame = pd.DataFrame(data, [\"bisseção\", \"falsa poisção\", \"ponto fixo\", \"newton\", \"secant\"], \n",
    "                         [\"raiz\", \"iterações\", \"convergence flag\", \"1 execution time\", \"test execution time\"])\n",
    "pd.set_option(\"display.max_colwidth\", 200)\n",
    "dataFrame"
   ]
  },
  {
   "cell_type": "markdown",
   "id": "blessed-affairs",
   "metadata": {},
   "source": [
    "(f) f6\n",
    "(x) = x\n",
    "10 − 1, com x\n",
    "∗ ∈ [0.8, 1.2]"
   ]
  },
  {
   "cell_type": "code",
   "execution_count": 155,
   "id": "provincial-moses",
   "metadata": {},
   "outputs": [],
   "source": [
    "data = []"
   ]
  },
  {
   "cell_type": "markdown",
   "id": "answering-monster",
   "metadata": {},
   "source": [
    "bisseção"
   ]
  },
  {
   "cell_type": "code",
   "execution_count": 156,
   "id": "curious-algorithm",
   "metadata": {},
   "outputs": [],
   "source": [
    "def f(x): return x**10 - 1\n",
    "bracket = [0.8, 1.2]"
   ]
  },
  {
   "cell_type": "code",
   "execution_count": 157,
   "id": "described-forestry",
   "metadata": {},
   "outputs": [
    {
     "name": "stdout",
     "output_type": "stream",
     "text": [
      "33.1 µs ± 4.48 µs per loop (mean ± std. dev. of 5 runs, 100 loops each)\n"
     ]
    }
   ],
   "source": [
    "t = %timeit -r 5 -n 100 -c -o opt.root_scalar(f=f, method='bisect', bracket=bracket, rtol=tol, maxiter=ite)"
   ]
  },
  {
   "cell_type": "code",
   "execution_count": 158,
   "id": "surgical-liabilities",
   "metadata": {},
   "outputs": [],
   "source": [
    "%%capture local_cell_data\n",
    "%%time \n",
    "bissecao_6 = opt.root_scalar(f=f, method='bisect', bracket=bracket, rtol=tol, maxiter=ite)"
   ]
  },
  {
   "cell_type": "code",
   "execution_count": 159,
   "id": "digital-serbia",
   "metadata": {},
   "outputs": [],
   "source": [
    "data.append([np.array([bissecao_6.root], dtype=np.float64), bissecao_6.iterations, bissecao_6.flag, \n",
    "             local_cell_data.stdout.replace('\\n', \" | \"), str(t)])"
   ]
  },
  {
   "cell_type": "markdown",
   "id": "norman-rebel",
   "metadata": {},
   "source": [
    "falsa posição"
   ]
  },
  {
   "cell_type": "code",
   "execution_count": 160,
   "id": "linear-polish",
   "metadata": {},
   "outputs": [
    {
     "name": "stdout",
     "output_type": "stream",
     "text": [
      "2.34 ms ± 146 µs per loop (mean ± std. dev. of 5 runs, 100 loops each)\n"
     ]
    }
   ],
   "source": [
    "t = %timeit -r 5 -n 100 -c -o false_position(f=f, bracket=bracket, rtol=tol, maxiter=ite)"
   ]
  },
  {
   "cell_type": "code",
   "execution_count": 161,
   "id": "written-singing",
   "metadata": {},
   "outputs": [],
   "source": [
    "%%capture local_cell_data\n",
    "%%time \n",
    "falsa_posicao_6 = false_position(f=f, bracket=bracket, rtol=tol, maxiter=ite)"
   ]
  },
  {
   "cell_type": "code",
   "execution_count": 162,
   "id": "accredited-validation",
   "metadata": {},
   "outputs": [],
   "source": [
    "data.append([np.array([falsa_posicao_6[0]], dtype=np.float64), falsa_posicao_6[1], falsa_posicao_6[2], \n",
    "             local_cell_data.stdout.replace('\\n', \" | \"), str(t)])"
   ]
  },
  {
   "cell_type": "markdown",
   "id": "asian-skill",
   "metadata": {},
   "source": [
    "ponto fixo"
   ]
  },
  {
   "cell_type": "code",
   "execution_count": 163,
   "id": "accessible-local",
   "metadata": {},
   "outputs": [],
   "source": [
    "%%capture raiz_no_grafico\n",
    "def reta_y_x(x): return x\n",
    "x = np.linspace(0.8, 1.2, 200)\n",
    "plt.plot(x, f(x))\n",
    "plt.plot(x, reta_y_x(x))\n",
    "plt.grid(True)"
   ]
  },
  {
   "cell_type": "code",
   "execution_count": 164,
   "id": "geographic-adobe",
   "metadata": {},
   "outputs": [
    {
     "data": {
      "image/png": "[encoded data removed]",
      "text/plain": [
       "<Figure size 432x288 with 1 Axes>"
      ]
     },
     "metadata": {
      "needs_background": "light"
     },
     "output_type": "display_data"
    }
   ],
   "source": [
    "raiz_no_grafico.show()"
   ]
  },
  {
   "cell_type": "raw",
   "id": "guilty-anxiety",
   "metadata": {},
   "source": [
    "de acordo com o gráfico acima, a maior raiz de f(x) é proxima de 1, logo"
   ]
  },
  {
   "cell_type": "code",
   "execution_count": 165,
   "id": "moral-bleeding",
   "metadata": {},
   "outputs": [],
   "source": [
    "x0 = 1"
   ]
  },
  {
   "cell_type": "raw",
   "id": "allied-people",
   "metadata": {},
   "source": [
    "Isolando o x, para encontrar g(x)\n",
    "somando x a equação f(x) = 0\n",
    "x = f(x) + x\n",
    "g(x) = f(x) + x"
   ]
  },
  {
   "cell_type": "code",
   "execution_count": 166,
   "id": "floppy-snake",
   "metadata": {},
   "outputs": [],
   "source": [
    "def g(x): return f(x) + x"
   ]
  },
  {
   "cell_type": "code",
   "execution_count": 167,
   "id": "hidden-andrews",
   "metadata": {},
   "outputs": [
    {
     "name": "stdout",
     "output_type": "stream",
     "text": [
      "299 µs ± 158 µs per loop (mean ± std. dev. of 5 runs, 100 loops each)\n"
     ]
    }
   ],
   "source": [
    "t = %timeit -r 5 -n 100 -c -o opt.fixed_point(g, x0=x0, xtol=tol, maxiter=ite)"
   ]
  },
  {
   "cell_type": "code",
   "execution_count": 168,
   "id": "inner-flexibility",
   "metadata": {},
   "outputs": [],
   "source": [
    "%%capture local_cell_data\n",
    "%%time\n",
    "ponto_fixo_6 = opt.fixed_point(g, x0=x0, xtol=tol, maxiter=ite)"
   ]
  },
  {
   "cell_type": "code",
   "execution_count": 169,
   "id": "convenient-caribbean",
   "metadata": {},
   "outputs": [],
   "source": [
    "iteracoes = \"not able to check how many iterations were made\"\n",
    "if local_cell_data.stdout and not local_cell_data.stderr:\n",
    "    for i in range(ite + 1):\n",
    "        try:\n",
    "            if opt.fixed_point(g, x0=x0, xtol=tol, maxiter=i) == ponto_fixo_6:\n",
    "                iteracoes = i\n",
    "                break\n",
    "        except:\n",
    "            #print(\"needs more than\", i, \"iterations\")\n",
    "            pass"
   ]
  },
  {
   "cell_type": "code",
   "execution_count": 170,
   "id": "matched-webster",
   "metadata": {},
   "outputs": [],
   "source": [
    "if local_cell_data.stdout and not local_cell_data.stderr:\n",
    "    data.append([np.array([ponto_fixo_6], dtype=np.float64), iteracoes, \"converged\", local_cell_data.stdout.replace('\\n', \" | \"), str(t)])\n",
    "else:\n",
    "    data.append([np.nan, iteracoes, local_cell_data.stderr, np.nan, np.nan])"
   ]
  },
  {
   "cell_type": "markdown",
   "id": "applicable-brand",
   "metadata": {},
   "source": [
    "newton"
   ]
  },
  {
   "cell_type": "code",
   "execution_count": 171,
   "id": "threatened-craft",
   "metadata": {},
   "outputs": [],
   "source": [
    "def df(x): return 10*x**9"
   ]
  },
  {
   "cell_type": "code",
   "execution_count": 172,
   "id": "domestic-spyware",
   "metadata": {},
   "outputs": [
    {
     "name": "stdout",
     "output_type": "stream",
     "text": [
      "39.9 µs ± 4.91 µs per loop (mean ± std. dev. of 5 runs, 100 loops each)\n"
     ]
    }
   ],
   "source": [
    "t = %timeit -r 5 -n 100 -c -o opt.root_scalar(f=f, fprime=df, x0=x0, method='newton', rtol=tol, maxiter=ite)"
   ]
  },
  {
   "cell_type": "code",
   "execution_count": 173,
   "id": "packed-gauge",
   "metadata": {},
   "outputs": [],
   "source": [
    "%%capture local_cell_data\n",
    "%%time\n",
    "newton_6 = opt.root_scalar(f=f, fprime=df, x0=x0, method='newton', rtol=tol, maxiter=ite)"
   ]
  },
  {
   "cell_type": "code",
   "execution_count": 174,
   "id": "shaped-regression",
   "metadata": {},
   "outputs": [],
   "source": [
    "data.append([[np.array(newton_6.root, dtype=np.float64)], newton_6.iterations, newton_6.flag, local_cell_data.stdout.replace('\\n', \" | \"), str(t)])"
   ]
  },
  {
   "cell_type": "markdown",
   "id": "trained-remark",
   "metadata": {},
   "source": [
    "secante"
   ]
  },
  {
   "cell_type": "code",
   "execution_count": 175,
   "id": "interested-facility",
   "metadata": {},
   "outputs": [
    {
     "data": {
      "image/png": "[encoded data removed]",
      "text/plain": [
       "<Figure size 432x288 with 1 Axes>"
      ]
     },
     "metadata": {
      "needs_background": "light"
     },
     "output_type": "display_data"
    }
   ],
   "source": [
    "raiz_no_grafico.show()"
   ]
  },
  {
   "cell_type": "raw",
   "id": "instructional-scale",
   "metadata": {},
   "source": [
    "de acordo com o gráfico acima, a maior raiz de f(x) é proxima de 1, logo"
   ]
  },
  {
   "cell_type": "code",
   "execution_count": 176,
   "id": "elementary-absolute",
   "metadata": {},
   "outputs": [],
   "source": [
    "x1 = 1.1\n",
    "x0 = 0.8"
   ]
  },
  {
   "cell_type": "code",
   "execution_count": 177,
   "id": "approved-nelson",
   "metadata": {},
   "outputs": [
    {
     "name": "stdout",
     "output_type": "stream",
     "text": [
      "370 µs ± 87.5 µs per loop (mean ± std. dev. of 5 runs, 100 loops each)\n"
     ]
    }
   ],
   "source": [
    "t = %timeit -r 5 -n 100 -c -o opt.root_scalar(f, x0=x0, x1=x1, method='secant', rtol=tol, maxiter=ite)"
   ]
  },
  {
   "cell_type": "code",
   "execution_count": 178,
   "id": "excessive-ordinance",
   "metadata": {},
   "outputs": [],
   "source": [
    "%%capture local_cell_data\n",
    "%%time\n",
    "secante_6 = opt.root_scalar(f, x0=x0, x1=x1, method='secant', rtol=tol, maxiter=ite)"
   ]
  },
  {
   "cell_type": "code",
   "execution_count": 179,
   "id": "growing-behalf",
   "metadata": {},
   "outputs": [],
   "source": [
    "data.append([np.array([secante_6.root], dtype=np.float64), secante_6.iterations, secante_6.flag, local_cell_data.stdout.replace('\\n', \" | \"), str(t)])"
   ]
  },
  {
   "cell_type": "code",
   "execution_count": 180,
   "id": "sharing-truck",
   "metadata": {},
   "outputs": [
    {
     "data": {
      "text/html": [
       "<div>\n",
       "<style scoped>\n",
       "    .dataframe tbody tr th:only-of-type {\n",
       "        vertical-align: middle;\n",
       "    }\n",
       "\n",
       "    .dataframe tbody tr th {\n",
       "        vertical-align: top;\n",
       "    }\n",
       "\n",
       "    .dataframe thead th {\n",
       "        text-align: right;\n",
       "    }\n",
       "</style>\n",
       "<table border=\"1\" class=\"dataframe\">\n",
       "  <thead>\n",
       "    <tr style=\"text-align: right;\">\n",
       "      <th></th>\n",
       "      <th>raiz</th>\n",
       "      <th>iterações</th>\n",
       "      <th>convergence flag</th>\n",
       "      <th>1 execution time</th>\n",
       "      <th>test execution time</th>\n",
       "    </tr>\n",
       "  </thead>\n",
       "  <tbody>\n",
       "    <tr>\n",
       "      <th>bisseção</th>\n",
       "      <td>[1.0]</td>\n",
       "      <td>1</td>\n",
       "      <td>converged</td>\n",
       "      <td>CPU times: user 0 ns, sys: 165 us, total: 165 us | Wall time: 184 us |</td>\n",
       "      <td>33.1 µs ± 4.48 µs per loop (mean ± std. dev. of 5 runs, 100 loops each)</td>\n",
       "    </tr>\n",
       "    <tr>\n",
       "      <th>falsa poisção</th>\n",
       "      <td>[0.9999999999999999]</td>\n",
       "      <td>200</td>\n",
       "      <td>convergence error, stoped iterating by maximiter</td>\n",
       "      <td>CPU times: user 2.36 ms, sys: 0 ns, total: 2.36 ms | Wall time: 2.37 ms |</td>\n",
       "      <td>2.34 ms ± 146 µs per loop (mean ± std. dev. of 5 runs, 100 loops each)</td>\n",
       "    </tr>\n",
       "    <tr>\n",
       "      <th>ponto fixo</th>\n",
       "      <td>[1.0]</td>\n",
       "      <td>1</td>\n",
       "      <td>converged</td>\n",
       "      <td>CPU times: user 654 us, sys: 27 us, total: 681 us | Wall time: 606 us |</td>\n",
       "      <td>299 µs ± 158 µs per loop (mean ± std. dev. of 5 runs, 100 loops each)</td>\n",
       "    </tr>\n",
       "    <tr>\n",
       "      <th>newton</th>\n",
       "      <td>[1.0]</td>\n",
       "      <td>0</td>\n",
       "      <td>converged</td>\n",
       "      <td>CPU times: user 283 us, sys: 12 us, total: 295 us | Wall time: 425 us |</td>\n",
       "      <td>39.9 µs ± 4.91 µs per loop (mean ± std. dev. of 5 runs, 100 loops each)</td>\n",
       "    </tr>\n",
       "    <tr>\n",
       "      <th>secant</th>\n",
       "      <td>[0.9999999999998065]</td>\n",
       "      <td>8</td>\n",
       "      <td>converged</td>\n",
       "      <td>CPU times: user 442 us, sys: 0 ns, total: 442 us | Wall time: 447 us |</td>\n",
       "      <td>370 µs ± 87.5 µs per loop (mean ± std. dev. of 5 runs, 100 loops each)</td>\n",
       "    </tr>\n",
       "  </tbody>\n",
       "</table>\n",
       "</div>"
      ],
      "text/plain": [
       "                               raiz  iterações  \\\n",
       "bisseção                      [1.0]          1   \n",
       "falsa poisção  [0.9999999999999999]        200   \n",
       "ponto fixo                    [1.0]          1   \n",
       "newton                        [1.0]          0   \n",
       "secant         [0.9999999999998065]          8   \n",
       "\n",
       "                                               convergence flag  \\\n",
       "bisseção                                              converged   \n",
       "falsa poisção  convergence error, stoped iterating by maximiter   \n",
       "ponto fixo                                            converged   \n",
       "newton                                                converged   \n",
       "secant                                                converged   \n",
       "\n",
       "                                                                         1 execution time  \\\n",
       "bisseção          CPU times: user 0 ns, sys: 165 us, total: 165 us | Wall time: 184 us |    \n",
       "falsa poisção  CPU times: user 2.36 ms, sys: 0 ns, total: 2.36 ms | Wall time: 2.37 ms |    \n",
       "ponto fixo       CPU times: user 654 us, sys: 27 us, total: 681 us | Wall time: 606 us |    \n",
       "newton           CPU times: user 283 us, sys: 12 us, total: 295 us | Wall time: 425 us |    \n",
       "secant            CPU times: user 442 us, sys: 0 ns, total: 442 us | Wall time: 447 us |    \n",
       "\n",
       "                                                                   test execution time  \n",
       "bisseção       33.1 µs ± 4.48 µs per loop (mean ± std. dev. of 5 runs, 100 loops each)  \n",
       "falsa poisção   2.34 ms ± 146 µs per loop (mean ± std. dev. of 5 runs, 100 loops each)  \n",
       "ponto fixo       299 µs ± 158 µs per loop (mean ± std. dev. of 5 runs, 100 loops each)  \n",
       "newton         39.9 µs ± 4.91 µs per loop (mean ± std. dev. of 5 runs, 100 loops each)  \n",
       "secant          370 µs ± 87.5 µs per loop (mean ± std. dev. of 5 runs, 100 loops each)  "
      ]
     },
     "execution_count": 180,
     "metadata": {},
     "output_type": "execute_result"
    }
   ],
   "source": [
    "dataFrame = pd.DataFrame(data, [\"bisseção\", \"falsa poisção\", \"ponto fixo\", \"newton\", \"secant\"], \n",
    "                         [\"raiz\", \"iterações\", \"convergence flag\", \"1 execution time\", \"test execution time\"])\n",
    "pd.set_option(\"display.max_colwidth\", 200)\n",
    "dataFrame"
   ]
  }
 ],
 "metadata": {
  "kernelspec": {
   "display_name": "Python 3",
   "language": "python",
   "name": "python3"
  },
  "language_info": {
   "codemirror_mode": {
    "name": "ipython",
    "version": 3
   },
   "file_extension": ".py",
   "mimetype": "text/x-python",
   "name": "python",
   "nbconvert_exporter": "python",
   "pygments_lexer": "ipython3",
   "version": "3.8.5"
  }
 },
 "nbformat": 4,
 "nbformat_minor": 5
}
