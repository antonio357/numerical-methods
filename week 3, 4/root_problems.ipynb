{
 "cells": [
  {
   "cell_type": "code",
   "execution_count": 1,
   "id": "engaged-consideration",
   "metadata": {},
   "outputs": [],
   "source": [
    "import numpy as np\n",
    "import scipy.optimize as opt\n",
    "import matplotlib.pyplot as plt\n",
    "import pandas as pd\n",
    "import time"
   ]
  },
  {
   "cell_type": "markdown",
   "id": "certain-timeline",
   "metadata": {},
   "source": [
    "1. Determine as raízes reais de f (x) = −0.5x\n",
    "2 + 2.5x + 4.5:"
   ]
  },
  {
   "cell_type": "markdown",
   "id": "signed-isolation",
   "metadata": {},
   "source": [
    "(a) Graficamente;"
   ]
  },
  {
   "cell_type": "code",
   "execution_count": 2,
   "id": "interpreted-inspector",
   "metadata": {},
   "outputs": [
    {
     "data": {
      "image/png": "[encoded data removed]",
      "text/plain": [
       "<Figure size 432x288 with 1 Axes>"
      ]
     },
     "metadata": {
      "needs_background": "light"
     },
     "output_type": "display_data"
    }
   ],
   "source": [
    "def f(x): return -0.5*x**2 + 2.5*x + 4.5\n",
    "x = np.linspace(-3., 8., 200)\n",
    "plt.plot(x, f(x))\n",
    "plt.grid(True)"
   ]
  },
  {
   "cell_type": "markdown",
   "id": "contemporary-resort",
   "metadata": {},
   "source": [
    "segundo o gráfico acima, a primeira raiz é um pouco maior que -2 e a segunda raiz é um pouco maior que 6"
   ]
  },
  {
   "cell_type": "markdown",
   "id": "automated-conflict",
   "metadata": {},
   "source": [
    "(b) Usando a fórmula quadrática;"
   ]
  },
  {
   "cell_type": "code",
   "execution_count": 3,
   "id": "psychological-trash",
   "metadata": {},
   "outputs": [
    {
     "name": "stdout",
     "output_type": "stream",
     "text": [
      "x1, x2 =  -1.4051248379533271971 6.4051248379533271974\n"
     ]
    }
   ],
   "source": [
    "a, b, c = np.float128(-0.5), np.float128(2.5), np.float128(4.5)\n",
    "delta = b**2 -4*a*c\n",
    "x1 = (-b + np.sqrt(delta)) / (2*a)\n",
    "x2 = (-b - np.sqrt(delta)) / (2*a)\n",
    "print(\"x1, x2 = \", x1, x2)"
   ]
  },
  {
   "cell_type": "markdown",
   "id": "stylish-terminal",
   "metadata": {},
   "source": [
    "(c) Usando três iterações do método da bisseção para determinar a maior raiz. Use as aproximações iniciais xl = 5 e xu = 10. Calcule o erro relativo obtido entre cada iteração, e o erro\n",
    "entre os valores verdadeiros encontrados no item b e o valor de cada iteração."
   ]
  },
  {
   "cell_type": "code",
   "execution_count": 4,
   "id": "marked-bargain",
   "metadata": {},
   "outputs": [
    {
     "data": {
      "text/plain": [
       "6.25"
      ]
     },
     "execution_count": 4,
     "metadata": {},
     "output_type": "execute_result"
    }
   ],
   "source": [
    "# Usando três iterações do método da bisseção para determinar a maior raiz. Use as aproximações iniciais xl = 5 e xu = 10.\n",
    "opt.root_scalar(f,method='bisect',bracket=[5,10], maxiter=3).root"
   ]
  },
  {
   "cell_type": "code",
   "execution_count": 5,
   "id": "micro-shell",
   "metadata": {},
   "outputs": [
    {
     "data": {
      "text/plain": [
       "array([5.  , 6.25, 6.25], dtype=float128)"
      ]
     },
     "execution_count": 5,
     "metadata": {},
     "output_type": "execute_result"
    }
   ],
   "source": [
    "def err_rel(num , apro_num):\n",
    "    erro = np.absolute(num - apro_num) / np.absolute(num)\n",
    "    erro_porcent = erro / 100\n",
    "    return (erro, erro_porcent)\n",
    "\n",
    "iters = []\n",
    "for i in range(1, 3 + 1):\n",
    "    val_ite = opt.root_scalar(f, method='bisect', bracket=[5,10], maxiter=i).root\n",
    "    iters.append(val_ite)\n",
    "iters = np.array(iters, dtype=np.float128)\n",
    "iters"
   ]
  },
  {
   "cell_type": "code",
   "execution_count": 6,
   "id": "worthy-microwave",
   "metadata": {},
   "outputs": [
    {
     "name": "stdout",
     "output_type": "stream",
     "text": [
      "(erro, erro %)\n",
      "(0.2, 0.002)\n",
      "(0.0, 0.0)\n",
      "(0.0, 0.0)\n"
     ]
    }
   ],
   "source": [
    "# Calcule o erro relativo obtido entre cada iteração ...\n",
    "print(\"(erro, erro %)\")\n",
    "for i in range(1, 3 + 1):\n",
    "    Xi = opt.root_scalar(f, method='bisect', bracket=[5,10], maxiter=i).root\n",
    "    Xi_mais_1 = opt.root_scalar(f, method='bisect', bracket=[5,10], maxiter= i + 1).root\n",
    "    print(err_rel(Xi_mais_1, Xi))"
   ]
  },
  {
   "cell_type": "code",
   "execution_count": 7,
   "id": "emotional-headquarters",
   "metadata": {},
   "outputs": [
    {
     "data": {
      "text/plain": [
       "(array([4.55840269, 5.44800336, 5.44800336], dtype=float128),\n",
       " array([0.04558403, 0.05448003, 0.05448003], dtype=float128))"
      ]
     },
     "execution_count": 7,
     "metadata": {},
     "output_type": "execute_result"
    }
   ],
   "source": [
    "# ... , e o erro entre os valores verdadeiros encontrados no item b e o valor de cada iteração.\n",
    "err_rel(np.array(x1), np.array(iters)) # para raiz x1 =  -1.4051248379533269883"
   ]
  },
  {
   "cell_type": "code",
   "execution_count": 8,
   "id": "consistent-harvard",
   "metadata": {},
   "outputs": [
    {
     "data": {
      "text/plain": [
       "(array([0.21937509, 0.02421886, 0.02421886], dtype=float128),\n",
       " array([0.00219375, 0.00024219, 0.00024219], dtype=float128))"
      ]
     },
     "execution_count": 8,
     "metadata": {},
     "output_type": "execute_result"
    }
   ],
   "source": [
    "# ... , e o erro entre os valores verdadeiros encontrados no item b e o valor de cada iteração.\n",
    "err_rel(np.array([x2]), np.array(iters)) # para raiz x2 =  6.4051248379533269883"
   ]
  },
  {
   "cell_type": "markdown",
   "id": "liked-wound",
   "metadata": {},
   "source": [
    "2. Dada f (x) = −2x\n",
    "6 − 1.5x\n",
    "4 + 10x + 20, encontre o máximo dessa função ( f\n",
    "0\n",
    "(x) = 0) usando o\n",
    "método da bisseção, considerando o intervalo [0, 1] e um erro limite de 5%."
   ]
  },
  {
   "cell_type": "code",
   "execution_count": 9,
   "id": "massive-pacific",
   "metadata": {},
   "outputs": [
    {
     "data": {
      "text/plain": [
       "      converged: True\n",
       "           flag: 'converged'\n",
       " function_calls: 7\n",
       "     iterations: 5\n",
       "           root: 0.84375"
      ]
     },
     "execution_count": 9,
     "metadata": {},
     "output_type": "execute_result"
    }
   ],
   "source": [
    "def f(x): return -2*x**6 - 1.5*x**4 + 10*x + 20\n",
    "def df(x): return -12*x**5 - 6*x**3 + 10\n",
    "opt.root_scalar(df, method='bisect', bracket=[0,1], rtol=5e-2)"
   ]
  },
  {
   "cell_type": "markdown",
   "id": "spatial-indianapolis",
   "metadata": {},
   "source": [
    "3. Embora a bisseção seja uma técnica perfeitamente válida para determinar raízes, sua abordagem\n",
    "do tipo “força bruta” é relativamente ineficiente. A falsa posição é uma alternativa baseada na\n",
    "percepção gráfica.\n",
    "As bibliotecas numérica do python não trazem uma implementação desse método. Implementeo, teste-o com os exemplos da texto, comparando com o método da bisseção. Mostre que esse\n",
    "método, para vários casos, é mais eficiente que o da bisseção."
   ]
  },
  {
   "cell_type": "code",
   "execution_count": 10,
   "id": "mathematical-enhancement",
   "metadata": {},
   "outputs": [],
   "source": [
    "# verifica se em um dado intervalo [a, b] de uma função f existe raiz para tal \n",
    "def has_root(f, bottom_limit, upper_limit):\n",
    "    if np.sign(f(bottom_limit)) * np.sign(f(upper_limit)) < 0: return True"
   ]
  },
  {
   "cell_type": "code",
   "execution_count": 11,
   "id": "whole-strategy",
   "metadata": {},
   "outputs": [],
   "source": [
    "# equação para encontrar a próxima aproximação de x, no método da bisseção ou falsa posição  \n",
    "def false_position_rule(f, bracket):\n",
    "    # return (bracket[0] + bracket[1]) / 2\n",
    "    return bracket[1] - ( ( f(bracket[1]) * (bracket[0] - bracket[1]) ) / ( f(bracket[0]) - f(bracket[1]) ) )"
   ]
  },
  {
   "cell_type": "code",
   "execution_count": 12,
   "id": "yellow-emerald",
   "metadata": {},
   "outputs": [],
   "source": [
    "# calcula o erro absoluto\n",
    "def xtol_rule(bracket):\n",
    "    #print(\"xtol_rule(bracket=\", bracket,\") =\", np.absolute(bracket[1] - bracket[0]) / 2)\n",
    "    return np.absolute(bracket[1] - bracket[0]) / 2"
   ]
  },
  {
   "cell_type": "code",
   "execution_count": 13,
   "id": "naughty-thumb",
   "metadata": {},
   "outputs": [],
   "source": [
    "# calcula o erro relativo\n",
    "def rtol_rule(actual_iteration, next_iteration):\n",
    "    #print(\"rtol_rule =\", np.absolute(f(next_iteration) - actual_iteration) / f(next_iteration))\n",
    "    return np.absolute(next_iteration - actual_iteration) / np.absolute(next_iteration)"
   ]
  },
  {
   "cell_type": "code",
   "execution_count": 14,
   "id": "sixth-austin",
   "metadata": {},
   "outputs": [],
   "source": [
    "# recursão para método da falsa posição para os intervalos após o primeiro intervalo ter sido avaliado\n",
    "def false_position_recursion(f, bracket, maxiter=-1, ite_c=-1, xtol=-np.inf, rtol=-np.inf, side=0):\n",
    "    #print(\"false_position_recursion(f=\", f, \", bracket =\", bracket, \"maxiter =\", maxiter, \", ite_c=\", ite_c, \")\", \", xtol =\", xtol, \", rtol =\", rtol)\n",
    "    if ite_c == maxiter: # stop iterating by maximize\n",
    "        if bracket[side] <= xtol or bracket[side] <= rtol:\n",
    "            return (bracket[side], ite_c, \"converged\")\n",
    "        else: \n",
    "            return (bracket[side], ite_c, \"convergence error, stoped iterating by maximiter\")\n",
    "    \n",
    "    # go left half\n",
    "    if has_root(f, bracket[0], false_position_rule(f, bracket)):\n",
    "        # stop iterating by xtol\n",
    "        if xtol_rule(bracket) <= xtol: \n",
    "            #print(\"stop iterating by xtol\")\n",
    "            return ([bracket[0], false_position_rule(f, bracket)][1], ite_c + 1, \"converged\")\n",
    "        # stop iterating by rtol\n",
    "        if rtol_rule(bracket[0], false_position_rule(f, bracket)) <= rtol:\n",
    "            #print(\"stop iterating by rtol\")\n",
    "            return ([bracket[0], false_position_rule(f, bracket)][1], ite_c + 1, \"converged\")\n",
    "        # iterate\n",
    "        return false_position_recursion(f, [bracket[0], false_position_rule(f, bracket)], maxiter=maxiter, ite_c= ite_c + 1, xtol=xtol, rtol=rtol, side=1)\n",
    "    \n",
    "    # go right half\n",
    "    elif has_root(f, false_position_rule(f, bracket), bracket[1]): \n",
    "        # stop iterating by xtol\n",
    "        if xtol_rule(bracket) <= xtol:\n",
    "            #print(\"stop iterating by xtol\")\n",
    "            return ([false_position_rule(f, bracket), bracket[1]][0], ite_c + 1, \"converged\")\n",
    "        # stop iterating by rtol\n",
    "        if rtol_rule(bracket[1], false_position_rule(f, bracket)) <= rtol:\n",
    "            #print(\"stop iterating by rtol\")\n",
    "            return ([false_position_rule(f, bracket), bracket[1]][0], ite_c + 1, \"converged\")\n",
    "        # iterate\n",
    "        return false_position_recursion(f, [false_position_rule(f, bracket), bracket[1]], maxiter=maxiter, ite_c= ite_c + 1, xtol=xtol, rtol=rtol)\n",
    "    \n",
    "    if bracket[side] <= xtol or bracket[side] <= rtol:\n",
    "        return (bracket[side], ite_c, \"converged, auto stop\")\n",
    "    else: \n",
    "        return (bracket[side], ite_c, \"convergence error, auto stop\")\n",
    "\n",
    "# método da falsa posição, testa o primeiro intervalo dado\n",
    "def false_position(f, bracket, maxiter=-1, ite_c=-1, xtol=-np.inf, rtol=-np.inf):\n",
    "    if has_root(f, bracket[0], bracket[1]): \n",
    "        return false_position_recursion(f, bracket, maxiter, ite_c=ite_c + 1, xtol=xtol, rtol=rtol)\n",
    "    else: return \"convergence error, \" + str(bracket) + \" gap does not has a root for f\""
   ]
  },
  {
   "cell_type": "code",
   "execution_count": 15,
   "id": "indie-ground",
   "metadata": {},
   "outputs": [],
   "source": [
    "class TestCase:\n",
    "    def __init__(self, function, gap, function_string):\n",
    "        self.function = function\n",
    "        self.gap = gap\n",
    "        self.function_string = function_string\n",
    "    def __str__(self):\n",
    "        return \"f(x) = \" + self.function_string + \", no intervalo \" + str(self.gap)\n",
    "\n",
    "functions = [\n",
    "    lambda x: -0.5*x**2 + 2.5*x + 4.5,\n",
    "    lambda x: np.exp(x) - x - 2,\n",
    "    lambda x: np.cos(x) - np.sqrt(x)\n",
    "]\n",
    "functions_string = [\n",
    "    \"-0.5*x**2 + 2.5*x + 4.5\", \n",
    "    \"np.exp(x) - x - 2\",\n",
    "    \"np.cos(x) - np.sqrt(x)\"\n",
    "]\n",
    "gaps = [[5, 10], [-2, 0], [0, 1]]\n",
    "testCases = [TestCase(functions[i], gaps[i], functions_string[i]) for i in range(len(functions))]"
   ]
  },
  {
   "cell_type": "code",
   "execution_count": 16,
   "id": "small-evolution",
   "metadata": {},
   "outputs": [
    {
     "name": "stdout",
     "output_type": "stream",
     "text": [
      "f(x) = -0.5*x**2 + 2.5*x + 4.5, no intervalo [5, 10]\n",
      "false posição = 6.405124837953325 , em 30  iterações\n",
      "bisseção = 6.405124837953053 , em 42  iterações\n",
      "True\n",
      "f(x) = np.exp(x) - x - 2, no intervalo [-2, 0]\n",
      "false posição = -1.841405660436952 , em 8  iterações\n",
      "bisseção = -1.8414056604360667 , em 40  iterações\n",
      "True\n",
      "f(x) = np.cos(x) - np.sqrt(x), no intervalo [0, 1]\n",
      "false posição = 0.641714370872883 , em 22  iterações\n",
      "bisseção = 0.6417143708731601 , em 39  iterações\n",
      "True\n"
     ]
    }
   ],
   "source": [
    "for test_case in testCases:\n",
    "    print(test_case)\n",
    "    falsa_posicao = false_position(test_case.function, bracket=test_case.gap)\n",
    "    f_falsa_posicao = test_case.function(falsa_posicao[0])\n",
    "    bissecao = opt.root_scalar(test_case.function, method='bisect', bracket=test_case.gap)\n",
    "    f_bissecao = test_case.function(bissecao.root)\n",
    "    print(\"false posição =\", falsa_posicao[0], \", em\", falsa_posicao[1], \" iterações\")\n",
    "    print(\"bisseção =\", bissecao.root, \", em\", bissecao.iterations, \" iterações\")\n",
    "    print(np.absolute(f_falsa_posicao)  - 0 < np.absolute(f_bissecao) - 0)"
   ]
  },
  {
   "cell_type": "raw",
   "id": "brave-lebanon",
   "metadata": {},
   "source": [
    "print(np.absolute(f_falsa_posicao) - 0 < np.absolute(f_bissecao) - 0), sempre retorna True,\n",
    "ou seja, distância entre a aproximação pela falsa posição e o 0 < distância entre a aproximação pela bisseção e o 0),\n",
    "o que implica que a aproximação pela falsa posição está mais próxima da raiz de f(x) do que que a aproximação pela bisseção.\n",
    "Além disso, o método da bisseção sempre utiliza menos iterações do ue o método da falsa posição."
   ]
  },
  {
   "cell_type": "code",
   "execution_count": 17,
   "id": "vulnerable-savings",
   "metadata": {},
   "outputs": [
    {
     "data": {
      "text/plain": [
       "      converged: True\n",
       "           flag: 'converged'\n",
       " function_calls: 44\n",
       "     iterations: 42\n",
       "           root: 6.405124837953053"
      ]
     },
     "execution_count": 17,
     "metadata": {},
     "output_type": "execute_result"
    }
   ],
   "source": [
    "def f(x): return -0.5*x**2 + 2.5*x + 4.5\n",
    "opt.root_scalar(f, method='bisect',bracket=[5, 10])"
   ]
  },
  {
   "cell_type": "markdown",
   "id": "listed-excess",
   "metadata": {},
   "source": [
    "4. Use a iteração de ponto fixo simples para localizar a raiz de f (x) = 2 sin(\n",
    "p\n",
    "x)− x, tendo x0 = 0, 5\n",
    "e adotando como critério de parada o erro ea ≤ 0, 001%."
   ]
  },
  {
   "cell_type": "code",
   "execution_count": 18,
   "id": "boxed-fleece",
   "metadata": {},
   "outputs": [
    {
     "data": {
      "text/plain": [
       "array(0.76864886)"
      ]
     },
     "execution_count": 18,
     "metadata": {},
     "output_type": "execute_result"
    }
   ],
   "source": [
    "def f(x): return 2*np.sin(np.sqrt(x))-x\n",
    "opt.fixed_point(f, 0.5, xtol=1e-5)"
   ]
  },
  {
   "cell_type": "markdown",
   "id": "still-times",
   "metadata": {},
   "source": [
    "5. Determine a maior raiz real de f (x) = 2x\n",
    "3 − 11.7x\n",
    "2 + 17.7x − 5"
   ]
  },
  {
   "cell_type": "markdown",
   "id": "unnecessary-brisbane",
   "metadata": {},
   "source": [
    "(a) Graficamente;"
   ]
  },
  {
   "cell_type": "code",
   "execution_count": 19,
   "id": "related-operations",
   "metadata": {},
   "outputs": [
    {
     "data": {
      "image/png": "[encoded data removed]",
      "text/plain": [
       "<Figure size 432x288 with 1 Axes>"
      ]
     },
     "metadata": {
      "needs_background": "light"
     },
     "output_type": "display_data"
    }
   ],
   "source": [
    "def f(x): return 2*x**3 - 11.7*x**2 + 17.7*x - 5\n",
    "x = np.linspace(0., 4., 200)\n",
    "plt.plot(x, f(x))\n",
    "plt.grid(True)"
   ]
  },
  {
   "cell_type": "raw",
   "id": "coordinated-kidney",
   "metadata": {},
   "source": [
    "a maior raiz real é um pouco maior que 3.5"
   ]
  },
  {
   "cell_type": "markdown",
   "id": "cognitive-weight",
   "metadata": {},
   "source": [
    "(b) Pelo método da iteração de ponto fixo (três iterações, x0 = 3)( certifique-se de desenvolver\n",
    "uma solução que convirja para a raiz);"
   ]
  },
  {
   "cell_type": "raw",
   "id": "ordered-depth",
   "metadata": {},
   "source": [
    "Isolando o x, para encontrar g(x)\n",
    "f(x) = 2*x**3 - 11.7*x**2 + 17.7*x - 5 = 0\n",
    "x * (2*x**2 - 11.7*x + 17.7) - 5 = 0\n",
    "x * (2*x**2 - 11.7*x + 17.7) = 5\n",
    "x = 5 / (2*x**2 - 11.7*x + 17.7)\n",
    "g(x) = 5 / (2*x**2 - 11.7*x + 17.7)\n",
    "poderia haver erro de divisão por zero se (2*x**2 - 11.7*x + 17.7) = 0,\n",
    "porém de acordo com os gráficos abaixo z(x) = (2*x**2 - 11.7*x + 17.7) abaixo, z(x) não tem raiz nos Reais, \n",
    "logo (2*x**2 - 11.7*x + 17.7) = 0 não irá acontecer, \n",
    "portanto em g(x) = 5 / (2*x**2 - 11.7*x + 17.7) não haverá divisão por 0"
   ]
  },
  {
   "cell_type": "code",
   "execution_count": 20,
   "id": "forty-colombia",
   "metadata": {},
   "outputs": [
    {
     "name": "stdout",
     "output_type": "stream",
     "text": [
      "visualização próxima de z(x) = 0\n"
     ]
    },
    {
     "data": {
      "image/png": "[encoded data removed]",
      "text/plain": [
       "<Figure size 432x288 with 1 Axes>"
      ]
     },
     "metadata": {
      "needs_background": "light"
     },
     "output_type": "display_data"
    }
   ],
   "source": [
    "# gráfico para explicação acima\n",
    "def z(x): return 2*x**2 - 11.7*x + 17.7\n",
    "x = np.linspace(0., 6., 200)\n",
    "print(\"visualização próxima de z(x) = 0\")\n",
    "plt.plot(x, z(x))\n",
    "plt.grid(True)"
   ]
  },
  {
   "cell_type": "code",
   "execution_count": 21,
   "id": "periodic-professor",
   "metadata": {},
   "outputs": [
    {
     "name": "stdout",
     "output_type": "stream",
     "text": [
      "error = Failed to converge after 3 iterations, value is 0.36501304033751336\n",
      "root = 0.36501304033751336\n"
     ]
    }
   ],
   "source": [
    "def g(x): return 5 / (2*x**2 - 11.7*x + 17.7)\n",
    "try:\n",
    "    root = opt.fixed_point(func=g, x0=3, maxiter=3)\n",
    "except RuntimeError as convergence_error:\n",
    "    print(\"error =\", convergence_error)\n",
    "    root = convergence_error.args[0].split()[-1]\n",
    "finally:\n",
    "    print(\"root =\", root)"
   ]
  },
  {
   "cell_type": "markdown",
   "id": "concrete-delhi",
   "metadata": {},
   "source": [
    "(c) Pelo método de Newton-Raphson (três iterações, x0 = 3);"
   ]
  },
  {
   "cell_type": "code",
   "execution_count": 22,
   "id": "assured-ensemble",
   "metadata": {},
   "outputs": [
    {
     "data": {
      "text/plain": [
       "      converged: False\n",
       "           flag: 'convergence error'\n",
       " function_calls: 6\n",
       "     iterations: 3\n",
       "           root: 3.7929344806432264"
      ]
     },
     "execution_count": 22,
     "metadata": {},
     "output_type": "execute_result"
    }
   ],
   "source": [
    "def df(x): return 6*x**2 - 23.4*x + 17.7\n",
    "opt.root_scalar(f=f, fprime=df, method='newton', maxiter=3, x0=3)"
   ]
  },
  {
   "cell_type": "markdown",
   "id": "confirmed-limit",
   "metadata": {},
   "source": [
    "(d) Pelo método da secante (três iterações, x−1 = 3, x0 = 4)."
   ]
  },
  {
   "cell_type": "code",
   "execution_count": 23,
   "id": "increasing-vancouver",
   "metadata": {},
   "outputs": [
    {
     "data": {
      "text/plain": [
       "      converged: False\n",
       "           flag: 'convergence error'\n",
       " function_calls: 5\n",
       "     iterations: 3\n",
       "           root: 3.5862753847117346"
      ]
     },
     "execution_count": 23,
     "metadata": {},
     "output_type": "execute_result"
    }
   ],
   "source": [
    "opt.root_scalar(f=f, method='secant', maxiter=3, x0=3, x1=4)"
   ]
  },
  {
   "cell_type": "markdown",
   "id": "favorite-appeal",
   "metadata": {},
   "source": [
    "6. Compare os métodos da bisseção, falsa posição, do ponto fixo, de Newton-Raphson e da secante,\n",
    "localizando a raiz das seguintes equações:"
   ]
  },
  {
   "cell_type": "code",
   "execution_count": 24,
   "id": "circular-operations",
   "metadata": {},
   "outputs": [],
   "source": [
    "ite = 200\n",
    "tol = 10**-10\n",
    "data = []"
   ]
  },
  {
   "cell_type": "raw",
   "id": "higher-shift",
   "metadata": {},
   "source": [
    "EXPLICAÇÃO DOS MÉTODOS DE MEDIÇÃO DE TEMPO UTILIZADOS\n",
    "\n",
    "- Wall Time: é o tempo pela pespectiva de fora do computador, \n",
    "ou seja inclui computação não útil para está célula\n",
    "- user CPU time: é o tempo real total em que a CPU estava executando está célula, \n",
    "ou seja apenas computação útil para esta célula\n",
    "- sys CPU time: é o tempo de execução da célula no kernel\n",
    "\n",
    "%%time\n",
    "tras a médida de tempo de execução da célula\n",
    "\n",
    "%%timeit\n",
    "tras uma média de tempo basiada em repetição da instrução\n",
    "-o retorna um objeto com os dados do teste\n",
    "-n quantidade de loops para o teste\n",
    "-r quantidade de repetições do teste\n",
    "-c em Unix based System, especifica User CPU Time\n",
    "-c em Windows, especifica o Wall Time\n",
    "\n",
    "%%capture local_cell_data\n",
    "guarda todos os dados da célula executada em local_cell_time"
   ]
  },
  {
   "cell_type": "markdown",
   "id": "loaded-python",
   "metadata": {},
   "source": [
    "(a) f1\n",
    "(x) = 2x\n",
    "4 + 4x\n",
    "3 + 3x\n",
    "2 − 10x − 15, com x\n",
    "∗ ∈ [0, 3]"
   ]
  },
  {
   "cell_type": "code",
   "execution_count": 25,
   "id": "tracked-forest",
   "metadata": {},
   "outputs": [],
   "source": [
    "def f(x): return 2*x**4 + 4*x**3 + 3*x**2 - 10*x - 15\n",
    "def df(x): return 8*x**3 + 12*x**2 + 6*x - 10"
   ]
  },
  {
   "cell_type": "code",
   "execution_count": 26,
   "id": "reasonable-terrain",
   "metadata": {},
   "outputs": [
    {
     "name": "stdout",
     "output_type": "stream",
     "text": [
      "73.9 µs ± 29.6 µs per loop (mean ± std. dev. of 5 runs, 100 loops each)\n"
     ]
    }
   ],
   "source": [
    "t = %timeit -r 5 -n 100 -c -o opt.root_scalar(f=f, method='bisect', bracket=[0, 3], xtol=tol, maxiter=ite)"
   ]
  },
  {
   "cell_type": "code",
   "execution_count": 27,
   "id": "macro-burner",
   "metadata": {},
   "outputs": [],
   "source": [
    "%%capture local_cell_data\n",
    "%%time \n",
    "bissecao_6 = opt.root_scalar(f=f, method='bisect', bracket=[0, 3], xtol=tol, maxiter=ite)"
   ]
  },
  {
   "cell_type": "code",
   "execution_count": 28,
   "id": "another-damages",
   "metadata": {},
   "outputs": [],
   "source": [
    "data.append([bissecao_6.root, bissecao_6.iterations, bissecao_6.flag, local_cell_data.stdout.replace('\\n', \" | \"), str(t)])"
   ]
  },
  {
   "cell_type": "code",
   "execution_count": 29,
   "id": "random-driving",
   "metadata": {},
   "outputs": [
    {
     "name": "stdout",
     "output_type": "stream",
     "text": [
      "2.07 ms ± 95.9 µs per loop (mean ± std. dev. of 5 runs, 100 loops each)\n"
     ]
    }
   ],
   "source": [
    "t = %timeit -r 5 -n 100 -c -o false_position(f=f, bracket=[0, 3], xtol=tol, maxiter=ite)"
   ]
  },
  {
   "cell_type": "code",
   "execution_count": 30,
   "id": "authentic-landscape",
   "metadata": {},
   "outputs": [],
   "source": [
    "%%capture local_cell_data\n",
    "%%time \n",
    "falsa_posicao_6 = false_position(f=f, bracket=[0, 3], xtol=tol, maxiter=ite)"
   ]
  },
  {
   "cell_type": "code",
   "execution_count": 31,
   "id": "valued-lindsay",
   "metadata": {},
   "outputs": [],
   "source": [
    "data.append([falsa_posicao_6[0], falsa_posicao_6[1], falsa_posicao_6[2], local_cell_data.stdout.replace('\\n', \" | \"), str(t)])"
   ]
  },
  {
   "cell_type": "code",
   "execution_count": null,
   "id": "removed-clearance",
   "metadata": {},
   "outputs": [],
   "source": []
  },
  {
   "cell_type": "code",
   "execution_count": 32,
   "id": "vanilla-spokesman",
   "metadata": {},
   "outputs": [
    {
     "name": "stdout",
     "output_type": "stream",
     "text": [
      "[1.4928787086100783, 35, 'converged', 'CPU times: user 83 us, sys: 13 us, total: 96 us | Wall time: 109 us | ', '73.9 µs ± 29.6 µs per loop (mean ± std. dev. of 5 runs, 100 loops each)']\n",
      "[1.4928787086636037, 101, 'converged', 'CPU times: user 2.15 ms, sys: 0 ns, total: 2.15 ms | Wall time: 2.16 ms | ', '2.07 ms ± 95.9 µs per loop (mean ± std. dev. of 5 runs, 100 loops each)']\n"
     ]
    }
   ],
   "source": [
    "# remember to remove\n",
    "for d in data:\n",
    "    print(d)    "
   ]
  },
  {
   "cell_type": "code",
   "execution_count": 33,
   "id": "executive-concern",
   "metadata": {},
   "outputs": [],
   "source": [
    "# remember to remove\n",
    "for i in range(5 - len(data)):\n",
    "    data.append(data[0])"
   ]
  },
  {
   "cell_type": "code",
   "execution_count": 52,
   "id": "modified-framing",
   "metadata": {},
   "outputs": [
    {
     "data": {
      "text/html": [
       "<div>\n",
       "<style scoped>\n",
       "    .dataframe tbody tr th:only-of-type {\n",
       "        vertical-align: middle;\n",
       "    }\n",
       "\n",
       "    .dataframe tbody tr th {\n",
       "        vertical-align: top;\n",
       "    }\n",
       "\n",
       "    .dataframe thead th {\n",
       "        text-align: right;\n",
       "    }\n",
       "</style>\n",
       "<table border=\"1\" class=\"dataframe\">\n",
       "  <thead>\n",
       "    <tr style=\"text-align: right;\">\n",
       "      <th></th>\n",
       "      <th>raiz</th>\n",
       "      <th>iterações</th>\n",
       "      <th>convergence flag</th>\n",
       "      <th>1 execution time</th>\n",
       "      <th>test execution time</th>\n",
       "    </tr>\n",
       "  </thead>\n",
       "  <tbody>\n",
       "    <tr>\n",
       "      <th>bisseção</th>\n",
       "      <td>1.492879</td>\n",
       "      <td>35</td>\n",
       "      <td>converged</td>\n",
       "      <td>CPU times: user 83 us, sys: 13 us, total: 96 us | Wall time: 109 us |</td>\n",
       "      <td>73.9 µs ± 29.6 µs per loop (mean ± std. dev. of 5 runs, 100 loops each)</td>\n",
       "    </tr>\n",
       "    <tr>\n",
       "      <th>falsa poisção</th>\n",
       "      <td>1.492879</td>\n",
       "      <td>101</td>\n",
       "      <td>converged</td>\n",
       "      <td>CPU times: user 2.15 ms, sys: 0 ns, total: 2.15 ms | Wall time: 2.16 ms |</td>\n",
       "      <td>2.07 ms ± 95.9 µs per loop (mean ± std. dev. of 5 runs, 100 loops each)</td>\n",
       "    </tr>\n",
       "    <tr>\n",
       "      <th>ponto fixo</th>\n",
       "      <td>1.492879</td>\n",
       "      <td>35</td>\n",
       "      <td>converged</td>\n",
       "      <td>CPU times: user 83 us, sys: 13 us, total: 96 us | Wall time: 109 us |</td>\n",
       "      <td>73.9 µs ± 29.6 µs per loop (mean ± std. dev. of 5 runs, 100 loops each)</td>\n",
       "    </tr>\n",
       "    <tr>\n",
       "      <th>newton</th>\n",
       "      <td>1.492879</td>\n",
       "      <td>35</td>\n",
       "      <td>converged</td>\n",
       "      <td>CPU times: user 83 us, sys: 13 us, total: 96 us | Wall time: 109 us |</td>\n",
       "      <td>73.9 µs ± 29.6 µs per loop (mean ± std. dev. of 5 runs, 100 loops each)</td>\n",
       "    </tr>\n",
       "    <tr>\n",
       "      <th>secant</th>\n",
       "      <td>1.492879</td>\n",
       "      <td>35</td>\n",
       "      <td>converged</td>\n",
       "      <td>CPU times: user 83 us, sys: 13 us, total: 96 us | Wall time: 109 us |</td>\n",
       "      <td>73.9 µs ± 29.6 µs per loop (mean ± std. dev. of 5 runs, 100 loops each)</td>\n",
       "    </tr>\n",
       "  </tbody>\n",
       "</table>\n",
       "</div>"
      ],
      "text/plain": [
       "                   raiz  iterações convergence flag  \\\n",
       "bisseção       1.492879         35        converged   \n",
       "falsa poisção  1.492879        101        converged   \n",
       "ponto fixo     1.492879         35        converged   \n",
       "newton         1.492879         35        converged   \n",
       "secant         1.492879         35        converged   \n",
       "\n",
       "                                                                         1 execution time  \\\n",
       "bisseção           CPU times: user 83 us, sys: 13 us, total: 96 us | Wall time: 109 us |    \n",
       "falsa poisção  CPU times: user 2.15 ms, sys: 0 ns, total: 2.15 ms | Wall time: 2.16 ms |    \n",
       "ponto fixo         CPU times: user 83 us, sys: 13 us, total: 96 us | Wall time: 109 us |    \n",
       "newton             CPU times: user 83 us, sys: 13 us, total: 96 us | Wall time: 109 us |    \n",
       "secant             CPU times: user 83 us, sys: 13 us, total: 96 us | Wall time: 109 us |    \n",
       "\n",
       "                                                                   test execution time  \n",
       "bisseção       73.9 µs ± 29.6 µs per loop (mean ± std. dev. of 5 runs, 100 loops each)  \n",
       "falsa poisção  2.07 ms ± 95.9 µs per loop (mean ± std. dev. of 5 runs, 100 loops each)  \n",
       "ponto fixo     73.9 µs ± 29.6 µs per loop (mean ± std. dev. of 5 runs, 100 loops each)  \n",
       "newton         73.9 µs ± 29.6 µs per loop (mean ± std. dev. of 5 runs, 100 loops each)  \n",
       "secant         73.9 µs ± 29.6 µs per loop (mean ± std. dev. of 5 runs, 100 loops each)  "
      ]
     },
     "execution_count": 52,
     "metadata": {},
     "output_type": "execute_result"
    }
   ],
   "source": [
    "dataFrame = pd.DataFrame(data, [\"bisseção\", \"falsa poisção\", \"ponto fixo\", \"newton\", \"secant\"], \n",
    "                         [\"raiz\", \"iterações\", \"convergence flag\", \"1 execution time\", \"test execution time\"])\n",
    "pd.set_option(\"display.max_colwidth\", 100)\n",
    "dataFrame"
   ]
  }
 ],
 "metadata": {
  "kernelspec": {
   "display_name": "Python 3",
   "language": "python",
   "name": "python3"
  },
  "language_info": {
   "codemirror_mode": {
    "name": "ipython",
    "version": 3
   },
   "file_extension": ".py",
   "mimetype": "text/x-python",
   "name": "python",
   "nbconvert_exporter": "python",
   "pygments_lexer": "ipython3",
   "version": "3.8.5"
  }
 },
 "nbformat": 4,
 "nbformat_minor": 5
}
