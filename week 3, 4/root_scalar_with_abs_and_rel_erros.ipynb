{
 "cells": [
  {
   "cell_type": "code",
   "execution_count": 1,
   "id": "white-association",
   "metadata": {},
   "outputs": [],
   "source": [
    "import numpy as np\n",
    "import scipy.optimize as opt"
   ]
  },
  {
   "cell_type": "code",
   "execution_count": 2,
   "id": "sweet-champion",
   "metadata": {},
   "outputs": [],
   "source": [
    "def f(x): return np.exp(x) - x - 2"
   ]
  },
  {
   "cell_type": "code",
   "execution_count": 3,
   "id": "eight-inspiration",
   "metadata": {},
   "outputs": [
    {
     "data": {
      "text/plain": [
       "      converged: True\n",
       "           flag: 'converged'\n",
       " function_calls: 7\n",
       "     iterations: 5\n",
       "           root: -1.8125"
      ]
     },
     "execution_count": 3,
     "metadata": {},
     "output_type": "execute_result"
    }
   ],
   "source": [
    "opt.root_scalar(f,method='bisect',bracket=[-2,0], xtol=1e-1) # erro absoluto"
   ]
  },
  {
   "cell_type": "code",
   "execution_count": 4,
   "id": "nuclear-montana",
   "metadata": {},
   "outputs": [
    {
     "data": {
      "text/plain": [
       "      converged: True\n",
       "           flag: 'converged'\n",
       " function_calls: 6\n",
       "     iterations: 4\n",
       "           root: -1.875"
      ]
     },
     "execution_count": 4,
     "metadata": {},
     "output_type": "execute_result"
    }
   ],
   "source": [
    "opt.root_scalar(f,method='bisect',bracket=[-2,0], rtol=1e-1) # erro relativo"
   ]
  },
  {
   "cell_type": "markdown",
   "id": "spread-company",
   "metadata": {},
   "source": [
    "Mas o que acontece se usarmos os dois (erro absoluto e erro relativo), com mesmo valor, no mesmo cálculo?"
   ]
  },
  {
   "cell_type": "code",
   "execution_count": 5,
   "id": "formed-sheriff",
   "metadata": {},
   "outputs": [
    {
     "data": {
      "text/plain": [
       "      converged: True\n",
       "           flag: 'converged'\n",
       " function_calls: 5\n",
       "     iterations: 3\n",
       "           root: -1.75"
      ]
     },
     "execution_count": 5,
     "metadata": {},
     "output_type": "execute_result"
    }
   ],
   "source": [
    "opt.root_scalar(f,method='bisect',bracket=[-2,0], rtol=1e-1, xtol=1e-1)"
   ]
  },
  {
   "cell_type": "markdown",
   "id": "assisted-recipe",
   "metadata": {},
   "source": [
    "Deixo a critério do aluno interpretar esse resultado."
   ]
  },
  {
   "cell_type": "code",
   "execution_count": 6,
   "id": "honest-adjustment",
   "metadata": {},
   "outputs": [
    {
     "name": "stdout",
     "output_type": "stream",
     "text": [
      "      converged: False\n",
      "           flag: 'convergence error'\n",
      " function_calls: 3\n",
      "     iterations: 1\n",
      "           root: -2.0\n",
      "      converged: False\n",
      "           flag: 'convergence error'\n",
      " function_calls: 4\n",
      "     iterations: 2\n",
      "           root: -2.0\n",
      "      converged: False\n",
      "           flag: 'convergence error'\n",
      " function_calls: 5\n",
      "     iterations: 3\n",
      "           root: -2.0\n",
      "      converged: False\n",
      "           flag: 'convergence error'\n",
      " function_calls: 6\n",
      "     iterations: 4\n",
      "           root: -1.875\n",
      "      converged: True\n",
      "           flag: 'converged'\n",
      " function_calls: 7\n",
      "     iterations: 5\n",
      "           root: -1.8125\n"
     ]
    }
   ],
   "source": [
    "iterations = opt.root_scalar(f,method='bisect',bracket=[-2,0], xtol=1e-1).iterations # erro absoluto\n",
    "for i in range(1, iterations + 1):\n",
    "    print(opt.root_scalar(f,method='bisect',bracket=[-2,0], xtol=1e-1, maxiter=i))"
   ]
  },
  {
   "cell_type": "code",
   "execution_count": 7,
   "id": "guilty-criticism",
   "metadata": {},
   "outputs": [
    {
     "name": "stdout",
     "output_type": "stream",
     "text": [
      "      converged: False\n",
      "           flag: 'convergence error'\n",
      " function_calls: 3\n",
      "     iterations: 1\n",
      "           root: -2.0\n",
      "      converged: False\n",
      "           flag: 'convergence error'\n",
      " function_calls: 4\n",
      "     iterations: 2\n",
      "           root: -2.0\n",
      "      converged: False\n",
      "           flag: 'convergence error'\n",
      " function_calls: 5\n",
      "     iterations: 3\n",
      "           root: -2.0\n",
      "      converged: True\n",
      "           flag: 'converged'\n",
      " function_calls: 6\n",
      "     iterations: 4\n",
      "           root: -1.875\n"
     ]
    }
   ],
   "source": [
    "iterations = opt.root_scalar(f,method='bisect',bracket=[-2,0], rtol=1e-1).iterations # erro relativo\n",
    "for i in range(1, iterations + 1):\n",
    "    print(opt.root_scalar(f,method='bisect',bracket=[-2,0], rtol=1e-1, maxiter=i))"
   ]
  },
  {
   "cell_type": "code",
   "execution_count": 8,
   "id": "oriental-begin",
   "metadata": {},
   "outputs": [
    {
     "name": "stdout",
     "output_type": "stream",
     "text": [
      "      converged: False\n",
      "           flag: 'convergence error'\n",
      " function_calls: 3\n",
      "     iterations: 1\n",
      "           root: -2.0\n",
      "      converged: False\n",
      "           flag: 'convergence error'\n",
      " function_calls: 4\n",
      "     iterations: 2\n",
      "           root: -2.0\n",
      "      converged: True\n",
      "           flag: 'converged'\n",
      " function_calls: 5\n",
      "     iterations: 3\n",
      "           root: -1.75\n"
     ]
    }
   ],
   "source": [
    "iterations = opt.root_scalar(f,method='bisect',bracket=[-2,0], rtol=1e-1, xtol=1e-1).iterations # erro absoluto e relativo\n",
    "for i in range(1, iterations + 1):\n",
    "    print(opt.root_scalar(f,method='bisect',bracket=[-2,0], rtol=1e-1, xtol=1e-1, maxiter=i))"
   ]
  },
  {
   "cell_type": "code",
   "execution_count": null,
   "id": "incomplete-wesley",
   "metadata": {},
   "outputs": [],
   "source": []
  }
 ],
 "metadata": {
  "kernelspec": {
   "display_name": "Python 3",
   "language": "python",
   "name": "python3"
  },
  "language_info": {
   "codemirror_mode": {
    "name": "ipython",
    "version": 3
   },
   "file_extension": ".py",
   "mimetype": "text/x-python",
   "name": "python",
   "nbconvert_exporter": "python",
   "pygments_lexer": "ipython3",
   "version": "3.8.5"
  }
 },
 "nbformat": 4,
 "nbformat_minor": 5
}
