{
 "cells": [
  {
   "cell_type": "code",
   "execution_count": 1,
   "id": "amber-formation",
   "metadata": {},
   "outputs": [],
   "source": [
    "import numpy as np\n",
    "import scipy.optimize as opt"
   ]
  },
  {
   "cell_type": "code",
   "execution_count": 2,
   "id": "naval-coalition",
   "metadata": {},
   "outputs": [],
   "source": [
    "def f(x): return np.exp(x) - x - 2"
   ]
  },
  {
   "cell_type": "code",
   "execution_count": 3,
   "id": "wrapped-greece",
   "metadata": {},
   "outputs": [
    {
     "data": {
      "text/plain": [
       "      converged: True\n",
       "           flag: 'converged'\n",
       " function_calls: 7\n",
       "     iterations: 5\n",
       "           root: -1.8125"
      ]
     },
     "execution_count": 3,
     "metadata": {},
     "output_type": "execute_result"
    }
   ],
   "source": [
    "opt.root_scalar(f,method='bisect',bracket=[-2,0], xtol=1e-1) # erro absoluto"
   ]
  },
  {
   "cell_type": "code",
   "execution_count": 4,
   "id": "incomplete-horse",
   "metadata": {},
   "outputs": [
    {
     "data": {
      "text/plain": [
       "      converged: True\n",
       "           flag: 'converged'\n",
       " function_calls: 6\n",
       "     iterations: 4\n",
       "           root: -1.875"
      ]
     },
     "execution_count": 4,
     "metadata": {},
     "output_type": "execute_result"
    }
   ],
   "source": [
    "opt.root_scalar(f,method='bisect',bracket=[-2,0], rtol=1e-1) # erro relativo"
   ]
  },
  {
   "cell_type": "markdown",
   "id": "completed-sampling",
   "metadata": {},
   "source": [
    "Mas o que acontece se usarmos os dois (erro absoluto e erro relativo), com mesmo valor, no mesmo cálculo?"
   ]
  },
  {
   "cell_type": "code",
   "execution_count": 5,
   "id": "advanced-bermuda",
   "metadata": {},
   "outputs": [
    {
     "data": {
      "text/plain": [
       "      converged: True\n",
       "           flag: 'converged'\n",
       " function_calls: 5\n",
       "     iterations: 3\n",
       "           root: -1.75"
      ]
     },
     "execution_count": 5,
     "metadata": {},
     "output_type": "execute_result"
    }
   ],
   "source": [
    "opt.root_scalar(f,method='bisect',bracket=[-2,0], rtol=1e-1, xtol=1e-1)"
   ]
  },
  {
   "cell_type": "markdown",
   "id": "sacred-surfing",
   "metadata": {},
   "source": [
    "Deixo a critério do aluno interpretar esse resultado."
   ]
  },
  {
   "cell_type": "code",
   "execution_count": 6,
   "id": "broke-printing",
   "metadata": {},
   "outputs": [
    {
     "name": "stdout",
     "output_type": "stream",
     "text": [
      "      converged: False\n",
      "           flag: 'convergence error'\n",
      " function_calls: 3\n",
      "     iterations: 1\n",
      "           root: -2.0\n",
      "      converged: False\n",
      "           flag: 'convergence error'\n",
      " function_calls: 4\n",
      "     iterations: 2\n",
      "           root: -2.0\n",
      "      converged: False\n",
      "           flag: 'convergence error'\n",
      " function_calls: 5\n",
      "     iterations: 3\n",
      "           root: -2.0\n",
      "      converged: False\n",
      "           flag: 'convergence error'\n",
      " function_calls: 6\n",
      "     iterations: 4\n",
      "           root: -1.875\n",
      "      converged: True\n",
      "           flag: 'converged'\n",
      " function_calls: 7\n",
      "     iterations: 5\n",
      "           root: -1.8125\n"
     ]
    }
   ],
   "source": [
    "iterations = opt.root_scalar(f,method='bisect',bracket=[-2,0], xtol=1e-1).iterations # erro absoluto\n",
    "for i in range(1, iterations + 1):\n",
    "    print(opt.root_scalar(f,method='bisect',bracket=[-2,0], xtol=1e-1, maxiter=i))"
   ]
  },
  {
   "cell_type": "code",
   "execution_count": 7,
   "id": "promising-auction",
   "metadata": {},
   "outputs": [
    {
     "name": "stdout",
     "output_type": "stream",
     "text": [
      "      converged: False\n",
      "           flag: 'convergence error'\n",
      " function_calls: 3\n",
      "     iterations: 1\n",
      "           root: -2.0\n",
      "      converged: False\n",
      "           flag: 'convergence error'\n",
      " function_calls: 4\n",
      "     iterations: 2\n",
      "           root: -2.0\n",
      "      converged: False\n",
      "           flag: 'convergence error'\n",
      " function_calls: 5\n",
      "     iterations: 3\n",
      "           root: -2.0\n",
      "      converged: True\n",
      "           flag: 'converged'\n",
      " function_calls: 6\n",
      "     iterations: 4\n",
      "           root: -1.875\n"
     ]
    }
   ],
   "source": [
    "iterations = opt.root_scalar(f,method='bisect',bracket=[-2,0], rtol=1e-1).iterations # erro relativo\n",
    "for i in range(1, iterations + 1):\n",
    "    print(opt.root_scalar(f,method='bisect',bracket=[-2,0], rtol=1e-1, maxiter=i))"
   ]
  },
  {
   "cell_type": "code",
   "execution_count": 8,
   "id": "positive-bottom",
   "metadata": {},
   "outputs": [
    {
     "name": "stdout",
     "output_type": "stream",
     "text": [
      "      converged: False\n",
      "           flag: 'convergence error'\n",
      " function_calls: 3\n",
      "     iterations: 1\n",
      "           root: -2.0\n",
      "      converged: False\n",
      "           flag: 'convergence error'\n",
      " function_calls: 4\n",
      "     iterations: 2\n",
      "           root: -2.0\n",
      "      converged: True\n",
      "           flag: 'converged'\n",
      " function_calls: 5\n",
      "     iterations: 3\n",
      "           root: -1.75\n"
     ]
    }
   ],
   "source": [
    "iterations = opt.root_scalar(f,method='bisect',bracket=[-2,0], rtol=1e-1, xtol=1e-1).iterations # erro absoluto e relativo\n",
    "for i in range(1, iterations + 1):\n",
    "    print(opt.root_scalar(f,method='bisect',bracket=[-2,0], rtol=1e-1, xtol=1e-1, maxiter=i))"
   ]
  },
  {
   "cell_type": "code",
   "execution_count": 9,
   "id": "persistent-grounds",
   "metadata": {},
   "outputs": [],
   "source": [
    "def biss(f, bracket, x, maxiter=-1, ite_c=-1):\n",
    "    x = (bracket[0] + bracket[1]) / 2\n",
    "    ite_c += 1\n",
    "    if ite_c == maxiter: \n",
    "        print(\"got all iterations\")\n",
    "        return (x, ite_c)\n",
    "    if np.sign(f(bracket[0]))*np.sign(f(x)) < 0: \n",
    "        biss(f=f, bracket=[bracket[0], x], x=x)\n",
    "        print(\"going left\")\n",
    "    elif np.sign(f(x))*np.sign(f(bracket[1])) < 0: \n",
    "        biss(f=f, bracket=[x, bracket[1]], x=x)\n",
    "        print(\"going right\")\n",
    "    else:\n",
    "        print(\"no left, no right, no maxiter\")\n",
    "        return (x, ite_c)\n",
    "\n",
    "def has_root(f, bottom_limit, upper_limit):\n",
    "    if np.sign(f(bottom_limit)) * np.sign(f(upper_limit)) < 0: return True\n",
    "  \n",
    "def biss_rule(bracket):\n",
    "    return (bracket[0] + bracket[1]) / 2\n",
    "\n",
    "def biss1(f, bracket, maxiter=-1, ite_c=-1, side=0):\n",
    "    print(\"biss1(f=\", f, \", bracket =\", bracket, \", maxiter=\", maxiter, \", ite_c=\", ite_c, \")\")\n",
    "    if ite_c >= maxiter: # stop iterating\n",
    "        if ite_c >= 0:\n",
    "            return (bracket, \"a função do scipy sempre escolhe bracket[0] = \" + str(bracket[0]), ite_c)\n",
    "    if has_root(f, bracket[0], biss_rule(bracket)): # go left\n",
    "        return biss1(f, [bracket[0], biss_rule(bracket)], maxiter=maxiter, ite_c= ite_c + 1, side=1)\n",
    "    elif has_root(f, biss_rule(bracket), bracket[1]): # go right\n",
    "        return biss1(f, [biss_rule(bracket), bracket[1]], maxiter=maxiter, ite_c= ite_c + 1, side=0)\n",
    "    else: # ite_c < 0  \n",
    "        return (bracket, \"a função do scipy sempre escolhe bracket[0] = \" + str(bracket[0]), ite_c)\n",
    "\n",
    "def biss2(f, bracket, maxiter=-1, ite_c=-1):\n",
    "    if has_root(f, bracket[0], bracket[1]): return biss1(f, bracket, maxiter, ite_c= ite_c + 1, side=0)\n",
    "    else: return \"There is no root\"        "
   ]
  },
  {
   "cell_type": "code",
   "execution_count": null,
   "id": "affiliated-stretch",
   "metadata": {},
   "outputs": [],
   "source": []
  },
  {
   "cell_type": "code",
   "execution_count": 10,
   "id": "vocal-minority",
   "metadata": {},
   "outputs": [
    {
     "name": "stdout",
     "output_type": "stream",
     "text": [
      "      converged: True\n",
      "           flag: 'converged'\n",
      " function_calls: 7\n",
      "     iterations: 5\n",
      "           root: -1.8125\n",
      "biss1(f= <function f at 0x7fee0a427ca0> , bracket = [-2, 0] , maxiter= 5 , ite_c= 0 )\n",
      "biss1(f= <function f at 0x7fee0a427ca0> , bracket = [-2, -1.0] , maxiter= 5 , ite_c= 1 )\n",
      "biss1(f= <function f at 0x7fee0a427ca0> , bracket = [-2, -1.5] , maxiter= 5 , ite_c= 2 )\n",
      "biss1(f= <function f at 0x7fee0a427ca0> , bracket = [-2, -1.75] , maxiter= 5 , ite_c= 3 )\n",
      "biss1(f= <function f at 0x7fee0a427ca0> , bracket = [-1.875, -1.75] , maxiter= 5 , ite_c= 4 )\n",
      "biss1(f= <function f at 0x7fee0a427ca0> , bracket = [-1.875, -1.8125] , maxiter= 5 , ite_c= 5 )\n",
      "([-1.875, -1.8125], 'a função do scipy sempre escolhe bracket[0] = -1.875', 5)\n"
     ]
    }
   ],
   "source": [
    "print(opt.root_scalar(f,method='bisect',bracket=[-2,0], xtol=1e-1))\n",
    "print(biss2(f, bracket=[-2, 0], maxiter=5))"
   ]
  },
  {
   "cell_type": "code",
   "execution_count": 11,
   "id": "falling-aviation",
   "metadata": {},
   "outputs": [
    {
     "name": "stdout",
     "output_type": "stream",
     "text": [
      "      converged: True\n",
      "           flag: 'converged'\n",
      " function_calls: 6\n",
      "     iterations: 4\n",
      "           root: -1.875\n",
      "biss1(f= <function f at 0x7fee0a427ca0> , bracket = [-2, 0] , maxiter= 4 , ite_c= 0 )\n",
      "biss1(f= <function f at 0x7fee0a427ca0> , bracket = [-2, -1.0] , maxiter= 4 , ite_c= 1 )\n",
      "biss1(f= <function f at 0x7fee0a427ca0> , bracket = [-2, -1.5] , maxiter= 4 , ite_c= 2 )\n",
      "biss1(f= <function f at 0x7fee0a427ca0> , bracket = [-2, -1.75] , maxiter= 4 , ite_c= 3 )\n",
      "biss1(f= <function f at 0x7fee0a427ca0> , bracket = [-1.875, -1.75] , maxiter= 4 , ite_c= 4 )\n",
      "([-1.875, -1.75], 'a função do scipy sempre escolhe bracket[0] = -1.875', 4)\n"
     ]
    }
   ],
   "source": [
    "print(opt.root_scalar(f,method='bisect',bracket=[-2,0], rtol=1e-1))\n",
    "print(biss2(f, bracket=[-2, 0], maxiter=4))"
   ]
  },
  {
   "cell_type": "code",
   "execution_count": 12,
   "id": "complicated-trash",
   "metadata": {},
   "outputs": [
    {
     "name": "stdout",
     "output_type": "stream",
     "text": [
      "      converged: True\n",
      "           flag: 'converged'\n",
      " function_calls: 5\n",
      "     iterations: 3\n",
      "           root: -1.75\n",
      "biss1(f= <function f at 0x7fee0a427ca0> , bracket = [-2, 0] , maxiter= 3 , ite_c= 0 )\n",
      "biss1(f= <function f at 0x7fee0a427ca0> , bracket = [-2, -1.0] , maxiter= 3 , ite_c= 1 )\n",
      "biss1(f= <function f at 0x7fee0a427ca0> , bracket = [-2, -1.5] , maxiter= 3 , ite_c= 2 )\n",
      "biss1(f= <function f at 0x7fee0a427ca0> , bracket = [-2, -1.75] , maxiter= 3 , ite_c= 3 )\n",
      "([-2, -1.75], 'a função do scipy sempre escolhe bracket[0] = -2', 3)\n"
     ]
    }
   ],
   "source": [
    "print(opt.root_scalar(f,method='bisect',bracket=[-2,0], rtol=1e-1, xtol=1e-1))\n",
    "print(biss2(f, bracket=[-2, 0], maxiter=3))"
   ]
  },
  {
   "cell_type": "code",
   "execution_count": 13,
   "id": "compatible-enforcement",
   "metadata": {},
   "outputs": [
    {
     "name": "stdout",
     "output_type": "stream",
     "text": [
      "maxiter = 0\n",
      "      converged: False\n",
      "           flag: 'convergence error'\n",
      " function_calls: 2\n",
      "     iterations: 0\n",
      "           root: -2.0\n",
      "biss1(f= <function f at 0x7fee0a427ca0> , bracket = [-2, 0] , maxiter= 0 , ite_c= 0 )\n",
      "([-2, 0], 'a função do scipy sempre escolhe bracket[0] = -2', 0)\n",
      "maxiter = 1\n",
      "      converged: False\n",
      "           flag: 'convergence error'\n",
      " function_calls: 3\n",
      "     iterations: 1\n",
      "           root: -2.0\n",
      "biss1(f= <function f at 0x7fee0a427ca0> , bracket = [-2, 0] , maxiter= 1 , ite_c= 0 )\n",
      "biss1(f= <function f at 0x7fee0a427ca0> , bracket = [-2, -1.0] , maxiter= 1 , ite_c= 1 )\n",
      "([-2, -1.0], 'a função do scipy sempre escolhe bracket[0] = -2', 1)\n",
      "maxiter = 2\n",
      "      converged: False\n",
      "           flag: 'convergence error'\n",
      " function_calls: 4\n",
      "     iterations: 2\n",
      "           root: -2.0\n",
      "biss1(f= <function f at 0x7fee0a427ca0> , bracket = [-2, 0] , maxiter= 2 , ite_c= 0 )\n",
      "biss1(f= <function f at 0x7fee0a427ca0> , bracket = [-2, -1.0] , maxiter= 2 , ite_c= 1 )\n",
      "biss1(f= <function f at 0x7fee0a427ca0> , bracket = [-2, -1.5] , maxiter= 2 , ite_c= 2 )\n",
      "([-2, -1.5], 'a função do scipy sempre escolhe bracket[0] = -2', 2)\n",
      "maxiter = 3\n",
      "      converged: False\n",
      "           flag: 'convergence error'\n",
      " function_calls: 5\n",
      "     iterations: 3\n",
      "           root: -2.0\n",
      "biss1(f= <function f at 0x7fee0a427ca0> , bracket = [-2, 0] , maxiter= 3 , ite_c= 0 )\n",
      "biss1(f= <function f at 0x7fee0a427ca0> , bracket = [-2, -1.0] , maxiter= 3 , ite_c= 1 )\n",
      "biss1(f= <function f at 0x7fee0a427ca0> , bracket = [-2, -1.5] , maxiter= 3 , ite_c= 2 )\n",
      "biss1(f= <function f at 0x7fee0a427ca0> , bracket = [-2, -1.75] , maxiter= 3 , ite_c= 3 )\n",
      "([-2, -1.75], 'a função do scipy sempre escolhe bracket[0] = -2', 3)\n",
      "maxiter = 4\n",
      "      converged: False\n",
      "           flag: 'convergence error'\n",
      " function_calls: 6\n",
      "     iterations: 4\n",
      "           root: -1.875\n",
      "biss1(f= <function f at 0x7fee0a427ca0> , bracket = [-2, 0] , maxiter= 4 , ite_c= 0 )\n",
      "biss1(f= <function f at 0x7fee0a427ca0> , bracket = [-2, -1.0] , maxiter= 4 , ite_c= 1 )\n",
      "biss1(f= <function f at 0x7fee0a427ca0> , bracket = [-2, -1.5] , maxiter= 4 , ite_c= 2 )\n",
      "biss1(f= <function f at 0x7fee0a427ca0> , bracket = [-2, -1.75] , maxiter= 4 , ite_c= 3 )\n",
      "biss1(f= <function f at 0x7fee0a427ca0> , bracket = [-1.875, -1.75] , maxiter= 4 , ite_c= 4 )\n",
      "([-1.875, -1.75], 'a função do scipy sempre escolhe bracket[0] = -1.875', 4)\n",
      "maxiter = 5\n",
      "      converged: False\n",
      "           flag: 'convergence error'\n",
      " function_calls: 7\n",
      "     iterations: 5\n",
      "           root: -1.875\n",
      "biss1(f= <function f at 0x7fee0a427ca0> , bracket = [-2, 0] , maxiter= 5 , ite_c= 0 )\n",
      "biss1(f= <function f at 0x7fee0a427ca0> , bracket = [-2, -1.0] , maxiter= 5 , ite_c= 1 )\n",
      "biss1(f= <function f at 0x7fee0a427ca0> , bracket = [-2, -1.5] , maxiter= 5 , ite_c= 2 )\n",
      "biss1(f= <function f at 0x7fee0a427ca0> , bracket = [-2, -1.75] , maxiter= 5 , ite_c= 3 )\n",
      "biss1(f= <function f at 0x7fee0a427ca0> , bracket = [-1.875, -1.75] , maxiter= 5 , ite_c= 4 )\n",
      "biss1(f= <function f at 0x7fee0a427ca0> , bracket = [-1.875, -1.8125] , maxiter= 5 , ite_c= 5 )\n",
      "([-1.875, -1.8125], 'a função do scipy sempre escolhe bracket[0] = -1.875', 5)\n",
      "maxiter = 6\n",
      "      converged: False\n",
      "           flag: 'convergence error'\n",
      " function_calls: 8\n",
      "     iterations: 6\n",
      "           root: -1.84375\n",
      "biss1(f= <function f at 0x7fee0a427ca0> , bracket = [-2, 0] , maxiter= 6 , ite_c= 0 )\n",
      "biss1(f= <function f at 0x7fee0a427ca0> , bracket = [-2, -1.0] , maxiter= 6 , ite_c= 1 )\n",
      "biss1(f= <function f at 0x7fee0a427ca0> , bracket = [-2, -1.5] , maxiter= 6 , ite_c= 2 )\n",
      "biss1(f= <function f at 0x7fee0a427ca0> , bracket = [-2, -1.75] , maxiter= 6 , ite_c= 3 )\n",
      "biss1(f= <function f at 0x7fee0a427ca0> , bracket = [-1.875, -1.75] , maxiter= 6 , ite_c= 4 )\n",
      "biss1(f= <function f at 0x7fee0a427ca0> , bracket = [-1.875, -1.8125] , maxiter= 6 , ite_c= 5 )\n",
      "biss1(f= <function f at 0x7fee0a427ca0> , bracket = [-1.84375, -1.8125] , maxiter= 6 , ite_c= 6 )\n",
      "([-1.84375, -1.8125], 'a função do scipy sempre escolhe bracket[0] = -1.84375', 6)\n"
     ]
    }
   ],
   "source": [
    "for i in range(7):\n",
    "    print(\"maxiter =\", i)\n",
    "    print(opt.root_scalar(f,method='bisect', bracket=[-2,0], maxiter=i))\n",
    "    print(biss2(f, bracket=[-2, 0], maxiter=i))"
   ]
  },
  {
   "cell_type": "code",
   "execution_count": 14,
   "id": "located-implementation",
   "metadata": {},
   "outputs": [],
   "source": [
    "# maxiter\n",
    "def has_root(f, bottom_limit, upper_limit):\n",
    "    if np.sign(f(bottom_limit)) * np.sign(f(upper_limit)) < 0: return True\n",
    "  \n",
    "def bisect_rule(bracket):\n",
    "    return (bracket[0] + bracket[1]) / 2\n",
    "\n",
    "def bisect_recursion(f, bracket, maxiter=-1, ite_c=-1):\n",
    "    #print(\"biss1(f=\", f, \", bracket =\", bracket, \", maxiter=\", maxiter, \", ite_c=\", ite_c, \")\")\n",
    "    if ite_c == maxiter or False or False: # stop iterating\n",
    "        return (bracket, ite_c, \"converged\")\n",
    "    \n",
    "    if has_root(f, bracket[0], bisect_rule(bracket)): # go left half\n",
    "        return bisect_recursion(f, [bracket[0], bisect_rule(bracket)], maxiter=maxiter, ite_c= ite_c + 1)\n",
    "    if has_root(f, bisect_rule(bracket), bracket[1]): # go right half\n",
    "        return bisect_recursion(f, [bisect_rule(bracket), bracket[1]], maxiter=maxiter, ite_c= ite_c + 1)\n",
    "\n",
    "def bisect(f, bracket, maxiter=-1, ite_c=-1):\n",
    "    if has_root(f, bracket[0], bracket[1]): \n",
    "        return bisect_recursion(f, bracket, maxiter, ite_c= ite_c + 1)\n",
    "    else: return \"There is no root for f(x), in the given interval = \" + str(bracket)  "
   ]
  },
  {
   "cell_type": "code",
   "execution_count": 15,
   "id": "advised-maine",
   "metadata": {},
   "outputs": [
    {
     "name": "stdout",
     "output_type": "stream",
     "text": [
      "maxiter = 0\n",
      "      converged: False\n",
      "           flag: 'convergence error'\n",
      " function_calls: 2\n",
      "     iterations: 0\n",
      "           root: -2.0\n",
      "([-2, 0], 0, 'converged')\n",
      "maxiter = 1\n",
      "      converged: False\n",
      "           flag: 'convergence error'\n",
      " function_calls: 3\n",
      "     iterations: 1\n",
      "           root: -2.0\n",
      "([-2, -1.0], 1, 'converged')\n",
      "maxiter = 2\n",
      "      converged: False\n",
      "           flag: 'convergence error'\n",
      " function_calls: 4\n",
      "     iterations: 2\n",
      "           root: -2.0\n",
      "([-2, -1.5], 2, 'converged')\n",
      "maxiter = 3\n",
      "      converged: False\n",
      "           flag: 'convergence error'\n",
      " function_calls: 5\n",
      "     iterations: 3\n",
      "           root: -2.0\n",
      "([-2, -1.75], 3, 'converged')\n",
      "maxiter = 4\n",
      "      converged: False\n",
      "           flag: 'convergence error'\n",
      " function_calls: 6\n",
      "     iterations: 4\n",
      "           root: -1.875\n",
      "([-1.875, -1.75], 4, 'converged')\n",
      "maxiter = 5\n",
      "      converged: False\n",
      "           flag: 'convergence error'\n",
      " function_calls: 7\n",
      "     iterations: 5\n",
      "           root: -1.875\n",
      "([-1.875, -1.8125], 5, 'converged')\n",
      "maxiter = 6\n",
      "      converged: False\n",
      "           flag: 'convergence error'\n",
      " function_calls: 8\n",
      "     iterations: 6\n",
      "           root: -1.84375\n",
      "([-1.84375, -1.8125], 6, 'converged')\n"
     ]
    }
   ],
   "source": [
    "for i in range(7):\n",
    "    print(\"maxiter =\", i)\n",
    "    print(opt.root_scalar(f,method='bisect', bracket=[-2,0], maxiter=i))\n",
    "    print(bisect(f, bracket=[-2, 0], maxiter=i))"
   ]
  },
  {
   "cell_type": "code",
   "execution_count": 16,
   "id": "incomplete-membrane",
   "metadata": {},
   "outputs": [],
   "source": [
    "# maxiter and xtol\n",
    "def has_root(f, bottom_limit, upper_limit):\n",
    "    if np.sign(f(bottom_limit)) * np.sign(f(upper_limit)) < 0: return True\n",
    "  \n",
    "def bisect_rule(bracket):\n",
    "    return (bracket[0] + bracket[1]) / 2\n",
    "\n",
    "def xtol_rule(bracket):\n",
    "    return np.absolute(bracket[1] - bracket[0]) / 2\n",
    "\n",
    "def bisect_recursion(f, bracket, maxiter=-1, ite_c=-1, xtol=-np.inf):\n",
    "    #print(\"bisect_recursion(f=\", f, \", bracket =\", bracket, \"maxiter =\", maxiter, \", ite_c=\", ite_c, \")\")\n",
    "    if ite_c == maxiter or xtol_rule(bracket) <= xtol or False: # stop iterating\n",
    "        return (bracket, ite_c, \"converged\")\n",
    "    \n",
    "    if has_root(f, bracket[0], bisect_rule(bracket)): # go left half\n",
    "        return bisect_recursion(f, [bracket[0], bisect_rule(bracket)], maxiter=maxiter, ite_c= ite_c + 1)\n",
    "    elif has_root(f, bisect_rule(bracket), bracket[1]): # go right half\n",
    "        return bisect_recursion(f, [bisect_rule(bracket), bracket[1]], maxiter=maxiter, ite_c= ite_c + 1)\n",
    "\n",
    "def bisect(f, bracket, maxiter=-1, ite_c=-1, xtol=-np.inf):\n",
    "    if has_root(f, bracket[0], bracket[1]): \n",
    "        return bisect_recursion(f, bracket, maxiter, ite_c= 0, xtol=xtol)\n",
    "    else: return \"There is no root for f(x), in the given interval = \" + str(bracket)  "
   ]
  },
  {
   "cell_type": "code",
   "execution_count": 17,
   "id": "artistic-gather",
   "metadata": {},
   "outputs": [
    {
     "name": "stdout",
     "output_type": "stream",
     "text": [
      "maxiter = 0\n",
      "      converged: False\n",
      "           flag: 'convergence error'\n",
      " function_calls: 2\n",
      "     iterations: 0\n",
      "           root: -2.0\n",
      "([-2, 0], 0, 'converged')\n",
      "maxiter = 1\n",
      "      converged: False\n",
      "           flag: 'convergence error'\n",
      " function_calls: 3\n",
      "     iterations: 1\n",
      "           root: -2.0\n",
      "([-2, -1.0], 1, 'converged')\n",
      "maxiter = 2\n",
      "      converged: False\n",
      "           flag: 'convergence error'\n",
      " function_calls: 4\n",
      "     iterations: 2\n",
      "           root: -2.0\n",
      "([-2, -1.5], 2, 'converged')\n",
      "maxiter = 3\n",
      "      converged: False\n",
      "           flag: 'convergence error'\n",
      " function_calls: 5\n",
      "     iterations: 3\n",
      "           root: -2.0\n",
      "([-2, -1.75], 3, 'converged')\n",
      "maxiter = 4\n",
      "      converged: False\n",
      "           flag: 'convergence error'\n",
      " function_calls: 6\n",
      "     iterations: 4\n",
      "           root: -1.875\n",
      "([-1.875, -1.75], 4, 'converged')\n",
      "maxiter = 5\n",
      "      converged: False\n",
      "           flag: 'convergence error'\n",
      " function_calls: 7\n",
      "     iterations: 5\n",
      "           root: -1.875\n",
      "([-1.875, -1.8125], 5, 'converged')\n",
      "maxiter = 6\n",
      "      converged: False\n",
      "           flag: 'convergence error'\n",
      " function_calls: 8\n",
      "     iterations: 6\n",
      "           root: -1.84375\n",
      "([-1.84375, -1.8125], 6, 'converged')\n"
     ]
    }
   ],
   "source": [
    "for i in range(7):\n",
    "    print(\"maxiter =\", i)\n",
    "    print(opt.root_scalar(f,method='bisect', bracket=[-2,0], maxiter=i))\n",
    "    print(bisect(f, bracket=[-2, 0], maxiter=i))"
   ]
  },
  {
   "cell_type": "code",
   "execution_count": 18,
   "id": "entertaining-stuart",
   "metadata": {},
   "outputs": [],
   "source": [
    "# maxiter and xtol\n",
    "def has_root(f, bottom_limit, upper_limit):\n",
    "    if np.sign(f(bottom_limit)) * np.sign(f(upper_limit)) < 0: return True\n",
    "  \n",
    "def bisect_rule(bracket):\n",
    "    return (bracket[0] + bracket[1]) / 2\n",
    "\n",
    "def xtol_rule(bracket):\n",
    "    #print(\"xtol_rule(bracket=\", bracket,\") =\", np.absolute(bracket[1] - bracket[0]) / 2)\n",
    "    return np.absolute(bracket[1] - bracket[0]) / 2\n",
    "\n",
    "def bisect_recursion(f, bracket, maxiter=-1, ite_c=-1, xtol=-np.inf):\n",
    "    #print(\"bisect_recursion(f=\", f, \", bracket =\", bracket, \"maxiter =\", maxiter, \", ite_c=\", ite_c, \")\", \", xtol =\", xtol)\n",
    "    if ite_c == maxiter: # stop iterating by maximize\n",
    "        return (bracket, ite_c, \"converged\")\n",
    "    \n",
    "    # go left half\n",
    "    if has_root(f, bracket[0], bisect_rule(bracket)):\n",
    "        # stop iterating by xtol\n",
    "        if xtol_rule(bracket) <= xtol: \n",
    "            return ([bracket[0], bisect_rule(bracket)], ite_c + 1, \"converged\")\n",
    "        # iterate\n",
    "        return bisect_recursion(f, [bracket[0], bisect_rule(bracket)], maxiter=maxiter, ite_c= ite_c + 1, xtol=xtol)\n",
    "    \n",
    "    # go right half\n",
    "    elif has_root(f, bisect_rule(bracket), bracket[1]): \n",
    "        # stop iterating by xtol\n",
    "        if xtol_rule(bracket) <= xtol:\n",
    "            return ([bisect_rule(bracket), bracket[1]], ite_c + 1, \"converged\")\n",
    "        # iterate\n",
    "        return bisect_recursion(f, [bisect_rule(bracket), bracket[1]], maxiter=maxiter, ite_c= ite_c + 1, xtol=xtol)\n",
    "\n",
    "def bisect(f, bracket, maxiter=-1, ite_c=-1, xtol=-np.inf):\n",
    "    if has_root(f, bracket[0], bracket[1]): \n",
    "        return bisect_recursion(f, bracket, maxiter, ite_c= 0, xtol=xtol)\n",
    "    else: return \"There is no root for f(x), in the given interval = \" + str(bracket)"
   ]
  },
  {
   "cell_type": "code",
   "execution_count": 19,
   "id": "delayed-hartford",
   "metadata": {},
   "outputs": [
    {
     "name": "stdout",
     "output_type": "stream",
     "text": [
      "maxiter = 10\n",
      "      converged: False\n",
      "           flag: 'convergence error'\n",
      " function_calls: 12\n",
      "     iterations: 10\n",
      "           root: -1.841796875\n",
      "([-1.841796875, -1.83984375], 10, 'converged')\n",
      "maxiter = 9\n",
      "      converged: False\n",
      "           flag: 'convergence error'\n",
      " function_calls: 11\n",
      "     iterations: 9\n",
      "           root: -1.84375\n",
      "([-1.84375, -1.83984375], 9, 'converged')\n",
      "maxiter = 8\n",
      "      converged: False\n",
      "           flag: 'convergence error'\n",
      " function_calls: 10\n",
      "     iterations: 8\n",
      "           root: -1.84375\n",
      "([-1.84375, -1.8359375], 8, 'converged')\n",
      "maxiter = 7\n",
      "      converged: False\n",
      "           flag: 'convergence error'\n",
      " function_calls: 9\n",
      "     iterations: 7\n",
      "           root: -1.84375\n",
      "([-1.84375, -1.828125], 7, 'converged')\n",
      "maxiter = 6\n",
      "      converged: False\n",
      "           flag: 'convergence error'\n",
      " function_calls: 8\n",
      "     iterations: 6\n",
      "           root: -1.84375\n",
      "([-1.84375, -1.8125], 6, 'converged')\n",
      "maxiter = 5\n",
      "      converged: False\n",
      "           flag: 'convergence error'\n",
      " function_calls: 7\n",
      "     iterations: 5\n",
      "           root: -1.875\n",
      "([-1.875, -1.8125], 5, 'converged')\n",
      "maxiter = 4\n",
      "      converged: False\n",
      "           flag: 'convergence error'\n",
      " function_calls: 6\n",
      "     iterations: 4\n",
      "           root: -1.875\n",
      "([-1.875, -1.75], 4, 'converged')\n",
      "maxiter = 3\n",
      "      converged: False\n",
      "           flag: 'convergence error'\n",
      " function_calls: 5\n",
      "     iterations: 3\n",
      "           root: -2.0\n",
      "([-2, -1.75], 3, 'converged')\n",
      "maxiter = 2\n",
      "      converged: False\n",
      "           flag: 'convergence error'\n",
      " function_calls: 4\n",
      "     iterations: 2\n",
      "           root: -2.0\n",
      "([-2, -1.5], 2, 'converged')\n",
      "maxiter = 1\n",
      "      converged: False\n",
      "           flag: 'convergence error'\n",
      " function_calls: 3\n",
      "     iterations: 1\n",
      "           root: -2.0\n",
      "([-2, -1.0], 1, 'converged')\n",
      "maxiter = 0\n",
      "      converged: False\n",
      "           flag: 'convergence error'\n",
      " function_calls: 2\n",
      "     iterations: 0\n",
      "           root: -2.0\n",
      "([-2, 0], 0, 'converged')\n"
     ]
    }
   ],
   "source": [
    "for i in range(10, 0 - 1 , -1):\n",
    "    print(\"maxiter =\", i)\n",
    "    print(opt.root_scalar(f,method='bisect', bracket=[-2,0], maxiter=i, xtol=1e-6))\n",
    "    print(bisect(f, bracket=[-2, 0], maxiter=i, xtol=1e-6))"
   ]
  },
  {
   "cell_type": "code",
   "execution_count": 20,
   "id": "hairy-sheep",
   "metadata": {},
   "outputs": [],
   "source": [
    "# maxiter and rtol\n",
    "def has_root(f, bottom_limit, upper_limit):\n",
    "    if np.sign(f(bottom_limit)) * np.sign(f(upper_limit)) < 0: return True\n",
    "  \n",
    "def bisect_rule(bracket):\n",
    "    return (bracket[0] + bracket[1]) / 2\n",
    "\n",
    "def xtol_rule(bracket):\n",
    "    #print(\"xtol_rule(bracket=\", bracket,\") =\", np.absolute(bracket[1] - bracket[0]) / 2)\n",
    "    return np.absolute(bracket[1] - bracket[0]) / 2\n",
    "\n",
    "def rtol_rule(f, actual_iteration, next_iteration):\n",
    "    #print(\"rtol_rule =\", np.absolute(f(next_iteration) - actual_iteration) / f(next_iteration))\n",
    "    return np.absolute(f(next_iteration) - actual_iteration) / np.absolute(f(next_iteration))\n",
    "\n",
    "def bisect_recursion(f, bracket, maxiter=-1, ite_c=-1, xtol=-np.inf, rtol=-np.inf):\n",
    "    #print(\"bisect_recursion(f=\", f, \", bracket =\", bracket, \"maxiter =\", maxiter, \", ite_c=\", ite_c, \")\", \", xtol =\", xtol, \", rtol =\", rtol)\n",
    "    if ite_c == maxiter: # stop iterating by maximize\n",
    "        print(\"stop iterating by maximize\")\n",
    "        return (bracket, ite_c, \"converged\")\n",
    "    \n",
    "    # go left half\n",
    "    if has_root(f, bracket[0], bisect_rule(bracket)):\n",
    "        # stop iterating by xtol\n",
    "        if xtol_rule(bracket) <= xtol: \n",
    "            print(\"stop iterating by xtol\")\n",
    "            return ([bracket[0], bisect_rule(bracket)], ite_c + 1, \"converged\")\n",
    "        # stop iterating by rtol\n",
    "        if rtol_rule(f, bracket[0], bisect_rule(bracket)) <= rtol:\n",
    "            print(\"stop iterating by rtol\")\n",
    "            return ([bracket[0], bisect_rule(bracket)], ite_c + 1, \"converged\")\n",
    "        # iterate\n",
    "        return bisect_recursion(f, [bracket[0], bisect_rule(bracket)], maxiter=maxiter, ite_c= ite_c + 1, xtol=xtol, rtol=rtol)\n",
    "    \n",
    "    # go right half\n",
    "    elif has_root(f, bisect_rule(bracket), bracket[1]): \n",
    "        # stop iterating by xtol\n",
    "        if xtol_rule(bracket) <= xtol:\n",
    "            print(\"stop iterating by xtol\")\n",
    "            return ([bisect_rule(bracket), bracket[1]], ite_c + 1, \"converged\")\n",
    "        # stop iterating by rtol\n",
    "        if rtol_rule(f, bracket[1], bisect_rule(bracket)) <= rtol:\n",
    "            print(\"stop iterating by rtol\")\n",
    "            return ([bisect_rule(bracket), bracket[1]], ite_c + 1, \"converged\")\n",
    "        # iterate\n",
    "        return bisect_recursion(f, [bisect_rule(bracket), bracket[1]], maxiter=maxiter, ite_c= ite_c + 1, xtol=xtol, rtol=rtol)\n",
    "\n",
    "def bisect(f, bracket, maxiter=-1, ite_c=-1, xtol=-np.inf, rtol=-np.inf):\n",
    "    if has_root(f, bracket[0], bracket[1]): \n",
    "        return bisect_recursion(f, bracket, maxiter, ite_c= 0, xtol=xtol, rtol=rtol)\n",
    "    else: return \"There is no root for f(x), in the given interval = \" + str(bracket)"
   ]
  },
  {
   "cell_type": "code",
   "execution_count": 21,
   "id": "distributed-table",
   "metadata": {},
   "outputs": [
    {
     "name": "stdout",
     "output_type": "stream",
     "text": [
      "maxiter = 10\n",
      "      converged: False\n",
      "           flag: 'convergence error'\n",
      " function_calls: 12\n",
      "     iterations: 10\n",
      "           root: -1.841796875\n",
      "stop iterating by maximize\n",
      "([-1.841796875, -1.83984375], 10, 'converged')\n",
      "maxiter = 9\n",
      "      converged: False\n",
      "           flag: 'convergence error'\n",
      " function_calls: 11\n",
      "     iterations: 9\n",
      "           root: -1.84375\n",
      "stop iterating by maximize\n",
      "([-1.84375, -1.83984375], 9, 'converged')\n",
      "maxiter = 8\n",
      "      converged: False\n",
      "           flag: 'convergence error'\n",
      " function_calls: 10\n",
      "     iterations: 8\n",
      "           root: -1.84375\n",
      "stop iterating by maximize\n",
      "([-1.84375, -1.8359375], 8, 'converged')\n",
      "maxiter = 7\n",
      "      converged: False\n",
      "           flag: 'convergence error'\n",
      " function_calls: 9\n",
      "     iterations: 7\n",
      "           root: -1.84375\n",
      "stop iterating by maximize\n",
      "([-1.84375, -1.828125], 7, 'converged')\n",
      "maxiter = 6\n",
      "      converged: False\n",
      "           flag: 'convergence error'\n",
      " function_calls: 8\n",
      "     iterations: 6\n",
      "           root: -1.84375\n",
      "stop iterating by maximize\n",
      "([-1.84375, -1.8125], 6, 'converged')\n",
      "maxiter = 5\n",
      "      converged: False\n",
      "           flag: 'convergence error'\n",
      " function_calls: 7\n",
      "     iterations: 5\n",
      "           root: -1.875\n",
      "stop iterating by maximize\n",
      "([-1.875, -1.8125], 5, 'converged')\n",
      "maxiter = 4\n",
      "      converged: False\n",
      "           flag: 'convergence error'\n",
      " function_calls: 6\n",
      "     iterations: 4\n",
      "           root: -1.875\n",
      "stop iterating by maximize\n",
      "([-1.875, -1.75], 4, 'converged')\n",
      "maxiter = 3\n",
      "      converged: False\n",
      "           flag: 'convergence error'\n",
      " function_calls: 5\n",
      "     iterations: 3\n",
      "           root: -2.0\n",
      "stop iterating by maximize\n",
      "([-2, -1.75], 3, 'converged')\n",
      "maxiter = 2\n",
      "      converged: False\n",
      "           flag: 'convergence error'\n",
      " function_calls: 4\n",
      "     iterations: 2\n",
      "           root: -2.0\n",
      "stop iterating by maximize\n",
      "([-2, -1.5], 2, 'converged')\n",
      "maxiter = 1\n",
      "      converged: False\n",
      "           flag: 'convergence error'\n",
      " function_calls: 3\n",
      "     iterations: 1\n",
      "           root: -2.0\n",
      "stop iterating by maximize\n",
      "([-2, -1.0], 1, 'converged')\n",
      "maxiter = 0\n",
      "      converged: False\n",
      "           flag: 'convergence error'\n",
      " function_calls: 2\n",
      "     iterations: 0\n",
      "           root: -2.0\n",
      "stop iterating by maximize\n",
      "([-2, 0], 0, 'converged')\n"
     ]
    }
   ],
   "source": [
    "for i in range(10, 0 - 1 , -1):\n",
    "    print(\"maxiter =\", i)\n",
    "    print(opt.root_scalar(f,method='bisect', bracket=[-2,0], maxiter=i, rtol=1e-6))\n",
    "    print(bisect(f, bracket=[-2, 0], maxiter=i, rtol=1e-6))"
   ]
  },
  {
   "cell_type": "code",
   "execution_count": 22,
   "id": "removable-jacket",
   "metadata": {},
   "outputs": [],
   "source": [
    "# maxiter and xtol and rtol, with convertion status\n",
    "def has_root(f, bottom_limit, upper_limit):\n",
    "    if np.sign(f(bottom_limit)) * np.sign(f(upper_limit)) < 0: return True\n",
    "  \n",
    "def bisect_rule(bracket):\n",
    "    return (bracket[0] + bracket[1]) / 2\n",
    "\n",
    "def xtol_rule(bracket):\n",
    "    #print(\"xtol_rule(bracket=\", bracket,\") =\", np.absolute(bracket[1] - bracket[0]) / 2)\n",
    "    return np.absolute(bracket[1] - bracket[0]) / 2\n",
    "\n",
    "def rtol_rule(actual_iteration, next_iteration):\n",
    "    #print(\"rtol_rule =\", np.absolute(f(next_iteration) - actual_iteration) / f(next_iteration))\n",
    "    return np.absolute(next_iteration - actual_iteration) / np.absolute(next_iteration)\n",
    "\n",
    "def bisect_recursion(f, bracket, maxiter=-1, ite_c=-1, xtol=-np.inf, rtol=-np.inf):\n",
    "    #print(\"bisect_recursion(f=\", f, \", bracket =\", bracket, \"maxiter =\", maxiter, \", ite_c=\", ite_c, \")\", \", xtol =\", xtol, \", rtol =\", rtol)\n",
    "    if ite_c == maxiter: # stop iterating by maximize\n",
    "        #print(\"stop iterating by maximize\")\n",
    "        return (bracket, ite_c, \"stop iterating by maximiter\")\n",
    "    \n",
    "    # go left half\n",
    "    if has_root(f, bracket[0], bisect_rule(bracket)):\n",
    "        # stop iterating by xtol\n",
    "        if xtol_rule(bracket) <= xtol: \n",
    "            #print(\"stop iterating by xtol\")\n",
    "            return ([bracket[0], bisect_rule(bracket)], ite_c + 1, \"converged\")\n",
    "        # stop iterating by rtol\n",
    "        if rtol_rule(bracket[0], bisect_rule(bracket)) <= rtol:\n",
    "            #print(\"stop iterating by rtol\")\n",
    "            return ([bracket[0], bisect_rule(bracket)], ite_c + 1, \"converged\")\n",
    "        # iterate\n",
    "        return bisect_recursion(f, [bracket[0], bisect_rule(bracket)], maxiter=maxiter, ite_c= ite_c + 1, xtol=xtol, rtol=rtol)\n",
    "    \n",
    "    # go right half\n",
    "    elif has_root(f, bisect_rule(bracket), bracket[1]): \n",
    "        # stop iterating by xtol\n",
    "        if xtol_rule(bracket) <= xtol:\n",
    "            #print(\"stop iterating by xtol\")\n",
    "            return ([bisect_rule(bracket), bracket[1]], ite_c + 1, \"converged\")\n",
    "        # stop iterating by rtol\n",
    "        if rtol_rule(bracket[1], bisect_rule(bracket)) <= rtol:\n",
    "            #print(\"stop iterating by rtol\")\n",
    "            return ([bisect_rule(bracket), bracket[1]], ite_c + 1, \"converged\")\n",
    "        # iterate\n",
    "        return bisect_recursion(f, [bisect_rule(bracket), bracket[1]], maxiter=maxiter, ite_c= ite_c + 1, xtol=xtol, rtol=rtol)\n",
    "    \n",
    "    return (bracket, ite_c, \"convergence error, due too many function call recursions\")\n",
    "    \n",
    "def bisect(f, bracket, maxiter=-1, ite_c=-1, xtol=-np.inf, rtol=-np.inf):\n",
    "    if has_root(f, bracket[0], bracket[1]): \n",
    "        return bisect_recursion(f, bracket, maxiter, ite_c=ite_c + 1, xtol=xtol, rtol=rtol)\n",
    "    else: return \"convergence error, the gap \" + str(bracket) + \", does not has a root for function f\""
   ]
  },
  {
   "cell_type": "code",
   "execution_count": 23,
   "id": "satellite-poster",
   "metadata": {},
   "outputs": [
    {
     "name": "stdout",
     "output_type": "stream",
     "text": [
      "      converged: True\n",
      "           flag: 'converged'\n",
      " function_calls: 5\n",
      "     iterations: 3\n",
      "           root: -1.75\n",
      "([-1.875, -1.75], 4, 'converged')\n"
     ]
    }
   ],
   "source": [
    "# maxiter and xtol and rtol \n",
    "print(opt.root_scalar(f,method='bisect',bracket=[-2,0], rtol=1e-1, xtol=1e-1))\n",
    "print(bisect(f, bracket=[-2, 0], rtol=1e-1, xtol=1e-1))"
   ]
  },
  {
   "cell_type": "code",
   "execution_count": 24,
   "id": "current-drove",
   "metadata": {},
   "outputs": [
    {
     "name": "stdout",
     "output_type": "stream",
     "text": [
      "      converged: True\n",
      "           flag: 'converged'\n",
      " function_calls: 6\n",
      "     iterations: 4\n",
      "           root: -1.875\n",
      "([-1.875, -1.75], 4, 'converged')\n"
     ]
    }
   ],
   "source": [
    "print(opt.root_scalar(f,method='bisect', bracket=[-2,0], rtol=1e-1))\n",
    "print(bisect(f, bracket=[-2, 0], rtol=1e-1))"
   ]
  },
  {
   "cell_type": "code",
   "execution_count": 25,
   "id": "liquid-objective",
   "metadata": {},
   "outputs": [
    {
     "data": {
      "text/plain": [
       "([6.25, 6.5625], 4, 'converged')"
      ]
     },
     "execution_count": 25,
     "metadata": {},
     "output_type": "execute_result"
    }
   ],
   "source": [
    "def f(x): return -0.5*x**2 + 2.5*x + 4.5\n",
    "bisect(f, bracket=[5, 10], rtol=5e-2)"
   ]
  },
  {
   "cell_type": "code",
   "execution_count": 29,
   "id": "later-appendix",
   "metadata": {},
   "outputs": [],
   "source": [
    "# equação para encontrar a próxima aproximação de x, no método da bisseção ou falsa posição  \n",
    "def false_position_rule(f, bracket):\n",
    "    # return (bracket[0] + bracket[1]) / 2\n",
    "    return bracket[1] - ((f(bracket[1]) * (bracket[0] - bracket[1])) / (f(bracket[0]) - f(bracket[1])))"
   ]
  },
  {
   "cell_type": "code",
   "execution_count": 27,
   "id": "hourly-magic",
   "metadata": {},
   "outputs": [],
   "source": [
    "# recursão para método da falsa posição para os intervalos após o primeiro\n",
    "def false_position_recursion(f, bracket, maxiter=-1, ite_c=-1, xtol=-np.inf, rtol=-np.inf):\n",
    "    #print(\"false_position_recursion(f=\", f, \", bracket =\", bracket, \"maxiter =\", maxiter, \", ite_c=\", ite_c, \")\", \", xtol =\", xtol, \", rtol =\", rtol)\n",
    "    if ite_c == maxiter: # stop iterating by maximize\n",
    "        #print(\"stop iterating by maximize\")\n",
    "        return (bracket, ite_c, \"stop iterating by maximiter\")\n",
    "    \n",
    "    # go left half\n",
    "    if has_root(f, bracket[0], false_position_rule(f, bracket)):\n",
    "        # stop iterating by xtol\n",
    "        if xtol_rule(bracket) <= xtol: \n",
    "            #print(\"stop iterating by xtol\")\n",
    "            return ([bracket[0], false_position_rule(f, bracket)], ite_c + 1, \"converged\")\n",
    "        # stop iterating by rtol\n",
    "        if rtol_rule(bracket[0], false_position_rule(f, bracket)) <= rtol:\n",
    "            #print(\"stop iterating by rtol\")\n",
    "            return ([bracket[0], false_position_rule(f, bracket)], ite_c + 1, \"converged\")\n",
    "        # iterate\n",
    "        return false_position_recursion(f, [bracket[0], false_position_rule(f, bracket)], maxiter=maxiter, ite_c= ite_c + 1, xtol=xtol, rtol=rtol)\n",
    "    \n",
    "    # go right half\n",
    "    elif has_root(f, false_position_rule(f, bracket), bracket[1]): \n",
    "        # stop iterating by xtol\n",
    "        if xtol_rule(bracket) <= xtol:\n",
    "            #print(\"stop iterating by xtol\")\n",
    "            return ([false_position_rule(f, bracket), bracket[1]], ite_c + 1, \"converged\")\n",
    "        # stop iterating by rtol\n",
    "        if rtol_rule(bracket[1], false_position_rule(f, bracket)) <= rtol:\n",
    "            #print(\"stop iterating by rtol\")\n",
    "            return ([false_position_rule(f, bracket), bracket[1]], ite_c + 1, \"converged\")\n",
    "        # iterate\n",
    "        return false_position_recursion(f, [false_position_rule(f, bracket), bracket[1]], maxiter=maxiter, ite_c= ite_c + 1, xtol=xtol, rtol=rtol)\n",
    "    \n",
    "    return (bracket, ite_c, \"convergence error, due too many function recursions call\")\n",
    "\n",
    "# método da falsa posição, testa o primeiro intervalo dado\n",
    "def false_position(f, bracket, maxiter=-1, ite_c=-1, xtol=-np.inf, rtol=-np.inf):\n",
    "    if maxiter < 0 and xtol == -np.inf and rtol == -np.inf:\n",
    "        raise \"um dos métodos de parada para as iterações deve ser definido, caso contrário a recursão não irá parar\"\n",
    "    if has_root(f, bracket[0], bracket[1]): \n",
    "        return false_position_recursion(f, bracket, maxiter, ite_c=ite_c + 1, xtol=xtol, rtol=rtol)\n",
    "    else: return \"convergence error, \" + str(bracket) + \"gap does not has a root for f\""
   ]
  },
  {
   "cell_type": "code",
   "execution_count": 32,
   "id": "sealed-input",
   "metadata": {},
   "outputs": [
    {
     "data": {
      "text/plain": [
       "([6.405124837953325, 10],\n",
       " 30,\n",
       " 'convergence error, due too many function recursions call')"
      ]
     },
     "execution_count": 32,
     "metadata": {},
     "output_type": "execute_result"
    }
   ],
   "source": [
    "false_position(f, bracket=[5, 10], rtol=5e-2)"
   ]
  },
  {
   "cell_type": "code",
   "execution_count": null,
   "id": "exceptional-float",
   "metadata": {},
   "outputs": [],
   "source": []
  },
  {
   "cell_type": "code",
   "execution_count": null,
   "id": "identified-music",
   "metadata": {},
   "outputs": [],
   "source": []
  },
  {
   "cell_type": "code",
   "execution_count": null,
   "id": "catholic-holmes",
   "metadata": {},
   "outputs": [],
   "source": []
  }
 ],
 "metadata": {
  "kernelspec": {
   "display_name": "Python 3",
   "language": "python",
   "name": "python3"
  },
  "language_info": {
   "codemirror_mode": {
    "name": "ipython",
    "version": 3
   },
   "file_extension": ".py",
   "mimetype": "text/x-python",
   "name": "python",
   "nbconvert_exporter": "python",
   "pygments_lexer": "ipython3",
   "version": "3.8.5"
  }
 },
 "nbformat": 4,
 "nbformat_minor": 5
}
