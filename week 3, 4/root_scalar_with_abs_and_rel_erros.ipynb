{
 "cells": [
  {
   "cell_type": "code",
   "execution_count": 1,
   "id": "offshore-destination",
   "metadata": {},
   "outputs": [],
   "source": [
    "import numpy as np\n",
    "import scipy.optimize as opt"
   ]
  },
  {
   "cell_type": "code",
   "execution_count": 2,
   "id": "latter-belle",
   "metadata": {},
   "outputs": [],
   "source": [
    "def f(x): return np.exp(x) - x - 2"
   ]
  },
  {
   "cell_type": "code",
   "execution_count": 3,
   "id": "engaging-touch",
   "metadata": {},
   "outputs": [
    {
     "data": {
      "text/plain": [
       "      converged: True\n",
       "           flag: 'converged'\n",
       " function_calls: 7\n",
       "     iterations: 5\n",
       "           root: -1.8125"
      ]
     },
     "execution_count": 3,
     "metadata": {},
     "output_type": "execute_result"
    }
   ],
   "source": [
    "opt.root_scalar(f,method='bisect',bracket=[-2,0], xtol=1e-1) # erro absoluto"
   ]
  },
  {
   "cell_type": "code",
   "execution_count": 4,
   "id": "growing-weapon",
   "metadata": {},
   "outputs": [
    {
     "data": {
      "text/plain": [
       "      converged: True\n",
       "           flag: 'converged'\n",
       " function_calls: 6\n",
       "     iterations: 4\n",
       "           root: -1.875"
      ]
     },
     "execution_count": 4,
     "metadata": {},
     "output_type": "execute_result"
    }
   ],
   "source": [
    "opt.root_scalar(f,method='bisect',bracket=[-2,0], rtol=1e-1) # erro relativo"
   ]
  },
  {
   "cell_type": "markdown",
   "id": "polished-lesson",
   "metadata": {},
   "source": [
    "Mas o que acontece se usarmos os dois (erro absoluto e erro relativo), com mesmo valor, no mesmo cálculo?"
   ]
  },
  {
   "cell_type": "code",
   "execution_count": 5,
   "id": "aggressive-morning",
   "metadata": {},
   "outputs": [
    {
     "data": {
      "text/plain": [
       "      converged: True\n",
       "           flag: 'converged'\n",
       " function_calls: 5\n",
       "     iterations: 3\n",
       "           root: -1.75"
      ]
     },
     "execution_count": 5,
     "metadata": {},
     "output_type": "execute_result"
    }
   ],
   "source": [
    "opt.root_scalar(f,method='bisect',bracket=[-2,0], rtol=1e-1, xtol=1e-1)"
   ]
  },
  {
   "cell_type": "markdown",
   "id": "political-symphony",
   "metadata": {},
   "source": [
    "Deixo a critério do aluno interpretar esse resultado."
   ]
  },
  {
   "cell_type": "code",
   "execution_count": null,
   "id": "square-boulder",
   "metadata": {},
   "outputs": [],
   "source": []
  }
 ],
 "metadata": {
  "kernelspec": {
   "display_name": "Python 3",
   "language": "python",
   "name": "python3"
  },
  "language_info": {
   "codemirror_mode": {
    "name": "ipython",
    "version": 3
   },
   "file_extension": ".py",
   "mimetype": "text/x-python",
   "name": "python",
   "nbconvert_exporter": "python",
   "pygments_lexer": "ipython3",
   "version": "3.8.5"
  }
 },
 "nbformat": 4,
 "nbformat_minor": 5
}
