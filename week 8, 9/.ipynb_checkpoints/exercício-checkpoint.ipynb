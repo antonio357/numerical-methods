{
 "cells": [
  {
   "cell_type": "code",
   "execution_count": 1,
   "id": "terminal-museum",
   "metadata": {},
   "outputs": [],
   "source": [
    "import numpy as np\n",
    "import scipy.linalg as sla"
   ]
  },
  {
   "cell_type": "code",
   "execution_count": 2,
   "id": "alleged-lawsuit",
   "metadata": {},
   "outputs": [],
   "source": [
    "def printMat(A):\n",
    "    for i in A:\n",
    "        print(i)\n",
    "    return\n",
    "\n",
    "# método trivial para matriz triangular superior\n",
    "def uppTriLinSys(A, b):    \n",
    "    n = len(b)\n",
    "    x = np.empty(n)\n",
    "    \n",
    "    x[n - 1] = b[n - 1] / A[n - 1, n - 1]\n",
    "    for i in range(n - 2, -1, -1):\n",
    "        x[i] = ( b[i] - np.sum( A[i, i + 1:] * x[i + 1:] ) ) / A[i, i]\n",
    "            \n",
    "    return x\n",
    "\n",
    "def escalonamento(A, b):\n",
    "    \"\"\"print(\"A\")\n",
    "    printMat(A)\n",
    "    print(\"b =\", b)\"\"\"\n",
    "    n = len(A)\n",
    "    Ab = np.c_[A, b] # matriz extendida\n",
    "    \"\"\"print(\"A|b\")\n",
    "    printMat(Ab)\"\"\"\n",
    "    \n",
    "    # escalonamento\n",
    "    for c in range(n-1):\n",
    "        \"\"\"print(\"coluna =\", c)\n",
    "        print(\"A|b antes do pivotamento\")\n",
    "        printMat(Ab)\"\"\"\n",
    "        # pivotamento parcial\n",
    "        row_i_for_permutation = np.abs(Ab[c:, c]).argmax() + c\n",
    "        if np.abs(Ab[row_i_for_permutation, c]) > np.abs(Ab[c, c]):\n",
    "            \"\"\"print(\"teve pivotamento\")\"\"\"\n",
    "            Ab[[c, row_i_for_permutation]] = Ab[[row_i_for_permutation, c]] # swap(c, row_i_for_permutation)\n",
    "        # pivotamento parcial\n",
    "        \"\"\"print(\"A|b depois do pivotamento\")\n",
    "        printMat(Ab)\"\"\"\n",
    "        for l in range(c+1, n):\n",
    "            Ab[l] = Ab[l] - (Ab[l, c] / Ab[c, c]) * Ab[c]\n",
    "    # escalonamento\n",
    "    r = Ab[:, :-1], Ab[:, -1]\n",
    "    \"\"\"print(\"após escalonamento\")\n",
    "    print(\"A\")\n",
    "    printMat(r[0])\n",
    "    print(\"b\")\n",
    "    printMat(r[1])\"\"\"\n",
    "    return r\n",
    "\n",
    "# eliminação gaussiana com pivotamento parcial\n",
    "def gausEliParPiv(A, b):\n",
    "    esc = escalonamento(A, b)\n",
    "    return uppTriLinSys(esc[0], esc[1])"
   ]
  },
  {
   "cell_type": "markdown",
   "id": "equipped-gothic",
   "metadata": {},
   "source": [
    "(a)  \n",
    "x1 + x2 + x3 = 1  \n",
    "4x1 + 4x2 + 2x3 = 2  \n",
    "2x1 + x2 − x3 = 0"
   ]
  },
  {
   "cell_type": "code",
   "execution_count": 3,
   "id": "general-expansion",
   "metadata": {},
   "outputs": [
    {
     "name": "stdout",
     "output_type": "stream",
     "text": [
      "antes do escalonamento [ 1. -1.  1.]\n"
     ]
    },
    {
     "ename": "LinAlgError",
     "evalue": "Matrix is singular.",
     "output_type": "error",
     "traceback": [
      "\u001b[0;31m---------------------------------------------------------------------------\u001b[0m",
      "\u001b[0;31mLinAlgError\u001b[0m                               Traceback (most recent call last)",
      "\u001b[0;32m<ipython-input-3-a1e982a8e50d>\u001b[0m in \u001b[0;36m<module>\u001b[0;34m\u001b[0m\n\u001b[1;32m      3\u001b[0m \u001b[0mprint\u001b[0m\u001b[0;34m(\u001b[0m\u001b[0;34m\"antes do escalonamento\"\u001b[0m\u001b[0;34m,\u001b[0m \u001b[0msla\u001b[0m\u001b[0;34m.\u001b[0m\u001b[0msolve\u001b[0m\u001b[0;34m(\u001b[0m\u001b[0mA\u001b[0m\u001b[0;34m,\u001b[0m \u001b[0mb\u001b[0m\u001b[0;34m)\u001b[0m\u001b[0;34m)\u001b[0m\u001b[0;34m\u001b[0m\u001b[0;34m\u001b[0m\u001b[0m\n\u001b[1;32m      4\u001b[0m \u001b[0mesc\u001b[0m \u001b[0;34m=\u001b[0m \u001b[0mescalonamento\u001b[0m\u001b[0;34m(\u001b[0m\u001b[0mA\u001b[0m\u001b[0;34m,\u001b[0m \u001b[0mb\u001b[0m\u001b[0;34m)\u001b[0m\u001b[0;34m\u001b[0m\u001b[0;34m\u001b[0m\u001b[0m\n\u001b[0;32m----> 5\u001b[0;31m \u001b[0mprint\u001b[0m\u001b[0;34m(\u001b[0m\u001b[0;34m\"depois do escalonamento\"\u001b[0m\u001b[0;34m,\u001b[0m \u001b[0msla\u001b[0m\u001b[0;34m.\u001b[0m\u001b[0msolve\u001b[0m\u001b[0;34m(\u001b[0m\u001b[0mesc\u001b[0m\u001b[0;34m[\u001b[0m\u001b[0;36m0\u001b[0m\u001b[0;34m]\u001b[0m\u001b[0;34m,\u001b[0m \u001b[0mesc\u001b[0m\u001b[0;34m[\u001b[0m\u001b[0;36m1\u001b[0m\u001b[0;34m]\u001b[0m\u001b[0;34m)\u001b[0m\u001b[0;34m)\u001b[0m\u001b[0;34m\u001b[0m\u001b[0;34m\u001b[0m\u001b[0m\n\u001b[0m\u001b[1;32m      6\u001b[0m \u001b[0;31m#print(gausEliParPiv(A, b), '\\n', sla.solve(A, b), '\\n', gausEliParPiv(A, b) == sla.solve(A, b))\u001b[0m\u001b[0;34m\u001b[0m\u001b[0;34m\u001b[0m\u001b[0;34m\u001b[0m\u001b[0m\n",
      "\u001b[0;32m~/.local/lib/python3.8/site-packages/scipy/linalg/basic.py\u001b[0m in \u001b[0;36msolve\u001b[0;34m(a, b, sym_pos, lower, overwrite_a, overwrite_b, debug, check_finite, assume_a, transposed)\u001b[0m\n\u001b[1;32m    212\u001b[0m                                                (a1, b1))\n\u001b[1;32m    213\u001b[0m         \u001b[0mlu\u001b[0m\u001b[0;34m,\u001b[0m \u001b[0mipvt\u001b[0m\u001b[0;34m,\u001b[0m \u001b[0minfo\u001b[0m \u001b[0;34m=\u001b[0m \u001b[0mgetrf\u001b[0m\u001b[0;34m(\u001b[0m\u001b[0ma1\u001b[0m\u001b[0;34m,\u001b[0m \u001b[0moverwrite_a\u001b[0m\u001b[0;34m=\u001b[0m\u001b[0moverwrite_a\u001b[0m\u001b[0;34m)\u001b[0m\u001b[0;34m\u001b[0m\u001b[0;34m\u001b[0m\u001b[0m\n\u001b[0;32m--> 214\u001b[0;31m         \u001b[0m_solve_check\u001b[0m\u001b[0;34m(\u001b[0m\u001b[0mn\u001b[0m\u001b[0;34m,\u001b[0m \u001b[0minfo\u001b[0m\u001b[0;34m)\u001b[0m\u001b[0;34m\u001b[0m\u001b[0;34m\u001b[0m\u001b[0m\n\u001b[0m\u001b[1;32m    215\u001b[0m         x, info = getrs(lu, ipvt, b1,\n\u001b[1;32m    216\u001b[0m                         trans=trans, overwrite_b=overwrite_b)\n",
      "\u001b[0;32m~/.local/lib/python3.8/site-packages/scipy/linalg/basic.py\u001b[0m in \u001b[0;36m_solve_check\u001b[0;34m(n, info, lamch, rcond)\u001b[0m\n\u001b[1;32m     27\u001b[0m                          '.'.format(-info))\n\u001b[1;32m     28\u001b[0m     \u001b[0;32melif\u001b[0m \u001b[0;36m0\u001b[0m \u001b[0;34m<\u001b[0m \u001b[0minfo\u001b[0m\u001b[0;34m:\u001b[0m\u001b[0;34m\u001b[0m\u001b[0;34m\u001b[0m\u001b[0m\n\u001b[0;32m---> 29\u001b[0;31m         \u001b[0;32mraise\u001b[0m \u001b[0mLinAlgError\u001b[0m\u001b[0;34m(\u001b[0m\u001b[0;34m'Matrix is singular.'\u001b[0m\u001b[0;34m)\u001b[0m\u001b[0;34m\u001b[0m\u001b[0;34m\u001b[0m\u001b[0m\n\u001b[0m\u001b[1;32m     30\u001b[0m \u001b[0;34m\u001b[0m\u001b[0m\n\u001b[1;32m     31\u001b[0m     \u001b[0;32mif\u001b[0m \u001b[0mlamch\u001b[0m \u001b[0;32mis\u001b[0m \u001b[0;32mNone\u001b[0m\u001b[0;34m:\u001b[0m\u001b[0;34m\u001b[0m\u001b[0;34m\u001b[0m\u001b[0m\n",
      "\u001b[0;31mLinAlgError\u001b[0m: Matrix is singular."
     ]
    }
   ],
   "source": [
    "A = np.array([[1,1,1], [4,4,2], [2,1,-1]])\n",
    "b = np.array([1,2,0])\n",
    "print(\"antes do escalonamento\", sla.solve(A, b))\n",
    "esc = escalonamento(A, b)\n",
    "print(esc[0], esc[1])\n",
    "print(\"depois do escalonamento\", sla.solve(esc[0], esc[1]))\n",
    "#print(gausEliParPiv(A, b), '\\n', sla.solve(A, b), '\\n', gausEliParPiv(A, b) == sla.solve(A, b))"
   ]
  },
  {
   "cell_type": "markdown",
   "id": "hourly-mapping",
   "metadata": {},
   "source": [
    "(b)  \n",
    "7x1 − 7x2 + x3 = 1  \n",
    "−3x1 + 3x2 + 2x3 = 2  \n",
    "7x1 + 7x2 − 72x3 = 7"
   ]
  },
  {
   "cell_type": "code",
   "execution_count": 4,
   "id": "unauthorized-navigator",
   "metadata": {},
   "outputs": [
    {
     "name": "stdout",
     "output_type": "stream",
     "text": [
      "[-0.22774327  0.33333333 -0.08695652] \n",
      " [-0.30952381  0.41511387 -0.08695652] \n",
      " [False False  True]\n"
     ]
    }
   ],
   "source": [
    "A = np.array([[7,7,-3], [-3,3,2], [7,7,-72]])\n",
    "b = np.array([1,2,7])\n",
    "print(gausEliParPiv(A, b), '\\n', sla.solve(A, b), '\\n', gausEliParPiv(A, b) == sla.solve(A, b))"
   ]
  },
  {
   "cell_type": "markdown",
   "id": "saved-treasury",
   "metadata": {},
   "source": [
    "(c)  \n",
    "x1 + 2x2 + 3x3 + 4x4 = 20  \n",
    "2x1 + 2x2 + 3x3 + 4x4 = 22  \n",
    "3x1 + 3x2 + 3x3 + 4x4 = 22  \n",
    "4x1 + 4x2 + 4x3 + 4x4 = 24"
   ]
  },
  {
   "cell_type": "code",
   "execution_count": null,
   "id": "structured-alaska",
   "metadata": {},
   "outputs": [],
   "source": [
    "A = np.array([[1,2,3,4], [2,2,3,4], [3,3,3,4], [4,4,4,4]])\n",
    "b = np.array([20, 22, 22, 24])\n",
    "print(gausEliParPiv(A, b), '\\n', sla.solve(A, b), '\\n', gausEliParPiv(A, b) == sla.solve(A, b))"
   ]
  }
 ],
 "metadata": {
  "kernelspec": {
   "display_name": "Python 3",
   "language": "python",
   "name": "python3"
  },
  "language_info": {
   "codemirror_mode": {
    "name": "ipython",
    "version": 3
   },
   "file_extension": ".py",
   "mimetype": "text/x-python",
   "name": "python",
   "nbconvert_exporter": "python",
   "pygments_lexer": "ipython3",
   "version": "3.8.5"
  }
 },
 "nbformat": 4,
 "nbformat_minor": 5
}
