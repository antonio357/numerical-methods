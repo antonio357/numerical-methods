{
 "cells": [
  {
   "cell_type": "code",
   "execution_count": 1,
   "id": "perfect-basis",
   "metadata": {},
   "outputs": [],
   "source": [
    "import numpy as np\n",
    "import scipy.linalg as sla"
   ]
  },
  {
   "cell_type": "code",
   "execution_count": 2,
   "id": "laughing-information",
   "metadata": {},
   "outputs": [],
   "source": [
    "def printMat(A):\n",
    "    for i in A:\n",
    "        print(i)\n",
    "    return\n",
    "\n",
    "# método trivial para matriz triangular superior\n",
    "def uppTriLinSys(A, b):    \n",
    "    n = len(b)\n",
    "    x = np.empty(n)\n",
    "    \n",
    "    x[n - 1] = b[n - 1] / A[n - 1, n - 1]\n",
    "    for i in range(n - 2, -1, -1):\n",
    "        x[i] = ( b[i] - np.sum( A[i, i + 1:] * x[i + 1:] ) ) / A[i, i]\n",
    "            \n",
    "    return x\n",
    "\n",
    "def escalonamento(A, b):\n",
    "    n = len(A)\n",
    "    Ab = np.c_[A, b] * 1. # matriz extendida \n",
    "    # com todos os números convertidos em double, se não converter pra double a divisão em (1) será truncada gerando bug\n",
    "    \n",
    "    # escalonamento\n",
    "    for c in range(n-1):\n",
    "        # pivotamento parcial\n",
    "        row_i_for_permutation = np.abs(Ab[c:, c]).argmax() + c\n",
    "        if np.abs(Ab[row_i_for_permutation, c]) > np.abs(Ab[c, c]):\n",
    "            Ab[[c, row_i_for_permutation]] = Ab[[row_i_for_permutation, c]] # swap(c, row_i_for_permutation)\n",
    "        # pivotamento parcial\n",
    "        for l in range(c+1, n):\n",
    "            Ab[l] = Ab[l] - (Ab[l, c] / Ab[c, c]) * Ab[c] # (1)\n",
    "    # escalonamento\n",
    "    return Ab[:, :-1], Ab[:, -1]\n",
    "\n",
    "# eliminação gaussiana com pivotamento parcial\n",
    "def gausEliParPiv(A, b):\n",
    "    esc = escalonamento(A, b)\n",
    "    return uppTriLinSys(esc[0], esc[1])"
   ]
  },
  {
   "cell_type": "markdown",
   "id": "vertical-makeup",
   "metadata": {},
   "source": [
    "(a)  \n",
    "x1 + x2 + x3 = 1  \n",
    "4x1 + 4x2 + 2x3 = 2  \n",
    "2x1 + x2 − x3 = 0"
   ]
  },
  {
   "cell_type": "code",
   "execution_count": 3,
   "id": "instrumental-genre",
   "metadata": {},
   "outputs": [
    {
     "name": "stdout",
     "output_type": "stream",
     "text": [
      "[ 1. -1.  1.] \n",
      " [ 1. -1.  1.] \n",
      " [ True  True  True]\n"
     ]
    }
   ],
   "source": [
    "A = np.array([[1,1,1], [4,4,2], [2,1,-1]])\n",
    "b = np.array([1,2,0])\n",
    "print(gausEliParPiv(A, b), '\\n', sla.solve(A, b), '\\n', gausEliParPiv(A, b) == sla.solve(A, b))"
   ]
  },
  {
   "cell_type": "markdown",
   "id": "looking-transmission",
   "metadata": {},
   "source": [
    "(b)  \n",
    "7x1 − 7x2 + x3 = 1  \n",
    "−3x1 + 3x2 + 2x3 = 2  \n",
    "7x1 + 7x2 − 72x3 = 7"
   ]
  },
  {
   "cell_type": "code",
   "execution_count": 4,
   "id": "exposed-nylon",
   "metadata": {},
   "outputs": [
    {
     "name": "stdout",
     "output_type": "stream",
     "text": [
      "[-0.30952381  0.41511387 -0.08695652] \n",
      " [-0.30952381  0.41511387 -0.08695652] \n",
      " [ True  True  True]\n"
     ]
    }
   ],
   "source": [
    "A = np.array([[7,7,-3], [-3,3,2], [7,7,-72]])\n",
    "b = np.array([1,2,7])\n",
    "print(gausEliParPiv(A, b), '\\n', sla.solve(A, b), '\\n', gausEliParPiv(A, b) == sla.solve(A, b))"
   ]
  },
  {
   "cell_type": "markdown",
   "id": "arbitrary-nature",
   "metadata": {},
   "source": [
    "(c)  \n",
    "x1 + 2x2 + 3x3 + 4x4 = 20  \n",
    "2x1 + 2x2 + 3x3 + 4x4 = 22  \n",
    "3x1 + 3x2 + 3x3 + 4x4 = 22  \n",
    "4x1 + 4x2 + 4x3 + 4x4 = 24"
   ]
  },
  {
   "cell_type": "code",
   "execution_count": 5,
   "id": "crude-submission",
   "metadata": {},
   "outputs": [
    {
     "name": "stdout",
     "output_type": "stream",
     "text": [
      "[ 2. -2.  2.  4.] \n",
      " [ 2. -2.  2.  4.] \n",
      " [ True  True  True  True]\n"
     ]
    }
   ],
   "source": [
    "A = np.array([[1,2,3,4], [2,2,3,4], [3,3,3,4], [4,4,4,4]])\n",
    "b = np.array([20, 22, 22, 24])\n",
    "print(gausEliParPiv(A, b), '\\n', sla.solve(A, b), '\\n', gausEliParPiv(A, b) == sla.solve(A, b))"
   ]
  }
 ],
 "metadata": {
  "kernelspec": {
   "display_name": "Python 3",
   "language": "python",
   "name": "python3"
  },
  "language_info": {
   "codemirror_mode": {
    "name": "ipython",
    "version": 3
   },
   "file_extension": ".py",
   "mimetype": "text/x-python",
   "name": "python",
   "nbconvert_exporter": "python",
   "pygments_lexer": "ipython3",
   "version": "3.8.5"
  }
 },
 "nbformat": 4,
 "nbformat_minor": 5
}
