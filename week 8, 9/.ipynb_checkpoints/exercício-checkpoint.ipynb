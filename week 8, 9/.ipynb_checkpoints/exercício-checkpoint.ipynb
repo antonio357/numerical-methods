{
 "cells": [
  {
   "cell_type": "code",
   "execution_count": 1,
   "id": "proud-accreditation",
   "metadata": {},
   "outputs": [
    {
     "ename": "SyntaxError",
     "evalue": "invalid syntax (<ipython-input-1-8a15632c3360>, line 3)",
     "output_type": "error",
     "traceback": [
      "\u001b[0;36m  File \u001b[0;32m\"<ipython-input-1-8a15632c3360>\"\u001b[0;36m, line \u001b[0;32m3\u001b[0m\n\u001b[0;31m    printMat(A):\u001b[0m\n\u001b[0m                ^\u001b[0m\n\u001b[0;31mSyntaxError\u001b[0m\u001b[0;31m:\u001b[0m invalid syntax\n"
     ]
    }
   ],
   "source": [
    "import numpy as np\n",
    "import scipy.linalg as sla\n",
    "\n",
    "def printMat(A):\n",
    "    for i in A:\n",
    "        print(i)\n",
    "    return"
   ]
  },
  {
   "cell_type": "code",
   "execution_count": null,
   "id": "cardiovascular-subscription",
   "metadata": {},
   "outputs": [],
   "source": [
    "# método trivial para matriz triangular superior\n",
    "def uppTriLinSys(A, b):    \n",
    "    n = len(b)\n",
    "    x = np.empty(n)\n",
    "    \n",
    "    x[n - 1] = b[n - 1] / A[n - 1, n - 1]\n",
    "    for i in range(n - 2, -1, -1):\n",
    "        x[i] = ( b[i] - np.sum( A[i, i + 1:] * x[i + 1:] ) ) / A[i, i]\n",
    "            \n",
    "    return x\n",
    "\n",
    "def escalonamento(A, b):\n",
    "    n = len(A)\n",
    "    Ab = np.c_[A, b] # matriz extendida\n",
    "    \n",
    "    # escalonamento\n",
    "    for c in range(n-1):\n",
    "        # pivotamento parcial\n",
    "        row_i_for_permutation = np.abs(Ab[c:, c]).argmax() + c\n",
    "        Ab[[c, row_i_for_permutation]] = Ab[[row_i_for_permutation, c]] # swap(c, row_i_for_permutation)\n",
    "        # pivotamento parcial\n",
    "        for l in range(c+1, n):\n",
    "            Ab[l] = Ab[l] - (Ab[l, c] / Ab[c, c]) * Ab[c]\n",
    "    # escalonamento\n",
    "    return Ab[:, :-1], Ab[:, -1]\n",
    "\n",
    "# eliminação gaussiana com pivotamento parcial\n",
    "def gausEliParPiv(A, b):\n",
    "    esc = escalonamento(A, b)\n",
    "    return uppTriLinSys(esc[0], esc[1])"
   ]
  },
  {
   "cell_type": "markdown",
   "id": "innovative-horizon",
   "metadata": {},
   "source": [
    "(a)  \n",
    "x1 + x2 + x3 = 1  \n",
    "4x1 + 4x2 + 2x3 = 2  \n",
    "2x1 + x2 − x3 = 0"
   ]
  },
  {
   "cell_type": "code",
   "execution_count": null,
   "id": "cellular-morrison",
   "metadata": {},
   "outputs": [],
   "source": [
    "A = [[1,1,1], [4,4,2], [2,1,-1]]\n",
    "b = [1,2,0]\n",
    "xo = sla.solve(A, b)\n",
    "print(\"antes do escalonamento\")\n",
    "printM\n",
    "A, b = escalonamento(A, b)\n",
    "print(\"após escalonamento \\n\", A, b)\n",
    "xe = sla.solve(A, b)\n",
    "#print(xo == xe)\n",
    "#print(gausEliParPiv(A, b), '\\n', sla.solve(A, b), '\\n', gausEliParPiv(A, b) == sla.solve(A, b))"
   ]
  },
  {
   "cell_type": "markdown",
   "id": "essential-compatibility",
   "metadata": {},
   "source": [
    "(b)  \n",
    "7x1 − 7x2 + x3 = 1  \n",
    "−3x1 + 3x2 + 2x3 = 2  \n",
    "7x1 + 7x2 − 72x3 = 7"
   ]
  },
  {
   "cell_type": "code",
   "execution_count": null,
   "id": "regulation-third",
   "metadata": {},
   "outputs": [],
   "source": [
    "A = [[7,7,-3], [-3,3,2], [7,7,-72]]\n",
    "b = [1,2,7]\n",
    "xo = sla.solve(A, b)\n",
    "A, b = escalonamento(A, b)\n",
    "xe = sla.solve(A, b)\n",
    "print(A, b)\n",
    "print(xo == xe)\n",
    "print(xe)\n",
    "#print(gausEliParPiv(A, b), '\\n', sla.solve(A, b), '\\n', gausEliParPiv(A, b) == sla.solve(A, b))"
   ]
  },
  {
   "cell_type": "code",
   "execution_count": null,
   "id": "turned-alabama",
   "metadata": {},
   "outputs": [],
   "source": [
    "A = [[7,7,-3], [-3,3,2], [7,7,-72]]\n",
    "b = [1,2,7]\n",
    "for i in range(len(b)):\n",
    "    print(sum(A[i] * xe) == b[i])"
   ]
  },
  {
   "cell_type": "markdown",
   "id": "preceding-athens",
   "metadata": {},
   "source": [
    "(c)  \n",
    "x1 + 2x2 + 3x3 + 4x4 = 20  \n",
    "2x1 + 2x2 + 3x3 + 4x4 = 22  \n",
    "3x1 + 3x2 + 3x3 + 4x4 = 22  \n",
    "4x1 + 4x2 + 4x3 + 4x4 = 24"
   ]
  },
  {
   "cell_type": "code",
   "execution_count": null,
   "id": "polar-forwarding",
   "metadata": {},
   "outputs": [],
   "source": [
    "A = [[1,2,3,4], [2,2,3,4], [3,3,3,4], [4,4,4,4]]\n",
    "b = [20, 22, 22, 24]\n",
    "xo = sla.solve(A, b)\n",
    "A, b = escalonamento(A, b)\n",
    "xe = sla.solve(A, b)\n",
    "print(xo == xe)\n",
    "print(xe)\n",
    "#print(gausEliParPiv(A, b), '\\n', sla.solve(A, b), '\\n', gausEliParPiv(A, b) == sla.solve(A, b))"
   ]
  },
  {
   "cell_type": "code",
   "execution_count": null,
   "id": "connected-foster",
   "metadata": {},
   "outputs": [],
   "source": [
    "A = [[1,2,3,4], [2,2,3,4], [3,3,3,4], [4,4,4,4]]\n",
    "b = [20, 22, 22, 24]\n",
    "for i in range(len(b)):\n",
    "    print(sum(A[i] * xe) == b[i])"
   ]
  }
 ],
 "metadata": {
  "kernelspec": {
   "display_name": "Python 3",
   "language": "python",
   "name": "python3"
  },
  "language_info": {
   "codemirror_mode": {
    "name": "ipython",
    "version": 3
   },
   "file_extension": ".py",
   "mimetype": "text/x-python",
   "name": "python",
   "nbconvert_exporter": "python",
   "pygments_lexer": "ipython3",
   "version": "3.8.5"
  }
 },
 "nbformat": 4,
 "nbformat_minor": 5
}
