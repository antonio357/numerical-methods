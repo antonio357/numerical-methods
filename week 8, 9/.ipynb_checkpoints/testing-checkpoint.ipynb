{
 "cells": [
  {
   "cell_type": "code",
   "execution_count": 1,
   "id": "knowing-appraisal",
   "metadata": {},
   "outputs": [],
   "source": [
    "import numpy as np\n",
    "import scipy.linalg as sla"
   ]
  },
  {
   "cell_type": "code",
   "execution_count": 2,
   "id": "democratic-truck",
   "metadata": {},
   "outputs": [
    {
     "data": {
      "text/plain": [
       "array([[ 1,  1,  1],\n",
       "       [ 4,  4,  2],\n",
       "       [ 2,  1, -1]])"
      ]
     },
     "execution_count": 2,
     "metadata": {},
     "output_type": "execute_result"
    }
   ],
   "source": [
    "A = np.array([[1,1,1], [4,4,2], [2,1,-1]])\n",
    "A"
   ]
  },
  {
   "cell_type": "code",
   "execution_count": 3,
   "id": "stupid-strap",
   "metadata": {},
   "outputs": [
    {
     "data": {
      "text/plain": [
       "array([1, 2, 0])"
      ]
     },
     "execution_count": 3,
     "metadata": {},
     "output_type": "execute_result"
    }
   ],
   "source": [
    "b = np.array([1,2,0])\n",
    "b"
   ]
  },
  {
   "cell_type": "code",
   "execution_count": 4,
   "id": "confident-insured",
   "metadata": {},
   "outputs": [
    {
     "data": {
      "text/plain": [
       "array([[ 1,  1,  1,  1],\n",
       "       [ 4,  4,  2,  2],\n",
       "       [ 2,  1, -1,  0]])"
      ]
     },
     "execution_count": 4,
     "metadata": {},
     "output_type": "execute_result"
    }
   ],
   "source": [
    "Ab = np.c_[A, b]\n",
    "Ab"
   ]
  },
  {
   "cell_type": "code",
   "execution_count": 5,
   "id": "sitting-southeast",
   "metadata": {},
   "outputs": [
    {
     "name": "stdout",
     "output_type": "stream",
     "text": [
      "\n",
      " [[ 1  1  1  1]\n",
      " [ 4  4  2  2]\n",
      " [ 2  1 -1  0]]\n",
      "\n",
      " [[ 4  4  2  2]\n",
      " [ 1  1  1  1]\n",
      " [ 2  1 -1  0]]\n",
      "\n",
      " [[ 4  4  2  2]\n",
      " [ 0  0  0  0]\n",
      " [ 2  1 -1  0]]\n"
     ]
    }
   ],
   "source": [
    "c = 0\n",
    "l = c + 1\n",
    "print('\\n', Ab)\n",
    "row_i_for_permutation = np.abs(Ab[c:, c]).argmax() + c\n",
    "if Ab[row_i_for_permutation, c] > Ab[c, c]\n",
    "    Ab[[c, row_i_for_permutation]] = Ab[[row_i_for_permutation, c]]\n",
    "print('\\n', Ab)\n",
    "Ab[l] = Ab[l] - (Ab[l, c] / Ab[c, c]) * Ab[c]\n",
    "print('\\n', Ab)"
   ]
  },
  {
   "cell_type": "code",
   "execution_count": null,
   "id": "neutral-cameroon",
   "metadata": {},
   "outputs": [],
   "source": []
  }
 ],
 "metadata": {
  "kernelspec": {
   "display_name": "Python 3",
   "language": "python",
   "name": "python3"
  },
  "language_info": {
   "codemirror_mode": {
    "name": "ipython",
    "version": 3
   },
   "file_extension": ".py",
   "mimetype": "text/x-python",
   "name": "python",
   "nbconvert_exporter": "python",
   "pygments_lexer": "ipython3",
   "version": "3.8.5"
  }
 },
 "nbformat": 4,
 "nbformat_minor": 5
}
