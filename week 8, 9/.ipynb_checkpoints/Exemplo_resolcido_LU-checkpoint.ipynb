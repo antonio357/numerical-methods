{
 "cells": [
  {
   "cell_type": "code",
   "execution_count": 1,
   "id": "completed-alfred",
   "metadata": {},
   "outputs": [],
   "source": [
    "import numpy as np\n",
    "import scipy.linalg as sla"
   ]
  },
  {
   "cell_type": "code",
   "execution_count": 2,
   "id": "current-apache",
   "metadata": {},
   "outputs": [
    {
     "data": {
      "text/plain": [
       "array([[ 1,  1,  1],\n",
       "       [ 4,  4,  2],\n",
       "       [ 2,  2, -1]])"
      ]
     },
     "execution_count": 2,
     "metadata": {},
     "output_type": "execute_result"
    }
   ],
   "source": [
    "#A = np.array([[1,1,1], [4,4,2], [2,2,-1]])\n",
    "A = np.array([[1,1,0], [2,1,-1], [3,-1,-1]])\n",
    "A"
   ]
  },
  {
   "cell_type": "code",
   "execution_count": 3,
   "id": "played-beauty",
   "metadata": {},
   "outputs": [
    {
     "data": {
      "text/plain": [
       "(array([[0., 1., 0.],\n",
       "        [1., 0., 0.],\n",
       "        [0., 0., 1.]]),\n",
       " array([[1.  , 0.  , 0.  ],\n",
       "        [0.25, 1.  , 0.  ],\n",
       "        [0.5 , 0.  , 1.  ]]),\n",
       " array([[ 4. ,  4. ,  2. ],\n",
       "        [ 0. ,  0. ,  0.5],\n",
       "        [ 0. ,  0. , -2. ]]))"
      ]
     },
     "execution_count": 3,
     "metadata": {},
     "output_type": "execute_result"
    }
   ],
   "source": [
    "sla.lu(A)"
   ]
  },
  {
   "cell_type": "code",
   "execution_count": 4,
   "id": "thrown-surgeon",
   "metadata": {},
   "outputs": [
    {
     "data": {
      "text/plain": [
       "(array([[1., 0., 0.],\n",
       "        [0., 1., 0.],\n",
       "        [0., 0., 1.]]),\n",
       " array([[1., 0., 0.],\n",
       "        [0., 1., 0.],\n",
       "        [0., 0., 1.]]),\n",
       " array([[ 1.,  1.,  1.],\n",
       "        [ 4.,  4.,  2.],\n",
       "        [ 2.,  2., -1.]], dtype=float128))"
      ]
     },
     "execution_count": 4,
     "metadata": {},
     "output_type": "execute_result"
    }
   ],
   "source": [
    "U = np.array(A, dtype=np.float128) \n",
    "n = U.shape[0]\n",
    "L = np.identity(n)\n",
    "P = np.identity(n)\n",
    "P,L,U"
   ]
  },
  {
   "cell_type": "code",
   "execution_count": 5,
   "id": "personalized-private",
   "metadata": {},
   "outputs": [
    {
     "data": {
      "text/plain": [
       "(array([[0., 1., 0.],\n",
       "        [1., 0., 0.],\n",
       "        [0., 0., 1.]]),\n",
       " array([[1., 0., 0.],\n",
       "        [0., 1., 0.],\n",
       "        [0., 0., 1.]]),\n",
       " array([[ 4.,  4.,  2.],\n",
       "        [ 1.,  1.,  1.],\n",
       "        [ 2.,  2., -1.]], dtype=float128))"
      ]
     },
     "execution_count": 5,
     "metadata": {},
     "output_type": "execute_result"
    }
   ],
   "source": [
    "c = 0\n",
    "row_i_for_permutation = np.abs(U[c:, c]).argmax() + c\n",
    "if np.abs(U[row_i_for_permutation, c]) > np.abs(U[c, c]):\n",
    "    U[[c, row_i_for_permutation]] = U[[row_i_for_permutation, c]] # swap(c, row_i_for_permutation)\n",
    "    P[[c, row_i_for_permutation]] = P[[row_i_for_permutation, c]] # aqui a matriz de Pivotamento altera\n",
    "\n",
    "P,L,U"
   ]
  },
  {
   "cell_type": "code",
   "execution_count": 6,
   "id": "previous-morrison",
   "metadata": {},
   "outputs": [
    {
     "name": "stdout",
     "output_type": "stream",
     "text": [
      "U[l] - (U[l, c] / U[c, c]) * U[c]\n",
      "U[1] - (U[1, 0] / U[0, 0]) * U[0]\n",
      "[1. 1. 1.] - (1.0 / 4.0) * [4. 4. 2.]\n",
      "[1. 1. 1.] - 0.25 * [4. 4. 2.]\n",
      "[1. 1. 1.] - [1.  1.  0.5]\n",
      "[0.  0.  0.5]\n"
     ]
    },
    {
     "data": {
      "text/plain": [
       "(array([[0., 1., 0.],\n",
       "        [1., 0., 0.],\n",
       "        [0., 0., 1.]]),\n",
       " array([[1.  , 0.  , 0.  ],\n",
       "        [0.25, 1.  , 0.  ],\n",
       "        [0.  , 0.  , 1.  ]]),\n",
       " array([[ 4. ,  4. ,  2. ],\n",
       "        [ 0. ,  0. ,  0.5],\n",
       "        [ 2. ,  2. , -1. ]], dtype=float128))"
      ]
     },
     "execution_count": 6,
     "metadata": {},
     "output_type": "execute_result"
    }
   ],
   "source": [
    "l = 1\n",
    "line,div,col = U[l],U[l,c]/U[c,c],U[c]\n",
    "print(\"U[l] - (U[l, c] / U[c, c]) * U[c]\")\n",
    "print(\"U[{}] - (U[{}, {}] / U[{}, {}]) * U[{}]\".format(l,l,c,c,c,c))\n",
    "print(\"{} - ({} / {}) * {}\".format(line, U[l, c], U[c, c], col))\n",
    "print(\"{} - {} * {}\".format(line, div, col))\n",
    "print(\"{} - {}\".format(line, div * col))\n",
    "print(\"{}\".format(line - div * col))\n",
    "L[l, c] = (U[l, c] / U[c, c]) # (1)\n",
    "U[l] = U[l] - U[l, c] * U[c] / U[c, c]\n",
    "\n",
    "P,L,U"
   ]
  },
  {
   "cell_type": "code",
   "execution_count": 7,
   "id": "excess-decade",
   "metadata": {},
   "outputs": [
    {
     "name": "stdout",
     "output_type": "stream",
     "text": [
      "U[l] - (U[l, c] / U[c, c]) * U[c]\n",
      "U[2] - (U[2, 0] / U[0, 0]) * U[0]\n",
      "[ 2.  2. -1.] - (2.0 / 4.0) * [4. 4. 2.]\n",
      "[ 2.  2. -1.] - 0.5 * [4. 4. 2.]\n",
      "[ 2.  2. -1.] - [2. 2. 1.]\n",
      "[ 0.  0. -2.]\n"
     ]
    },
    {
     "data": {
      "text/plain": [
       "(array([[0., 1., 0.],\n",
       "        [1., 0., 0.],\n",
       "        [0., 0., 1.]]),\n",
       " array([[1.  , 0.  , 0.  ],\n",
       "        [0.25, 1.  , 0.  ],\n",
       "        [0.5 , 0.  , 1.  ]]),\n",
       " array([[ 4. ,  4. ,  2. ],\n",
       "        [ 0. ,  0. ,  0.5],\n",
       "        [ 0. ,  0. , -2. ]], dtype=float128))"
      ]
     },
     "execution_count": 7,
     "metadata": {},
     "output_type": "execute_result"
    }
   ],
   "source": [
    "l = 2\n",
    "line,div,col = U[l],U[l,c]/U[c,c],U[c]\n",
    "print(\"U[l] - (U[l, c] / U[c, c]) * U[c]\")\n",
    "print(\"U[{}] - (U[{}, {}] / U[{}, {}]) * U[{}]\".format(l,l,c,c,c,c))\n",
    "print(\"{} - ({} / {}) * {}\".format(line, U[l, c], U[c, c], col))\n",
    "print(\"{} - {} * {}\".format(line, div, col))\n",
    "print(\"{} - {}\".format(line, div * col))\n",
    "print(\"{}\".format(line - div * col))\n",
    "L[l, c] = (U[l, c] / U[c, c]) # (1)\n",
    "U[l] = U[l] - U[l, c] * U[c] / U[c, c]\n",
    "\n",
    "P,L,U"
   ]
  },
  {
   "cell_type": "code",
   "execution_count": 8,
   "id": "conventional-calvin",
   "metadata": {},
   "outputs": [
    {
     "data": {
      "text/plain": [
       "(array([[0., 1., 0.],\n",
       "        [1., 0., 0.],\n",
       "        [0., 0., 1.]]),\n",
       " array([[1.  , 0.  , 0.  ],\n",
       "        [0.25, 1.  , 0.  ],\n",
       "        [0.5 , 0.  , 1.  ]]),\n",
       " array([[ 4. ,  4. ,  2. ],\n",
       "        [ 0. ,  0. ,  0.5],\n",
       "        [ 0. ,  0. , -2. ]], dtype=float128))"
      ]
     },
     "execution_count": 8,
     "metadata": {},
     "output_type": "execute_result"
    }
   ],
   "source": [
    "c = 1\n",
    "row_i_for_permutation = np.abs(U[c:, c]).argmax() + c\n",
    "if np.abs(U[row_i_for_permutation, c]) > np.abs(U[c, c]):\n",
    "    U[[c, row_i_for_permutation]] = U[[row_i_for_permutation, c]] # swap(c, row_i_for_permutation)\n",
    "    P[[c, row_i_for_permutation]] = P[[row_i_for_permutation, c]] # aqui a matriz de Pivotamento altera\n",
    "\n",
    "P,L,U"
   ]
  },
  {
   "cell_type": "code",
   "execution_count": 9,
   "id": "scheduled-daisy",
   "metadata": {},
   "outputs": [
    {
     "name": "stdout",
     "output_type": "stream",
     "text": [
      "U[l] - (U[l, c] / U[c, c]) * U[c]\n",
      "U[2] - (U[2, 1] / U[1, 1]) * U[1]\n",
      "[ 0.  0. -2.] - (0.0 / 0.0) * [0.  0.  0.5]\n",
      "[ 0.  0. -2.] - nan * [0.  0.  0.5]\n",
      "[ 0.  0. -2.] - [nan nan nan]\n",
      "[nan nan nan]\n"
     ]
    },
    {
     "name": "stderr",
     "output_type": "stream",
     "text": [
      "<ipython-input-9-405d4d73c6b6>:2: RuntimeWarning: invalid value encountered in longdouble_scalars\n",
      "  line,div,col = U[l],U[l,c]/U[c,c],U[c]\n",
      "<ipython-input-9-405d4d73c6b6>:9: RuntimeWarning: invalid value encountered in longdouble_scalars\n",
      "  L[l, c] = (U[l, c] / U[c, c]) # (1)\n",
      "<ipython-input-9-405d4d73c6b6>:10: RuntimeWarning: invalid value encountered in true_divide\n",
      "  U[l] = U[l] - U[l, c] * U[c] / U[c, c]\n"
     ]
    },
    {
     "data": {
      "text/plain": [
       "(array([[0., 1., 0.],\n",
       "        [1., 0., 0.],\n",
       "        [0., 0., 1.]]),\n",
       " array([[1.  , 0.  , 0.  ],\n",
       "        [0.25, 1.  , 0.  ],\n",
       "        [0.5 ,  nan, 1.  ]]),\n",
       " array([[4. , 4. , 2. ],\n",
       "        [0. , 0. , 0.5],\n",
       "        [nan, nan, nan]], dtype=float128))"
      ]
     },
     "execution_count": 9,
     "metadata": {},
     "output_type": "execute_result"
    }
   ],
   "source": [
    "l = 2\n",
    "line,div,col = U[l],U[l,c]/U[c,c],U[c]\n",
    "print(\"U[l] - (U[l, c] / U[c, c]) * U[c]\")\n",
    "print(\"U[{}] - (U[{}, {}] / U[{}, {}]) * U[{}]\".format(l,l,c,c,c,c))\n",
    "print(\"{} - ({} / {}) * {}\".format(line, U[l, c], U[c, c], col))\n",
    "print(\"{} - {} * {}\".format(line, div, col))\n",
    "print(\"{} - {}\".format(line, div * col))\n",
    "print(\"{}\".format(line - div * col))\n",
    "L[l, c] = (U[l, c] / U[c, c]) # (1)\n",
    "U[l] = U[l] - U[l, c] * U[c] / U[c, c]\n",
    "\n",
    "P,L,U"
   ]
  }
 ],
 "metadata": {
  "kernelspec": {
   "display_name": "Python 3",
   "language": "python",
   "name": "python3"
  },
  "language_info": {
   "codemirror_mode": {
    "name": "ipython",
    "version": 3
   },
   "file_extension": ".py",
   "mimetype": "text/x-python",
   "name": "python",
   "nbconvert_exporter": "python",
   "pygments_lexer": "ipython3",
   "version": "3.8.5"
  }
 },
 "nbformat": 4,
 "nbformat_minor": 5
}
