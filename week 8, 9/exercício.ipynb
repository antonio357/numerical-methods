{
 "cells": [
  {
   "cell_type": "code",
   "execution_count": 1,
   "id": "eight-fantasy",
   "metadata": {},
   "outputs": [],
   "source": [
    "import numpy as np\n",
    "import scipy.linalg as sla\n",
    "\n",
    "def printMat(A):\n",
    "    for i in A:\n",
    "        print(i)\n",
    "    return"
   ]
  },
  {
   "cell_type": "code",
   "execution_count": 2,
   "id": "miniature-thermal",
   "metadata": {},
   "outputs": [],
   "source": [
    "# método trivial para matriz triangular superior\n",
    "def uppTriLinSys(A, b):    \n",
    "    n = len(b)\n",
    "    x = np.empty(n)\n",
    "    \n",
    "    x[n - 1] = b[n - 1] / A[n - 1, n - 1]\n",
    "    for i in range(n - 2, -1, -1):\n",
    "        x[i] = ( b[i] - np.sum( A[i, i + 1:] * x[i + 1:] ) ) / A[i, i]\n",
    "            \n",
    "    return x\n",
    "\n",
    "def escalonamento(A, b):\n",
    "    n = len(A)\n",
    "    Ab = np.c_[A, b] # matriz extendida\n",
    "    \n",
    "    # escalonamento\n",
    "    for c in range(n-1):\n",
    "        # pivotamento parcial\n",
    "        row_i_for_permutation = np.abs(Ab[c:, c]).argmax() + c\n",
    "        Ab[[c, row_i_for_permutation]] = Ab[[row_i_for_permutation, c]] # swap(c, row_i_for_permutation)\n",
    "        # pivotamento parcial\n",
    "        for l in range(c+1, n):\n",
    "            Ab[l] = Ab[l] - (Ab[l, c] / Ab[c, c]) * Ab[c]\n",
    "    # escalonamento\n",
    "    return Ab[:, :-1], Ab[:, -1]\n",
    "\n",
    "# eliminação gaussiana com pivotamento parcial\n",
    "def gausEliParPiv(A, b):\n",
    "    esc = escalonamento(A, b)\n",
    "    return uppTriLinSys(esc[0], esc[1])"
   ]
  },
  {
   "cell_type": "markdown",
   "id": "defined-option",
   "metadata": {},
   "source": [
    "(a)  \n",
    "x1 + x2 + x3 = 1  \n",
    "4x1 + 4x2 + 2x3 = 2  \n",
    "2x1 + x2 − x3 = 0"
   ]
  },
  {
   "cell_type": "code",
   "execution_count": 4,
   "id": "obvious-contribution",
   "metadata": {},
   "outputs": [
    {
     "name": "stdout",
     "output_type": "stream",
     "text": [
      "antes do escalonamento\n",
      "A\n",
      "[1, 1, 1]\n",
      "[4, 4, 2]\n",
      "[2, 1, -1]\n",
      "b\n",
      "1\n",
      "2\n",
      "0\n",
      "após escalonamento \n",
      " [[ 4  4  2]\n",
      " [ 0 -1 -2]\n",
      " [ 0  0  0]] [ 2 -1  0]\n"
     ]
    },
    {
     "ename": "LinAlgError",
     "evalue": "Matrix is singular.",
     "output_type": "error",
     "traceback": [
      "\u001b[0;31m---------------------------------------------------------------------------\u001b[0m",
      "\u001b[0;31mLinAlgError\u001b[0m                               Traceback (most recent call last)",
      "\u001b[0;32m<ipython-input-4-2f78e0a84380>\u001b[0m in \u001b[0;36m<module>\u001b[0;34m\u001b[0m\n\u001b[1;32m      9\u001b[0m \u001b[0mA\u001b[0m\u001b[0;34m,\u001b[0m \u001b[0mb\u001b[0m \u001b[0;34m=\u001b[0m \u001b[0mescalonamento\u001b[0m\u001b[0;34m(\u001b[0m\u001b[0mA\u001b[0m\u001b[0;34m,\u001b[0m \u001b[0mb\u001b[0m\u001b[0;34m)\u001b[0m\u001b[0;34m\u001b[0m\u001b[0;34m\u001b[0m\u001b[0m\n\u001b[1;32m     10\u001b[0m \u001b[0mprint\u001b[0m\u001b[0;34m(\u001b[0m\u001b[0;34m\"após escalonamento \\n\"\u001b[0m\u001b[0;34m,\u001b[0m \u001b[0mA\u001b[0m\u001b[0;34m,\u001b[0m \u001b[0mb\u001b[0m\u001b[0;34m)\u001b[0m\u001b[0;34m\u001b[0m\u001b[0;34m\u001b[0m\u001b[0m\n\u001b[0;32m---> 11\u001b[0;31m \u001b[0mxe\u001b[0m \u001b[0;34m=\u001b[0m \u001b[0msla\u001b[0m\u001b[0;34m.\u001b[0m\u001b[0msolve\u001b[0m\u001b[0;34m(\u001b[0m\u001b[0mA\u001b[0m\u001b[0;34m,\u001b[0m \u001b[0mb\u001b[0m\u001b[0;34m)\u001b[0m\u001b[0;34m\u001b[0m\u001b[0;34m\u001b[0m\u001b[0m\n\u001b[0m\u001b[1;32m     12\u001b[0m \u001b[0;31m#print(xo == xe)\u001b[0m\u001b[0;34m\u001b[0m\u001b[0;34m\u001b[0m\u001b[0;34m\u001b[0m\u001b[0m\n\u001b[1;32m     13\u001b[0m \u001b[0;31m#print(gausEliParPiv(A, b), '\\n', sla.solve(A, b), '\\n', gausEliParPiv(A, b) == sla.solve(A, b))\u001b[0m\u001b[0;34m\u001b[0m\u001b[0;34m\u001b[0m\u001b[0;34m\u001b[0m\u001b[0m\n",
      "\u001b[0;32m~/.local/lib/python3.8/site-packages/scipy/linalg/basic.py\u001b[0m in \u001b[0;36msolve\u001b[0;34m(a, b, sym_pos, lower, overwrite_a, overwrite_b, debug, check_finite, assume_a, transposed)\u001b[0m\n\u001b[1;32m    212\u001b[0m                                                (a1, b1))\n\u001b[1;32m    213\u001b[0m         \u001b[0mlu\u001b[0m\u001b[0;34m,\u001b[0m \u001b[0mipvt\u001b[0m\u001b[0;34m,\u001b[0m \u001b[0minfo\u001b[0m \u001b[0;34m=\u001b[0m \u001b[0mgetrf\u001b[0m\u001b[0;34m(\u001b[0m\u001b[0ma1\u001b[0m\u001b[0;34m,\u001b[0m \u001b[0moverwrite_a\u001b[0m\u001b[0;34m=\u001b[0m\u001b[0moverwrite_a\u001b[0m\u001b[0;34m)\u001b[0m\u001b[0;34m\u001b[0m\u001b[0;34m\u001b[0m\u001b[0m\n\u001b[0;32m--> 214\u001b[0;31m         \u001b[0m_solve_check\u001b[0m\u001b[0;34m(\u001b[0m\u001b[0mn\u001b[0m\u001b[0;34m,\u001b[0m \u001b[0minfo\u001b[0m\u001b[0;34m)\u001b[0m\u001b[0;34m\u001b[0m\u001b[0;34m\u001b[0m\u001b[0m\n\u001b[0m\u001b[1;32m    215\u001b[0m         x, info = getrs(lu, ipvt, b1,\n\u001b[1;32m    216\u001b[0m                         trans=trans, overwrite_b=overwrite_b)\n",
      "\u001b[0;32m~/.local/lib/python3.8/site-packages/scipy/linalg/basic.py\u001b[0m in \u001b[0;36m_solve_check\u001b[0;34m(n, info, lamch, rcond)\u001b[0m\n\u001b[1;32m     27\u001b[0m                          '.'.format(-info))\n\u001b[1;32m     28\u001b[0m     \u001b[0;32melif\u001b[0m \u001b[0;36m0\u001b[0m \u001b[0;34m<\u001b[0m \u001b[0minfo\u001b[0m\u001b[0;34m:\u001b[0m\u001b[0;34m\u001b[0m\u001b[0;34m\u001b[0m\u001b[0m\n\u001b[0;32m---> 29\u001b[0;31m         \u001b[0;32mraise\u001b[0m \u001b[0mLinAlgError\u001b[0m\u001b[0;34m(\u001b[0m\u001b[0;34m'Matrix is singular.'\u001b[0m\u001b[0;34m)\u001b[0m\u001b[0;34m\u001b[0m\u001b[0;34m\u001b[0m\u001b[0m\n\u001b[0m\u001b[1;32m     30\u001b[0m \u001b[0;34m\u001b[0m\u001b[0m\n\u001b[1;32m     31\u001b[0m     \u001b[0;32mif\u001b[0m \u001b[0mlamch\u001b[0m \u001b[0;32mis\u001b[0m \u001b[0;32mNone\u001b[0m\u001b[0;34m:\u001b[0m\u001b[0;34m\u001b[0m\u001b[0;34m\u001b[0m\u001b[0m\n",
      "\u001b[0;31mLinAlgError\u001b[0m: Matrix is singular."
     ]
    }
   ],
   "source": [
    "A = [[1,1,1], [4,4,2], [2,1,-1]]\n",
    "b = [1,2,0]\n",
    "print(gausEliParPiv(A, b), '\\n', sla.solve(A, b), '\\n', gausEliParPiv(A, b) == sla.solve(A, b))"
   ]
  },
  {
   "cell_type": "markdown",
   "id": "hungry-substitute",
   "metadata": {},
   "source": [
    "(b)  \n",
    "7x1 − 7x2 + x3 = 1  \n",
    "−3x1 + 3x2 + 2x3 = 2  \n",
    "7x1 + 7x2 − 72x3 = 7"
   ]
  },
  {
   "cell_type": "code",
   "execution_count": null,
   "id": "auburn-nutrition",
   "metadata": {},
   "outputs": [],
   "source": [
    "A = [[7,7,-3], [-3,3,2], [7,7,-72]]\n",
    "b = [1,2,7]\n",
    "xo = sla.solve(A, b)\n",
    "A, b = escalonamento(A, b)\n",
    "xe = sla.solve(A, b)\n",
    "print(A, b)\n",
    "print(xo == xe)\n",
    "print(xe)\n",
    "#print(gausEliParPiv(A, b), '\\n', sla.solve(A, b), '\\n', gausEliParPiv(A, b) == sla.solve(A, b))"
   ]
  },
  {
   "cell_type": "code",
   "execution_count": null,
   "id": "brutal-count",
   "metadata": {},
   "outputs": [],
   "source": [
    "A = [[7,7,-3], [-3,3,2], [7,7,-72]]\n",
    "b = [1,2,7]\n",
    "for i in range(len(b)):\n",
    "    print(sum(A[i] * xe) == b[i])"
   ]
  },
  {
   "cell_type": "markdown",
   "id": "official-blend",
   "metadata": {},
   "source": [
    "(c)  \n",
    "x1 + 2x2 + 3x3 + 4x4 = 20  \n",
    "2x1 + 2x2 + 3x3 + 4x4 = 22  \n",
    "3x1 + 3x2 + 3x3 + 4x4 = 22  \n",
    "4x1 + 4x2 + 4x3 + 4x4 = 24"
   ]
  },
  {
   "cell_type": "code",
   "execution_count": null,
   "id": "superb-marsh",
   "metadata": {},
   "outputs": [],
   "source": [
    "A = [[1,2,3,4], [2,2,3,4], [3,3,3,4], [4,4,4,4]]\n",
    "b = [20, 22, 22, 24]\n",
    "xo = sla.solve(A, b)\n",
    "A, b = escalonamento(A, b)\n",
    "xe = sla.solve(A, b)\n",
    "print(xo == xe)\n",
    "print(xe)\n",
    "#print(gausEliParPiv(A, b), '\\n', sla.solve(A, b), '\\n', gausEliParPiv(A, b) == sla.solve(A, b))"
   ]
  },
  {
   "cell_type": "code",
   "execution_count": null,
   "id": "greenhouse-launch",
   "metadata": {},
   "outputs": [],
   "source": [
    "A = [[1,2,3,4], [2,2,3,4], [3,3,3,4], [4,4,4,4]]\n",
    "b = [20, 22, 22, 24]\n",
    "for i in range(len(b)):\n",
    "    print(sum(A[i] * xe) == b[i])"
   ]
  }
 ],
 "metadata": {
  "kernelspec": {
   "display_name": "Python 3",
   "language": "python",
   "name": "python3"
  },
  "language_info": {
   "codemirror_mode": {
    "name": "ipython",
    "version": 3
   },
   "file_extension": ".py",
   "mimetype": "text/x-python",
   "name": "python",
   "nbconvert_exporter": "python",
   "pygments_lexer": "ipython3",
   "version": "3.8.5"
  }
 },
 "nbformat": 4,
 "nbformat_minor": 5
}
